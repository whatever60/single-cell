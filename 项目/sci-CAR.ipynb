{
 "cells": [
  {
   "cell_type": "code",
   "execution_count": 1,
   "metadata": {},
   "outputs": [],
   "source": [
    "import os\n",
    "import numpy as np\n",
    "import pandas as pd\n",
    "import scipy\n",
    "\n",
    "from anndata import AnnData\n",
    "import scanpy as sc\n",
    "from glob import glob\n",
    "\n",
    "import sys\n",
    "sys.path.append('/home/tiankang/script')\n",
    "from dataset import *\n",
    "\n",
    "np.warnings.filterwarnings('ignore')\n",
    "DATA_PATH = os.path.expanduser(\"~\")+'/data/'\n",
    "\n",
    "%load_ext autoreload\n",
    "%autoreload 2\n",
    "%matplotlib inline"
   ]
  },
  {
   "cell_type": "code",
   "execution_count": 2,
   "metadata": {},
   "outputs": [],
   "source": [
    "study = 'sci-CAR'\n",
    "path = '/home/tiankang/data/Parallel-seq/{}/'.format(study)"
   ]
  },
  {
   "cell_type": "code",
   "execution_count": 3,
   "metadata": {},
   "outputs": [
    {
     "data": {
      "text/plain": [
       "['/home/tiankang/data/Parallel-seq/sci-CAR/mouse_kidney',\n",
       " '/home/tiankang/data/Parallel-seq/sci-CAR/A549',\n",
       " '/home/tiankang/data/Parallel-seq/sci-CAR/GSM3271045_Peak_CellType_signal.csv.gz',\n",
       " '/home/tiankang/data/Parallel-seq/sci-CAR/GSM3271045_da.sites.csv.gz']"
      ]
     },
     "execution_count": 3,
     "metadata": {},
     "output_type": "execute_result"
    }
   ],
   "source": [
    "glob(path+'/*')"
   ]
  },
  {
   "cell_type": "markdown",
   "metadata": {},
   "source": [
    "### mouse_kidney"
   ]
  },
  {
   "cell_type": "code",
   "execution_count": 73,
   "metadata": {},
   "outputs": [],
   "source": [
    "dataset = 'mouse_kidney'"
   ]
  },
  {
   "cell_type": "markdown",
   "metadata": {},
   "source": [
    "#### RNA"
   ]
  },
  {
   "cell_type": "code",
   "execution_count": 74,
   "metadata": {},
   "outputs": [
    {
     "data": {
      "text/plain": [
       "['/home/tiankang/data/Parallel-seq/sci-CAR/mouse_kidney/RNA/raw/GSM3271044_RNA_mouse_kidney_cell.txt.gz',\n",
       " '/home/tiankang/data/Parallel-seq/sci-CAR/mouse_kidney/RNA/raw/GSM3271044_RNA_mouse_kidney_gene.txt.gz',\n",
       " '/home/tiankang/data/Parallel-seq/sci-CAR/mouse_kidney/RNA/raw/GSM3271044_RNA_mouse_kidney_gene_count.txt.gz']"
      ]
     },
     "execution_count": 74,
     "metadata": {},
     "output_type": "execute_result"
    }
   ],
   "source": [
    "root = path + '{}/RNA/raw/'.format(dataset)\n",
    "glob(root+'/*')"
   ]
  },
  {
   "cell_type": "code",
   "execution_count": 67,
   "metadata": {},
   "outputs": [],
   "source": [
    "barcodes = pd.read_csv(root+'GSM3271044_RNA_{}_cell.txt.gz'.format(dataset), index_col=0)\n",
    "genes = pd.read_csv(root+'GSM3271044_RNA_{}_gene.txt.gz'.format(dataset), index_col=0)"
   ]
  },
  {
   "cell_type": "code",
   "execution_count": 30,
   "metadata": {},
   "outputs": [],
   "source": [
    "pd.DataFrame(barcodes.index).to_csv('/home/tiankang/data/Parallel-seq/sci-CAR/{}/RNA/barcodes.tsv.gz'.format(dataset),\n",
    "                                    index=0,\n",
    "                                    header=None,\n",
    "                                    compression=\"gzip\")\n",
    "pd.DataFrame(genes.iloc[:,-1].values).to_csv('/home/tiankang/data/Parallel-seq/sci-CAR/{}/RNA/genes.tsv.gz'.format(dataset),\n",
    "                                    index=0,\n",
    "                                    header=None,\n",
    "                                    compression=\"gzip\")"
   ]
  },
  {
   "cell_type": "markdown",
   "metadata": {},
   "source": [
    "#### ATAC"
   ]
  },
  {
   "cell_type": "code",
   "execution_count": 69,
   "metadata": {},
   "outputs": [
    {
     "data": {
      "text/plain": [
       "['/home/tiankang/data/Parallel-seq/sci-CAR/mouse_kidney/ATAC/raw/GSM3271045_ATAC_mouse_kidney_cell.txt.gz',\n",
       " '/home/tiankang/data/Parallel-seq/sci-CAR/mouse_kidney/ATAC/raw/GSM3271045_ATAC_mouse_kidney_peak_count.txt.gz',\n",
       " '/home/tiankang/data/Parallel-seq/sci-CAR/mouse_kidney/ATAC/raw/GSM3271045_ATAC_mouse_kidney_peak.txt.gz']"
      ]
     },
     "execution_count": 69,
     "metadata": {},
     "output_type": "execute_result"
    }
   ],
   "source": [
    "root = path + '{}/ATAC/raw/'.format(dataset)\n",
    "glob(root+'/*')"
   ]
  },
  {
   "cell_type": "code",
   "execution_count": 70,
   "metadata": {},
   "outputs": [],
   "source": [
    "barcodes = pd.read_csv(root+'GSM3271045_ATAC_{}_cell.txt.gz'.format(dataset), index_col=0)\n",
    "peaks = pd.read_csv(root+'GSM3271045_ATAC_{}_peak.txt.gz'.format(dataset), index_col=0)"
   ]
  },
  {
   "cell_type": "code",
   "execution_count": 65,
   "metadata": {},
   "outputs": [],
   "source": [
    "pd.DataFrame(barcodes.index).to_csv('/home/tiankang/data/Parallel-seq/sci-CAR/{}/ATAC/barcodes.tsv.gz'.format(dataset),\n",
    "                                    index=0,\n",
    "                                    header=None,\n",
    "                                    compression=\"gzip\")\n",
    "pd.DataFrame(peaks.iloc[:,0].values).to_csv('/home/tiankang/data/Parallel-seq/sci-CAR/{}/ATAC/peaks.tsv.gz'.format(dataset),\n",
    "                                    index=0,\n",
    "                                    header=None,\n",
    "                                    compression=\"gzip\")"
   ]
  },
  {
   "cell_type": "markdown",
   "metadata": {},
   "source": [
    "### A549"
   ]
  },
  {
   "cell_type": "code",
   "execution_count": null,
   "metadata": {},
   "outputs": [],
   "source": [
    "dataset = 'A549'"
   ]
  },
  {
   "cell_type": "markdown",
   "metadata": {},
   "source": [
    "#### RNA"
   ]
  },
  {
   "cell_type": "code",
   "execution_count": 78,
   "metadata": {},
   "outputs": [
    {
     "data": {
      "text/plain": [
       "['/home/tiankang/data/Parallel-seq/sci-CAR/A549/RNA/raw/GSM3271040_RNA_sciCAR_A549_gene.txt.gz',\n",
       " '/home/tiankang/data/Parallel-seq/sci-CAR/A549/RNA/raw/GSM3271040_RNA_sciCAR_A549_cell.txt.gz',\n",
       " '/home/tiankang/data/Parallel-seq/sci-CAR/A549/RNA/raw/GSM3271040_RNA_sciCAR_A549_gene_count.txt.gz']"
      ]
     },
     "execution_count": 78,
     "metadata": {},
     "output_type": "execute_result"
    }
   ],
   "source": [
    "root = path + '{}/RNA/raw/'.format(dataset)\n",
    "glob(root+'/*')"
   ]
  },
  {
   "cell_type": "code",
   "execution_count": 80,
   "metadata": {},
   "outputs": [],
   "source": [
    "barcodes = pd.read_csv(root+'GSM3271040_RNA_sciCAR_{}_cell.txt.gz'.format(dataset), index_col=0)\n",
    "genes = pd.read_csv(root+'GSM3271040_RNA_sciCAR_{}_gene.txt.gz'.format(dataset), index_col=0)"
   ]
  },
  {
   "cell_type": "code",
   "execution_count": 83,
   "metadata": {},
   "outputs": [],
   "source": [
    "pd.DataFrame(barcodes.index).to_csv('/home/tiankang/data/Parallel-seq/sci-CAR/{}/RNA/barcodes.tsv.gz'.format(dataset),\n",
    "                                    index=0,\n",
    "                                    header=None,\n",
    "                                    compression=\"gzip\")\n",
    "pd.DataFrame(genes.iloc[:,-1].values).to_csv('/home/tiankang/data/Parallel-seq/sci-CAR/{}/RNA/genes.tsv.gz'.format(dataset),\n",
    "                                    index=0,\n",
    "                                    header=None,\n",
    "                                    compression=\"gzip\")"
   ]
  },
  {
   "cell_type": "markdown",
   "metadata": {},
   "source": [
    "#### ATAC"
   ]
  },
  {
   "cell_type": "code",
   "execution_count": 85,
   "metadata": {},
   "outputs": [
    {
     "data": {
      "text/plain": [
       "['/home/tiankang/data/Parallel-seq/sci-CAR/A549/ATAC/raw/GSM3271041_ATAC_sciCAR_A549_peak_count.txt.gz',\n",
       " '/home/tiankang/data/Parallel-seq/sci-CAR/A549/ATAC/raw/GSM3271041_ATAC_sciCAR_A549_peak.txt.gz',\n",
       " '/home/tiankang/data/Parallel-seq/sci-CAR/A549/ATAC/raw/GSM3271041_ATAC_sciCAR_A549_cell.txt.gz']"
      ]
     },
     "execution_count": 85,
     "metadata": {},
     "output_type": "execute_result"
    }
   ],
   "source": [
    "root = path + '{}/ATAC/raw/'.format(dataset)\n",
    "glob(root+'/*')"
   ]
  },
  {
   "cell_type": "code",
   "execution_count": 86,
   "metadata": {},
   "outputs": [],
   "source": [
    "barcodes = pd.read_csv(root+'GSM3271041_ATAC_sciCAR_{}_cell.txt.gz'.format(dataset), index_col=0)\n",
    "peaks = pd.read_csv(root+'GSM3271041_ATAC_sciCAR_{}_peak.txt.gz'.format(dataset), index_col=0)"
   ]
  },
  {
   "cell_type": "code",
   "execution_count": 89,
   "metadata": {},
   "outputs": [],
   "source": [
    "pd.DataFrame(barcodes.index).to_csv('/home/tiankang/data/Parallel-seq/sci-CAR/{}/ATAC/barcodes.tsv.gz'.format(dataset),\n",
    "                                    index=0,\n",
    "                                    header=None,\n",
    "                                    compression=\"gzip\")\n",
    "pd.DataFrame(peaks.iloc[:,0].values).to_csv('/home/tiankang/data/Parallel-seq/sci-CAR/{}/ATAC/peaks.tsv.gz'.format(dataset),\n",
    "                                    index=0,\n",
    "                                    header=None,\n",
    "                                    compression=\"gzip\")"
   ]
  },
  {
   "cell_type": "code",
   "execution_count": 92,
   "metadata": {},
   "outputs": [
    {
     "data": {
      "text/html": [
       "<div>\n",
       "<style scoped>\n",
       "    .dataframe tbody tr th:only-of-type {\n",
       "        vertical-align: middle;\n",
       "    }\n",
       "\n",
       "    .dataframe tbody tr th {\n",
       "        vertical-align: top;\n",
       "    }\n",
       "\n",
       "    .dataframe thead th {\n",
       "        text-align: right;\n",
       "    }\n",
       "</style>\n",
       "<table border=\"1\" class=\"dataframe\">\n",
       "  <thead>\n",
       "    <tr style=\"text-align: right;\">\n",
       "      <th></th>\n",
       "      <th>source</th>\n",
       "      <th>group</th>\n",
       "      <th>experiment</th>\n",
       "    </tr>\n",
       "    <tr>\n",
       "      <th>sample</th>\n",
       "      <th></th>\n",
       "      <th></th>\n",
       "      <th></th>\n",
       "    </tr>\n",
       "  </thead>\n",
       "  <tbody>\n",
       "    <tr>\n",
       "      <th>sci-RNA-A-071.AGGTCTATGG</th>\n",
       "      <td>Mouse</td>\n",
       "      <td>293T_3T3</td>\n",
       "      <td>co_assay</td>\n",
       "    </tr>\n",
       "    <tr>\n",
       "      <th>sci-RNA-A-071.GCGGAGTCGA</th>\n",
       "      <td>Human</td>\n",
       "      <td>A549_3h</td>\n",
       "      <td>co_assay</td>\n",
       "    </tr>\n",
       "    <tr>\n",
       "      <th>sci-RNA-A-071.TTGCAGCATT</th>\n",
       "      <td>Human</td>\n",
       "      <td>A549_1h</td>\n",
       "      <td>co_assay</td>\n",
       "    </tr>\n",
       "    <tr>\n",
       "      <th>sci-RNA-A-071.GCCTGATATA</th>\n",
       "      <td>Mouse</td>\n",
       "      <td>293T_3T3</td>\n",
       "      <td>co_assay</td>\n",
       "    </tr>\n",
       "    <tr>\n",
       "      <th>sci-RNA-A-071.GCGGCCAATC</th>\n",
       "      <td>Human</td>\n",
       "      <td>A549_3h</td>\n",
       "      <td>co_assay</td>\n",
       "    </tr>\n",
       "    <tr>\n",
       "      <th>...</th>\n",
       "      <td>...</td>\n",
       "      <td>...</td>\n",
       "      <td>...</td>\n",
       "    </tr>\n",
       "    <tr>\n",
       "      <th>sci-RNA-E-022.GAGGCTTATT</th>\n",
       "      <td>Human</td>\n",
       "      <td>293T_3T3</td>\n",
       "      <td>co_assay</td>\n",
       "    </tr>\n",
       "    <tr>\n",
       "      <th>sci-RNA-E-022.TCTGACGAGG</th>\n",
       "      <td>Mouse</td>\n",
       "      <td>293T_3T3</td>\n",
       "      <td>co_assay</td>\n",
       "    </tr>\n",
       "    <tr>\n",
       "      <th>sci-RNA-E-022.GCCTCAGCAT</th>\n",
       "      <td>Human</td>\n",
       "      <td>293T_3T3</td>\n",
       "      <td>co_assay</td>\n",
       "    </tr>\n",
       "    <tr>\n",
       "      <th>sci-RNA-E-022.TCGGCGTCGT</th>\n",
       "      <td>Mouse</td>\n",
       "      <td>293T_3T3</td>\n",
       "      <td>co_assay</td>\n",
       "    </tr>\n",
       "    <tr>\n",
       "      <th>sci-RNA-E-022.ACTCGACGCC</th>\n",
       "      <td>Human</td>\n",
       "      <td>A549_0h</td>\n",
       "      <td>co_assay</td>\n",
       "    </tr>\n",
       "  </tbody>\n",
       "</table>\n",
       "<p>6085 rows × 3 columns</p>\n",
       "</div>"
      ],
      "text/plain": [
       "                         source     group experiment\n",
       "sample                                              \n",
       "sci-RNA-A-071.AGGTCTATGG  Mouse  293T_3T3   co_assay\n",
       "sci-RNA-A-071.GCGGAGTCGA  Human   A549_3h   co_assay\n",
       "sci-RNA-A-071.TTGCAGCATT  Human   A549_1h   co_assay\n",
       "sci-RNA-A-071.GCCTGATATA  Mouse  293T_3T3   co_assay\n",
       "sci-RNA-A-071.GCGGCCAATC  Human   A549_3h   co_assay\n",
       "...                         ...       ...        ...\n",
       "sci-RNA-E-022.GAGGCTTATT  Human  293T_3T3   co_assay\n",
       "sci-RNA-E-022.TCTGACGAGG  Mouse  293T_3T3   co_assay\n",
       "sci-RNA-E-022.GCCTCAGCAT  Human  293T_3T3   co_assay\n",
       "sci-RNA-E-022.TCGGCGTCGT  Mouse  293T_3T3   co_assay\n",
       "sci-RNA-E-022.ACTCGACGCC  Human   A549_0h   co_assay\n",
       "\n",
       "[6085 rows x 3 columns]"
      ]
     },
     "execution_count": 92,
     "metadata": {},
     "output_type": "execute_result"
    }
   ],
   "source": [
    "barcodes"
   ]
  },
  {
   "cell_type": "code",
   "execution_count": null,
   "metadata": {},
   "outputs": [],
   "source": []
  }
 ],
 "metadata": {
  "kernelspec": {
   "display_name": "Python 3",
   "language": "python",
   "name": "python3"
  },
  "language_info": {
   "codemirror_mode": {
    "name": "ipython",
    "version": 3
   },
   "file_extension": ".py",
   "mimetype": "text/x-python",
   "name": "python",
   "nbconvert_exporter": "python",
   "pygments_lexer": "ipython3",
   "version": "3.8.2"
  }
 },
 "nbformat": 4,
 "nbformat_minor": 4
}
