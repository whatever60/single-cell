{
 "cells": [
  {
   "cell_type": "code",
   "execution_count": 9,
   "metadata": {},
   "outputs": [
    {
     "data": {
      "text/plain": [
       "['GSE160148_scATAC_COLO320.mtx.gz',\n",
       " 'GSE160148_scRNA_COLO320.mtx.gz',\n",
       " 'barcodes_ATAC.tsv.gz',\n",
       " 'barcodes_RNA.tsv.gz',\n",
       " 'features_RNA.tsv.gz',\n",
       " 'peaks_ATAC.tsv.gz']"
      ]
     },
     "execution_count": 9,
     "metadata": {},
     "output_type": "execute_result"
    }
   ],
   "source": [
    "import os\n",
    "import gzip\n",
    "\n",
    "import numpy as np\n",
    "import pandas as pd\n",
    "import h5py\n",
    "import scipy.sparse as ss\n",
    "import seaborn as sns\n",
    "\n",
    "path = '../data/ecDNA'\n",
    "os.listdir(path)"
   ]
  },
  {
   "cell_type": "code",
   "execution_count": 10,
   "metadata": {
    "jupyter": {
     "source_hidden": true
    }
   },
   "outputs": [],
   "source": [
    "def zless(file, bin=True):\n",
    "    if bin is True:\n",
    "        with gzip.open(f'{path}/{file}', 'rb') as f:\n",
    "            for lineno, i in enumerate(f):\n",
    "                if lineno < 20:\n",
    "                    print(i)\n",
    "                else:\n",
    "                    break\n",
    "    else:\n",
    "        with open(f'{path}/{file}', 'r') as f:\n",
    "            for lineno, i in enumerate(f):\n",
    "                if lineno < 100:\n",
    "                    print(i, end='')\n",
    "                else:\n",
    "                    break\n",
    "\n",
    "def visit_h5(filename=None, f=None):\n",
    "    def visit_func(x):\n",
    "        obj = f[x]\n",
    "        if isinstance(obj, h5py.Dataset):\n",
    "            print(obj.name, obj.shape, obj.dtype)\n",
    "        else:\n",
    "            print('\\ngroup', obj.name, len(obj.keys()), 'members')\n",
    "    \n",
    "    if f is None:\n",
    "        with h5py.File(f'{path}/{filename}') as f:\n",
    "            f.visit(visit_func)\n",
    "    else:\n",
    "        f.visit(visit_func)"
   ]
  },
  {
   "cell_type": "markdown",
   "metadata": {},
   "source": [
    "## features_RNA.tsv.gz"
   ]
  },
  {
   "cell_type": "code",
   "execution_count": 66,
   "metadata": {},
   "outputs": [
    {
     "name": "stdout",
     "output_type": "stream",
     "text": [
      "b'\\tx\\n'\n",
      "b'1\\tMIR1302-10\\n'\n",
      "b'2\\tFAM138A\\n'\n",
      "b'3\\tOR4F5\\n'\n",
      "b'4\\tRP11-34P13.7\\n'\n",
      "b'5\\tRP11-34P13.8\\n'\n",
      "b'6\\tAL627309.1\\n'\n",
      "b'7\\tRP11-34P13.14\\n'\n",
      "b'8\\tRP11-34P13.9\\n'\n",
      "b'9\\tAP006222.2\\n'\n",
      "b'10\\tRP4-669L17.10\\n'\n",
      "b'11\\tOR4F29\\n'\n",
      "b'12\\tRP4-669L17.2\\n'\n",
      "b'13\\tRP5-857K21.15\\n'\n",
      "b'14\\tRP5-857K21.1\\n'\n",
      "b'15\\tRP5-857K21.2\\n'\n",
      "b'16\\tRP5-857K21.3\\n'\n",
      "b'17\\tRP5-857K21.4\\n'\n",
      "b'18\\tRP5-857K21.5\\n'\n",
      "b'19\\tOR4F16\\n'\n"
     ]
    }
   ],
   "source": [
    "zless('features_RNA.tsv.gz')"
   ]
  },
  {
   "cell_type": "code",
   "execution_count": 75,
   "metadata": {},
   "outputs": [
    {
     "data": {
      "text/plain": [
       "0          MIR1302-10\n",
       "1             FAM138A\n",
       "2               OR4F5\n",
       "3        RP11-34P13.7\n",
       "4        RP11-34P13.8\n",
       "             ...     \n",
       "32734           BAGE5\n",
       "32735      CU459201.1\n",
       "32736      AC002321.2\n",
       "32737      AC002321.1\n",
       "32738            PVT1\n",
       "Name: 1, Length: 32739, dtype: object"
      ]
     },
     "execution_count": 75,
     "metadata": {},
     "output_type": "execute_result"
    }
   ],
   "source": [
    "rna_cols = pd.read_csv(\n",
    "    f'{path}/features_RNA.tsv.gz',\n",
    "    sep='\\t',\n",
    "    skiprows=1,\n",
    "    usecols=[1],\n",
    "    names=['1']\n",
    ").squeeze()\n",
    "rna_cols"
   ]
  },
  {
   "cell_type": "markdown",
   "metadata": {},
   "source": [
    "## peaks_ATAC.tsv.g"
   ]
  },
  {
   "cell_type": "code",
   "execution_count": 11,
   "metadata": {},
   "outputs": [
    {
     "name": "stdout",
     "output_type": "stream",
     "text": [
      "b'\\tx\\n'\n",
      "b'1\\tchr1_761997_762497\\n'\n",
      "b'2\\tchr1_762683_763183\\n'\n",
      "b'3\\tchr1_773553_774053\\n'\n",
      "b'4\\tchr1_793288_793788\\n'\n",
      "b'5\\tchr1_805035_805535\\n'\n",
      "b'6\\tchr1_811605_812105\\n'\n",
      "b'7\\tchr1_812130_812630\\n'\n",
      "b'8\\tchr1_845830_846330\\n'\n",
      "b'9\\tchr1_846547_847047\\n'\n",
      "b'10\\tchr1_847360_847860\\n'\n",
      "b'11\\tchr1_848162_848662\\n'\n",
      "b'12\\tchr1_848881_849381\\n'\n",
      "b'13\\tchr1_849546_850046\\n'\n",
      "b'14\\tchr1_850855_851355\\n'\n",
      "b'15\\tchr1_851376_851876\\n'\n",
      "b'16\\tchr1_851909_852409\\n'\n",
      "b'17\\tchr1_852476_852976\\n'\n",
      "b'18\\tchr1_853220_853720\\n'\n",
      "b'19\\tchr1_853947_854447\\n'\n"
     ]
    }
   ],
   "source": [
    "zless('peaks_ATAC.tsv.gz')"
   ]
  },
  {
   "cell_type": "code",
   "execution_count": 76,
   "metadata": {},
   "outputs": [
    {
     "data": {
      "text/plain": [
       "0               chr1_761997_762497\n",
       "1               chr1_762683_763183\n",
       "2               chr1_773553_774053\n",
       "3               chr1_793288_793788\n",
       "4               chr1_805035_805535\n",
       "                    ...           \n",
       "363022    chrX_154891943_154892443\n",
       "363023    chrX_154977082_154977582\n",
       "363024    chrX_154996407_154996907\n",
       "363025    chrX_154997014_154997514\n",
       "363026    chrX_154997637_154998137\n",
       "Name: 1, Length: 363027, dtype: object"
      ]
     },
     "execution_count": 76,
     "metadata": {},
     "output_type": "execute_result"
    }
   ],
   "source": [
    "atac_col = pd.read_csv(\n",
    "    f'{path}/peaks_ATAC.tsv.gz',\n",
    "    sep='\\t',\n",
    "    skiprows=1,\n",
    "    usecols=[1],\n",
    "    names=['1']\n",
    ").squeeze()\n",
    "atac_col"
   ]
  },
  {
   "cell_type": "markdown",
   "metadata": {},
   "source": [
    "## barcodes_ATAC.tsv.gz"
   ]
  },
  {
   "cell_type": "code",
   "execution_count": 24,
   "metadata": {},
   "outputs": [
    {
     "name": "stdout",
     "output_type": "stream",
     "text": [
      "b'\\tx\\n'\n",
      "b'1\\tCOLO320HSR_5K_rep8#GATCGATTCGGTAACT-1\\n'\n",
      "b'2\\tCOLO320HSR_5K_rep8#GGCAGGATCATTACGA-1\\n'\n",
      "b'3\\tCOLO320HSR_5K_rep8#GTCCAAGTCGTTATAG-1\\n'\n",
      "b'4\\tCOLO320HSR_5K_rep8#TTTAACGAGTCCTGAG-1\\n'\n",
      "b'5\\tCOLO320HSR_5K_rep8#TAGGCTGTCACTTCAT-1\\n'\n",
      "b'6\\tCOLO320HSR_5K_rep8#GCACCTAAGTCAATTG-1\\n'\n",
      "b'7\\tCOLO320HSR_5K_rep8#TGGCCATCATTAAGCT-1\\n'\n",
      "b'8\\tCOLO320HSR_5K_rep8#AAGTTTGTCGGCCAGT-1\\n'\n",
      "b'9\\tCOLO320HSR_5K_rep8#GTTTCCTCATTAAAGG-1\\n'\n",
      "b'10\\tCOLO320HSR_5K_rep8#GGTATGTTCATCCTCA-1\\n'\n",
      "b'11\\tCOLO320HSR_5K_rep8#CCTGTATGTCATAAGT-1\\n'\n",
      "b'12\\tCOLO320HSR_5K_rep8#TCGCTAACACATAACT-1\\n'\n",
      "b'13\\tCOLO320HSR_5K_rep8#CGCAATGTCTTGAGGT-1\\n'\n",
      "b'14\\tCOLO320HSR_5K_rep8#GCTTTGTGTTTGTGGA-1\\n'\n",
      "b'15\\tCOLO320HSR_5K_rep8#ACGGGAAGTGCAATGC-1\\n'\n",
      "b'16\\tCOLO320HSR_5K_rep8#ACAACAACATGAATCT-1\\n'\n",
      "b'17\\tCOLO320HSR_5K_rep8#CCAAGTTAGAGAGCCG-1\\n'\n",
      "b'18\\tCOLO320HSR_5K_rep8#ATTACCGCACTAGCGT-1\\n'\n",
      "b'19\\tCOLO320HSR_5K_rep8#GTATTGCAGCGGATTT-1\\n'\n"
     ]
    }
   ],
   "source": [
    "zless('barcodes_ATAC.tsv.gz')"
   ]
  },
  {
   "cell_type": "code",
   "execution_count": 77,
   "metadata": {},
   "outputs": [
    {
     "data": {
      "text/plain": [
       "0        COLO320HSR_5K_rep8#GATCGATTCGGTAACT-1\n",
       "1        COLO320HSR_5K_rep8#GGCAGGATCATTACGA-1\n",
       "2        COLO320HSR_5K_rep8#GTCCAAGTCGTTATAG-1\n",
       "3        COLO320HSR_5K_rep8#TTTAACGAGTCCTGAG-1\n",
       "4        COLO320HSR_5K_rep8#TAGGCTGTCACTTCAT-1\n",
       "                         ...                  \n",
       "72044     COLO320DM_5K_rep6#GGAGCAAGTCGTAATG-1\n",
       "72045     COLO320DM_5K_rep6#GGTGTCCAGCCAAATC-1\n",
       "72046     COLO320DM_5K_rep6#TTGTGCGAGATAAAGC-1\n",
       "72047     COLO320DM_5K_rep6#CGCTACTTCGTTTCTG-1\n",
       "72048     COLO320DM_5K_rep6#ACTAACGGTCACGGAT-1\n",
       "Name: 1, Length: 72049, dtype: object"
      ]
     },
     "execution_count": 77,
     "metadata": {},
     "output_type": "execute_result"
    }
   ],
   "source": [
    "atac_index = pd.read_csv(\n",
    "    f'{path}/barcodes_ATAC.tsv.gz',\n",
    "    skiprows=1,\n",
    "    sep='\\t',\n",
    "    usecols=[1],\n",
    "    names=['1']\n",
    ").squeeze()\n",
    "atac_index"
   ]
  },
  {
   "cell_type": "code",
   "execution_count": 78,
   "metadata": {},
   "outputs": [
    {
     "data": {
      "text/plain": [
       "17736     COLO320DM_5K_rep1#AAACAGCCACTAGCGT-1\n",
       "18530     COLO320DM_5K_rep1#AAACATGCATTGTGCA-1\n",
       "15260     COLO320DM_5K_rep1#AAACCAACACTATGGC-1\n",
       "14861     COLO320DM_5K_rep1#AAACCGCGTATTACCC-1\n",
       "17394     COLO320DM_5K_rep1#AAACCGCGTCCCGGAA-1\n",
       "                         ...                  \n",
       "4814     COLO320HSR_5K_rep8#TTTGTTGGTAGCTGCG-1\n",
       "1408     COLO320HSR_5K_rep8#TTTGTTGGTGCATTAG-1\n",
       "651      COLO320HSR_5K_rep8#TTTGTTGGTTATGTGG-1\n",
       "2164     COLO320HSR_5K_rep8#TTTGTTGGTTGTTCAC-1\n",
       "316      COLO320HSR_5K_rep8#TTTGTTGGTTTCCGGC-1\n",
       "Name: 1, Length: 72049, dtype: object"
      ]
     },
     "execution_count": 78,
     "metadata": {},
     "output_type": "execute_result"
    }
   ],
   "source": [
    "atac_index.sort_values()"
   ]
  },
  {
   "cell_type": "markdown",
   "metadata": {},
   "source": [
    "## barcodes_RNA.tsv.gz"
   ]
  },
  {
   "cell_type": "code",
   "execution_count": 25,
   "metadata": {},
   "outputs": [
    {
     "name": "stdout",
     "output_type": "stream",
     "text": [
      "b'\\tx\\n'\n",
      "b'COLO320DM_5K_rep1_AAACAGCCACTAGCGT-1\\tCOLO320DM_5K_rep1#AAACAGCCACTAGCGT-1\\n'\n",
      "b'COLO320DM_5K_rep1_AAACATGCATTGTGCA-1\\tCOLO320DM_5K_rep1#AAACATGCATTGTGCA-1\\n'\n",
      "b'COLO320DM_5K_rep1_AAACCAACACTATGGC-1\\tCOLO320DM_5K_rep1#AAACCAACACTATGGC-1\\n'\n",
      "b'COLO320DM_5K_rep1_AAACCGCGTATTACCC-1\\tCOLO320DM_5K_rep1#AAACCGCGTATTACCC-1\\n'\n",
      "b'COLO320DM_5K_rep1_AAACCGCGTCCCGGAA-1\\tCOLO320DM_5K_rep1#AAACCGCGTCCCGGAA-1\\n'\n",
      "b'COLO320DM_5K_rep1_AAACCGCGTTCCTGTG-1\\tCOLO320DM_5K_rep1#AAACCGCGTTCCTGTG-1\\n'\n",
      "b'COLO320DM_5K_rep1_AAACCGCGTTGGATAT-1\\tCOLO320DM_5K_rep1#AAACCGCGTTGGATAT-1\\n'\n",
      "b'COLO320DM_5K_rep1_AAACCGGCAGCAACCT-1\\tCOLO320DM_5K_rep1#AAACCGGCAGCAACCT-1\\n'\n",
      "b'COLO320DM_5K_rep1_AAACCGGCATTAAGTC-1\\tCOLO320DM_5K_rep1#AAACCGGCATTAAGTC-1\\n'\n",
      "b'COLO320DM_5K_rep1_AAACGGATCACGTTAA-1\\tCOLO320DM_5K_rep1#AAACGGATCACGTTAA-1\\n'\n",
      "b'COLO320DM_5K_rep1_AAACGGATCCTGGTCT-1\\tCOLO320DM_5K_rep1#AAACGGATCCTGGTCT-1\\n'\n",
      "b'COLO320DM_5K_rep1_AAACGTACACCTATAG-1\\tCOLO320DM_5K_rep1#AAACGTACACCTATAG-1\\n'\n",
      "b'COLO320DM_5K_rep1_AAACGTACACTAAATC-1\\tCOLO320DM_5K_rep1#AAACGTACACTAAATC-1\\n'\n",
      "b'COLO320DM_5K_rep1_AAAGCACCAAACTCAT-1\\tCOLO320DM_5K_rep1#AAAGCACCAAACTCAT-1\\n'\n",
      "b'COLO320DM_5K_rep1_AAAGCACCAGTACCGT-1\\tCOLO320DM_5K_rep1#AAAGCACCAGTACCGT-1\\n'\n",
      "b'COLO320DM_5K_rep1_AAAGCCCGTAATCGTG-1\\tCOLO320DM_5K_rep1#AAAGCCCGTAATCGTG-1\\n'\n",
      "b'COLO320DM_5K_rep1_AAAGCCCGTCGCAAAC-1\\tCOLO320DM_5K_rep1#AAAGCCCGTCGCAAAC-1\\n'\n",
      "b'COLO320DM_5K_rep1_AAAGCCCGTTATGTGG-1\\tCOLO320DM_5K_rep1#AAAGCCCGTTATGTGG-1\\n'\n",
      "b'COLO320DM_5K_rep1_AAAGCCGCAAGCCAGA-1\\tCOLO320DM_5K_rep1#AAAGCCGCAAGCCAGA-1\\n'\n"
     ]
    }
   ],
   "source": [
    "zless('barcodes_RNA.tsv.gz')"
   ]
  },
  {
   "cell_type": "code",
   "execution_count": 84,
   "metadata": {},
   "outputs": [
    {
     "data": {
      "text/html": [
       "<div>\n",
       "<style scoped>\n",
       "    .dataframe tbody tr th:only-of-type {\n",
       "        vertical-align: middle;\n",
       "    }\n",
       "\n",
       "    .dataframe tbody tr th {\n",
       "        vertical-align: top;\n",
       "    }\n",
       "\n",
       "    .dataframe thead th {\n",
       "        text-align: right;\n",
       "    }\n",
       "</style>\n",
       "<table border=\"1\" class=\"dataframe\">\n",
       "  <thead>\n",
       "    <tr style=\"text-align: right;\">\n",
       "      <th></th>\n",
       "      <th>1</th>\n",
       "      <th>2</th>\n",
       "    </tr>\n",
       "  </thead>\n",
       "  <tbody>\n",
       "    <tr>\n",
       "      <th>0</th>\n",
       "      <td>COLO320DM_5K_rep1_AAACAGCCACTAGCGT-1</td>\n",
       "      <td>COLO320DM_5K_rep1#AAACAGCCACTAGCGT-1</td>\n",
       "    </tr>\n",
       "    <tr>\n",
       "      <th>1</th>\n",
       "      <td>COLO320DM_5K_rep1_AAACATGCATTGTGCA-1</td>\n",
       "      <td>COLO320DM_5K_rep1#AAACATGCATTGTGCA-1</td>\n",
       "    </tr>\n",
       "    <tr>\n",
       "      <th>2</th>\n",
       "      <td>COLO320DM_5K_rep1_AAACCAACACTATGGC-1</td>\n",
       "      <td>COLO320DM_5K_rep1#AAACCAACACTATGGC-1</td>\n",
       "    </tr>\n",
       "    <tr>\n",
       "      <th>3</th>\n",
       "      <td>COLO320DM_5K_rep1_AAACCGCGTATTACCC-1</td>\n",
       "      <td>COLO320DM_5K_rep1#AAACCGCGTATTACCC-1</td>\n",
       "    </tr>\n",
       "    <tr>\n",
       "      <th>4</th>\n",
       "      <td>COLO320DM_5K_rep1_AAACCGCGTCCCGGAA-1</td>\n",
       "      <td>COLO320DM_5K_rep1#AAACCGCGTCCCGGAA-1</td>\n",
       "    </tr>\n",
       "    <tr>\n",
       "      <th>...</th>\n",
       "      <td>...</td>\n",
       "      <td>...</td>\n",
       "    </tr>\n",
       "    <tr>\n",
       "      <th>72044</th>\n",
       "      <td>COLO320HSR_5K_rep8_TTTGTTGGTAGCTGCG-1</td>\n",
       "      <td>COLO320HSR_5K_rep8#TTTGTTGGTAGCTGCG-1</td>\n",
       "    </tr>\n",
       "    <tr>\n",
       "      <th>72045</th>\n",
       "      <td>COLO320HSR_5K_rep8_TTTGTTGGTGCATTAG-1</td>\n",
       "      <td>COLO320HSR_5K_rep8#TTTGTTGGTGCATTAG-1</td>\n",
       "    </tr>\n",
       "    <tr>\n",
       "      <th>72046</th>\n",
       "      <td>COLO320HSR_5K_rep8_TTTGTTGGTTATGTGG-1</td>\n",
       "      <td>COLO320HSR_5K_rep8#TTTGTTGGTTATGTGG-1</td>\n",
       "    </tr>\n",
       "    <tr>\n",
       "      <th>72047</th>\n",
       "      <td>COLO320HSR_5K_rep8_TTTGTTGGTTGTTCAC-1</td>\n",
       "      <td>COLO320HSR_5K_rep8#TTTGTTGGTTGTTCAC-1</td>\n",
       "    </tr>\n",
       "    <tr>\n",
       "      <th>72048</th>\n",
       "      <td>COLO320HSR_5K_rep8_TTTGTTGGTTTCCGGC-1</td>\n",
       "      <td>COLO320HSR_5K_rep8#TTTGTTGGTTTCCGGC-1</td>\n",
       "    </tr>\n",
       "  </tbody>\n",
       "</table>\n",
       "<p>72049 rows × 2 columns</p>\n",
       "</div>"
      ],
      "text/plain": [
       "                                           1  \\\n",
       "0       COLO320DM_5K_rep1_AAACAGCCACTAGCGT-1   \n",
       "1       COLO320DM_5K_rep1_AAACATGCATTGTGCA-1   \n",
       "2       COLO320DM_5K_rep1_AAACCAACACTATGGC-1   \n",
       "3       COLO320DM_5K_rep1_AAACCGCGTATTACCC-1   \n",
       "4       COLO320DM_5K_rep1_AAACCGCGTCCCGGAA-1   \n",
       "...                                      ...   \n",
       "72044  COLO320HSR_5K_rep8_TTTGTTGGTAGCTGCG-1   \n",
       "72045  COLO320HSR_5K_rep8_TTTGTTGGTGCATTAG-1   \n",
       "72046  COLO320HSR_5K_rep8_TTTGTTGGTTATGTGG-1   \n",
       "72047  COLO320HSR_5K_rep8_TTTGTTGGTTGTTCAC-1   \n",
       "72048  COLO320HSR_5K_rep8_TTTGTTGGTTTCCGGC-1   \n",
       "\n",
       "                                           2  \n",
       "0       COLO320DM_5K_rep1#AAACAGCCACTAGCGT-1  \n",
       "1       COLO320DM_5K_rep1#AAACATGCATTGTGCA-1  \n",
       "2       COLO320DM_5K_rep1#AAACCAACACTATGGC-1  \n",
       "3       COLO320DM_5K_rep1#AAACCGCGTATTACCC-1  \n",
       "4       COLO320DM_5K_rep1#AAACCGCGTCCCGGAA-1  \n",
       "...                                      ...  \n",
       "72044  COLO320HSR_5K_rep8#TTTGTTGGTAGCTGCG-1  \n",
       "72045  COLO320HSR_5K_rep8#TTTGTTGGTGCATTAG-1  \n",
       "72046  COLO320HSR_5K_rep8#TTTGTTGGTTATGTGG-1  \n",
       "72047  COLO320HSR_5K_rep8#TTTGTTGGTTGTTCAC-1  \n",
       "72048  COLO320HSR_5K_rep8#TTTGTTGGTTTCCGGC-1  \n",
       "\n",
       "[72049 rows x 2 columns]"
      ]
     },
     "execution_count": 84,
     "metadata": {},
     "output_type": "execute_result"
    }
   ],
   "source": [
    "rna_index = pd.read_csv(\n",
    "    f'{path}/barcodes_RNA.tsv.gz',\n",
    "    sep='\\t',\n",
    "    skiprows=1,\n",
    "    names=['1','2']\n",
    ")\n",
    "rna_index"
   ]
  },
  {
   "cell_type": "code",
   "execution_count": 85,
   "metadata": {},
   "outputs": [
    {
     "data": {
      "text/plain": [
       "True"
      ]
     },
     "execution_count": 85,
     "metadata": {},
     "output_type": "execute_result"
    }
   ],
   "source": [
    "all(i[1].rsplit('_', 1) == i[2].split('#') for i in rna_index.itertuples())"
   ]
  },
  {
   "cell_type": "code",
   "execution_count": 86,
   "metadata": {},
   "outputs": [
    {
     "data": {
      "text/plain": [
       "0         COLO320DM_5K_rep1#AAACAGCCACTAGCGT-1\n",
       "1         COLO320DM_5K_rep1#AAACATGCATTGTGCA-1\n",
       "2         COLO320DM_5K_rep1#AAACCAACACTATGGC-1\n",
       "3         COLO320DM_5K_rep1#AAACCGCGTATTACCC-1\n",
       "4         COLO320DM_5K_rep1#AAACCGCGTCCCGGAA-1\n",
       "                         ...                  \n",
       "72044    COLO320HSR_5K_rep8#TTTGTTGGTAGCTGCG-1\n",
       "72045    COLO320HSR_5K_rep8#TTTGTTGGTGCATTAG-1\n",
       "72046    COLO320HSR_5K_rep8#TTTGTTGGTTATGTGG-1\n",
       "72047    COLO320HSR_5K_rep8#TTTGTTGGTTGTTCAC-1\n",
       "72048    COLO320HSR_5K_rep8#TTTGTTGGTTTCCGGC-1\n",
       "Name: 2, Length: 72049, dtype: object"
      ]
     },
     "execution_count": 86,
     "metadata": {},
     "output_type": "execute_result"
    }
   ],
   "source": [
    "rna_index = rna_index['2']\n",
    "rna_index"
   ]
  },
  {
   "cell_type": "code",
   "execution_count": 87,
   "metadata": {},
   "outputs": [
    {
     "data": {
      "text/plain": [
       "True"
      ]
     },
     "execution_count": 87,
     "metadata": {},
     "output_type": "execute_result"
    }
   ],
   "source": [
    "all(i == j for i, j in zip(atac_index.sort_values(), rna_index.sort_values()))"
   ]
  },
  {
   "cell_type": "code",
   "execution_count": null,
   "metadata": {},
   "outputs": [],
   "source": []
  },
  {
   "cell_type": "code",
   "execution_count": null,
   "metadata": {},
   "outputs": [],
   "source": []
  },
  {
   "cell_type": "code",
   "execution_count": 11,
   "metadata": {},
   "outputs": [
    {
     "name": "stdout",
     "output_type": "stream",
     "text": [
      "\n",
      "group /col_attrs 14 members\n",
      "/col_attrs/CellID (9432,)\n",
      "/col_attrs/ClusterID (9432,)\n",
      "/col_attrs/ClusterName (9432,)\n",
      "/col_attrs/RNA_snn_res_0_4 (9432,)\n",
      "/col_attrs/celltype (9432,)\n",
      "/col_attrs/nCount_RNA (9432,)\n",
      "/col_attrs/nFeature_RNA (9432,)\n",
      "/col_attrs/observed (9432,)\n",
      "/col_attrs/orig_ident (9432,)\n",
      "/col_attrs/pca_cell_embeddings (9432, 100)\n",
      "/col_attrs/percent_mito (9432,)\n",
      "/col_attrs/simulated (9432,)\n",
      "/col_attrs/tsne_cell_embeddings (9432, 2)\n",
      "/col_attrs/umap_cell_embeddings (9432, 2)\n",
      "\n",
      "group /col_graphs 2 members\n",
      "\n",
      "group /col_graphs/RNA_nn 3 members\n",
      "/col_graphs/RNA_nn/a (282960,)\n",
      "/col_graphs/RNA_nn/b (282960,)\n",
      "/col_graphs/RNA_nn/w (282960,)\n",
      "\n",
      "group /col_graphs/RNA_snn 3 members\n",
      "/col_graphs/RNA_snn/a (1257370,)\n",
      "/col_graphs/RNA_snn/b (1257370,)\n",
      "/col_graphs/RNA_snn/w (1257370,)\n",
      "\n",
      "group /layers 2 members\n",
      "/layers/norm_data (19089, 9432)\n",
      "/layers/scale_data (19089, 9432)\n",
      "/matrix (19089, 9432)\n",
      "\n",
      "group /row_attrs 7 members\n",
      "/row_attrs/Gene (19089,)\n",
      "/row_attrs/Selected (19089,)\n",
      "/row_attrs/mean (19089,)\n",
      "/row_attrs/pca_feature_loadings (19089, 100)\n",
      "/row_attrs/variance (19089,)\n",
      "/row_attrs/variance_expected (19089,)\n",
      "/row_attrs/variance_standardized (19089,)\n",
      "\n",
      "group /row_graphs 0 members\n"
     ]
    }
   ],
   "source": [
    "visit_h5('hahah.loom')"
   ]
  },
  {
   "cell_type": "code",
   "execution_count": null,
   "metadata": {},
   "outputs": [],
   "source": []
  },
  {
   "cell_type": "code",
   "execution_count": 13,
   "metadata": {
    "collapsed": true,
    "jupyter": {
     "outputs_hidden": true
    }
   },
   "outputs": [
    {
     "name": "stdout",
     "output_type": "stream",
     "text": [
      "b'TBI\\x01\\x18\\x00\\x00\\x00\\x00\\x00\\x00\\x00\\x01\\x00\\x00\\x00\\x02\\x00\\x00\\x00\\x03\\x00\\x00\\x00#\\x00\\x00\\x00\\x00\\x00\\x00\\x00\\x85\\x00\\x00\\x00chr1\\x00chr2\\x00chr3\\x00chr4\\x00chr5\\x00chr6\\x00chr7\\x00chr8\\x00chr9\\x00chr10\\x00chr11\\x00chr12\\x00chr13\\x00chr14\\x00chr15\\x00chr16\\x00chr17\\x00chr18\\x00chr19\\x00chr20\\x00chr21\\x00chr22\\x00chrX\\x00chrY\\x00\\x89\\x06\\x00\\x00\\x00\\x00\\x00\\x00\\x02\\x00\\x00\\x00\\xa0\\x93\\x9e\\x90\\xef\\x03\\x00\\x00\\xdc\\x95\\x9e\\x90\\xef\\x03\\x00\\x00\\x15\\xd8\\t\\xe8\\x81\\x08\\x00\\x00\\x1d\\xdd\\t\\xe8\\x81\\x08\\x00\\x00\\x01\\x00\\x00\\x00\\x06\\x00\\x00\\x001\\xd3yE\\x8c\\x00\\x00\\x00\\xcd\\xd6yE\\x8c\\x00\\x00\\x00{_\\xed\\x84\\r\\x01\\x00\\x00\\xb7a\\xed\\x84\\r\\x01\\x00\\x00_\\xbb\\xde\\xc8\\x8f\\x01\\x00\\x00\\x93\\xbc\\xde\\xc8\\x8f\\x01\\x00\\x00\\xe2\\x0f\\xbdRI\\x02\\x00\\x00~\\x1e\\xbdRI\\x02\\x00\\x00\\xc4\\x84\\x93V\\xca\\x02\\x00\\x00\\xd4\\x86\\x93V\\xca\\x02\\x00\\x009K\\xda\\xf0B\\x03\\x00\\x00uM\\xda\\xf0B\\x03\\x00\\x00\\x02\\x00\\x00\\x00\\x06\\x00\\x00\\x00\\xbdx\\x83\\x87)\\x04\\x00\\x00Iz\\x83\\x87)\\x04\\x00\\x00\\x1d\\xe9\\x9b\\xc0\\\\\\x04\\x00\\x00I\\xe9\\x9b\\xc0\\\\\\x04\\x00\\x00ZTv\\xa0\\xb5\\x04\\x00\\x00FWv\\xa0\\xb5\\x04\\x00\\x00\\xf2\\x99F\\xfa\\xff\\x04\\x00\\x00|\\x9aF\\xfa\\xff\\x04\\x00\\x00\\x075\\xd0\\x9b5\\x05\\x00\\x00W9\\xd0\\x9b5\\x05\\x00\\x00j\\xcd=*\\xbd\\x05\\x00\\x00\\x98\\xcd=*\\xbd\\x05\\x00\\x00\\x03\\x00\\x00\\x00\\x07\\x00\\x00\\x00\\x0e\\x11\\x0c\\xa2\\xe5\\x05\\x00\\x00P\\x12\\x0c\\xa2\\xe5\\x05\\x00\\x00\\xb5\\x1d!\\x9b5\\x06\\x00\\x00\\x9b\\x1e!\\x9b5\\x06\\x00\\x00.u\\xb9\\x0b\\xe2\\x06\\x00\\x00\\xe6u\\xb9\\x0b\\xe2\\x06\\x00\\x00\\x07\\xacXnS\\x07\\x00\\x00\\xd3\\xadXnS\\x07\\x00\\x00\\xd2\\xa3\\xa4l\\xab\\x07\\x00\\x006\\xa9\\xa4l\\xab\\x07\\x00\\x00X*?\\x03\\x05\\x08\\x00\\x00$,?\\x03\\x05\\x08\\x00\\x00n\\x8bg7=\\x08\\x00\\x00\\xe6\\x91g7=\\x08\\x00\\x00\\x04\\x00\\x00\\x00\\x05\\x00\\x00\\x00B\\xa2MJ\\x02\\t\\x00\\x00(\\xa3MJ\\x02\\t\\x00\\x00\\x8bA\\xe7JQ\\t\\x00\\x00\\x15B\\xe7JQ\\t\\x00\\x00\\xa44\\x19}\\xac\\t\\x00\\x00\\x847\\x19}\\xac\\t\\x00\\x00K\\xa4fI\\x1b\\n'\n",
      "b'\\x00\\x00\\xa7\\xa4fI\\x1b\\n'\n",
      "b'\\x00\\x00=\\xe6\\xe0kd\\n'\n",
      "b'\\x00\\x00\\xad\\xe7\\xe0kd\\n'\n",
      "b'\\x00\\x00\\t\\x00\\x00\\x00\\x06\\x00\\x00\\x00I\\x1b\\x96\\xba\\t\\x00\\x00\\x00c\\x1f\\x96\\xba\\t\\x00\\x00\\x00eg\\xe1W+\\x00\\x00\\x00\\x83j\\xe1W+\\x00\\x00\\x00\\x96FdJH\\x00\\x00\\x00\\xdeIdJH\\x00\\x00\\x00\\x1ajN7W\\x00\\x00\\x00\\x90lN7W\\x00\\x00\\x00F%V\\xb2j\\x00\\x00\\x00B&V\\xb2j\\x00\\x00\\x00\\xeb\\x16\\xefj~\\x00\\x00\\x00\\x8f\\x18\\xefj~\\x00\\x00\\x00\\n'\n",
      "b'\\x00\\x00\\x00\\x06\\x00\\x00\\x00\\xfcM\\x06\\r\\x9d\\x00\\x00\\x00\\x98Q\\x06\\r\\x9d\\x00\\x00\\x00\\xa8#\\xe1 \\xb3\\x00\\x00\\x00\\xb0$\\xe1 \\xb3\\x00\\x00\\x00\\x90\\xf4\\x9c\\x94\\xc2\\x00\\x00\\x00\\xf8\\xf6\\x9c\\x94\\xc2\\x00\\x00\\x00\\x99\\x8fP\\x94\\xdb\\x00\\x00\\x00\\xd5\\x91P\\x94\\xdb\\x00\\x00\\x00\\x83 r\\x98\\xe8\\x00\\x00\\x00\\x0f\"r\\x98\\xe8\\x00\\x00\\x00\\xb0\\xaac\\xdb\\xf1\\x00\\x00\\x00\\xf4\\xadc\\xdb\\xf1\\x00\\x00\\x00\\x0b\\x00\\x00\\x00\\x07\\x00\\x00\\x00\\x8a0\\x00\\xe3!\\x01\\x00\\x00B2\\x00\\xe3!\\x01\\x00\\x00g\\xb0\\xe0\\x0f+\\x01\\x00\\x00K\\xb2\\xe0\\x0f+\\x01\\x00\\x00;\\xc6\\xa3z=\\x01\\x00\\x00\\x8b\\xf1\\xa3z=\\x01\\x00\\x00=1\\xd1\\x99K\\x01\\x00\\x00\\xf52\\xd1\\x99K\\x01\\x00\\x00\\xae\\xa4 \\xc8\\\\\\x01\\x00\\x00n\\xa7 \\xc8\\\\\\x01\\x00\\x00\\xda:\\xc8\\xcek\\x01\\x00\\x00.@\\xc8\\xcek\\x01\\x00\\x00<\\xc0\\xd5*~\\x01\\x00\\x00\\x84\\xd4\\xd5*~\\x01\\x00\\x00\\x0c\\x00\\x00\\x00\\x07\\x00\\x00\\x000Z+\\x1f\\xab\\x01\\x00\\x00l\\\\+\\x1f\\xab\\x01\\x00\\x00A\\n'\n",
      "b'\\xcf\\x0b\\xcc\\x01\\x00\\x00\\xa9\\x0c\\xcf\\x0b\\xcc\\x01\\x00\\x00\\xb6\\xd59\\x0f\\xec\\x01\\x00\\x00\\xf2\\xd79\\x0f\\xec\\x01\\x00\\x00g&u\\xa7\\x03\\x02\\x00\\x00\\xcf(u\\xa7\\x03\\x02\\x00\\x00\\xc9t\\xd9\\xda\\x0c\\x02\\x00\\x00Uv\\xd9\\xda\\x0c\\x02\\x00\\x00\\x18Q\\x9c\\xd6\\x1b\\x02\\x00\\x00\\x80S\\x9c\\xd6\\x1b\\x02\\x00\\x00\\x1a\\xe2\\x19[/\\x02\\x00\\x00\\x82\\xe4\\x19[/\\x02\\x00\\x00\\r\\x00\\x00\\x00\\x07\\x00\\x00\\x00[UR~U\\x02\\x00\\x00\\xe7VR~U\\x02\\x00\\x00\\x03\\x81\\x03d_\\x02\\x00\\x00\\xdf\\x8c\\x03d_\\x02\\x00\\x00\\x02\\xc08~t\\x02\\x00\\x00\\xf6\\xc38~t\\x02\\x00\\x00& \\xe4c\\x83\\x02\\x00\\x00\\xe6\"\\xe4c\\x83\\x02\\x00\\x00g\\x13oC\\x96\\x02\\x00\\x00S\\x16oC\\x96\\x02\\x00\\x00\\xe9\\x89|\\xc7\\xa2\\x02\\x00\\x00\\xa9\\x8c|\\xc7\\xa2\\x02\\x00\\x00\\xca\\xfa\\\\\\xf4\\xb8\\x02\\x00\\x00f\\xfe\\\\\\xf4\\xb8\\x02\\x00\\x00\\x0e\\x00\\x00\\x00\\x07\\x00\\x00\\x00\\xeb\\xe9\\xba\\xe2\\xd9\\x02\\x00\\x00\\x7f\\xec\\xba\\xe2\\xd9\\x02\\x00\\x00\\'\\xa7\\x12\\xa4\\xed\\x02\\x00\\x00[\\xa8\\x12\\xa4\\xed\\x02\\x00\\x00\\xe0Z\\xfeY\\xfd\\x02\\x00\\x00\\x08`\\xfeY\\xfd\\x02\\x00\\x00\\x0b\\x93H\\xab\\x18\\x03\\x00\\x00G\\x95H\\xab\\x18\\x03\\x00\\x00\\xc9\\xe4i\\xf7*\\x03\\x00\\x00\\x15\\xe9i\\xf7*\\x03\\x00\\x00\\xd9M\\xcfQ5\\x03\\x00\\x00\\x91O\\xcfQ5\\x03\\x00\\x002B\\x04\\x9c=\\x03\\x00\\x00\\x16D\\x04\\x9c=\\x03\\x00\\x00\\x0f\\x00\\x00\\x00\\x07\\x00\\x00\\x00L\\xd2\\xddCI\\x03\\x00\\x00(\\xd3\\xddCI\\x03\\x00\\x00\\xaaS\\xe4\\x81W\\x03\\x00\\x00\\xc2V\\xe4\\x81W\\x03\\x00\\x00\\xac\\xc7\\xc0\\x02g\\x03\\x00\\x00P\\xcc\\xc0\\x02g\\x03\\x00\\x00Sd\\xcf\\x7fw\\x03\\x00\\x00\\x87e\\xcf\\x7fw\\x03\\x00\\x00\\xd8h\\xe1a\\x86\\x03\\x00\\x00@k\\xe1a\\x86\\x03\\x00\\x00\\xb3\\x80\\'D\\x8e\\x03\\x00\\x00\\xcb\\x83\\'D\\x8e\\x03\\x00\\x00\\xec\\x8a5x\\x95\\x03\\x00\\x00\\xd0\\x8c5x\\x95\\x03\\x00\\x00\\x10\\x00\\x00\\x00\\x07\\x00\\x00\\x00{\\xfd\\xa2\\xb7\\xac\\x03\\x00\\x00;\\x01\\x9d\\xf2\\xac\\x03\\x00\\x00V\\xa9\\xc2g\\xb4\\x03\\x00\\x00B\\xac\\xc2g\\xb4\\x03\\x00\\x00\\xa00\\x8a\\xcd\\xbc\\x03\\x00\\x00(7\\x8a\\xcd\\xbc\\x03\\x00\\x00\\xc5\\x91\\x1c\\xca\\xc6\\x03\\x00\\x00\\xd5\\x93\\x1c\\xca\\xc6\\x03\\x00\\x00\\xed(z\\xfd\\xce\\x03\\x00\\x00\\xa5*z\\xfd\\xce\\x03\\x00\\x00F\\xd1\\xbdV\\xd7\\x03\\x00\\x00r\\xd1\\xbdV\\xd7\\x03\\x00\\x00\\x8c\\xdb\\x98\\xa2\\xe5\\x03\\x00\\x00\\x9c\\xdd\\x98\\xa2\\xe5\\x03\\x00\\x00\\x11\\x00\\x00\\x00\\x07\\x00\\x00\\x00\\xd8\\x9f<\\x80\\xfd\\x03\\x00\\x00\\xc4\\xa2<\\x80\\xfd\\x03\\x00\\x00\\xf8\\xad\\xd7\\x88\\x04\\x04\\x00\\x00|\\xae\\xd7\\x88\\x04\\x04\\x00\\x00Qu\\x1e\\xe2\\t\\x04\\x00\\x00}u\\x1e\\xe2\\t\\x04\\x00\\x00\\xbd\\xa7\\xcc\\xbd\\x12\\x04\\x00\\x00\\xf1\\xa8\\xcc\\xbd\\x12\\x04\\x00\\x00\\x05\\xfc\"\\x0c\\x19\\x04\\x00\\x00e\\xfd\"\\x0c\\x19\\x04\\x00\\x00%\\x01e|\\x1e\\x04\\x00\\x00\\xb1\\x02e|\\x1e\\x04\\x00\\x00\\xadW\\x985#\\x04\\x00\\x00eY\\x985#\\x04\\x00\\x00\\x12\\x00\\x00\\x00\\x07\\x00\\x00\\x00|\\xb3\\xa7\\xbe0\\x04\\x00\\x00\\x8c\\xb5\\xa7\\xbe0\\x04\\x00\\x00/Cv\\x7f7\\x04\\x00\\x00\\x87Cv\\x7f7\\x04\\x00\\x00h\\xbd\\xb2}C\\x04\\x00\\x00(\\xc0\\xb2}C\\x04\\x00\\x00=\\x06\\x12kI\\x04\\x00\\x00\\xed\\x06\\x12kI\\x04\\x00\\x00\\x8e\\xb9j\"N\\x04\\x00\\x00r\\xbbj\"N\\x04\\x00\\x00>i\\x88\\x1fS\\x04\\x00\\x00\\xc2i\\x88\\x1fS\\x04\\x00\\x00\\x9c\\x15V\\x83X\\x04\\x00\\x00\\xf8\\x1bV\\x83X\\x04\\x00\\x00\\x13\\x00\\x00\\x00\\x07\\x00\\x00\\x00`\"!Re\\x04\\x00\\x00\\x8c\"!Re\\x04\\x00\\x00\\x88\\xde\\x10Ou\\x04\\x00\\x00\\xc8\\xe6\\x10Ou\\x04\\x00\\x00\\xf7\\xc8y\\x12}\\x04\\x00\\x00\\xdb\\xcay\\x12}\\x04\\x00\\x00\\x8b\\xfd\\x10\\xbb\\x88\\x04\\x00\\x00\\x17\\x00#\\xf7\\x88\\x04\\x00\\x001\\xabM\\t\\x8f\\x04\\x00\\x00Q\\xafM\\t\\x8f\\x04\\x00\\x00A\\x9b`A\\xa0\\x04\\x00\\x00}\\x9d`A\\xa0\\x04\\x00\\x00\\xd7\\xa2\\xc9\\\\\\xaa\\x04\\x00\\x00\\xe7\\xa4\\xc9\\\\\\xaa\\x04\\x00\\x00\\x14\\x00\\x00\\x00\\x07\\x00\\x00\\x00\\x8cJ\\n'\n",
      "b')\\xc1\\x04\\x00\\x00LM\\n'\n",
      "b')\\xc1\\x04\\x00\\x00\\xc7\\xfc\\x92\\x16\\xd0\\x04\\x00\\x00\\xcf\\xfd\\x92\\x16\\xd0\\x04\\x00\\x00\\xd7\\x8a\\'\\x11\\xdb\\x04\\x00\\x007\\x8c\\'\\x11\\xdb\\x04\\x00\\x00\\xb81\\x07\\xba\\xe2\\x04\\x00\\x00T5\\x07\\xba\\xe2\\x04\\x00\\x00-^\\xcdJ\\xe9\\x04\\x00\\x00\\xb1^\\xcdJ\\xe9\\x04\\x00\\x00\\xe8n\\xc8~\\xf0\\x04\\x00\\x00\\x1cp\\xc8~\\xf0\\x04\\x00\\x00{\\xe6\\xaf\\xa2\\xf6\\x04\\x00\\x00\\xb7\\xe8\\xaf\\xa2\\xf6\\x04\\x00\\x00\\x15\\x00\\x00\\x00\\x06\\x00\\x00\\x00U\\xdaJ~\\x0e\\x05\\x00\\x00\\x85\\xe1J~\\x0e\\x05\\x00\\x00%\\x9c\\x04\\xfb\\x15\\x05\\x00\\x00\\x1f\\x9e\\x04\\xfb\\x15\\x05\\x00\\x00\\xcf\\xee\\xee=\\x1e\\x05\\x00\\x00\\xe3\\xef\\xee=\\x1e\\x05\\x00\\x00@\\xc3\\r\\xa1\"\\x05\\x00\\x00\\x0c\\xc5\\r\\xa1\"\\x05\\x00\\x00\\xc8\\xf0\\xf05\\'\\x05\\x00\\x00\\n'\n",
      "b\"\\xf2\\xf05'\\x05\\x00\\x00\\xbd\\x01vN-\\x05\\x00\\x00\\xe5\\x03vN-\\x05\\x00\\x00\\x16\\x00\\x00\\x00\\x07\\x00\\x00\\x00M\\x85\\x91%N\\x05\\x00\\x00\\x97\\x8b\\x91%N\\x05\\x00\\x00\\x01m@\\xc3b\\x05\\x00\\x00\\xa3|@\\xc3b\\x05\\x00\\x00\\xdf\\x17\\xabAw\\x05\\x00\\x00c\\x1a\\xabAw\\x05\\x00\\x00%\\x10\\xdbz\\x84\\x05\\x00\\x00\\x89\\x15\\xdbz\\x84\\x05\\x00\\x00\\xff(3)\\x90\\x05\\x00\\x00-)3)\\x90\\x05\\x00\\x00\\xa8\\x89\\xcf\\xdb\\xa3\\x05\\x00\\x00n\\x8d\\xcf\\xdb\\xa3\\x05\\x00\\x00bN\\xac\\xd4\\xac\\x05\\x00\\x00\\x9eQ\\xac\\xd4\\xac\\x05\\x00\\x00\\x17\\x00\\x00\\x00\\x02\\x00\\x00\\x00\\x08\\x86c]\\xd1\\x05\\x00\\x00J\\x87c]\\xd1\\x05\\x00\\x00\\x0b\\x05\\xb8\\x0b\\xdb\\x05\\x00\\x00\\x95\\x05\\xb8\\x0b\\xdb\\x05\\x00\\x00\\x1a\\x00\\x00\\x00\\x05\\x00\\x00\\x00\\x18,T\\xa4\\xe9\\x05\\x00\\x00\\xfe,T\\xa4\\xe9\\x05\\x00\\x00\\xfd\\xe8\\xc9\\xed\\xfe\\x05\\x00\\x00+\\xe9\\xc9\\xed\\xfe\\x05\\x00\\x00F\\xee\\x944\\x03\\x06\\x00\\x00\\xb6\\xef\\x944\\x03\\x06\\x00\\x00,\\xf9vR\\r\\x06\\x00\\x00\\x88\\xf9vR\\r\\x06\\x00\\x00\\x04\\xf9<\\xe4\\x17\\x06\\x00\\x002\\xf9<\\xe4\\x17\\x06\\x00\\x00\\x1b\\x00\\x00\\x00\\x07\\x00\\x00\\x00\\x83\\x15=\\x9cR\\x06\\x00\\x00}\\x17=\\x9cR\\x06\\x00\\x00\\xb2\\xfb\\x92\\x8cY\\x06\\x00\\x00\\xc0\\xfe\\x92\\x8cY\\x06\\x00\\x00\\x82p\\xc9oq\\x06\\x00\\x00\\x84w\\xc9oq\\x06\\x00\\x00\\xe3\\n\"\n",
      "b'\\xb5\\x10\\x95\\x06\\x00\\x00\\x8d\\x1f\\xb5\\x10\\x95\\x06\\x00\\x00\\x9e\\x11\\xb3\\x9c\\xb3\\x06\\x00\\x00P\\x14\\xb3\\x9c\\xb3\\x06\\x00\\x00\\x93j\\x0ct\\xd0\\x06\\x00\\x00Kk\\x0ct\\xd0\\x06\\x00\\x00\\x91N!\\x99\\xd9\\x06\\x00\\x00wO!\\x99\\xd9\\x06\\x00\\x00\\x1c\\x00\\x00\\x00\\x08\\x00\\x00\\x00\\x0f\\x95=\\x1c\\xf5\\x06\\x00\\x00\\xad\\x96=\\x1c\\xf5\\x06\\x00\\x00\\x8b\\x82\\xd1c\\x13\\x07\\x00\\x00=\\x85\\xd1c\\x13\\x07\\x00\\x00&\\x9c\\xd9\\x9e\\x1f\\x07\\x00\\x00T\\x9c\\xd9\\x9e\\x1f\\x07\\x00\\x00\\x92\\xaa\\xa3\\xe1\\'\\x07\\x00\\x00x\\xab\\xa3\\xe1\\'\\x07\\x00\\x00\\xa8\\xfe\\xa0u-\\x07\\x00\\x00\\xd6\\xfe\\xa0u-\\x07\\x00\\x00\\x04\\x00)\\xae-\\x07\\x00\\x00\\xea\\x00)\\xae-\\x07\\x00\\x00D\\x97Yu7\\x07\\x00\\x00R\\x9aYu7\\x07\\x00\\x00p\\xce>\\x8a?\\x07\\x00\\x00\\x0e\\xd0>\\x8a?\\x07\\x00\\x00\\x1d\\x00\\x00\\x00\\x07\\x00\\x00\\x00s\\x83o\\x9e_\\x07\\x00\\x00+\\x84o\\x9e_\\x07\\x00\\x00b\\xd0z\\xabl\\x07\\x00\\x00\\x8a\\xd2z\\xabl\\x07\\x00\\x00\\x1b\\xd0!ms\\x07\\x00\\x00]\\xd1!ms\\x07\\x00\\x00|\\xa0\\xc0\\xde~\\x07\\x00\\x00\\xaa\\xa0\\xc0\\xde~\\x07\\x00\\x00\\xb6ga\\'\\x8b\\x07\\x00\\x00\\xf8ha\\'\\x8b\\x07\\x00\\x00 \\x8f%\\x02\\x98\\x07\\x00\\x00\\x06\\x90%\\x02\\x98\\x07\\x00\\x00]w{M\\xa3\\x07\\x00\\x00\\xad{{M\\xa3\\x07\\x00\\x00\\x1e\\x00\\x00\\x00\\x07\\x00\\x00\\x00\\xac\\xa1\\x99\\xb9\\xb2\\x07\\x00\\x00D\\xa5\\x99\\xb9\\xb2\\x07\\x00\\x00\\x01q\\xfcm\\xb9\\x07\\x00\\x00Cr\\xfcm\\xb9\\x07\\x00\\x00;6\\x9d5\\xc5\\x07\\x00\\x00w9\\x9d5\\xc5\\x07\\x00\\x00\\xa2\\x9a\\xbf~\\xd2\\x07\\x00\\x00\\x0c\\x9e\\xbf~\\xd2\\x07\\x00\\x00z\\xe7n\\xfe\\xe1\\x07\\x00\\x00\\x8e\\xe8n\\xfe\\xe1\\x07\\x00\\x00;d\\xae\\xb7\\xec\\x07\\x00\\x00\\x1bg\\xae\\xb7\\xec\\x07\\x00\\x00\\x99\\xf3^\\xaa\\xf9\\x07\\x00\\x00\\x93\\xf5^\\xaa\\xf9\\x07\\x00\\x00\\x1f\\x00\\x00\\x00\\x07\\x00\\x00\\x00\\x81\\x89\\x0c\\x0e\\x15\\x08\\x00\\x009\\x8a\\x0c\\x0e\\x15\\x08\\x00\\x00@\\xb3\\xc6\\xfe\\x1c\\x08\\x00\\x00\\xf8\\xb3\\xc6\\xfe\\x1c\\x08\\x00\\x00\\xe3\\xdc\\x93\\xf6\"\\x08\\x00\\x00\\x9b\\xdd\\x93\\xf6\"\\x08\\x00\\x00&\\xcf=S\\'\\x08\\x00\\x00h\\xd0=S\\'\\x08\\x00\\x00\":\\xbe}+\\x08\\x00\\x00\\x08;\\xbe}+\\x08\\x00\\x00o\\xfbo\\xa1/\\x08\\x00\\x00\\r\\xfdo\\xa1/\\x08\\x00\\x00\\x9c\\xcc\\xc7?4\\x08\\x00\\x00:\\xce\\xc7?4\\x08\\x00\\x00 \\x00\\x00\\x00\\x06\\x00\\x00\\x00:\\xe0c\\xe8K\\x08\\x00\\x00\\xbe\\xe2c\\xe8K\\x08\\x00\\x00\\xc6\\xe8\\xa3SP\\x08\\x00\\x00P\\xe9\\xa3SP\\x08\\x00\\x00}\\x9c\\xff\\x9bU\\x08\\x00\\x00\\xb9\\x9f\\xff\\x9bU\\x08\\x00\\x00z\\x9f\\xb1\\x1c`\\x08\\x00\\x00\\xbc\\xa0\\xb1\\x1c`\\x08\\x00\\x00\\xae\\xb3\\x89(l\\x08\\x00\\x00\\xf0\\xb4\\x89(l\\x08\\x00\\x00\\xb6`#Cs\\x08\\x00\\x00\\x96c#Cs\\x08\\x00\\x00!\\x00\\x00\\x00\\x07\\x00\\x00\\x006\\xa1\\xd9G\\x92\\x08\\x00\\x00x\\xa2\\xd9G\\x92\\x08\\x00\\x00(\\xa1\\xd9\\xa7\\xa8\\x08\\x00\\x00\\x0e\\xa2\\xd9\\xa7\\xa8\\x08\\x00\\x002\\xe0\\x9c\\xb2\\xba\\x08\\x00\\x00f\\xf5\\x9c\\xb2\\xba\\x08\\x00\\x00Rz\\x14\\xb6\\xcb\\x08\\x00\\x00\\x80z\\x14\\xb6\\xcb\\x08\\x00\\x00F\\x14\\xf3|\\xd6\\x08\\x00\\x00t\\x14\\xf3|\\xd6\\x08\\x00\\x00\\x03\\xf4\\x80\\x87\\xee\\x08\\x00\\x00%\\xf8\\x80\\x87\\xee\\x08\\x00\\x00S\\x98\\x04\\xa0\\xfb\\x08\\x00\\x00\\xa9\\x9a\\x04\\xa0\\xfb\\x08\\x00\\x00\"\\x00\\x00\\x00\\x07\\x00\\x00\\x00\\xeb\\xf6\\x9b_\\x0e\\t\\x00\\x00u\\xf7\\x9b_\\x0e\\t\\x00\\x00\\xfd\\xbb\\xd9\\xf9\\x19\\t\\x00\\x00\\x0b\\xbf\\xd9\\xf9\\x19\\t\\x00\\x00\\xd0a`\\x99-\\t\\x00\\x00\\xf8c`\\x99-\\t\\x00\\x00\\x84\\xb7\\xc4\\xad7\\t\\x00\\x00\\x92\\xba\\xc4\\xad7\\t\\x00\\x00\\xc71\\x8fn@\\t\\x00\\x00\\xef3\\x8fn@\\t\\x00\\x00\\x9e&\\x81\\x0eF\\t\\x00\\x00\\xcc&\\x81\\x0eF\\t\\x00\\x00\\x91a\\x8e8K\\t\\x00\\x00]c\\x8e8K\\t\\x00\\x00#\\x00\\x00\\x00\\x06\\x00\\x00\\x00\\x8f\\x17\\x84\\xdbW\\t\\x00\\x00[\\x19\\x84\\xdbW\\t\\x00\\x00\\xb7\\xad\\xbaw^\\t\\x00\\x00U\\xaf\\xbaw^\\t\\x00\\x00\\x0e\\xa2\\xceOi\\t\\x00\\x00d\\xa4\\xceOi\\t\\x00\\x00\\x82\\\\\\xf1ft\\t\\x00\\x00v`\\xf1ft\\t\\x00\\x00\\xd3\\x91\\xbb;\\x80\\t\\x00\\x00\\x01\\x92\\xbb;\\x80\\t\\x00\\x00\\xee\\x1b\\x96S\\x8d\\t\\x00\\x00\\x86\\x1f\\x96S\\x8d\\t\\x00\\x00$\\x00\\x00\\x00\\x07\\x00\\x00\\x00o\\xec\\xc4Q\\xbd\\t\\x00\\x00!\\xef\\xc4Q\\xbd\\t\\x00\\x00\\xd2\\xcf\\x80\\xf8\\xd1\\t\\x00\\x00\\xe0\\xd2\\x80\\xf8\\xd1\\t\\x00\\x00\\x08\\x13\\x8d_\\xe1\\t\\x00\\x00\\x02\\x15\\x8d_\\xe1\\t\\x00\\x00\\x90D\\xc6B\\xed\\t\\x00\\x00\\x00F\\xc6B\\xed\\t\\x00\\x00\\xac\\x99l\\x1c\\xfb\\t\\x00\\x006\\x9al\\x1c\\xfb\\t\\x00\\x00\\xcaq\\xb4\\xa5\\x04\\n'\n",
      "b'\\x00\\x00\\xaat\\xb4\\xa5\\x04\\n'\n",
      "b'\\x00\\x00\\xf4\\xb7\\x90r\\r\\n'\n",
      "b'\\x00\\x00\\xac\\xb8\\x90r\\r\\n'\n",
      "b'\\x00\\x00%\\x00\\x00\\x00\\x07\\x00\\x00\\x00s\\xd8\\xcc\\x06.\\n'\n",
      "b'\\x00\\x00+\\xd9\\xcc\\x06.\\n'\n",
      "b'\\x00\\x00\\xb4Y|\\x0f>\\n'\n",
      "b'\\x00\\x00\\xdc[|\\x0f>\\n'\n",
      "b'\\x00\\x00\\xc2(M&D\\n'\n",
      "b'\\x00\\x00`*M&D\\n'\n"
     ]
    }
   ],
   "source": [
    "zless('atac_v1_pbmc_10k_fragments.tsv.gz.tbi')"
   ]
  },
  {
   "cell_type": "code",
   "execution_count": 15,
   "metadata": {
    "collapsed": true,
    "jupyter": {
     "outputs_hidden": true
    }
   },
   "outputs": [
    {
     "name": "stdout",
     "output_type": "stream",
     "text": [
      "barcode,total,duplicate,chimeric,unmapped,lowmapq,mitochondrial,passed_filters,cell_id,is__cell_barcode,TSS_fragments,DNase_sensitive_region_fragments,enhancer_region_fragments,promoter_region_fragments,on_target_fragments,blacklist_region_fragments,peak_region_fragments\n",
      "NO_BARCODE,8335327,3922818,71559,746476,634014,22972,2937488,None,0,0,0,0,0,0,0,0\n",
      "AAACGAAAGAAACGCC-1,3,1,0,1,0,0,1,None,0,1,1,1,0,1,0,1\n",
      "AAACGAAAGAAAGCAG-1,14,1,0,4,2,0,7,None,0,0,2,0,0,2,0,0\n",
      "AAACGAAAGAAAGGGT-1,7,1,0,1,0,0,5,None,0,2,2,0,1,2,0,1\n",
      "AAACGAAAGAAATACC-1,9880,5380,79,106,1120,6,3189,None,0,386,1623,297,107,1758,16,262\n",
      "AAACGAAAGAAATCTG-1,2,0,0,0,0,0,2,None,0,1,2,1,1,2,0,2\n",
      "AAACGAAAGAAATGGG-1,4,2,0,1,0,0,1,None,0,0,1,1,0,1,0,1\n",
      "AAACGAAAGAAATTCG-1,2,0,0,0,1,0,1,None,0,0,0,0,0,0,0,0\n",
      "AAACGAAAGAACCATA-1,12,3,0,8,0,0,1,None,0,0,1,0,0,1,0,0\n",
      "AAACGAAAGAACCCGA-1,3,1,0,2,0,0,0,None,0,0,0,0,0,0,0,0\n",
      "AAACGAAAGAACGACC-1,2,0,0,0,0,0,2,None,0,2,2,1,1,2,0,1\n",
      "AAACGAAAGAACGCCA-1,7,0,0,1,0,0,6,None,0,0,4,0,0,4,0,0\n",
      "AAACGAAAGAACGTCG-1,3,0,0,1,0,0,2,None,0,0,1,1,0,1,0,1\n",
      "AAACGAAAGAACGTTA-1,11,1,0,2,2,0,6,None,0,2,6,1,2,6,0,4\n",
      "AAACGAAAGAACTAAC-1,7,0,0,5,1,0,1,None,0,1,1,0,1,1,0,1\n",
      "AAACGAAAGAACTCCT-1,2,2,0,0,0,0,0,None,0,0,0,0,0,0,0,0\n",
      "AAACGAAAGAAGACTT-1,3,2,0,0,0,0,1,None,0,0,1,1,0,1,0,1\n",
      "AAACGAAAGAAGAGTG-1,4,1,0,0,0,0,3,None,0,0,1,1,0,2,0,0\n",
      "AAACGAAAGAAGCCGT-1,2,0,0,0,1,0,1,None,0,0,0,0,0,0,0,0\n",
      "AAACGAAAGAAGCCTG-1,7,0,0,0,1,0,6,None,0,0,4,0,0,4,0,0\n",
      "AAACGAAAGAAGGGCG-1,10,0,2,1,1,0,6,None,0,0,3,1,0,3,0,2\n",
      "AAACGAAAGAATACTG-1,10,1,0,2,2,0,5,None,0,0,4,0,0,4,0,0\n",
      "AAACGAAAGAATAGTC-1,464,79,0,10,40,0,335,None,0,43,176,31,4,194,2,19\n",
      "AAACGAAAGAATCAAC-1,11,2,0,4,1,0,4,None,0,0,0,1,0,1,0,1\n",
      "AAACGAAAGAATCAGT-1,4,1,0,1,0,0,2,None,0,0,1,1,0,1,0,1\n",
      "AAACGAAAGAATGCTA-1,5,2,0,0,2,0,1,None,0,0,0,0,0,0,0,0\n",
      "AAACGAAAGACAACGC-1,30,6,0,6,0,0,18,None,0,8,15,2,7,16,0,11\n",
      "AAACGAAAGACACAAT-1,5,0,0,2,0,0,3,None,0,1,1,0,1,1,0,1\n",
      "AAACGAAAGACACGGT-1,1643,417,11,12,214,8,981,None,0,97,502,100,17,540,5,82\n",
      "AAACGAAAGACACTTC-1,11,3,0,2,0,0,6,None,0,1,4,2,0,4,0,1\n",
      "AAACGAAAGACAGCTG-1,1,1,0,0,0,0,0,None,0,0,0,0,0,0,0,0\n",
      "AAACGAAAGACCAATA-1,3,1,0,1,0,0,1,None,0,0,1,0,0,1,0,0\n",
      "AAACGAAAGACCATAA-1,13,2,0,5,0,1,5,None,0,2,1,0,1,2,0,2\n",
      "AAACGAAAGACCCATT-1,1,0,0,0,0,0,1,None,0,0,1,1,0,1,0,1\n",
      "AAACGAAAGACCCTAT-1,2,0,0,0,0,0,2,None,0,1,2,1,1,2,0,2\n",
      "AAACGAAAGACCGCAA-1,2,0,0,1,0,0,1,None,0,1,1,0,1,1,0,1\n",
      "AAACGAAAGACCTATC-1,7,3,0,0,1,0,3,None,0,0,1,1,0,1,1,1\n",
      "AAACGAAAGACGAAAG-1,62,6,0,3,9,1,43,None,0,16,34,8,7,36,0,18\n",
      "AAACGAAAGACGACTG-1,3,1,0,0,0,0,2,None,0,1,1,0,1,1,0,1\n",
      "AAACGAAAGACGCCAA-1,3394,1127,26,41,325,1,1874,None,0,238,832,147,46,934,16,141\n",
      "AAACGAAAGACGCCCT-1,1,0,0,0,0,0,1,None,0,0,0,0,0,0,0,0\n",
      "AAACGAAAGACGTCAG-1,2,0,0,1,1,0,0,None,0,0,0,0,0,0,0,0\n",
      "AAACGAAAGACTAATG-1,4,1,0,2,0,0,1,None,0,0,0,0,0,0,0,0\n",
      "AAACGAAAGACTAGCG-1,1,0,0,0,0,0,1,None,0,0,0,0,0,0,0,0\n",
      "AAACGAAAGACTAGGC-1,164,50,0,0,18,0,96,None,0,18,50,9,4,57,0,10\n",
      "AAACGAAAGACTCGGA-1,1,0,0,0,1,0,0,None,0,0,0,0,0,0,0,0\n",
      "AAACGAAAGACTCTTG-1,7,0,0,0,0,0,7,None,0,3,5,2,1,6,0,2\n",
      "AAACGAAAGACTTCCA-1,8,1,1,0,1,0,5,None,0,2,3,0,1,3,0,2\n",
      "AAACGAAAGACTTGAA-1,10,2,0,3,2,0,3,None,0,1,2,0,0,3,0,1\n",
      "AAACGAAAGAGAACCC-1,3,1,0,0,0,0,2,None,0,0,1,0,0,1,0,0\n",
      "AAACGAAAGAGAAGCA-1,4,1,0,3,0,0,0,None,0,0,0,0,0,0,0,0\n",
      "AAACGAAAGAGAATTC-1,7,1,0,2,1,0,3,None,0,0,2,0,0,2,0,0\n",
      "AAACGAAAGAGACTCG-1,1,1,0,0,0,0,0,None,0,0,0,0,0,0,0,0\n",
      "AAACGAAAGAGAGGTA-1,2257,614,11,30,274,74,1254,None,0,104,630,110,27,674,3,90\n",
      "AAACGAAAGAGAGTAG-1,1,1,0,0,0,0,0,None,0,0,0,0,0,0,0,0\n",
      "AAACGAAAGAGATTAC-1,15,5,0,1,3,0,6,None,0,0,1,1,0,2,0,0\n",
      "AAACGAAAGAGCACTG-1,1,0,0,0,0,0,1,None,0,0,1,1,0,1,0,1\n",
      "AAACGAAAGAGCAGCT-1,16,4,0,3,4,0,5,None,0,3,3,0,3,3,0,3\n",
      "AAACGAAAGAGCCACA-1,6,1,0,1,1,0,3,None,0,0,0,0,0,0,0,0\n",
      "AAACGAAAGAGCCTGA-1,1,1,0,0,0,0,0,None,0,0,0,0,0,0,0,0\n",
      "AAACGAAAGAGCGAAA-1,22965,10872,183,198,1198,51,10463,_cell_0,1,4157,8537,3079,3249,8894,6,6796\n",
      "AAACGAAAGAGCGGTT-1,121,29,1,4,7,0,80,None,0,23,61,19,14,64,0,31\n",
      "AAACGAAAGAGCTACG-1,3,1,0,0,2,0,0,None,0,0,0,0,0,0,0,0\n",
      "AAACGAAAGAGCTCCC-1,21,4,0,0,2,0,15,None,0,7,8,0,4,8,0,7\n",
      "AAACGAAAGAGCTGTG-1,7,2,0,1,1,0,3,None,0,0,1,1,0,1,0,1\n",
      "AAACGAAAGAGGAACA-1,1,0,0,1,0,0,0,None,0,0,0,0,0,0,0,0\n",
      "AAACGAAAGAGGAAGT-1,5,2,0,0,0,0,3,None,0,1,2,1,0,2,0,1\n",
      "AAACGAAAGAGGAATG-1,4,3,0,1,0,0,0,None,0,0,0,0,0,0,0,0\n",
      "AAACGAAAGAGGCAGG-1,1,1,0,0,0,0,0,None,0,0,0,0,0,0,0,0\n",
      "AAACGAAAGAGGTCCA-1,2,0,0,1,0,0,1,None,0,0,0,0,0,0,0,0\n",
      "AAACGAAAGAGGTGGG-1,2,0,0,0,0,0,2,None,0,0,2,0,0,2,0,0\n",
      "AAACGAAAGAGTAAGG-1,1,0,0,1,0,0,0,None,0,0,0,0,0,0,0,0\n",
      "AAACGAAAGAGTCCGA-1,1,1,0,0,0,0,0,None,0,0,0,0,0,0,0,0\n",
      "AAACGAAAGAGTGGAA-1,2,0,0,0,0,0,2,None,0,1,2,0,1,2,0,0\n",
      "AAACGAAAGAGTTCGG-1,4,0,0,0,1,0,3,None,0,1,3,0,1,3,0,2\n",
      "AAACGAAAGAGTTTGA-1,21806,9336,122,175,1050,1,11122,_cell_1,1,4858,9548,3954,3600,10034,10,8319\n",
      "AAACGAAAGATACCAA-1,10,0,0,5,1,0,4,None,0,0,2,1,0,2,0,1\n",
      "AAACGAAAGATAGGTT-1,5,3,0,0,0,0,2,None,0,0,1,0,0,1,0,0\n",
      "AAACGAAAGATATGAC-1,10,5,0,2,0,0,3,None,0,2,2,0,2,2,0,2\n",
      "AAACGAAAGATCACCT-1,55,6,1,0,7,12,29,None,0,9,24,9,5,26,0,13\n",
      "AAACGAAAGATCCGAG-1,4,0,0,1,0,0,3,None,0,1,3,2,1,3,0,2\n",
      "AAACGAAAGATCGAGC-1,1,0,0,0,0,0,1,None,0,0,0,0,0,0,0,0\n",
      "AAACGAAAGATCGATA-1,1802,508,18,17,203,4,1052,None,0,118,488,90,32,542,3,87\n",
      "AAACGAAAGATCGCCC-1,48,5,0,0,1,0,42,None,0,7,33,11,4,34,0,14\n",
      "AAACGAAAGATCTAAG-1,1619,463,9,24,167,7,949,None,0,96,472,80,29,507,9,63\n",
      "AAACGAAAGATCTCAC-1,4,2,0,0,0,0,2,None,0,0,0,0,0,0,0,0\n",
      "AAACGAAAGATGCGAC-1,21,3,1,0,1,0,16,None,0,3,13,10,2,13,0,11\n",
      "AAACGAAAGATGCGCA-1,9,2,0,0,1,0,6,None,0,1,2,0,0,3,0,0\n",
      "AAACGAAAGATGGCAC-1,19,1,2,0,1,0,15,None,0,10,13,2,6,13,0,8\n",
      "AAACGAAAGATGGGAA-1,5,3,0,1,0,0,1,None,0,0,0,0,0,0,0,0\n",
      "AAACGAAAGATGTTCC-1,1415,377,13,10,162,1,852,None,0,96,406,72,25,438,3,70\n",
      "AAACGAAAGATGTTGA-1,1713,445,6,13,188,0,1061,None,0,105,503,84,28,556,2,87\n",
      "AAACGAAAGATTACGA-1,23,6,1,2,1,0,13,None,0,4,6,3,2,8,0,5\n",
      "AAACGAAAGATTAGAC-1,5,1,0,3,1,0,0,None,0,0,0,0,0,0,0,0\n",
      "AAACGAAAGATTCCGT-1,21,2,0,1,1,0,17,None,0,5,9,3,1,10,0,4\n",
      "AAACGAAAGATTGACA-1,2,1,0,1,0,0,0,None,0,0,0,0,0,0,0,0\n",
      "AAACGAAAGCAACGGT-1,6,1,0,1,0,0,4,None,0,1,1,0,0,1,0,0\n",
      "AAACGAAAGCAACTGG-1,7,1,0,3,0,0,3,None,0,1,1,0,1,1,0,1\n",
      "AAACGAAAGCAAGGTC-1,7,0,0,1,0,1,5,None,0,2,1,0,1,2,0,1\n"
     ]
    }
   ],
   "source": [
    "zless('atac_v1_pbmc_10k_singlecell.csv', bin=False)"
   ]
  },
  {
   "cell_type": "markdown",
   "metadata": {},
   "source": [
    "# "
   ]
  },
  {
   "cell_type": "markdown",
   "metadata": {},
   "source": [
    "# "
   ]
  },
  {
   "cell_type": "markdown",
   "metadata": {},
   "source": [
    "## atac_v1_pbmc_10k_filtered_peak_bc_matrix.h5"
   ]
  },
  {
   "cell_type": "code",
   "execution_count": 12,
   "metadata": {},
   "outputs": [
    {
     "name": "stdout",
     "output_type": "stream",
     "text": [
      "\n",
      "group /matrix 6 members\n",
      "/matrix/barcodes (8728,)\n",
      "/matrix/data (52689515,)\n",
      "\n",
      "group /matrix/features 6 members\n",
      "/matrix/features/_all_tag_keys (2,)\n",
      "/matrix/features/derivation (89796,)\n",
      "/matrix/features/feature_type (89796,)\n",
      "/matrix/features/genome (89796,)\n",
      "/matrix/features/id (89796,)\n",
      "/matrix/features/name (89796,)\n",
      "/matrix/indices (52689515,)\n",
      "/matrix/indptr (8729,)\n",
      "/matrix/shape (2,)\n"
     ]
    }
   ],
   "source": [
    "visit_h5('atac_v1_pbmc_10k_filtered_peak_bc_matrix.h5')"
   ]
  },
  {
   "cell_type": "code",
   "execution_count": 16,
   "metadata": {},
   "outputs": [
    {
     "name": "stdout",
     "output_type": "stream",
     "text": [
      "[b'genome' b'derivation']\n"
     ]
    }
   ],
   "source": [
    "filename = 'atac_v1_pbmc_10k_filtered_peak_bc_matrix.h5'\n",
    "with h5py.File(f'{path}/{filename}') as f:\n",
    "    print(f['/matrix/features/_all_tag_keys'][:])"
   ]
  },
  {
   "cell_type": "code",
   "execution_count": 57,
   "metadata": {},
   "outputs": [],
   "source": [
    "with h5py.File(f'{path}/{filename}') as f:\n",
    "    data = f['/matrix/data'][:]\n",
    "    indices = f['/matrix/indices']\n",
    "    indptr = f['/matrix/indptr']\n",
    "    shape = f['/matrix/shape']\n",
    "    atac_matrix = ss.csc_matrix((data, indices, indptr), shape=shape)"
   ]
  },
  {
   "cell_type": "code",
   "execution_count": 97,
   "metadata": {},
   "outputs": [],
   "source": [
    "with h5py.File(f'{path}/{filename}', 'r') as f:\n",
    "    features = f['/matrix/features']\n",
    "    atac_meta = {\n",
    "        'gene': pd.DataFrame(\n",
    "            {\n",
    "                'derivation': features['derivation'],\n",
    "                'feature_type': features['feature_type'],\n",
    "                'genome': features['genome'],\n",
    "                'id': features['id'],\n",
    "                'name': features['name']\n",
    "            },\n",
    "        ),\n",
    "        'cell': pd.DataFrame({})\n",
    "    }"
   ]
  },
  {
   "cell_type": "code",
   "execution_count": 98,
   "metadata": {
    "collapsed": true,
    "jupyter": {
     "outputs_hidden": true
    }
   },
   "outputs": [
    {
     "name": "stdout",
     "output_type": "stream",
     "text": [
      "int32\n",
      "['__array__', '__bool__', '__class__', '__delattr__', '__dict__', '__dir__', '__doc__', '__eq__', '__format__', '__ge__', '__getattribute__', '__getitem__', '__getnewargs__', '__getstate__', '__gt__', '__hash__', '__init__', '__init_subclass__', '__iter__', '__le__', '__len__', '__lt__', '__module__', '__ne__', '__new__', '__nonzero__', '__reduce__', '__reduce_ex__', '__repr__', '__setattr__', '__setitem__', '__sizeof__', '__str__', '__subclasshook__', '__weakref__', '_cache_props', '_d', '_dcpl', '_dxpl', '_e', '_extent_type', '_fast_read_ok', '_fast_reader', '_filters', '_id', '_is_empty', '_lapl', '_lcpl', '_local', '_readonly', '_selector', 'asstr', 'astype', 'attrs', 'chunks', 'compression', 'compression_opts', 'dims', 'dtype', 'external', 'fields', 'file', 'fillvalue', 'fletcher32', 'flush', 'id', 'is_virtual', 'iter_chunks', 'len', 'make_scale', 'maxshape', 'name', 'nbytes', 'ndim', 'parent', 'read_direct', 'ref', 'refresh', 'regionref', 'resize', 'scaleoffset', 'shape', 'shuffle', 'size', 'virtual_sources', 'write_direct']\n",
      "Help on method read_direct in module h5py._hl.dataset:\n",
      "\n",
      "read_direct(dest, source_sel=None, dest_sel=None) method of h5py._hl.dataset.Dataset instance\n",
      "    Read data directly from HDF5 into an existing NumPy array.\n",
      "    \n",
      "    The destination array must be C-contiguous and writable.\n",
      "    Selections must be the output of numpy.s_[<args>].\n",
      "    \n",
      "    Broadcasting is supported for simple indexing.\n",
      "\n",
      "None\n"
     ]
    }
   ],
   "source": [
    "with h5py.File(f'{path}/{filename}', 'r') as f:\n",
    "    print(f['/matrix/data'].dtype)\n",
    "    print(dir(f['/matrix/features/derivation']))\n",
    "    print(help(f['/matrix/features/derivation'].read_direct))"
   ]
  },
  {
   "cell_type": "code",
   "execution_count": 99,
   "metadata": {},
   "outputs": [],
   "source": [
    "atac_meta['gene'] = atac_meta['gene'].apply(lambda x: x.str.decode('utf-8'))"
   ]
  },
  {
   "cell_type": "code",
   "execution_count": 100,
   "metadata": {},
   "outputs": [
    {
     "data": {
      "text/html": [
       "<div>\n",
       "<style scoped>\n",
       "    .dataframe tbody tr th:only-of-type {\n",
       "        vertical-align: middle;\n",
       "    }\n",
       "\n",
       "    .dataframe tbody tr th {\n",
       "        vertical-align: top;\n",
       "    }\n",
       "\n",
       "    .dataframe thead th {\n",
       "        text-align: right;\n",
       "    }\n",
       "</style>\n",
       "<table border=\"1\" class=\"dataframe\">\n",
       "  <thead>\n",
       "    <tr style=\"text-align: right;\">\n",
       "      <th></th>\n",
       "      <th>derivation</th>\n",
       "      <th>feature_type</th>\n",
       "      <th>genome</th>\n",
       "      <th>id</th>\n",
       "      <th>name</th>\n",
       "    </tr>\n",
       "  </thead>\n",
       "  <tbody>\n",
       "    <tr>\n",
       "      <th>0</th>\n",
       "      <td></td>\n",
       "      <td>Peaks</td>\n",
       "      <td>hg19</td>\n",
       "      <td>chr1:565107-565550</td>\n",
       "      <td>chr1:565107-565550</td>\n",
       "    </tr>\n",
       "    <tr>\n",
       "      <th>1</th>\n",
       "      <td></td>\n",
       "      <td>Peaks</td>\n",
       "      <td>hg19</td>\n",
       "      <td>chr1:569174-569639</td>\n",
       "      <td>chr1:569174-569639</td>\n",
       "    </tr>\n",
       "    <tr>\n",
       "      <th>2</th>\n",
       "      <td></td>\n",
       "      <td>Peaks</td>\n",
       "      <td>hg19</td>\n",
       "      <td>chr1:713460-714823</td>\n",
       "      <td>chr1:713460-714823</td>\n",
       "    </tr>\n",
       "    <tr>\n",
       "      <th>3</th>\n",
       "      <td></td>\n",
       "      <td>Peaks</td>\n",
       "      <td>hg19</td>\n",
       "      <td>chr1:752422-753038</td>\n",
       "      <td>chr1:752422-753038</td>\n",
       "    </tr>\n",
       "    <tr>\n",
       "      <th>4</th>\n",
       "      <td></td>\n",
       "      <td>Peaks</td>\n",
       "      <td>hg19</td>\n",
       "      <td>chr1:762106-763359</td>\n",
       "      <td>chr1:762106-763359</td>\n",
       "    </tr>\n",
       "    <tr>\n",
       "      <th>...</th>\n",
       "      <td>...</td>\n",
       "      <td>...</td>\n",
       "      <td>...</td>\n",
       "      <td>...</td>\n",
       "      <td>...</td>\n",
       "    </tr>\n",
       "    <tr>\n",
       "      <th>89791</th>\n",
       "      <td></td>\n",
       "      <td>Peaks</td>\n",
       "      <td>hg19</td>\n",
       "      <td>chrY:58993392-58993760</td>\n",
       "      <td>chrY:58993392-58993760</td>\n",
       "    </tr>\n",
       "    <tr>\n",
       "      <th>89792</th>\n",
       "      <td></td>\n",
       "      <td>Peaks</td>\n",
       "      <td>hg19</td>\n",
       "      <td>chrY:58994571-58994823</td>\n",
       "      <td>chrY:58994571-58994823</td>\n",
       "    </tr>\n",
       "    <tr>\n",
       "      <th>89793</th>\n",
       "      <td></td>\n",
       "      <td>Peaks</td>\n",
       "      <td>hg19</td>\n",
       "      <td>chrY:58996352-58997331</td>\n",
       "      <td>chrY:58996352-58997331</td>\n",
       "    </tr>\n",
       "    <tr>\n",
       "      <th>89794</th>\n",
       "      <td></td>\n",
       "      <td>Peaks</td>\n",
       "      <td>hg19</td>\n",
       "      <td>chrY:59001782-59002175</td>\n",
       "      <td>chrY:59001782-59002175</td>\n",
       "    </tr>\n",
       "    <tr>\n",
       "      <th>89795</th>\n",
       "      <td></td>\n",
       "      <td>Peaks</td>\n",
       "      <td>hg19</td>\n",
       "      <td>chrY:59017143-59017246</td>\n",
       "      <td>chrY:59017143-59017246</td>\n",
       "    </tr>\n",
       "  </tbody>\n",
       "</table>\n",
       "<p>89796 rows × 5 columns</p>\n",
       "</div>"
      ],
      "text/plain": [
       "      derivation feature_type genome                      id  \\\n",
       "0                       Peaks   hg19      chr1:565107-565550   \n",
       "1                       Peaks   hg19      chr1:569174-569639   \n",
       "2                       Peaks   hg19      chr1:713460-714823   \n",
       "3                       Peaks   hg19      chr1:752422-753038   \n",
       "4                       Peaks   hg19      chr1:762106-763359   \n",
       "...          ...          ...    ...                     ...   \n",
       "89791                   Peaks   hg19  chrY:58993392-58993760   \n",
       "89792                   Peaks   hg19  chrY:58994571-58994823   \n",
       "89793                   Peaks   hg19  chrY:58996352-58997331   \n",
       "89794                   Peaks   hg19  chrY:59001782-59002175   \n",
       "89795                   Peaks   hg19  chrY:59017143-59017246   \n",
       "\n",
       "                         name  \n",
       "0          chr1:565107-565550  \n",
       "1          chr1:569174-569639  \n",
       "2          chr1:713460-714823  \n",
       "3          chr1:752422-753038  \n",
       "4          chr1:762106-763359  \n",
       "...                       ...  \n",
       "89791  chrY:58993392-58993760  \n",
       "89792  chrY:58994571-58994823  \n",
       "89793  chrY:58996352-58997331  \n",
       "89794  chrY:59001782-59002175  \n",
       "89795  chrY:59017143-59017246  \n",
       "\n",
       "[89796 rows x 5 columns]"
      ]
     },
     "execution_count": 100,
     "metadata": {},
     "output_type": "execute_result"
    }
   ],
   "source": [
    "atac_meta['gene']"
   ]
  },
  {
   "cell_type": "code",
   "execution_count": 102,
   "metadata": {},
   "outputs": [
    {
     "data": {
      "text/plain": [
       "derivation  feature_type  genome\n",
       "            Peaks         hg19      89796\n",
       "dtype: int64"
      ]
     },
     "execution_count": 102,
     "metadata": {},
     "output_type": "execute_result"
    }
   ],
   "source": [
    "atac_meta['gene'][['derivation', 'feature_type', 'genome']].value_counts()"
   ]
  },
  {
   "cell_type": "markdown",
   "metadata": {},
   "source": [
    "# "
   ]
  },
  {
   "cell_type": "markdown",
   "metadata": {},
   "source": [
    "# "
   ]
  },
  {
   "cell_type": "markdown",
   "metadata": {},
   "source": [
    "# atac_v1_pbmc_10k_fragments.tsv.gz"
   ]
  },
  {
   "cell_type": "raw",
   "metadata": {},
   "source": [
    "It is a 1.8Gb tsv so cannot be loaded by pandas.read_csv directly."
   ]
  },
  {
   "cell_type": "code",
   "execution_count": 14,
   "metadata": {},
   "outputs": [
    {
     "name": "stdout",
     "output_type": "stream",
     "text": [
      "b'chr1\\t10066\\t10279\\tTTAGCTTAGGAGAACA-1\\t2\\n'\n",
      "b'chr1\\t10072\\t10279\\tTTAGCTTAGGAGAACA-1\\t2\\n'\n",
      "b'chr1\\t10079\\t10316\\tATATTCCTCTTGTACT-1\\t2\\n'\n",
      "b'chr1\\t10084\\t10340\\tCGTACAAGTTACCCAA-1\\t1\\n'\n",
      "b'chr1\\t10085\\t10271\\tTGTGACAGTACAACGG-1\\t1\\n'\n",
      "b'chr1\\t10085\\t10339\\tCATGCCTTCTCTGACC-1\\t1\\n'\n",
      "b'chr1\\t10089\\t10502\\tATCGAGTAGGTTCGAG-1\\t1\\n'\n",
      "b'chr1\\t10091\\t10334\\tGCGGTGTCACACTAGT-1\\t1\\n'\n",
      "b'chr1\\t10091\\t10681\\tCTCTCAGGTCCCTTTG-1\\t1\\n'\n",
      "b'chr1\\t10096\\t10278\\tTTCGGTCTCACGTGTA-1\\t1\\n'\n",
      "b'chr1\\t10096\\t10339\\tCTTTGCGAGGTACACG-1\\t1\\n'\n",
      "b'chr1\\t10097\\t10321\\tTTGCGGGCAAGCGGTA-1\\t1\\n'\n",
      "b'chr1\\t10097\\t10334\\tAACCAACGTGTCTACA-1\\t2\\n'\n",
      "b'chr1\\t10101\\t10483\\tCTGTTCGGTGCGTTTA-1\\t2\\n'\n",
      "b'chr1\\t10132\\t10279\\tTGGCCTTAGAGCACTG-1\\t2\\n'\n",
      "b'chr1\\t10136\\t10483\\tCTGTTCGGTGCGTTTA-1\\t1\\n'\n",
      "b'chr1\\t10143\\t10327\\tTGTACAGGTGGCATAG-1\\t1\\n'\n",
      "b'chr1\\t10145\\t10473\\tGGGTTATGTCTCTGGG-1\\t1\\n'\n",
      "b'chr1\\t10151\\t10209\\tCGCGCAACAAGATTAG-1\\t2\\n'\n",
      "b'chr1\\t10151\\t10565\\tGTAATCGAGTTGTCCA-1\\t1\\n'\n"
     ]
    }
   ],
   "source": [
    "zless('atac_v1_pbmc_10k_fragments.tsv.gz')"
   ]
  },
  {
   "cell_type": "code",
   "execution_count": 6,
   "metadata": {},
   "outputs": [
    {
     "data": {
      "text/plain": [
       "'1'"
      ]
     },
     "execution_count": 6,
     "metadata": {},
     "output_type": "execute_result"
    }
   ],
   "source": [
    "'1\\n'.strip()"
   ]
  },
  {
   "cell_type": "code",
   "execution_count": 7,
   "metadata": {},
   "outputs": [],
   "source": [
    "chr19_num = 0\n",
    "with gzip.open(f'{path}/atac_v1_pbmc_10k_fragments.tsv.gz', 'rb') as abigf:\n",
    "    for line in abigf:\n",
    "        text = line.decode('utf-8').strip()\n",
    "        if not text.endswith('0'):\n",
    "            chr19_num += 1"
   ]
  },
  {
   "cell_type": "code",
   "execution_count": 4,
   "metadata": {},
   "outputs": [
    {
     "data": {
      "text/plain": [
       "8766969"
      ]
     },
     "execution_count": 4,
     "metadata": {},
     "output_type": "execute_result"
    }
   ],
   "source": [
    "chr19_num"
   ]
  },
  {
   "cell_type": "raw",
   "metadata": {},
   "source": [
    "# don't do this\n",
    "atac_csv = pd.read_csv(f'{path}/atac_v1_pbmc_10k_fragments.tsv.gz', sep='\\t', names=['1', '2', '3', '4', '5'])"
   ]
  },
  {
   "cell_type": "markdown",
   "metadata": {},
   "source": [
    "# "
   ]
  },
  {
   "cell_type": "markdown",
   "metadata": {},
   "source": [
    "# "
   ]
  },
  {
   "cell_type": "markdown",
   "metadata": {},
   "source": [
    "# hahah.loom"
   ]
  },
  {
   "cell_type": "code",
   "execution_count": 3,
   "metadata": {},
   "outputs": [
    {
     "name": "stdout",
     "output_type": "stream",
     "text": [
      "\n",
      "group /col_attrs 14 members\n",
      "/col_attrs/CellID (9432,) |S22\n",
      "/col_attrs/ClusterID (9432,) int32\n",
      "/col_attrs/ClusterName (9432,) |S22\n",
      "/col_attrs/RNA_snn_res_0_4 (9432,) |S2\n",
      "/col_attrs/celltype (9432,) |S22\n",
      "/col_attrs/nCount_RNA (9432,) float32\n",
      "/col_attrs/nFeature_RNA (9432,) int32\n",
      "/col_attrs/observed (9432,) float32\n",
      "/col_attrs/orig_ident (9432,) |S7\n",
      "/col_attrs/pca_cell_embeddings (9432, 100) float64\n",
      "/col_attrs/percent_mito (9432,) float32\n",
      "/col_attrs/simulated (9432,) float32\n",
      "/col_attrs/tsne_cell_embeddings (9432, 2) float64\n",
      "/col_attrs/umap_cell_embeddings (9432, 2) float64\n",
      "\n",
      "group /col_graphs 2 members\n",
      "\n",
      "group /col_graphs/RNA_nn 3 members\n",
      "/col_graphs/RNA_nn/a (282960,) int32\n",
      "/col_graphs/RNA_nn/b (282960,) int32\n",
      "/col_graphs/RNA_nn/w (282960,) float64\n",
      "\n",
      "group /col_graphs/RNA_snn 3 members\n",
      "/col_graphs/RNA_snn/a (1257370,) int32\n",
      "/col_graphs/RNA_snn/b (1257370,) int32\n",
      "/col_graphs/RNA_snn/w (1257370,) float64\n",
      "\n",
      "group /layers 2 members\n",
      "/layers/norm_data (19089, 9432) float64\n",
      "/layers/scale_data (19089, 9432) float64\n",
      "/matrix (19089, 9432) float64\n",
      "\n",
      "group /row_attrs 7 members\n",
      "/row_attrs/Gene (19089,) |S16\n",
      "/row_attrs/Selected (19089,) float32\n",
      "/row_attrs/mean (19089,) float32\n",
      "/row_attrs/pca_feature_loadings (19089, 100) float64\n",
      "/row_attrs/variance (19089,) float32\n",
      "/row_attrs/variance_expected (19089,) float32\n",
      "/row_attrs/variance_standardized (19089,) float32\n",
      "\n",
      "group /row_graphs 0 members\n"
     ]
    }
   ],
   "source": [
    "visit_h5('hahah.loom')"
   ]
  },
  {
   "cell_type": "code",
   "execution_count": 4,
   "metadata": {},
   "outputs": [
    {
     "name": "stdout",
     "output_type": "stream",
     "text": [
      "CellID\n",
      "ClusterID\n",
      "ClusterName\n",
      "RNA_snn_res_0_4\n",
      "celltype\n",
      "nCount_RNA\n",
      "nFeature_RNA\n",
      "observed\n",
      "orig_ident\n",
      "pca_cell_embeddings\n",
      "percent_mito\n",
      "simulated\n",
      "tsne_cell_embeddings\n",
      "umap_cell_embeddings\n"
     ]
    }
   ],
   "source": [
    "filename = 'hahah.loom'\n",
    "with h5py.File(f'{path}/{filename}') as f:\n",
    "    print(*list(f['col_attrs'].keys()), sep='\\n')"
   ]
  },
  {
   "cell_type": "code",
   "execution_count": 5,
   "metadata": {},
   "outputs": [],
   "source": [
    "with h5py.File(f'{path}/{filename}') as f:\n",
    "    rna_meta = dict(\n",
    "        cell=pd.DataFrame({**f['col_attrs']}),\n",
    "        gene=pd.DataFrame({**f['row_attrs']})\n",
    "    )"
   ]
  },
  {
   "cell_type": "code",
   "execution_count": 6,
   "metadata": {},
   "outputs": [
    {
     "data": {
      "text/html": [
       "<div>\n",
       "<style scoped>\n",
       "    .dataframe tbody tr th:only-of-type {\n",
       "        vertical-align: middle;\n",
       "    }\n",
       "\n",
       "    .dataframe tbody tr th {\n",
       "        vertical-align: top;\n",
       "    }\n",
       "\n",
       "    .dataframe thead th {\n",
       "        text-align: right;\n",
       "    }\n",
       "</style>\n",
       "<table border=\"1\" class=\"dataframe\">\n",
       "  <thead>\n",
       "    <tr style=\"text-align: right;\">\n",
       "      <th></th>\n",
       "      <th>Gene</th>\n",
       "      <th>Selected</th>\n",
       "      <th>mean</th>\n",
       "      <th>pca_feature_loadings</th>\n",
       "      <th>variance</th>\n",
       "      <th>variance_expected</th>\n",
       "      <th>variance_standardized</th>\n",
       "    </tr>\n",
       "  </thead>\n",
       "  <tbody>\n",
       "    <tr>\n",
       "      <th>0</th>\n",
       "      <td>b'AL627309.1'</td>\n",
       "      <td>0.0</td>\n",
       "      <td>0.005407</td>\n",
       "      <td>(nan, nan, nan, nan, nan, nan, nan, nan, nan, ...</td>\n",
       "      <td>0.005591</td>\n",
       "      <td>0.006066</td>\n",
       "      <td>0.921587</td>\n",
       "    </tr>\n",
       "    <tr>\n",
       "      <th>1</th>\n",
       "      <td>b'AL669831.5'</td>\n",
       "      <td>0.0</td>\n",
       "      <td>0.062341</td>\n",
       "      <td>(nan, nan, nan, nan, nan, nan, nan, nan, nan, ...</td>\n",
       "      <td>0.069064</td>\n",
       "      <td>0.071298</td>\n",
       "      <td>0.968670</td>\n",
       "    </tr>\n",
       "    <tr>\n",
       "      <th>2</th>\n",
       "      <td>b'FAM87B'</td>\n",
       "      <td>1.0</td>\n",
       "      <td>0.001060</td>\n",
       "      <td>(0.0006424844441527324, -4.710500288135822e-05...</td>\n",
       "      <td>0.001271</td>\n",
       "      <td>0.001126</td>\n",
       "      <td>1.129509</td>\n",
       "    </tr>\n",
       "    <tr>\n",
       "      <th>3</th>\n",
       "      <td>b'LINC00115'</td>\n",
       "      <td>0.0</td>\n",
       "      <td>0.029898</td>\n",
       "      <td>(nan, nan, nan, nan, nan, nan, nan, nan, nan, ...</td>\n",
       "      <td>0.032825</td>\n",
       "      <td>0.034802</td>\n",
       "      <td>0.943188</td>\n",
       "    </tr>\n",
       "    <tr>\n",
       "      <th>4</th>\n",
       "      <td>b'FAM41C'</td>\n",
       "      <td>0.0</td>\n",
       "      <td>0.027778</td>\n",
       "      <td>(nan, nan, nan, nan, nan, nan, nan, nan, nan, ...</td>\n",
       "      <td>0.028069</td>\n",
       "      <td>0.032381</td>\n",
       "      <td>0.866844</td>\n",
       "    </tr>\n",
       "    <tr>\n",
       "      <th>...</th>\n",
       "      <td>...</td>\n",
       "      <td>...</td>\n",
       "      <td>...</td>\n",
       "      <td>...</td>\n",
       "      <td>...</td>\n",
       "      <td>...</td>\n",
       "      <td>...</td>\n",
       "    </tr>\n",
       "    <tr>\n",
       "      <th>19084</th>\n",
       "      <td>b'AC011043.1'</td>\n",
       "      <td>0.0</td>\n",
       "      <td>0.006785</td>\n",
       "      <td>(nan, nan, nan, nan, nan, nan, nan, nan, nan, ...</td>\n",
       "      <td>0.007588</td>\n",
       "      <td>0.007685</td>\n",
       "      <td>0.987457</td>\n",
       "    </tr>\n",
       "    <tr>\n",
       "      <th>19085</th>\n",
       "      <td>b'AL592183.1'</td>\n",
       "      <td>0.0</td>\n",
       "      <td>0.002226</td>\n",
       "      <td>(nan, nan, nan, nan, nan, nan, nan, nan, nan, ...</td>\n",
       "      <td>0.002222</td>\n",
       "      <td>0.002429</td>\n",
       "      <td>0.914541</td>\n",
       "    </tr>\n",
       "    <tr>\n",
       "      <th>19086</th>\n",
       "      <td>b'AC007325.4'</td>\n",
       "      <td>0.0</td>\n",
       "      <td>0.021628</td>\n",
       "      <td>(nan, nan, nan, nan, nan, nan, nan, nan, nan, ...</td>\n",
       "      <td>0.022435</td>\n",
       "      <td>0.025309</td>\n",
       "      <td>0.886446</td>\n",
       "    </tr>\n",
       "    <tr>\n",
       "      <th>19087</th>\n",
       "      <td>b'AL354822.1'</td>\n",
       "      <td>0.0</td>\n",
       "      <td>0.026506</td>\n",
       "      <td>(nan, nan, nan, nan, nan, nan, nan, nan, nan, ...</td>\n",
       "      <td>0.027502</td>\n",
       "      <td>0.030934</td>\n",
       "      <td>0.889072</td>\n",
       "    </tr>\n",
       "    <tr>\n",
       "      <th>19088</th>\n",
       "      <td>b'AC240274.1'</td>\n",
       "      <td>0.0</td>\n",
       "      <td>0.008694</td>\n",
       "      <td>(nan, nan, nan, nan, nan, nan, nan, nan, nan, ...</td>\n",
       "      <td>0.009043</td>\n",
       "      <td>0.009954</td>\n",
       "      <td>0.908517</td>\n",
       "    </tr>\n",
       "  </tbody>\n",
       "</table>\n",
       "<p>19089 rows × 7 columns</p>\n",
       "</div>"
      ],
      "text/plain": [
       "                Gene  Selected      mean  \\\n",
       "0      b'AL627309.1'       0.0  0.005407   \n",
       "1      b'AL669831.5'       0.0  0.062341   \n",
       "2          b'FAM87B'       1.0  0.001060   \n",
       "3       b'LINC00115'       0.0  0.029898   \n",
       "4          b'FAM41C'       0.0  0.027778   \n",
       "...              ...       ...       ...   \n",
       "19084  b'AC011043.1'       0.0  0.006785   \n",
       "19085  b'AL592183.1'       0.0  0.002226   \n",
       "19086  b'AC007325.4'       0.0  0.021628   \n",
       "19087  b'AL354822.1'       0.0  0.026506   \n",
       "19088  b'AC240274.1'       0.0  0.008694   \n",
       "\n",
       "                                    pca_feature_loadings  variance  \\\n",
       "0      (nan, nan, nan, nan, nan, nan, nan, nan, nan, ...  0.005591   \n",
       "1      (nan, nan, nan, nan, nan, nan, nan, nan, nan, ...  0.069064   \n",
       "2      (0.0006424844441527324, -4.710500288135822e-05...  0.001271   \n",
       "3      (nan, nan, nan, nan, nan, nan, nan, nan, nan, ...  0.032825   \n",
       "4      (nan, nan, nan, nan, nan, nan, nan, nan, nan, ...  0.028069   \n",
       "...                                                  ...       ...   \n",
       "19084  (nan, nan, nan, nan, nan, nan, nan, nan, nan, ...  0.007588   \n",
       "19085  (nan, nan, nan, nan, nan, nan, nan, nan, nan, ...  0.002222   \n",
       "19086  (nan, nan, nan, nan, nan, nan, nan, nan, nan, ...  0.022435   \n",
       "19087  (nan, nan, nan, nan, nan, nan, nan, nan, nan, ...  0.027502   \n",
       "19088  (nan, nan, nan, nan, nan, nan, nan, nan, nan, ...  0.009043   \n",
       "\n",
       "       variance_expected  variance_standardized  \n",
       "0               0.006066               0.921587  \n",
       "1               0.071298               0.968670  \n",
       "2               0.001126               1.129509  \n",
       "3               0.034802               0.943188  \n",
       "4               0.032381               0.866844  \n",
       "...                  ...                    ...  \n",
       "19084           0.007685               0.987457  \n",
       "19085           0.002429               0.914541  \n",
       "19086           0.025309               0.886446  \n",
       "19087           0.030934               0.889072  \n",
       "19088           0.009954               0.908517  \n",
       "\n",
       "[19089 rows x 7 columns]"
      ]
     },
     "execution_count": 6,
     "metadata": {},
     "output_type": "execute_result"
    }
   ],
   "source": [
    "rna_meta['gene']"
   ]
  },
  {
   "cell_type": "code",
   "execution_count": 7,
   "metadata": {},
   "outputs": [
    {
     "data": {
      "text/html": [
       "<div>\n",
       "<style scoped>\n",
       "    .dataframe tbody tr th:only-of-type {\n",
       "        vertical-align: middle;\n",
       "    }\n",
       "\n",
       "    .dataframe tbody tr th {\n",
       "        vertical-align: top;\n",
       "    }\n",
       "\n",
       "    .dataframe thead th {\n",
       "        text-align: right;\n",
       "    }\n",
       "</style>\n",
       "<table border=\"1\" class=\"dataframe\">\n",
       "  <thead>\n",
       "    <tr style=\"text-align: right;\">\n",
       "      <th></th>\n",
       "      <th>CellID</th>\n",
       "      <th>ClusterID</th>\n",
       "      <th>ClusterName</th>\n",
       "      <th>RNA_snn_res_0_4</th>\n",
       "      <th>celltype</th>\n",
       "      <th>nCount_RNA</th>\n",
       "      <th>nFeature_RNA</th>\n",
       "      <th>observed</th>\n",
       "      <th>orig_ident</th>\n",
       "      <th>pca_cell_embeddings</th>\n",
       "      <th>percent_mito</th>\n",
       "      <th>simulated</th>\n",
       "      <th>tsne_cell_embeddings</th>\n",
       "      <th>umap_cell_embeddings</th>\n",
       "    </tr>\n",
       "  </thead>\n",
       "  <tbody>\n",
       "    <tr>\n",
       "      <th>0</th>\n",
       "      <td>b'rna_AAACCCAAGCGCCCAT-1'</td>\n",
       "      <td>2</td>\n",
       "      <td>b'CD4 Memory'</td>\n",
       "      <td>b'1'</td>\n",
       "      <td>b'CD4 Memory'</td>\n",
       "      <td>2204.0</td>\n",
       "      <td>1087</td>\n",
       "      <td>0.035813</td>\n",
       "      <td>b'10x_RNA'</td>\n",
       "      <td>(-10.239039551340541, -6.22909326104028, -2.81...</td>\n",
       "      <td>0.023593</td>\n",
       "      <td>0.438202</td>\n",
       "      <td>(0.357567688986562, -17.49437017876565)</td>\n",
       "      <td>(4.938107467916076, 1.3518887705641003)</td>\n",
       "    </tr>\n",
       "    <tr>\n",
       "      <th>1</th>\n",
       "      <td>b'rna_AAACCCACAGAGTTGG-1'</td>\n",
       "      <td>1</td>\n",
       "      <td>b'CD14+ Monocytes'</td>\n",
       "      <td>b'0'</td>\n",
       "      <td>b'CD14+ Monocytes'</td>\n",
       "      <td>5884.0</td>\n",
       "      <td>1836</td>\n",
       "      <td>0.019227</td>\n",
       "      <td>b'10x_RNA'</td>\n",
       "      <td>(17.016908754428954, -1.6987142130219821, -4.5...</td>\n",
       "      <td>0.107580</td>\n",
       "      <td>0.101796</td>\n",
       "      <td>(4.388103252807177, 30.04555985388053)</td>\n",
       "      <td>(-12.057811759684022, 8.665475959284803)</td>\n",
       "    </tr>\n",
       "    <tr>\n",
       "      <th>2</th>\n",
       "      <td>b'rna_AAACCCACAGGTATGG-1'</td>\n",
       "      <td>6</td>\n",
       "      <td>b'NK cell'</td>\n",
       "      <td>b'5'</td>\n",
       "      <td>b'NK dim'</td>\n",
       "      <td>5530.0</td>\n",
       "      <td>2216</td>\n",
       "      <td>0.005448</td>\n",
       "      <td>b'10x_RNA'</td>\n",
       "      <td>(-8.417015200426153, -14.352449325987171, 21.6...</td>\n",
       "      <td>0.078481</td>\n",
       "      <td>0.139280</td>\n",
       "      <td>(30.94372166026771, -20.184126302257965)</td>\n",
       "      <td>(4.968583084371154, 8.190487021906874)</td>\n",
       "    </tr>\n",
       "    <tr>\n",
       "      <th>3</th>\n",
       "      <td>b'rna_AAACCCACATAGTCAC-1'</td>\n",
       "      <td>4</td>\n",
       "      <td>b'pre-B cell'</td>\n",
       "      <td>b'3'</td>\n",
       "      <td>b'pre-B cell'</td>\n",
       "      <td>5106.0</td>\n",
       "      <td>1615</td>\n",
       "      <td>0.014276</td>\n",
       "      <td>b'10x_RNA'</td>\n",
       "      <td>(-10.554548769074382, 18.764518497689238, 2.52...</td>\n",
       "      <td>0.108304</td>\n",
       "      <td>0.494949</td>\n",
       "      <td>(-26.414658193397358, 11.16539002039044)</td>\n",
       "      <td>(7.6155118716026, -18.258239870564438)</td>\n",
       "    </tr>\n",
       "    <tr>\n",
       "      <th>4</th>\n",
       "      <td>b'rna_AAACCCACATCCAATG-1'</td>\n",
       "      <td>6</td>\n",
       "      <td>b'NK cell'</td>\n",
       "      <td>b'5'</td>\n",
       "      <td>b'NK bright'</td>\n",
       "      <td>4572.0</td>\n",
       "      <td>1800</td>\n",
       "      <td>0.053857</td>\n",
       "      <td>b'10x_RNA'</td>\n",
       "      <td>(-10.724398993091782, -10.283306761358604, 14....</td>\n",
       "      <td>0.089895</td>\n",
       "      <td>0.139280</td>\n",
       "      <td>(23.208112693328722, -27.101728641188718)</td>\n",
       "      <td>(6.6997308504844355, 8.463148231013319)</td>\n",
       "    </tr>\n",
       "    <tr>\n",
       "      <th>...</th>\n",
       "      <td>...</td>\n",
       "      <td>...</td>\n",
       "      <td>...</td>\n",
       "      <td>...</td>\n",
       "      <td>...</td>\n",
       "      <td>...</td>\n",
       "      <td>...</td>\n",
       "      <td>...</td>\n",
       "      <td>...</td>\n",
       "      <td>...</td>\n",
       "      <td>...</td>\n",
       "      <td>...</td>\n",
       "      <td>...</td>\n",
       "      <td>...</td>\n",
       "    </tr>\n",
       "    <tr>\n",
       "      <th>9427</th>\n",
       "      <td>b'rna_TTTGTTGGTGCGTCGT-1'</td>\n",
       "      <td>3</td>\n",
       "      <td>b'CD4 Naive'</td>\n",
       "      <td>b'2'</td>\n",
       "      <td>b'CD4 Naive'</td>\n",
       "      <td>5115.0</td>\n",
       "      <td>1336</td>\n",
       "      <td>0.030959</td>\n",
       "      <td>b'10x_RNA'</td>\n",
       "      <td>(-14.042978897696676, -2.6597788539628735, -6....</td>\n",
       "      <td>0.071359</td>\n",
       "      <td>0.255751</td>\n",
       "      <td>(-27.015621178574502, -1.049171380999975)</td>\n",
       "      <td>(1.7605104220176386, -0.12607944537828253)</td>\n",
       "    </tr>\n",
       "    <tr>\n",
       "      <th>9428</th>\n",
       "      <td>b'rna_TTTGTTGGTGTCATGT-1'</td>\n",
       "      <td>1</td>\n",
       "      <td>b'CD14+ Monocytes'</td>\n",
       "      <td>b'0'</td>\n",
       "      <td>b'CD14+ Monocytes'</td>\n",
       "      <td>3937.0</td>\n",
       "      <td>1331</td>\n",
       "      <td>0.098313</td>\n",
       "      <td>b'10x_RNA'</td>\n",
       "      <td>(12.056146037848986, -1.9841227873278102, -4.5...</td>\n",
       "      <td>0.198882</td>\n",
       "      <td>0.043587</td>\n",
       "      <td>(15.808984152943578, 28.042283539442334)</td>\n",
       "      <td>(-10.407382034037049, 9.213014716609022)</td>\n",
       "    </tr>\n",
       "    <tr>\n",
       "      <th>9429</th>\n",
       "      <td>b'rna_TTTGTTGGTTTGAACC-1'</td>\n",
       "      <td>5</td>\n",
       "      <td>b'Double negative T cell'</td>\n",
       "      <td>b'4'</td>\n",
       "      <td>b'Double negative T cell'</td>\n",
       "      <td>4245.0</td>\n",
       "      <td>1401</td>\n",
       "      <td>0.015783</td>\n",
       "      <td>b'10x_RNA'</td>\n",
       "      <td>(-12.976351096158592, -5.293445163243604, -0.2...</td>\n",
       "      <td>0.088339</td>\n",
       "      <td>0.392713</td>\n",
       "      <td>(1.5689140006872606, -38.837554709248856)</td>\n",
       "      <td>(9.241358734395568, -3.861246948735216)</td>\n",
       "    </tr>\n",
       "    <tr>\n",
       "      <th>9430</th>\n",
       "      <td>b'rna_TTTGTTGTCCAAGCCG-1'</td>\n",
       "      <td>2</td>\n",
       "      <td>b'CD4 Memory'</td>\n",
       "      <td>b'1'</td>\n",
       "      <td>b'CD4 Memory'</td>\n",
       "      <td>5600.0</td>\n",
       "      <td>1666</td>\n",
       "      <td>0.068054</td>\n",
       "      <td>b'10x_RNA'</td>\n",
       "      <td>(-13.395353340833484, -5.555892345139001, -4.0...</td>\n",
       "      <td>0.093571</td>\n",
       "      <td>0.392713</td>\n",
       "      <td>(-11.610576181178597, -19.121071441507382)</td>\n",
       "      <td>(4.348998047139709, -0.34739387561509893)</td>\n",
       "    </tr>\n",
       "    <tr>\n",
       "      <th>9431</th>\n",
       "      <td>b'rna_TTTGTTGTCTTACTGT-1'</td>\n",
       "      <td>2</td>\n",
       "      <td>b'CD4 Memory'</td>\n",
       "      <td>b'1'</td>\n",
       "      <td>b'CD4 Memory'</td>\n",
       "      <td>6757.0</td>\n",
       "      <td>1745</td>\n",
       "      <td>0.021207</td>\n",
       "      <td>b'10x_RNA'</td>\n",
       "      <td>(-14.152993602564424, -3.539332867390327, -8.0...</td>\n",
       "      <td>0.076957</td>\n",
       "      <td>0.355433</td>\n",
       "      <td>(-4.388417896242152, -2.7011819058962345)</td>\n",
       "      <td>(2.432667709615295, 1.0548974222974987)</td>\n",
       "    </tr>\n",
       "  </tbody>\n",
       "</table>\n",
       "<p>9432 rows × 14 columns</p>\n",
       "</div>"
      ],
      "text/plain": [
       "                         CellID  ClusterID                ClusterName  \\\n",
       "0     b'rna_AAACCCAAGCGCCCAT-1'          2              b'CD4 Memory'   \n",
       "1     b'rna_AAACCCACAGAGTTGG-1'          1         b'CD14+ Monocytes'   \n",
       "2     b'rna_AAACCCACAGGTATGG-1'          6                 b'NK cell'   \n",
       "3     b'rna_AAACCCACATAGTCAC-1'          4              b'pre-B cell'   \n",
       "4     b'rna_AAACCCACATCCAATG-1'          6                 b'NK cell'   \n",
       "...                         ...        ...                        ...   \n",
       "9427  b'rna_TTTGTTGGTGCGTCGT-1'          3               b'CD4 Naive'   \n",
       "9428  b'rna_TTTGTTGGTGTCATGT-1'          1         b'CD14+ Monocytes'   \n",
       "9429  b'rna_TTTGTTGGTTTGAACC-1'          5  b'Double negative T cell'   \n",
       "9430  b'rna_TTTGTTGTCCAAGCCG-1'          2              b'CD4 Memory'   \n",
       "9431  b'rna_TTTGTTGTCTTACTGT-1'          2              b'CD4 Memory'   \n",
       "\n",
       "     RNA_snn_res_0_4                   celltype  nCount_RNA  nFeature_RNA  \\\n",
       "0               b'1'              b'CD4 Memory'      2204.0          1087   \n",
       "1               b'0'         b'CD14+ Monocytes'      5884.0          1836   \n",
       "2               b'5'                  b'NK dim'      5530.0          2216   \n",
       "3               b'3'              b'pre-B cell'      5106.0          1615   \n",
       "4               b'5'               b'NK bright'      4572.0          1800   \n",
       "...              ...                        ...         ...           ...   \n",
       "9427            b'2'               b'CD4 Naive'      5115.0          1336   \n",
       "9428            b'0'         b'CD14+ Monocytes'      3937.0          1331   \n",
       "9429            b'4'  b'Double negative T cell'      4245.0          1401   \n",
       "9430            b'1'              b'CD4 Memory'      5600.0          1666   \n",
       "9431            b'1'              b'CD4 Memory'      6757.0          1745   \n",
       "\n",
       "      observed  orig_ident                                pca_cell_embeddings  \\\n",
       "0     0.035813  b'10x_RNA'  (-10.239039551340541, -6.22909326104028, -2.81...   \n",
       "1     0.019227  b'10x_RNA'  (17.016908754428954, -1.6987142130219821, -4.5...   \n",
       "2     0.005448  b'10x_RNA'  (-8.417015200426153, -14.352449325987171, 21.6...   \n",
       "3     0.014276  b'10x_RNA'  (-10.554548769074382, 18.764518497689238, 2.52...   \n",
       "4     0.053857  b'10x_RNA'  (-10.724398993091782, -10.283306761358604, 14....   \n",
       "...        ...         ...                                                ...   \n",
       "9427  0.030959  b'10x_RNA'  (-14.042978897696676, -2.6597788539628735, -6....   \n",
       "9428  0.098313  b'10x_RNA'  (12.056146037848986, -1.9841227873278102, -4.5...   \n",
       "9429  0.015783  b'10x_RNA'  (-12.976351096158592, -5.293445163243604, -0.2...   \n",
       "9430  0.068054  b'10x_RNA'  (-13.395353340833484, -5.555892345139001, -4.0...   \n",
       "9431  0.021207  b'10x_RNA'  (-14.152993602564424, -3.539332867390327, -8.0...   \n",
       "\n",
       "      percent_mito  simulated                        tsne_cell_embeddings  \\\n",
       "0         0.023593   0.438202     (0.357567688986562, -17.49437017876565)   \n",
       "1         0.107580   0.101796      (4.388103252807177, 30.04555985388053)   \n",
       "2         0.078481   0.139280    (30.94372166026771, -20.184126302257965)   \n",
       "3         0.108304   0.494949    (-26.414658193397358, 11.16539002039044)   \n",
       "4         0.089895   0.139280   (23.208112693328722, -27.101728641188718)   \n",
       "...            ...        ...                                         ...   \n",
       "9427      0.071359   0.255751   (-27.015621178574502, -1.049171380999975)   \n",
       "9428      0.198882   0.043587    (15.808984152943578, 28.042283539442334)   \n",
       "9429      0.088339   0.392713   (1.5689140006872606, -38.837554709248856)   \n",
       "9430      0.093571   0.392713  (-11.610576181178597, -19.121071441507382)   \n",
       "9431      0.076957   0.355433   (-4.388417896242152, -2.7011819058962345)   \n",
       "\n",
       "                            umap_cell_embeddings  \n",
       "0        (4.938107467916076, 1.3518887705641003)  \n",
       "1       (-12.057811759684022, 8.665475959284803)  \n",
       "2         (4.968583084371154, 8.190487021906874)  \n",
       "3         (7.6155118716026, -18.258239870564438)  \n",
       "4        (6.6997308504844355, 8.463148231013319)  \n",
       "...                                          ...  \n",
       "9427  (1.7605104220176386, -0.12607944537828253)  \n",
       "9428    (-10.407382034037049, 9.213014716609022)  \n",
       "9429     (9.241358734395568, -3.861246948735216)  \n",
       "9430   (4.348998047139709, -0.34739387561509893)  \n",
       "9431     (2.432667709615295, 1.0548974222974987)  \n",
       "\n",
       "[9432 rows x 14 columns]"
      ]
     },
     "execution_count": 7,
     "metadata": {},
     "output_type": "execute_result"
    }
   ],
   "source": [
    "rna_meta['cell']"
   ]
  },
  {
   "cell_type": "raw",
   "metadata": {},
   "source": [
    "# you cannot do this due to RAM reason, because `matrix` is expected to be a sparse one but loomR didn't seem to realize this it was converted to a numpy array.\n",
    "\n",
    "with h5py.File(f'{path}/{filename}') as f:\n",
    "    rna_data = pd.DataFrame(\n",
    "        data=f['matrix'],\n",
    "        index=f['col_attrs/CellID'],\n",
    "        columns=f['row_attrs/Gene']\n",
    "    )\n",
    "    rna_data_scaled = f['layers/scale_data']\n",
    "    rna_data_normed = f['layers/norm_data']"
   ]
  },
  {
   "cell_type": "code",
   "execution_count": 8,
   "metadata": {},
   "outputs": [
    {
     "name": "stdout",
     "output_type": "stream",
     "text": [
      "(10,)\n"
     ]
    },
    {
     "data": {
      "text/plain": [
       "(1, 10)"
      ]
     },
     "execution_count": 8,
     "metadata": {},
     "output_type": "execute_result"
    }
   ],
   "source": [
    "print(np.arange(-5, 5).shape)\n",
    "ss.csr_matrix(np.arange(-5, 5)).shape"
   ]
  },
  {
   "cell_type": "code",
   "execution_count": 9,
   "metadata": {},
   "outputs": [],
   "source": [
    "from itertools import zip_longest\n",
    "\n",
    "def grouper(iterable, n, fillvalue=None):\n",
    "    \"Collect data into fixed-length chunks or blocks\"\n",
    "    # grouper('ABCDEFG', 3, 'x') --> ABC DEF Gxx\"\n",
    "    args = [iter(iterable)] * n\n",
    "    return zip_longest(*args, fillvalue=fillvalue)"
   ]
  },
  {
   "cell_type": "code",
   "execution_count": 10,
   "metadata": {},
   "outputs": [
    {
     "name": "stderr",
     "output_type": "stream",
     "text": [
      "100%|██████████| 10/10 [00:26<00:00,  2.68s/it]\n"
     ]
    }
   ],
   "source": [
    "from tqdm import tqdm\n",
    "\n",
    "with h5py.File(f'{path}/{filename}') as f:\n",
    "    data = f['matrix']\n",
    "    int_data = data.astype('int16')\n",
    "    x = []\n",
    "    for i in tqdm(range(0, data.shape[0], 2000)):\n",
    "        x.append(ss.csr_matrix(int_data[i: 2000 + i]))"
   ]
  },
  {
   "cell_type": "code",
   "execution_count": 11,
   "metadata": {},
   "outputs": [
    {
     "name": "stdout",
     "output_type": "stream",
     "text": [
      "10\n"
     ]
    },
    {
     "data": {
      "text/plain": [
       "(2000, 9432)"
      ]
     },
     "execution_count": 11,
     "metadata": {},
     "output_type": "execute_result"
    }
   ],
   "source": [
    "print(len(x))\n",
    "x[0].shape"
   ]
  },
  {
   "cell_type": "code",
   "execution_count": 12,
   "metadata": {},
   "outputs": [],
   "source": [
    "y = ss.vstack(x)"
   ]
  },
  {
   "cell_type": "code",
   "execution_count": 13,
   "metadata": {},
   "outputs": [],
   "source": [
    "y = y.T"
   ]
  },
  {
   "cell_type": "code",
   "execution_count": 14,
   "metadata": {},
   "outputs": [
    {
     "data": {
      "text/plain": [
       "(9432, 19089)"
      ]
     },
     "execution_count": 14,
     "metadata": {},
     "output_type": "execute_result"
    }
   ],
   "source": [
    "y.shape"
   ]
  },
  {
   "cell_type": "code",
   "execution_count": 16,
   "metadata": {},
   "outputs": [],
   "source": [
    "rna_data = pd.DataFrame.sparse.from_spmatrix(y, index=rna_meta['cell'].CellID, columns=rna_meta['gene'].Gene)\n",
    "rna_data.index = rna_data.index.to_series().str.decode('utf-8')\n",
    "rna_data.columns = rna_data.columns.to_series().str.decode('utf-8')"
   ]
  },
  {
   "cell_type": "code",
   "execution_count": 17,
   "metadata": {},
   "outputs": [
    {
     "data": {
      "text/html": [
       "<div>\n",
       "<style scoped>\n",
       "    .dataframe tbody tr th:only-of-type {\n",
       "        vertical-align: middle;\n",
       "    }\n",
       "\n",
       "    .dataframe tbody tr th {\n",
       "        vertical-align: top;\n",
       "    }\n",
       "\n",
       "    .dataframe thead th {\n",
       "        text-align: right;\n",
       "    }\n",
       "</style>\n",
       "<table border=\"1\" class=\"dataframe\">\n",
       "  <thead>\n",
       "    <tr style=\"text-align: right;\">\n",
       "      <th>Gene</th>\n",
       "      <th>AL627309.1</th>\n",
       "      <th>AL669831.5</th>\n",
       "      <th>FAM87B</th>\n",
       "      <th>LINC00115</th>\n",
       "      <th>FAM41C</th>\n",
       "      <th>AL645608.3</th>\n",
       "      <th>SAMD11</th>\n",
       "      <th>NOC2L</th>\n",
       "      <th>KLHL17</th>\n",
       "      <th>PLEKHN1</th>\n",
       "      <th>...</th>\n",
       "      <th>MT-ND6</th>\n",
       "      <th>MT-CYB</th>\n",
       "      <th>BX004987.1</th>\n",
       "      <th>AC145212.1</th>\n",
       "      <th>MAFIP</th>\n",
       "      <th>AC011043.1</th>\n",
       "      <th>AL592183.1</th>\n",
       "      <th>AC007325.4</th>\n",
       "      <th>AL354822.1</th>\n",
       "      <th>AC240274.1</th>\n",
       "    </tr>\n",
       "    <tr>\n",
       "      <th>CellID</th>\n",
       "      <th></th>\n",
       "      <th></th>\n",
       "      <th></th>\n",
       "      <th></th>\n",
       "      <th></th>\n",
       "      <th></th>\n",
       "      <th></th>\n",
       "      <th></th>\n",
       "      <th></th>\n",
       "      <th></th>\n",
       "      <th></th>\n",
       "      <th></th>\n",
       "      <th></th>\n",
       "      <th></th>\n",
       "      <th></th>\n",
       "      <th></th>\n",
       "      <th></th>\n",
       "      <th></th>\n",
       "      <th></th>\n",
       "      <th></th>\n",
       "      <th></th>\n",
       "    </tr>\n",
       "  </thead>\n",
       "  <tbody>\n",
       "    <tr>\n",
       "      <th>rna_AAACCCAAGCGCCCAT-1</th>\n",
       "      <td>0</td>\n",
       "      <td>0</td>\n",
       "      <td>0</td>\n",
       "      <td>0</td>\n",
       "      <td>0</td>\n",
       "      <td>0</td>\n",
       "      <td>0</td>\n",
       "      <td>0</td>\n",
       "      <td>0</td>\n",
       "      <td>0</td>\n",
       "      <td>...</td>\n",
       "      <td>0</td>\n",
       "      <td>1</td>\n",
       "      <td>0</td>\n",
       "      <td>0</td>\n",
       "      <td>0</td>\n",
       "      <td>0</td>\n",
       "      <td>0</td>\n",
       "      <td>0</td>\n",
       "      <td>0</td>\n",
       "      <td>0</td>\n",
       "    </tr>\n",
       "    <tr>\n",
       "      <th>rna_AAACCCACAGAGTTGG-1</th>\n",
       "      <td>0</td>\n",
       "      <td>0</td>\n",
       "      <td>0</td>\n",
       "      <td>0</td>\n",
       "      <td>0</td>\n",
       "      <td>0</td>\n",
       "      <td>0</td>\n",
       "      <td>0</td>\n",
       "      <td>0</td>\n",
       "      <td>0</td>\n",
       "      <td>...</td>\n",
       "      <td>0</td>\n",
       "      <td>44</td>\n",
       "      <td>0</td>\n",
       "      <td>0</td>\n",
       "      <td>0</td>\n",
       "      <td>0</td>\n",
       "      <td>0</td>\n",
       "      <td>0</td>\n",
       "      <td>0</td>\n",
       "      <td>0</td>\n",
       "    </tr>\n",
       "    <tr>\n",
       "      <th>rna_AAACCCACAGGTATGG-1</th>\n",
       "      <td>0</td>\n",
       "      <td>0</td>\n",
       "      <td>0</td>\n",
       "      <td>0</td>\n",
       "      <td>0</td>\n",
       "      <td>0</td>\n",
       "      <td>0</td>\n",
       "      <td>1</td>\n",
       "      <td>0</td>\n",
       "      <td>0</td>\n",
       "      <td>...</td>\n",
       "      <td>1</td>\n",
       "      <td>31</td>\n",
       "      <td>0</td>\n",
       "      <td>0</td>\n",
       "      <td>0</td>\n",
       "      <td>0</td>\n",
       "      <td>0</td>\n",
       "      <td>0</td>\n",
       "      <td>0</td>\n",
       "      <td>0</td>\n",
       "    </tr>\n",
       "    <tr>\n",
       "      <th>rna_AAACCCACATAGTCAC-1</th>\n",
       "      <td>0</td>\n",
       "      <td>0</td>\n",
       "      <td>0</td>\n",
       "      <td>0</td>\n",
       "      <td>0</td>\n",
       "      <td>0</td>\n",
       "      <td>0</td>\n",
       "      <td>1</td>\n",
       "      <td>0</td>\n",
       "      <td>0</td>\n",
       "      <td>...</td>\n",
       "      <td>1</td>\n",
       "      <td>37</td>\n",
       "      <td>0</td>\n",
       "      <td>0</td>\n",
       "      <td>0</td>\n",
       "      <td>0</td>\n",
       "      <td>0</td>\n",
       "      <td>0</td>\n",
       "      <td>0</td>\n",
       "      <td>0</td>\n",
       "    </tr>\n",
       "    <tr>\n",
       "      <th>rna_AAACCCACATCCAATG-1</th>\n",
       "      <td>0</td>\n",
       "      <td>0</td>\n",
       "      <td>0</td>\n",
       "      <td>0</td>\n",
       "      <td>0</td>\n",
       "      <td>0</td>\n",
       "      <td>0</td>\n",
       "      <td>0</td>\n",
       "      <td>0</td>\n",
       "      <td>0</td>\n",
       "      <td>...</td>\n",
       "      <td>1</td>\n",
       "      <td>24</td>\n",
       "      <td>0</td>\n",
       "      <td>0</td>\n",
       "      <td>0</td>\n",
       "      <td>0</td>\n",
       "      <td>0</td>\n",
       "      <td>0</td>\n",
       "      <td>1</td>\n",
       "      <td>0</td>\n",
       "    </tr>\n",
       "  </tbody>\n",
       "</table>\n",
       "<p>5 rows × 19089 columns</p>\n",
       "</div>"
      ],
      "text/plain": [
       "Gene                    AL627309.1  AL669831.5  FAM87B  LINC00115  FAM41C  \\\n",
       "CellID                                                                      \n",
       "rna_AAACCCAAGCGCCCAT-1           0           0       0          0       0   \n",
       "rna_AAACCCACAGAGTTGG-1           0           0       0          0       0   \n",
       "rna_AAACCCACAGGTATGG-1           0           0       0          0       0   \n",
       "rna_AAACCCACATAGTCAC-1           0           0       0          0       0   \n",
       "rna_AAACCCACATCCAATG-1           0           0       0          0       0   \n",
       "\n",
       "Gene                    AL645608.3  SAMD11  NOC2L  KLHL17  PLEKHN1  ...  \\\n",
       "CellID                                                              ...   \n",
       "rna_AAACCCAAGCGCCCAT-1           0       0      0       0        0  ...   \n",
       "rna_AAACCCACAGAGTTGG-1           0       0      0       0        0  ...   \n",
       "rna_AAACCCACAGGTATGG-1           0       0      1       0        0  ...   \n",
       "rna_AAACCCACATAGTCAC-1           0       0      1       0        0  ...   \n",
       "rna_AAACCCACATCCAATG-1           0       0      0       0        0  ...   \n",
       "\n",
       "Gene                    MT-ND6  MT-CYB  BX004987.1  AC145212.1  MAFIP  \\\n",
       "CellID                                                                  \n",
       "rna_AAACCCAAGCGCCCAT-1       0       1           0           0      0   \n",
       "rna_AAACCCACAGAGTTGG-1       0      44           0           0      0   \n",
       "rna_AAACCCACAGGTATGG-1       1      31           0           0      0   \n",
       "rna_AAACCCACATAGTCAC-1       1      37           0           0      0   \n",
       "rna_AAACCCACATCCAATG-1       1      24           0           0      0   \n",
       "\n",
       "Gene                    AC011043.1  AL592183.1  AC007325.4  AL354822.1  \\\n",
       "CellID                                                                   \n",
       "rna_AAACCCAAGCGCCCAT-1           0           0           0           0   \n",
       "rna_AAACCCACAGAGTTGG-1           0           0           0           0   \n",
       "rna_AAACCCACAGGTATGG-1           0           0           0           0   \n",
       "rna_AAACCCACATAGTCAC-1           0           0           0           0   \n",
       "rna_AAACCCACATCCAATG-1           0           0           0           1   \n",
       "\n",
       "Gene                    AC240274.1  \n",
       "CellID                              \n",
       "rna_AAACCCAAGCGCCCAT-1           0  \n",
       "rna_AAACCCACAGAGTTGG-1           0  \n",
       "rna_AAACCCACAGGTATGG-1           0  \n",
       "rna_AAACCCACATAGTCAC-1           0  \n",
       "rna_AAACCCACATCCAATG-1           0  \n",
       "\n",
       "[5 rows x 19089 columns]"
      ]
     },
     "execution_count": 17,
     "metadata": {},
     "output_type": "execute_result"
    }
   ],
   "source": [
    "rna_data.head()"
   ]
  },
  {
   "cell_type": "code",
   "execution_count": 18,
   "metadata": {},
   "outputs": [],
   "source": [
    "count_rna = rna_data.sum(axis=1)"
   ]
  },
  {
   "cell_type": "code",
   "execution_count": 19,
   "metadata": {},
   "outputs": [
    {
     "data": {
      "text/plain": [
       "True"
      ]
     },
     "execution_count": 19,
     "metadata": {},
     "output_type": "execute_result"
    }
   ],
   "source": [
    "all(i == j for i, j in zip(rna_meta['cell'].nCount_RNA, count_rna))"
   ]
  },
  {
   "cell_type": "code",
   "execution_count": 20,
   "metadata": {},
   "outputs": [],
   "source": [
    "feature_rna = (rna_data != 0).sum(axis=1)"
   ]
  },
  {
   "cell_type": "code",
   "execution_count": 21,
   "metadata": {},
   "outputs": [
    {
     "data": {
      "text/plain": [
       "True"
      ]
     },
     "execution_count": 21,
     "metadata": {},
     "output_type": "execute_result"
    }
   ],
   "source": [
    "all(i == j for i, j in zip(rna_meta['cell'].nFeature_RNA, feature_rna))"
   ]
  },
  {
   "cell_type": "code",
   "execution_count": null,
   "metadata": {},
   "outputs": [],
   "source": []
  },
  {
   "cell_type": "code",
   "execution_count": 74,
   "metadata": {},
   "outputs": [],
   "source": [
    "umap1, umap2 = zip(*rna_meta['cell'].umap_cell_embeddings.values)\n",
    "rna_meta['cell']['umap1'] = umap1\n",
    "rna_meta['cell']['umap2'] = umap2"
   ]
  },
  {
   "cell_type": "code",
   "execution_count": 84,
   "metadata": {},
   "outputs": [
    {
     "data": {
      "text/plain": [
       "<AxesSubplot:xlabel='umap1', ylabel='umap2'>"
      ]
     },
     "execution_count": 84,
     "metadata": {},
     "output_type": "execute_result"
    },
    {
     "data": {
      "image/png": "[encoded data removed]",
      "text/plain": [
       "<Figure size 432x288 with 1 Axes>"
      ]
     },
     "metadata": {
      "needs_background": "light"
     },
     "output_type": "display_data"
    }
   ],
   "source": [
    "sns.scatterplot(data=rna_meta['cell'], x='umap1', y='umap2', s=1)"
   ]
  },
  {
   "cell_type": "code",
   "execution_count": 67,
   "metadata": {},
   "outputs": [
    {
     "data": {
      "text/plain": [
       "(9432, 9432)"
      ]
     },
     "execution_count": 67,
     "metadata": {},
     "output_type": "execute_result"
    }
   ],
   "source": [
    "len(umap1), len(umap2)"
   ]
  },
  {
   "cell_type": "code",
   "execution_count": 54,
   "metadata": {},
   "outputs": [
    {
     "data": {
      "text/plain": [
       "((4.938107467916076, 1.3518887705641003),)"
      ]
     },
     "execution_count": 54,
     "metadata": {},
     "output_type": "execute_result"
    }
   ],
   "source": [
    "b"
   ]
  },
  {
   "cell_type": "code",
   "execution_count": 26,
   "metadata": {},
   "outputs": [
    {
     "data": {
      "text/html": [
       "<div>\n",
       "<style scoped>\n",
       "    .dataframe tbody tr th:only-of-type {\n",
       "        vertical-align: middle;\n",
       "    }\n",
       "\n",
       "    .dataframe tbody tr th {\n",
       "        vertical-align: top;\n",
       "    }\n",
       "\n",
       "    .dataframe thead th {\n",
       "        text-align: right;\n",
       "    }\n",
       "</style>\n",
       "<table border=\"1\" class=\"dataframe\">\n",
       "  <thead>\n",
       "    <tr style=\"text-align: right;\">\n",
       "      <th></th>\n",
       "      <th>Gene</th>\n",
       "      <th>Selected</th>\n",
       "      <th>mean</th>\n",
       "      <th>pca_feature_loadings</th>\n",
       "      <th>variance</th>\n",
       "      <th>variance_expected</th>\n",
       "      <th>variance_standardized</th>\n",
       "    </tr>\n",
       "  </thead>\n",
       "  <tbody>\n",
       "    <tr>\n",
       "      <th>514</th>\n",
       "      <td>b'MYCBP'</td>\n",
       "      <td>0.0</td>\n",
       "      <td>0.134542</td>\n",
       "      <td>(nan, nan, nan, nan, nan, nan, nan, nan, nan, ...</td>\n",
       "      <td>0.145718</td>\n",
       "      <td>0.157249</td>\n",
       "      <td>0.926671</td>\n",
       "    </tr>\n",
       "    <tr>\n",
       "      <th>528</th>\n",
       "      <td>b'MYCL'</td>\n",
       "      <td>1.0</td>\n",
       "      <td>0.155852</td>\n",
       "      <td>(0.02705160885095213, 0.002109840026997199, 0....</td>\n",
       "      <td>0.229339</td>\n",
       "      <td>0.183088</td>\n",
       "      <td>1.252615</td>\n",
       "    </tr>\n",
       "    <tr>\n",
       "      <th>2010</th>\n",
       "      <td>b'MYCN'</td>\n",
       "      <td>1.0</td>\n",
       "      <td>0.000530</td>\n",
       "      <td>(-0.0001584568806214149, -0.000265418464237228...</td>\n",
       "      <td>0.000742</td>\n",
       "      <td>0.000547</td>\n",
       "      <td>1.356136</td>\n",
       "    </tr>\n",
       "    <tr>\n",
       "      <th>6654</th>\n",
       "      <td>b'MYCT1'</td>\n",
       "      <td>1.0</td>\n",
       "      <td>0.002014</td>\n",
       "      <td>(0.00023781756879499936, 0.0001622022934740184...</td>\n",
       "      <td>0.004555</td>\n",
       "      <td>0.002193</td>\n",
       "      <td>1.869349</td>\n",
       "    </tr>\n",
       "    <tr>\n",
       "      <th>8744</th>\n",
       "      <td>b'MYC'</td>\n",
       "      <td>1.0</td>\n",
       "      <td>0.388253</td>\n",
       "      <td>(-0.015533098776969897, -0.004508989621225003,...</td>\n",
       "      <td>0.654885</td>\n",
       "      <td>0.518722</td>\n",
       "      <td>1.262496</td>\n",
       "    </tr>\n",
       "    <tr>\n",
       "      <th>12555</th>\n",
       "      <td>b'MYCBP2'</td>\n",
       "      <td>0.0</td>\n",
       "      <td>1.118003</td>\n",
       "      <td>(nan, nan, nan, nan, nan, nan, nan, nan, nan, ...</td>\n",
       "      <td>1.635634</td>\n",
       "      <td>2.090932</td>\n",
       "      <td>0.782251</td>\n",
       "    </tr>\n",
       "    <tr>\n",
       "      <th>15740</th>\n",
       "      <td>b'MYCBPAP'</td>\n",
       "      <td>0.0</td>\n",
       "      <td>0.005831</td>\n",
       "      <td>(nan, nan, nan, nan, nan, nan, nan, nan, nan, ...</td>\n",
       "      <td>0.006222</td>\n",
       "      <td>0.006563</td>\n",
       "      <td>0.947992</td>\n",
       "    </tr>\n",
       "  </tbody>\n",
       "</table>\n",
       "</div>"
      ],
      "text/plain": [
       "             Gene  Selected      mean  \\\n",
       "514      b'MYCBP'       0.0  0.134542   \n",
       "528       b'MYCL'       1.0  0.155852   \n",
       "2010      b'MYCN'       1.0  0.000530   \n",
       "6654     b'MYCT1'       1.0  0.002014   \n",
       "8744       b'MYC'       1.0  0.388253   \n",
       "12555   b'MYCBP2'       0.0  1.118003   \n",
       "15740  b'MYCBPAP'       0.0  0.005831   \n",
       "\n",
       "                                    pca_feature_loadings  variance  \\\n",
       "514    (nan, nan, nan, nan, nan, nan, nan, nan, nan, ...  0.145718   \n",
       "528    (0.02705160885095213, 0.002109840026997199, 0....  0.229339   \n",
       "2010   (-0.0001584568806214149, -0.000265418464237228...  0.000742   \n",
       "6654   (0.00023781756879499936, 0.0001622022934740184...  0.004555   \n",
       "8744   (-0.015533098776969897, -0.004508989621225003,...  0.654885   \n",
       "12555  (nan, nan, nan, nan, nan, nan, nan, nan, nan, ...  1.635634   \n",
       "15740  (nan, nan, nan, nan, nan, nan, nan, nan, nan, ...  0.006222   \n",
       "\n",
       "       variance_expected  variance_standardized  \n",
       "514             0.157249               0.926671  \n",
       "528             0.183088               1.252615  \n",
       "2010            0.000547               1.356136  \n",
       "6654            0.002193               1.869349  \n",
       "8744            0.518722               1.262496  \n",
       "12555           2.090932               0.782251  \n",
       "15740           0.006563               0.947992  "
      ]
     },
     "execution_count": 26,
     "metadata": {},
     "output_type": "execute_result"
    }
   ],
   "source": [
    "rna_meta['gene'][rna_meta['gene'].Gene.str.decode('utf-8').str.contains('MYC')]"
   ]
  },
  {
   "cell_type": "code",
   "execution_count": 41,
   "metadata": {},
   "outputs": [
    {
     "data": {
      "text/plain": [
       "[]"
      ]
     },
     "execution_count": 41,
     "metadata": {},
     "output_type": "execute_result"
    }
   ],
   "source": [
    "rna = pd.HDFStore(f'{path}/{filename}')\n",
    "rna.keys()\n",
    "# Pandas only knows HDF produced by itself."
   ]
  },
  {
   "cell_type": "code",
   "execution_count": 52,
   "metadata": {},
   "outputs": [
    {
     "name": "stdout",
     "output_type": "stream",
     "text": [
      "Collecting h5sparse\n",
      "  Downloading h5sparse-0.1.0-py2.py3-none-any.whl (6.1 kB)\n",
      "Requirement already satisfied: scipy in /opt/conda/lib/python3.8/site-packages (from h5sparse) (1.5.3)\n",
      "Requirement already satisfied: numpy in /opt/conda/lib/python3.8/site-packages (from h5sparse) (1.19.4)\n",
      "Requirement already satisfied: six in /opt/conda/lib/python3.8/site-packages (from h5sparse) (1.15.0)\n",
      "Requirement already satisfied: h5py in /opt/conda/lib/python3.8/site-packages (from h5sparse) (3.1.0)\n",
      "Requirement already satisfied: numpy in /opt/conda/lib/python3.8/site-packages (from h5sparse) (1.19.4)\n",
      "Requirement already satisfied: numpy in /opt/conda/lib/python3.8/site-packages (from h5sparse) (1.19.4)\n",
      "Installing collected packages: h5sparse\n",
      "Successfully installed h5sparse-0.1.0\n"
     ]
    }
   ],
   "source": [
    "!pip install h5sparse\n",
    "import h5sparse\n",
    "\n",
    "# Evne h5sparse cannot recognize this `sparse matrix`"
   ]
  },
  {
   "cell_type": "code",
   "execution_count": 53,
   "metadata": {},
   "outputs": [],
   "source": [
    "h5f = h5sparse.File(f'{path}/{filename}')"
   ]
  },
  {
   "cell_type": "code",
   "execution_count": 70,
   "metadata": {},
   "outputs": [
    {
     "name": "stdout",
     "output_type": "stream",
     "text": [
      "\n",
      "group /col_attrs 14 members\n",
      "/col_attrs/CellID (9432,)\n",
      "/col_attrs/ClusterID (9432,)\n",
      "/col_attrs/ClusterName (9432,)\n",
      "/col_attrs/RNA_snn_res_0_4 (9432,)\n",
      "/col_attrs/celltype (9432,)\n",
      "/col_attrs/nCount_RNA (9432,)\n",
      "/col_attrs/nFeature_RNA (9432,)\n",
      "/col_attrs/observed (9432,)\n",
      "/col_attrs/orig_ident (9432,)\n",
      "/col_attrs/pca_cell_embeddings (9432, 100)\n",
      "/col_attrs/percent_mito (9432,)\n",
      "/col_attrs/simulated (9432,)\n",
      "/col_attrs/tsne_cell_embeddings (9432, 2)\n",
      "/col_attrs/umap_cell_embeddings (9432, 2)\n",
      "\n",
      "group /col_graphs 2 members\n",
      "\n",
      "group /col_graphs/RNA_nn 3 members\n",
      "/col_graphs/RNA_nn/a (282960,)\n",
      "/col_graphs/RNA_nn/b (282960,)\n",
      "/col_graphs/RNA_nn/w (282960,)\n",
      "\n",
      "group /col_graphs/RNA_snn 3 members\n",
      "/col_graphs/RNA_snn/a (1257370,)\n",
      "/col_graphs/RNA_snn/b (1257370,)\n",
      "/col_graphs/RNA_snn/w (1257370,)\n",
      "\n",
      "group /layers 2 members\n",
      "/layers/norm_data (19089, 9432)\n",
      "/layers/scale_data (19089, 9432)\n",
      "/matrix (19089, 9432)\n",
      "\n",
      "group /row_attrs 7 members\n",
      "/row_attrs/Gene (19089,)\n",
      "/row_attrs/Selected (19089,)\n",
      "/row_attrs/mean (19089,)\n",
      "/row_attrs/pca_feature_loadings (19089, 100)\n",
      "/row_attrs/variance (19089,)\n",
      "/row_attrs/variance_expected (19089,)\n",
      "/row_attrs/variance_standardized (19089,)\n",
      "\n",
      "group /row_graphs 0 members\n"
     ]
    }
   ],
   "source": [
    "visit_h5(f=h5f)"
   ]
  },
  {
   "cell_type": "code",
   "execution_count": 72,
   "metadata": {},
   "outputs": [
    {
     "data": {
      "text/plain": [
       "array([[0., 0., 0., ..., 0., 0., 0.],\n",
       "       [0., 0., 0., ..., 0., 0., 0.]])"
      ]
     },
     "execution_count": 72,
     "metadata": {},
     "output_type": "execute_result"
    }
   ],
   "source": [
    "h5f['matrix'][1:3]"
   ]
  },
  {
   "cell_type": "markdown",
   "metadata": {},
   "source": [
    "# "
   ]
  },
  {
   "cell_type": "markdown",
   "metadata": {},
   "source": [
    "# "
   ]
  },
  {
   "cell_type": "markdown",
   "metadata": {},
   "source": [
    "## atac_v1_pbmc_10k_singlecell.tsv"
   ]
  },
  {
   "cell_type": "code",
   "execution_count": 91,
   "metadata": {},
   "outputs": [],
   "source": [
    "atac_single_cell = pd.read_csv(f'{path}/atac_v1_pbmc_10k_singlecell.csv')"
   ]
  },
  {
   "cell_type": "code",
   "execution_count": 92,
   "metadata": {},
   "outputs": [
    {
     "data": {
      "text/html": [
       "<div>\n",
       "<style scoped>\n",
       "    .dataframe tbody tr th:only-of-type {\n",
       "        vertical-align: middle;\n",
       "    }\n",
       "\n",
       "    .dataframe tbody tr th {\n",
       "        vertical-align: top;\n",
       "    }\n",
       "\n",
       "    .dataframe thead th {\n",
       "        text-align: right;\n",
       "    }\n",
       "</style>\n",
       "<table border=\"1\" class=\"dataframe\">\n",
       "  <thead>\n",
       "    <tr style=\"text-align: right;\">\n",
       "      <th></th>\n",
       "      <th>barcode</th>\n",
       "      <th>total</th>\n",
       "      <th>duplicate</th>\n",
       "      <th>chimeric</th>\n",
       "      <th>unmapped</th>\n",
       "      <th>lowmapq</th>\n",
       "      <th>mitochondrial</th>\n",
       "      <th>passed_filters</th>\n",
       "      <th>cell_id</th>\n",
       "      <th>is__cell_barcode</th>\n",
       "      <th>TSS_fragments</th>\n",
       "      <th>DNase_sensitive_region_fragments</th>\n",
       "      <th>enhancer_region_fragments</th>\n",
       "      <th>promoter_region_fragments</th>\n",
       "      <th>on_target_fragments</th>\n",
       "      <th>blacklist_region_fragments</th>\n",
       "      <th>peak_region_fragments</th>\n",
       "    </tr>\n",
       "  </thead>\n",
       "  <tbody>\n",
       "    <tr>\n",
       "      <th>0</th>\n",
       "      <td>NO_BARCODE</td>\n",
       "      <td>8335327</td>\n",
       "      <td>3922818</td>\n",
       "      <td>71559</td>\n",
       "      <td>746476</td>\n",
       "      <td>634014</td>\n",
       "      <td>22972</td>\n",
       "      <td>2937488</td>\n",
       "      <td>None</td>\n",
       "      <td>0</td>\n",
       "      <td>0</td>\n",
       "      <td>0</td>\n",
       "      <td>0</td>\n",
       "      <td>0</td>\n",
       "      <td>0</td>\n",
       "      <td>0</td>\n",
       "      <td>0</td>\n",
       "    </tr>\n",
       "    <tr>\n",
       "      <th>1</th>\n",
       "      <td>AAACGAAAGAAACGCC-1</td>\n",
       "      <td>3</td>\n",
       "      <td>1</td>\n",
       "      <td>0</td>\n",
       "      <td>1</td>\n",
       "      <td>0</td>\n",
       "      <td>0</td>\n",
       "      <td>1</td>\n",
       "      <td>None</td>\n",
       "      <td>0</td>\n",
       "      <td>1</td>\n",
       "      <td>1</td>\n",
       "      <td>1</td>\n",
       "      <td>0</td>\n",
       "      <td>1</td>\n",
       "      <td>0</td>\n",
       "      <td>1</td>\n",
       "    </tr>\n",
       "    <tr>\n",
       "      <th>2</th>\n",
       "      <td>AAACGAAAGAAAGCAG-1</td>\n",
       "      <td>14</td>\n",
       "      <td>1</td>\n",
       "      <td>0</td>\n",
       "      <td>4</td>\n",
       "      <td>2</td>\n",
       "      <td>0</td>\n",
       "      <td>7</td>\n",
       "      <td>None</td>\n",
       "      <td>0</td>\n",
       "      <td>0</td>\n",
       "      <td>2</td>\n",
       "      <td>0</td>\n",
       "      <td>0</td>\n",
       "      <td>2</td>\n",
       "      <td>0</td>\n",
       "      <td>0</td>\n",
       "    </tr>\n",
       "    <tr>\n",
       "      <th>3</th>\n",
       "      <td>AAACGAAAGAAAGGGT-1</td>\n",
       "      <td>7</td>\n",
       "      <td>1</td>\n",
       "      <td>0</td>\n",
       "      <td>1</td>\n",
       "      <td>0</td>\n",
       "      <td>0</td>\n",
       "      <td>5</td>\n",
       "      <td>None</td>\n",
       "      <td>0</td>\n",
       "      <td>2</td>\n",
       "      <td>2</td>\n",
       "      <td>0</td>\n",
       "      <td>1</td>\n",
       "      <td>2</td>\n",
       "      <td>0</td>\n",
       "      <td>1</td>\n",
       "    </tr>\n",
       "    <tr>\n",
       "      <th>4</th>\n",
       "      <td>AAACGAAAGAAATACC-1</td>\n",
       "      <td>9880</td>\n",
       "      <td>5380</td>\n",
       "      <td>79</td>\n",
       "      <td>106</td>\n",
       "      <td>1120</td>\n",
       "      <td>6</td>\n",
       "      <td>3189</td>\n",
       "      <td>None</td>\n",
       "      <td>0</td>\n",
       "      <td>386</td>\n",
       "      <td>1623</td>\n",
       "      <td>297</td>\n",
       "      <td>107</td>\n",
       "      <td>1758</td>\n",
       "      <td>16</td>\n",
       "      <td>262</td>\n",
       "    </tr>\n",
       "    <tr>\n",
       "      <th>...</th>\n",
       "      <td>...</td>\n",
       "      <td>...</td>\n",
       "      <td>...</td>\n",
       "      <td>...</td>\n",
       "      <td>...</td>\n",
       "      <td>...</td>\n",
       "      <td>...</td>\n",
       "      <td>...</td>\n",
       "      <td>...</td>\n",
       "      <td>...</td>\n",
       "      <td>...</td>\n",
       "      <td>...</td>\n",
       "      <td>...</td>\n",
       "      <td>...</td>\n",
       "      <td>...</td>\n",
       "      <td>...</td>\n",
       "      <td>...</td>\n",
       "    </tr>\n",
       "    <tr>\n",
       "      <th>614491</th>\n",
       "      <td>TTTGTGTTCTTGTACT-1</td>\n",
       "      <td>47</td>\n",
       "      <td>2</td>\n",
       "      <td>0</td>\n",
       "      <td>0</td>\n",
       "      <td>4</td>\n",
       "      <td>0</td>\n",
       "      <td>41</td>\n",
       "      <td>None</td>\n",
       "      <td>0</td>\n",
       "      <td>11</td>\n",
       "      <td>31</td>\n",
       "      <td>9</td>\n",
       "      <td>8</td>\n",
       "      <td>32</td>\n",
       "      <td>0</td>\n",
       "      <td>20</td>\n",
       "    </tr>\n",
       "    <tr>\n",
       "      <th>614492</th>\n",
       "      <td>TTTGTGTTCTTGTCGC-1</td>\n",
       "      <td>1</td>\n",
       "      <td>0</td>\n",
       "      <td>0</td>\n",
       "      <td>0</td>\n",
       "      <td>0</td>\n",
       "      <td>0</td>\n",
       "      <td>1</td>\n",
       "      <td>None</td>\n",
       "      <td>0</td>\n",
       "      <td>0</td>\n",
       "      <td>0</td>\n",
       "      <td>0</td>\n",
       "      <td>0</td>\n",
       "      <td>0</td>\n",
       "      <td>0</td>\n",
       "      <td>0</td>\n",
       "    </tr>\n",
       "    <tr>\n",
       "      <th>614493</th>\n",
       "      <td>TTTGTGTTCTTGTGCC-1</td>\n",
       "      <td>23379</td>\n",
       "      <td>9625</td>\n",
       "      <td>160</td>\n",
       "      <td>115</td>\n",
       "      <td>1232</td>\n",
       "      <td>20</td>\n",
       "      <td>12227</td>\n",
       "      <td>_cell_8727</td>\n",
       "      <td>1</td>\n",
       "      <td>6321</td>\n",
       "      <td>10005</td>\n",
       "      <td>2560</td>\n",
       "      <td>5242</td>\n",
       "      <td>10523</td>\n",
       "      <td>24</td>\n",
       "      <td>8309</td>\n",
       "    </tr>\n",
       "    <tr>\n",
       "      <th>614494</th>\n",
       "      <td>TTTGTGTTCTTTATCG-1</td>\n",
       "      <td>2</td>\n",
       "      <td>1</td>\n",
       "      <td>0</td>\n",
       "      <td>0</td>\n",
       "      <td>0</td>\n",
       "      <td>0</td>\n",
       "      <td>1</td>\n",
       "      <td>None</td>\n",
       "      <td>0</td>\n",
       "      <td>0</td>\n",
       "      <td>0</td>\n",
       "      <td>0</td>\n",
       "      <td>0</td>\n",
       "      <td>0</td>\n",
       "      <td>0</td>\n",
       "      <td>0</td>\n",
       "    </tr>\n",
       "    <tr>\n",
       "      <th>614495</th>\n",
       "      <td>TTTGTGTTCTTTGCAT-1</td>\n",
       "      <td>3</td>\n",
       "      <td>1</td>\n",
       "      <td>0</td>\n",
       "      <td>0</td>\n",
       "      <td>0</td>\n",
       "      <td>0</td>\n",
       "      <td>2</td>\n",
       "      <td>None</td>\n",
       "      <td>0</td>\n",
       "      <td>1</td>\n",
       "      <td>2</td>\n",
       "      <td>0</td>\n",
       "      <td>1</td>\n",
       "      <td>2</td>\n",
       "      <td>0</td>\n",
       "      <td>1</td>\n",
       "    </tr>\n",
       "  </tbody>\n",
       "</table>\n",
       "<p>614496 rows × 17 columns</p>\n",
       "</div>"
      ],
      "text/plain": [
       "                   barcode    total  duplicate  chimeric  unmapped  lowmapq  \\\n",
       "0               NO_BARCODE  8335327    3922818     71559    746476   634014   \n",
       "1       AAACGAAAGAAACGCC-1        3          1         0         1        0   \n",
       "2       AAACGAAAGAAAGCAG-1       14          1         0         4        2   \n",
       "3       AAACGAAAGAAAGGGT-1        7          1         0         1        0   \n",
       "4       AAACGAAAGAAATACC-1     9880       5380        79       106     1120   \n",
       "...                    ...      ...        ...       ...       ...      ...   \n",
       "614491  TTTGTGTTCTTGTACT-1       47          2         0         0        4   \n",
       "614492  TTTGTGTTCTTGTCGC-1        1          0         0         0        0   \n",
       "614493  TTTGTGTTCTTGTGCC-1    23379       9625       160       115     1232   \n",
       "614494  TTTGTGTTCTTTATCG-1        2          1         0         0        0   \n",
       "614495  TTTGTGTTCTTTGCAT-1        3          1         0         0        0   \n",
       "\n",
       "        mitochondrial  passed_filters     cell_id  is__cell_barcode  \\\n",
       "0               22972         2937488        None                 0   \n",
       "1                   0               1        None                 0   \n",
       "2                   0               7        None                 0   \n",
       "3                   0               5        None                 0   \n",
       "4                   6            3189        None                 0   \n",
       "...               ...             ...         ...               ...   \n",
       "614491              0              41        None                 0   \n",
       "614492              0               1        None                 0   \n",
       "614493             20           12227  _cell_8727                 1   \n",
       "614494              0               1        None                 0   \n",
       "614495              0               2        None                 0   \n",
       "\n",
       "        TSS_fragments  DNase_sensitive_region_fragments  \\\n",
       "0                   0                                 0   \n",
       "1                   1                                 1   \n",
       "2                   0                                 2   \n",
       "3                   2                                 2   \n",
       "4                 386                              1623   \n",
       "...               ...                               ...   \n",
       "614491             11                                31   \n",
       "614492              0                                 0   \n",
       "614493           6321                             10005   \n",
       "614494              0                                 0   \n",
       "614495              1                                 2   \n",
       "\n",
       "        enhancer_region_fragments  promoter_region_fragments  \\\n",
       "0                               0                          0   \n",
       "1                               1                          0   \n",
       "2                               0                          0   \n",
       "3                               0                          1   \n",
       "4                             297                        107   \n",
       "...                           ...                        ...   \n",
       "614491                          9                          8   \n",
       "614492                          0                          0   \n",
       "614493                       2560                       5242   \n",
       "614494                          0                          0   \n",
       "614495                          0                          1   \n",
       "\n",
       "        on_target_fragments  blacklist_region_fragments  peak_region_fragments  \n",
       "0                         0                           0                      0  \n",
       "1                         1                           0                      1  \n",
       "2                         2                           0                      0  \n",
       "3                         2                           0                      1  \n",
       "4                      1758                          16                    262  \n",
       "...                     ...                         ...                    ...  \n",
       "614491                   32                           0                     20  \n",
       "614492                    0                           0                      0  \n",
       "614493                10523                          24                   8309  \n",
       "614494                    0                           0                      0  \n",
       "614495                    2                           0                      1  \n",
       "\n",
       "[614496 rows x 17 columns]"
      ]
     },
     "execution_count": 92,
     "metadata": {},
     "output_type": "execute_result"
    }
   ],
   "source": [
    "atac_single_cell"
   ]
  },
  {
   "cell_type": "code",
   "execution_count": 95,
   "metadata": {},
   "outputs": [
    {
     "data": {
      "text/plain": [
       "True"
      ]
     },
     "execution_count": 95,
     "metadata": {},
     "output_type": "execute_result"
    }
   ],
   "source": [
    "atac_single_cell.barcode.is_unique"
   ]
  },
  {
   "cell_type": "code",
   "execution_count": null,
   "metadata": {},
   "outputs": [],
   "source": []
  }
 ],
 "metadata": {
  "kernelspec": {
   "display_name": "Python 3",
   "language": "python",
   "name": "python3"
  },
  "language_info": {
   "codemirror_mode": {
    "name": "ipython",
    "version": 3
   },
   "file_extension": ".py",
   "mimetype": "text/x-python",
   "name": "python",
   "nbconvert_exporter": "python",
   "pygments_lexer": "ipython3",
   "version": "3.8.6"
  }
 },
 "nbformat": 4,
 "nbformat_minor": 4
}
