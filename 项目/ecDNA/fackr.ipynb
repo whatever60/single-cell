{
 "cells": [
  {
   "cell_type": "code",
   "execution_count": 1,
   "metadata": {},
   "outputs": [
    {
     "name": "stderr",
     "output_type": "stream",
     "text": [
      "Downloading GitHub repo GreenleafLab/ArchR@master\n",
      "\n"
     ]
    },
    {
     "name": "stdout",
     "output_type": "stream",
     "text": [
      "Error in utils::download.file(url, path, method = method, quiet = quiet,  : \n",
      "  download from 'https://api.github.com/repos/GreenleafLab/ArchR/tarball/master' failed\n"
     ]
    }
   ],
   "source": [
    "if (!requireNamespace(\"devtools\", quietly = TRUE)) install.packages(\"devtools\")\n",
    "if (!requireNamespace(\"BiocManager\", quietly = TRUE)) install.packages(\"BiocManager\")\n",
    "Sys.setenv(CONDA_BUILD_SYSROOT=\"/\")\n",
    "devtools::install_github(\"GreenleafLab/ArchR\", ref=\"master\", repos = BiocManager::repositories())"
   ]
  },
  {
   "cell_type": "code",
   "execution_count": 2,
   "metadata": {},
   "outputs": [
    {
     "ename": "ERROR",
     "evalue": "Error in library(ArchR): there is no package called ‘ArchR’\n",
     "output_type": "error",
     "traceback": [
      "Error in library(ArchR): there is no package called ‘ArchR’\nTraceback:\n",
      "1. library(ArchR)"
     ]
    }
   ],
   "source": [
    "library(ArchR)\n",
    "ArchR::installExtraPackages()"
   ]
  },
  {
   "cell_type": "code",
   "execution_count": null,
   "metadata": {},
   "outputs": [],
   "source": []
  }
 ],
 "metadata": {
  "kernelspec": {
   "display_name": "R",
   "language": "R",
   "name": "ir"
  },
  "language_info": {
   "codemirror_mode": "r",
   "file_extension": ".r",
   "mimetype": "text/x-r-source",
   "name": "R",
   "pygments_lexer": "r",
   "version": "4.0.3"
  }
 },
 "nbformat": 4,
 "nbformat_minor": 4
}
