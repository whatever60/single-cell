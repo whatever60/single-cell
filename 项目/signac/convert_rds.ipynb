{
 "cells": [
  {
   "cell_type": "code",
   "execution_count": 1,
   "metadata": {},
   "outputs": [
    {
     "data": {
      "text/plain": [
       "['.empty',\n",
       " 'atac_v1_pbmc_10k_filtered_peak_bc_matrix.h5',\n",
       " 'atac_v1_pbmc_10k_fragments.tsv.gz',\n",
       " 'atac_v1_pbmc_10k_fragments.tsv.gz.tbi',\n",
       " 'atac_v1_pbmc_10k_singlecell.csv',\n",
       " 'hahah.loom',\n",
       " 'pbmc_10k_v3.rds']"
      ]
     },
     "execution_count": 1,
     "metadata": {},
     "output_type": "execute_result"
    }
   ],
   "source": [
    "import os\n",
    "\n",
    "path = '../data/signac'\n",
    "os.listdir(path)"
   ]
  },
  {
   "cell_type": "markdown",
   "metadata": {},
   "source": [
    "## First thing first, how to handle rds, or, to be more specific, Seurat object, in python"
   ]
  },
  {
   "cell_type": "markdown",
   "metadata": {},
   "source": [
    "### Solutions I tried:"
   ]
  },
  {
   "cell_type": "markdown",
   "metadata": {},
   "source": [
    "#### Python Packages\n",
    "\n",
    "##### pyreadr\n",
    "\n",
    "LibrdataError: The file contains an unrecognized object\n",
    "\n",
    "Reason: from homepage (https://github.com/ofajardo/pyreadr#basic-usage--reading-files)\n",
    "\n",
    "\"It can read mainly R data frames. Support for other kind of R objects is limited. R lists and R S4 objects (such as those from Bioconductor) are not supported.\""
   ]
  },
  {
   "cell_type": "code",
   "execution_count": 2,
   "metadata": {
    "collapsed": true,
    "jupyter": {
     "outputs_hidden": true
    }
   },
   "outputs": [
    {
     "name": "stdout",
     "output_type": "stream",
     "text": [
      "Requirement already satisfied: pyreadr in /opt/conda/lib/python3.8/site-packages (0.3.8)\n",
      "Requirement already satisfied: pandas>0.24.0 in /opt/conda/lib/python3.8/site-packages (from pyreadr) (1.1.4)\n",
      "Requirement already satisfied: python-dateutil>=2.7.3 in /opt/conda/lib/python3.8/site-packages (from pandas>0.24.0->pyreadr) (2.8.1)\n",
      "Requirement already satisfied: pytz>=2017.2 in /opt/conda/lib/python3.8/site-packages (from pandas>0.24.0->pyreadr) (2020.4)\n",
      "Requirement already satisfied: numpy>=1.15.4 in /opt/conda/lib/python3.8/site-packages (from pandas>0.24.0->pyreadr) (1.19.4)\n",
      "Requirement already satisfied: six>=1.5 in /opt/conda/lib/python3.8/site-packages (from python-dateutil>=2.7.3->pandas>0.24.0->pyreadr) (1.15.0)\n"
     ]
    },
    {
     "ename": "LibrdataError",
     "evalue": "The file contains an unrecognized object",
     "output_type": "error",
     "traceback": [
      "\u001b[0;31m---------------------------------------------------------------------------\u001b[0m",
      "\u001b[0;31mLibrdataError\u001b[0m                             Traceback (most recent call last)",
      "\u001b[0;32m<ipython-input-2-838c91e54ec9>\u001b[0m in \u001b[0;36m<module>\u001b[0;34m\u001b[0m\n\u001b[1;32m      3\u001b[0m \u001b[0;32mimport\u001b[0m \u001b[0mpyreadr\u001b[0m\u001b[0;34m\u001b[0m\u001b[0;34m\u001b[0m\u001b[0m\n\u001b[1;32m      4\u001b[0m \u001b[0;34m\u001b[0m\u001b[0m\n\u001b[0;32m----> 5\u001b[0;31m \u001b[0mdf\u001b[0m \u001b[0;34m=\u001b[0m \u001b[0mpyreadr\u001b[0m\u001b[0;34m.\u001b[0m\u001b[0mread_r\u001b[0m\u001b[0;34m(\u001b[0m\u001b[0;34mf'{path}/pbmc_10k_v3.rds'\u001b[0m\u001b[0;34m)\u001b[0m\u001b[0;34m\u001b[0m\u001b[0;34m\u001b[0m\u001b[0m\n\u001b[0m",
      "\u001b[0;32m/opt/conda/lib/python3.8/site-packages/pyreadr/pyreadr.py\u001b[0m in \u001b[0;36mread_r\u001b[0;34m(path, use_objects, timezone)\u001b[0m\n\u001b[1;32m     46\u001b[0m     \u001b[0;32mif\u001b[0m \u001b[0;32mnot\u001b[0m \u001b[0mos\u001b[0m\u001b[0;34m.\u001b[0m\u001b[0mpath\u001b[0m\u001b[0;34m.\u001b[0m\u001b[0misfile\u001b[0m\u001b[0;34m(\u001b[0m\u001b[0mpath\u001b[0m\u001b[0;34m)\u001b[0m\u001b[0;34m:\u001b[0m\u001b[0;34m\u001b[0m\u001b[0;34m\u001b[0m\u001b[0m\n\u001b[1;32m     47\u001b[0m         \u001b[0;32mraise\u001b[0m \u001b[0mPyreadrError\u001b[0m\u001b[0;34m(\u001b[0m\u001b[0;34m\"File {0} does not exist!\"\u001b[0m\u001b[0;34m.\u001b[0m\u001b[0mformat\u001b[0m\u001b[0;34m(\u001b[0m\u001b[0mpath\u001b[0m\u001b[0;34m)\u001b[0m\u001b[0;34m)\u001b[0m\u001b[0;34m\u001b[0m\u001b[0;34m\u001b[0m\u001b[0m\n\u001b[0;32m---> 48\u001b[0;31m     \u001b[0mparser\u001b[0m\u001b[0;34m.\u001b[0m\u001b[0mparse\u001b[0m\u001b[0;34m(\u001b[0m\u001b[0mpath\u001b[0m\u001b[0;34m)\u001b[0m\u001b[0;34m\u001b[0m\u001b[0;34m\u001b[0m\u001b[0m\n\u001b[0m\u001b[1;32m     49\u001b[0m \u001b[0;34m\u001b[0m\u001b[0m\n\u001b[1;32m     50\u001b[0m     \u001b[0mresult\u001b[0m \u001b[0;34m=\u001b[0m \u001b[0mOrderedDict\u001b[0m\u001b[0;34m(\u001b[0m\u001b[0;34m)\u001b[0m\u001b[0;34m\u001b[0m\u001b[0;34m\u001b[0m\u001b[0m\n",
      "\u001b[0;32m/opt/conda/lib/python3.8/site-packages/pyreadr/librdata.pyx\u001b[0m in \u001b[0;36mpyreadr.librdata.Parser.parse\u001b[0;34m()\u001b[0m\n",
      "\u001b[0;32m/opt/conda/lib/python3.8/site-packages/pyreadr/librdata.pyx\u001b[0m in \u001b[0;36mpyreadr.librdata.Parser.parse\u001b[0;34m()\u001b[0m\n",
      "\u001b[0;31mLibrdataError\u001b[0m: The file contains an unrecognized object"
     ]
    }
   ],
   "source": [
    "!pip install pyreadr\n",
    "\n",
    "import pyreadr\n",
    "\n",
    "df = pyreadr.read_r(f'{path}/pbmc_10k_v3.rds')"
   ]
  },
  {
   "cell_type": "markdown",
   "metadata": {},
   "source": [
    "##### rpy2 (Seurat required)"
   ]
  },
  {
   "cell_type": "code",
   "execution_count": 12,
   "metadata": {
    "collapsed": true,
    "jupyter": {
     "outputs_hidden": true
    }
   },
   "outputs": [
    {
     "name": "stdout",
     "output_type": "stream",
     "text": [
      "Requirement already satisfied: rpy2 in /opt/conda/lib/python3.8/site-packages (3.3.6)\n",
      "Requirement already satisfied: pytest in /opt/conda/lib/python3.8/site-packages (from rpy2) (6.1.2)\n",
      "Requirement already satisfied: cffi>=1.10.0 in /opt/conda/lib/python3.8/site-packages (from rpy2) (1.14.4)\n",
      "Requirement already satisfied: tzlocal in /opt/conda/lib/python3.8/site-packages (from rpy2) (2.1)\n",
      "Requirement already satisfied: jinja2 in /opt/conda/lib/python3.8/site-packages (from rpy2) (2.11.2)\n",
      "Requirement already satisfied: pytz in /opt/conda/lib/python3.8/site-packages (from rpy2) (2020.4)\n",
      "Requirement already satisfied: pycparser in /opt/conda/lib/python3.8/site-packages (from cffi>=1.10.0->rpy2) (2.20)\n",
      "Requirement already satisfied: MarkupSafe>=0.23 in /opt/conda/lib/python3.8/site-packages (from jinja2->rpy2) (1.1.1)\n",
      "Requirement already satisfied: packaging in /opt/conda/lib/python3.8/site-packages (from pytest->rpy2) (20.7)\n",
      "Requirement already satisfied: toml in /opt/conda/lib/python3.8/site-packages (from pytest->rpy2) (0.10.2)\n",
      "Requirement already satisfied: pluggy<1.0,>=0.12 in /opt/conda/lib/python3.8/site-packages (from pytest->rpy2) (0.13.1)\n",
      "Requirement already satisfied: attrs>=17.4.0 in /opt/conda/lib/python3.8/site-packages (from pytest->rpy2) (20.3.0)\n",
      "Requirement already satisfied: py>=1.8.2 in /opt/conda/lib/python3.8/site-packages (from pytest->rpy2) (1.9.0)\n",
      "Requirement already satisfied: iniconfig in /opt/conda/lib/python3.8/site-packages (from pytest->rpy2) (1.1.1)\n",
      "Requirement already satisfied: pyparsing>=2.0.2 in /opt/conda/lib/python3.8/site-packages (from packaging->pytest->rpy2) (2.4.7)\n",
      "Requirement already satisfied: pytz in /opt/conda/lib/python3.8/site-packages (from rpy2) (2020.4)\n",
      "Collecting package metadata (current_repodata.json): ...working... done\n",
      "Solving environment: ...working... done\n",
      "\n",
      "## Package Plan ##\n",
      "\n",
      "  environment location: /opt/conda\n",
      "\n",
      "  added / updated specs:\n",
      "    - r-seurat\n",
      "\n",
      "\n",
      "The following packages will be downloaded:\n",
      "\n",
      "    package                    |            build\n",
      "    ---------------------------|-----------------\n",
      "    ca-certificates-2020.12.5  |       ha878542_0         137 KB  conda-forge\n",
      "    certifi-2020.12.5          |   py38h578d9bd_0         143 KB  conda-forge\n",
      "    colormath-3.0.0            |             py_2          34 KB  conda-forge\n",
      "    r-abind-1.4_5              | r40h6115d3f_1003          76 KB  conda-forge\n",
      "    r-bh-1.72.0_3              |    r40h6115d3f_1        10.4 MB  conda-forge\n",
      "    r-catools-1.18.0           |    r40h0357c0b_1         222 KB  conda-forge\n",
      "    r-cluster-2.1.0            |    r40h31ca83e_4         553 KB  conda-forge\n",
      "    r-cowplot-1.1.0            |    r40h6115d3f_0         1.3 MB  conda-forge\n",
      "    r-deldir-0.2_3             |    r40h13aaf81_0         261 KB  conda-forge\n",
      "    r-dqrng-0.2.1              |    r40h0357c0b_2         165 KB  conda-forge\n",
      "    r-fitdistrplus-1.1_3       |    r40hc72bb7e_0         2.7 MB  conda-forge\n",
      "    r-fnn-1.1.3                |    r40h0357c0b_2         149 KB  conda-forge\n",
      "    r-future-1.20.1            |    r40hc72bb7e_0         575 KB  conda-forge\n",
      "    r-future.apply-1.6.0       |    r40h6115d3f_0         143 KB  conda-forge\n",
      "    r-ggrepel-0.8.2            |    r40h0357c0b_1         653 KB  conda-forge\n",
      "    r-ggridges-0.5.2           |    r40h6115d3f_2         2.2 MB  conda-forge\n",
      "    r-globals-0.14.0           |    r40hc72bb7e_0         108 KB  conda-forge\n",
      "    r-goftest-1.2_2            |    r40hcdcec82_1          70 KB  conda-forge\n",
      "    r-gplots-3.1.1             |    r40hc72bb7e_0         602 KB  conda-forge\n",
      "    r-gridextra-2.3            | r40h6115d3f_1003         1.1 MB  conda-forge\n",
      "    r-gtools-3.8.2             |    r40hcdcec82_1         332 KB  conda-forge\n",
      "    r-ica-1.0_2                |    r40h6115d3f_2          86 KB  conda-forge\n",
      "    r-igraph-1.2.6             |    r40h084b37e_1         3.8 MB  conda-forge\n",
      "    r-irlba-2.3.3              |    r40h7fa42b6_3         308 KB  conda-forge\n",
      "    r-leiden-0.3.6             |    r40hc72bb7e_0         2.7 MB  conda-forge\n",
      "    r-listenv-0.8.0            |    r40h6115d3f_1         118 KB  conda-forge\n",
      "    r-lsei-1.3_0               |    r40h6e990d7_1          84 KB  conda-forge\n",
      "    r-matrixstats-0.57.0       |    r40hcdcec82_0         918 KB  conda-forge\n",
      "    r-miniui-0.1.1.1           | r40h6115d3f_1002          51 KB  conda-forge\n",
      "    r-npsurv-0.5_0             |    r40h6115d3f_0         192 KB  conda-forge\n",
      "    r-parallelly-1.21.0        |    r40hc72bb7e_0         210 KB  conda-forge\n",
      "    r-patchwork-1.1.0          |    r40hc72bb7e_0         3.1 MB  conda-forge\n",
      "    r-pbapply-1.4_3            |    r40h6115d3f_0          87 KB  conda-forge\n",
      "    r-plotly-4.9.2.1           |    r40h6115d3f_1         2.7 MB  conda-forge\n",
      "    r-png-0.1_7                | r40hcdcec82_1004          58 KB  conda-forge\n",
      "    r-polyclip-1.10_0          |    r40h0357c0b_2         128 KB  conda-forge\n",
      "    r-rann-2.6.1               |    r40h0357c0b_2          61 KB  conda-forge\n",
      "    r-rappdirs-0.3.1           | r40hcdcec82_1004         150 KB  conda-forge\n",
      "    r-rcppannoy-0.0.17         |    r40he524a50_0         428 KB  conda-forge\n",
      "    r-rcppeigen-0.3.3.7.0      |    r40h51c796c_2         1.5 MB  conda-forge\n",
      "    r-rcppparallel-5.0.2       |    r40h0357c0b_0         1.6 MB  conda-forge\n",
      "    r-rcppprogress-0.4.2       |    r40h6115d3f_1          37 KB  conda-forge\n",
      "    r-reticulate-1.18          |    r40h1b71b39_0         1.1 MB  conda-forge\n",
      "    r-rocr-1.0_11              |    r40h6115d3f_1         490 KB  conda-forge\n",
      "    r-rspectra-0.16_0          |    r40h51c796c_3         506 KB  conda-forge\n",
      "    r-rsvd-1.0.3               |    r40h6115d3f_1         5.9 MB  conda-forge\n",
      "    r-rtsne-0.15               |    r40hc8faad4_3         125 KB  conda-forge\n",
      "    r-sctransform-0.3.1        |    r40hdb2a40c_1         415 KB  conda-forge\n",
      "    r-seurat-3.2.2             |    r40h0357c0b_0         2.0 MB  conda-forge\n",
      "    r-sitmo-2.0.1              |    r40h0357c0b_2         155 KB  conda-forge\n",
      "    r-spatstat-1.64_1          |    r40h0357c0b_0        16.2 MB  conda-forge\n",
      "    r-spatstat.data-1.5_2      |    r40hc72bb7e_0         3.9 MB  conda-forge\n",
      "    r-spatstat.utils-1.17_0    |    r40h516909a_1         335 KB  conda-forge\n",
      "    r-tensor-1.5               | r40h6115d3f_1003          30 KB  conda-forge\n",
      "    r-uwot-0.1.9               |    r40he524a50_0         410 KB  conda-forge\n",
      "    spectra-0.0.11             |             py_1          19 KB  conda-forge\n",
      "    ------------------------------------------------------------\n",
      "                                           Total:        71.6 MB\n",
      "\n",
      "The following NEW packages will be INSTALLED:\n",
      "\n",
      "  colormath          conda-forge/noarch::colormath-3.0.0-py_2\n",
      "  r-abind            conda-forge/noarch::r-abind-1.4_5-r40h6115d3f_1003\n",
      "  r-bh               conda-forge/noarch::r-bh-1.72.0_3-r40h6115d3f_1\n",
      "  r-catools          conda-forge/linux-64::r-catools-1.18.0-r40h0357c0b_1\n",
      "  r-cluster          conda-forge/linux-64::r-cluster-2.1.0-r40h31ca83e_4\n",
      "  r-cowplot          conda-forge/noarch::r-cowplot-1.1.0-r40h6115d3f_0\n",
      "  r-deldir           conda-forge/linux-64::r-deldir-0.2_3-r40h13aaf81_0\n",
      "  r-dqrng            conda-forge/linux-64::r-dqrng-0.2.1-r40h0357c0b_2\n",
      "  r-fitdistrplus     conda-forge/noarch::r-fitdistrplus-1.1_3-r40hc72bb7e_0\n",
      "  r-fnn              conda-forge/linux-64::r-fnn-1.1.3-r40h0357c0b_2\n",
      "  r-future           conda-forge/noarch::r-future-1.20.1-r40hc72bb7e_0\n",
      "  r-future.apply     conda-forge/noarch::r-future.apply-1.6.0-r40h6115d3f_0\n",
      "  r-ggrepel          conda-forge/linux-64::r-ggrepel-0.8.2-r40h0357c0b_1\n",
      "  r-ggridges         conda-forge/noarch::r-ggridges-0.5.2-r40h6115d3f_2\n",
      "  r-globals          conda-forge/noarch::r-globals-0.14.0-r40hc72bb7e_0\n",
      "  r-goftest          conda-forge/linux-64::r-goftest-1.2_2-r40hcdcec82_1\n",
      "  r-gplots           conda-forge/noarch::r-gplots-3.1.1-r40hc72bb7e_0\n",
      "  r-gridextra        conda-forge/noarch::r-gridextra-2.3-r40h6115d3f_1003\n",
      "  r-gtools           conda-forge/linux-64::r-gtools-3.8.2-r40hcdcec82_1\n",
      "  r-ica              conda-forge/noarch::r-ica-1.0_2-r40h6115d3f_2\n",
      "  r-igraph           conda-forge/linux-64::r-igraph-1.2.6-r40h084b37e_1\n",
      "  r-irlba            conda-forge/linux-64::r-irlba-2.3.3-r40h7fa42b6_3\n",
      "  r-leiden           conda-forge/noarch::r-leiden-0.3.6-r40hc72bb7e_0\n",
      "  r-listenv          conda-forge/noarch::r-listenv-0.8.0-r40h6115d3f_1\n",
      "  r-lsei             conda-forge/linux-64::r-lsei-1.3_0-r40h6e990d7_1\n",
      "  r-matrixstats      conda-forge/linux-64::r-matrixstats-0.57.0-r40hcdcec82_0\n",
      "  r-miniui           conda-forge/noarch::r-miniui-0.1.1.1-r40h6115d3f_1002\n",
      "  r-npsurv           conda-forge/noarch::r-npsurv-0.5_0-r40h6115d3f_0\n",
      "  r-parallelly       conda-forge/noarch::r-parallelly-1.21.0-r40hc72bb7e_0\n",
      "  r-patchwork        conda-forge/noarch::r-patchwork-1.1.0-r40hc72bb7e_0\n",
      "  r-pbapply          conda-forge/noarch::r-pbapply-1.4_3-r40h6115d3f_0\n",
      "  r-plotly           conda-forge/noarch::r-plotly-4.9.2.1-r40h6115d3f_1\n",
      "  r-png              conda-forge/linux-64::r-png-0.1_7-r40hcdcec82_1004\n",
      "  r-polyclip         conda-forge/linux-64::r-polyclip-1.10_0-r40h0357c0b_2\n",
      "  r-rann             conda-forge/linux-64::r-rann-2.6.1-r40h0357c0b_2\n",
      "  r-rappdirs         conda-forge/linux-64::r-rappdirs-0.3.1-r40hcdcec82_1004\n",
      "  r-rcppannoy        conda-forge/linux-64::r-rcppannoy-0.0.17-r40he524a50_0\n",
      "  r-rcppeigen        conda-forge/linux-64::r-rcppeigen-0.3.3.7.0-r40h51c796c_2\n",
      "  r-rcppparallel     conda-forge/linux-64::r-rcppparallel-5.0.2-r40h0357c0b_0\n",
      "  r-rcppprogress     conda-forge/noarch::r-rcppprogress-0.4.2-r40h6115d3f_1\n",
      "  r-reticulate       conda-forge/linux-64::r-reticulate-1.18-r40h1b71b39_0\n",
      "  r-rocr             conda-forge/linux-64::r-rocr-1.0_11-r40h6115d3f_1\n",
      "  r-rspectra         conda-forge/linux-64::r-rspectra-0.16_0-r40h51c796c_3\n",
      "  r-rsvd             conda-forge/noarch::r-rsvd-1.0.3-r40h6115d3f_1\n",
      "  r-rtsne            conda-forge/linux-64::r-rtsne-0.15-r40hc8faad4_3\n",
      "  r-sctransform      conda-forge/linux-64::r-sctransform-0.3.1-r40hdb2a40c_1\n",
      "  r-seurat           conda-forge/linux-64::r-seurat-3.2.2-r40h0357c0b_0\n",
      "  r-sitmo            conda-forge/linux-64::r-sitmo-2.0.1-r40h0357c0b_2\n",
      "  r-spatstat         conda-forge/linux-64::r-spatstat-1.64_1-r40h0357c0b_0\n",
      "  r-spatstat.data    conda-forge/noarch::r-spatstat.data-1.5_2-r40hc72bb7e_0\n",
      "  r-spatstat.utils   conda-forge/linux-64::r-spatstat.utils-1.17_0-r40h516909a_1\n",
      "  r-tensor           conda-forge/noarch::r-tensor-1.5-r40h6115d3f_1003\n",
      "  r-uwot             conda-forge/linux-64::r-uwot-0.1.9-r40he524a50_0\n",
      "  spectra            conda-forge/noarch::spectra-0.0.11-py_1\n",
      "\n",
      "The following packages will be UPDATED:\n",
      "\n",
      "  ca-certificates                      2020.11.8-ha878542_0 --> 2020.12.5-ha878542_0\n",
      "  certifi                          2020.11.8-py38h578d9bd_0 --> 2020.12.5-py38h578d9bd_0\n",
      "\n",
      "\n",
      "Preparing transaction: ...working... done\n",
      "Verifying transaction: ...working... done\n",
      "Executing transaction: ...working... done\n"
     ]
    }
   ],
   "source": [
    "!pip install rpy2\n",
    "!conda install -c bioconda r-seurat --quiet --yes"
   ]
  },
  {
   "cell_type": "markdown",
   "metadata": {},
   "source": [
    "Work fine with normal R dataframe..."
   ]
  },
  {
   "cell_type": "code",
   "execution_count": 8,
   "metadata": {},
   "outputs": [
    {
     "data": {
      "text/html": [
       "\n",
       "        <span>R/rpy2 DataFrame (3 x 2)</span>\n",
       "        <table>\n",
       "          <thead>\n",
       "            <tr>\n",
       "              \n",
       "              <th>int_values</th>\n",
       "              \n",
       "              <th>str_values</th>\n",
       "              \n",
       "            </tr>\n",
       "          </thead>\n",
       "          <tbody>\n",
       "          \n",
       "          <tr>\n",
       "            \n",
       "            <td>\n",
       "              ...\n",
       "            </td>\n",
       "            \n",
       "            <td>\n",
       "              ...\n",
       "            </td>\n",
       "            \n",
       "          </tr>\n",
       "          \n",
       "          </tbody>\n",
       "        </table>\n",
       "    "
      ],
      "text/plain": [
       "R object with classes: ('data.frame',) mapped to:\n",
       "[IntSexpVector, StrSexpVector]\n",
       "  int_values: <class 'rpy2.rinterface.IntSexpVector'>\n",
       "  <rpy2.rinterface.IntSexpVector object at 0x7f6d115c9740> [RTYPES.INTSXP]\n",
       "  str_values: <class 'rpy2.rinterface_lib.sexp.StrSexpVector'>\n",
       "  <rpy2.rinterface_lib.sexp.StrSexpVector object at 0x7f6d115c9780> [RTYPES.STRSXP]"
      ]
     },
     "execution_count": 8,
     "metadata": {},
     "output_type": "execute_result"
    }
   ],
   "source": [
    "import rpy2.robjects as ro\n",
    "\n",
    "r_df = ro.DataFrame({'int_values': ro.IntVector([1,2,3]),\n",
    "                     'str_values': ro.StrVector(['abc', 'def', 'ghi'])})\n",
    "\n",
    "r_df"
   ]
  },
  {
   "cell_type": "code",
   "execution_count": 9,
   "metadata": {},
   "outputs": [
    {
     "ename": "AttributeError",
     "evalue": "module 'rpy2.robjects' has no attribute 'pandas2ri'",
     "output_type": "error",
     "traceback": [
      "\u001b[0;31m---------------------------------------------------------------------------\u001b[0m",
      "\u001b[0;31mAttributeError\u001b[0m                            Traceback (most recent call last)",
      "\u001b[0;32m<ipython-input-9-ce0f163e0bab>\u001b[0m in \u001b[0;36m<module>\u001b[0;34m\u001b[0m\n\u001b[0;32m----> 1\u001b[0;31m \u001b[0;32mwith\u001b[0m \u001b[0mro\u001b[0m\u001b[0;34m.\u001b[0m\u001b[0mconversion\u001b[0m\u001b[0;34m.\u001b[0m\u001b[0mlocalconverter\u001b[0m\u001b[0;34m(\u001b[0m\u001b[0mro\u001b[0m\u001b[0;34m.\u001b[0m\u001b[0mdefault_converter\u001b[0m \u001b[0;34m+\u001b[0m \u001b[0mro\u001b[0m\u001b[0;34m.\u001b[0m\u001b[0mpandas2ri\u001b[0m\u001b[0;34m.\u001b[0m\u001b[0mconverter\u001b[0m\u001b[0;34m)\u001b[0m\u001b[0;34m:\u001b[0m\u001b[0;34m\u001b[0m\u001b[0;34m\u001b[0m\u001b[0m\n\u001b[0m\u001b[1;32m      2\u001b[0m     \u001b[0mpd_from_r_df\u001b[0m \u001b[0;34m=\u001b[0m \u001b[0mro\u001b[0m\u001b[0;34m.\u001b[0m\u001b[0mconversion\u001b[0m\u001b[0;34m.\u001b[0m\u001b[0mrpy2py\u001b[0m\u001b[0;34m(\u001b[0m\u001b[0mr_df\u001b[0m\u001b[0;34m)\u001b[0m\u001b[0;34m\u001b[0m\u001b[0;34m\u001b[0m\u001b[0m\n\u001b[1;32m      3\u001b[0m \u001b[0;34m\u001b[0m\u001b[0m\n\u001b[1;32m      4\u001b[0m \u001b[0mpd_from_r_df\u001b[0m\u001b[0;34m\u001b[0m\u001b[0;34m\u001b[0m\u001b[0m\n",
      "\u001b[0;31mAttributeError\u001b[0m: module 'rpy2.robjects' has no attribute 'pandas2ri'"
     ]
    }
   ],
   "source": [
    "with ro.conversion.localconverter(ro.default_converter + ro.pandas2ri.converter):\n",
    "    pd_from_r_df = ro.conversion.rpy2py(r_df)\n",
    "    \n",
    "pd_from_r_df"
   ]
  },
  {
   "cell_type": "markdown",
   "metadata": {},
   "source": [
    "weired import behavior"
   ]
  },
  {
   "cell_type": "code",
   "execution_count": 10,
   "metadata": {},
   "outputs": [
    {
     "data": {
      "text/html": [
       "<div>\n",
       "<style scoped>\n",
       "    .dataframe tbody tr th:only-of-type {\n",
       "        vertical-align: middle;\n",
       "    }\n",
       "\n",
       "    .dataframe tbody tr th {\n",
       "        vertical-align: top;\n",
       "    }\n",
       "\n",
       "    .dataframe thead th {\n",
       "        text-align: right;\n",
       "    }\n",
       "</style>\n",
       "<table border=\"1\" class=\"dataframe\">\n",
       "  <thead>\n",
       "    <tr style=\"text-align: right;\">\n",
       "      <th></th>\n",
       "      <th>int_values</th>\n",
       "      <th>str_values</th>\n",
       "    </tr>\n",
       "  </thead>\n",
       "  <tbody>\n",
       "    <tr>\n",
       "      <th>1</th>\n",
       "      <td>1</td>\n",
       "      <td>abc</td>\n",
       "    </tr>\n",
       "    <tr>\n",
       "      <th>2</th>\n",
       "      <td>2</td>\n",
       "      <td>def</td>\n",
       "    </tr>\n",
       "    <tr>\n",
       "      <th>3</th>\n",
       "      <td>3</td>\n",
       "      <td>ghi</td>\n",
       "    </tr>\n",
       "  </tbody>\n",
       "</table>\n",
       "</div>"
      ],
      "text/plain": [
       "   int_values str_values\n",
       "1           1        abc\n",
       "2           2        def\n",
       "3           3        ghi"
      ]
     },
     "execution_count": 10,
     "metadata": {},
     "output_type": "execute_result"
    }
   ],
   "source": [
    "from rpy2.robjects import pandas2ri\n",
    "\n",
    "with ro.conversion.localconverter(ro.default_converter + ro.pandas2ri.converter):\n",
    "    pd_from_r_df = ro.conversion.rpy2py(r_df)\n",
    "    \n",
    "pd_from_r_df"
   ]
  },
  {
   "cell_type": "markdown",
   "metadata": {},
   "source": [
    "but not with Seurat object"
   ]
  },
  {
   "cell_type": "code",
   "execution_count": 11,
   "metadata": {
    "collapsed": true,
    "jupyter": {
     "outputs_hidden": true
    }
   },
   "outputs": [
    {
     "name": "stderr",
     "output_type": "stream",
     "text": [
      "R[write to console]: Warning:\n",
      "R[write to console]:  namespace ‘Seurat’ is not available and has been replaced\n",
      "by .GlobalEnv when processing object ‘<unknown>’\n",
      "\n",
      "R[write to console]: Loading required package: Seurat\n",
      "\n",
      "R[write to console]: Error in .requirePackage(package) : \n",
      "  unable to find required package ‘Seurat’\n",
      "\n",
      "R[write to console]: In addition: \n",
      "R[write to console]: Warning message:\n",
      "\n",
      "R[write to console]: In library(package, lib.loc = lib.loc, character.only = TRUE, logical.return = TRUE,  :\n",
      "R[write to console]: \n",
      " \n",
      "R[write to console]:  there is no package called ‘Seurat’\n",
      "\n"
     ]
    },
    {
     "ename": "RRuntimeError",
     "evalue": "Error in .requirePackage(package) : \n  unable to find required package ‘Seurat’\n",
     "output_type": "error",
     "traceback": [
      "\u001b[0;31m---------------------------------------------------------------------------\u001b[0m",
      "\u001b[0;31mRRuntimeError\u001b[0m                             Traceback (most recent call last)",
      "\u001b[0;32m<ipython-input-11-06dc3de66a20>\u001b[0m in \u001b[0;36m<module>\u001b[0;34m\u001b[0m\n\u001b[1;32m      2\u001b[0m \u001b[0;34m\u001b[0m\u001b[0m\n\u001b[1;32m      3\u001b[0m \u001b[0mmodel_rds_path\u001b[0m \u001b[0;34m=\u001b[0m \u001b[0;34mf'{path}/pbmc_10k_v3.rds'\u001b[0m\u001b[0;34m\u001b[0m\u001b[0;34m\u001b[0m\u001b[0m\n\u001b[0;32m----> 4\u001b[0;31m \u001b[0mmodel\u001b[0m \u001b[0;34m=\u001b[0m \u001b[0mr\u001b[0m\u001b[0;34m.\u001b[0m\u001b[0mreadRDS\u001b[0m\u001b[0;34m(\u001b[0m\u001b[0mmodel_rds_path\u001b[0m\u001b[0;34m)\u001b[0m\u001b[0;34m\u001b[0m\u001b[0;34m\u001b[0m\u001b[0m\n\u001b[0m\u001b[1;32m      5\u001b[0m \u001b[0;34m\u001b[0m\u001b[0m\n\u001b[1;32m      6\u001b[0m \u001b[0;32mwith\u001b[0m \u001b[0mro\u001b[0m\u001b[0;34m.\u001b[0m\u001b[0mconversion\u001b[0m\u001b[0;34m.\u001b[0m\u001b[0mlocalconverter\u001b[0m\u001b[0;34m(\u001b[0m\u001b[0mro\u001b[0m\u001b[0;34m.\u001b[0m\u001b[0mdefault_converter\u001b[0m \u001b[0;34m+\u001b[0m \u001b[0mro\u001b[0m\u001b[0;34m.\u001b[0m\u001b[0mpandas2ri\u001b[0m\u001b[0;34m.\u001b[0m\u001b[0mconverter\u001b[0m\u001b[0;34m)\u001b[0m\u001b[0;34m:\u001b[0m\u001b[0;34m\u001b[0m\u001b[0;34m\u001b[0m\u001b[0m\n",
      "\u001b[0;32m/opt/conda/lib/python3.8/site-packages/rpy2/robjects/functions.py\u001b[0m in \u001b[0;36m__call__\u001b[0;34m(self, *args, **kwargs)\u001b[0m\n\u001b[1;32m    195\u001b[0m                 \u001b[0mv\u001b[0m \u001b[0;34m=\u001b[0m \u001b[0mkwargs\u001b[0m\u001b[0;34m.\u001b[0m\u001b[0mpop\u001b[0m\u001b[0;34m(\u001b[0m\u001b[0mk\u001b[0m\u001b[0;34m)\u001b[0m\u001b[0;34m\u001b[0m\u001b[0;34m\u001b[0m\u001b[0m\n\u001b[1;32m    196\u001b[0m                 \u001b[0mkwargs\u001b[0m\u001b[0;34m[\u001b[0m\u001b[0mr_k\u001b[0m\u001b[0;34m]\u001b[0m \u001b[0;34m=\u001b[0m \u001b[0mv\u001b[0m\u001b[0;34m\u001b[0m\u001b[0;34m\u001b[0m\u001b[0m\n\u001b[0;32m--> 197\u001b[0;31m         return (super(SignatureTranslatedFunction, self)\n\u001b[0m\u001b[1;32m    198\u001b[0m                 .__call__(*args, **kwargs))\n\u001b[1;32m    199\u001b[0m \u001b[0;34m\u001b[0m\u001b[0m\n",
      "\u001b[0;32m/opt/conda/lib/python3.8/site-packages/rpy2/robjects/functions.py\u001b[0m in \u001b[0;36m__call__\u001b[0;34m(self, *args, **kwargs)\u001b[0m\n\u001b[1;32m    124\u001b[0m                 \u001b[0mnew_kwargs\u001b[0m\u001b[0;34m[\u001b[0m\u001b[0mk\u001b[0m\u001b[0;34m]\u001b[0m \u001b[0;34m=\u001b[0m \u001b[0mconversion\u001b[0m\u001b[0;34m.\u001b[0m\u001b[0mpy2rpy\u001b[0m\u001b[0;34m(\u001b[0m\u001b[0mv\u001b[0m\u001b[0;34m)\u001b[0m\u001b[0;34m\u001b[0m\u001b[0;34m\u001b[0m\u001b[0m\n\u001b[1;32m    125\u001b[0m         \u001b[0mres\u001b[0m \u001b[0;34m=\u001b[0m \u001b[0msuper\u001b[0m\u001b[0;34m(\u001b[0m\u001b[0mFunction\u001b[0m\u001b[0;34m,\u001b[0m \u001b[0mself\u001b[0m\u001b[0;34m)\u001b[0m\u001b[0;34m.\u001b[0m\u001b[0m__call__\u001b[0m\u001b[0;34m(\u001b[0m\u001b[0;34m*\u001b[0m\u001b[0mnew_args\u001b[0m\u001b[0;34m,\u001b[0m \u001b[0;34m**\u001b[0m\u001b[0mnew_kwargs\u001b[0m\u001b[0;34m)\u001b[0m\u001b[0;34m\u001b[0m\u001b[0;34m\u001b[0m\u001b[0m\n\u001b[0;32m--> 126\u001b[0;31m         \u001b[0mres\u001b[0m \u001b[0;34m=\u001b[0m \u001b[0mconversion\u001b[0m\u001b[0;34m.\u001b[0m\u001b[0mrpy2py\u001b[0m\u001b[0;34m(\u001b[0m\u001b[0mres\u001b[0m\u001b[0;34m)\u001b[0m\u001b[0;34m\u001b[0m\u001b[0;34m\u001b[0m\u001b[0m\n\u001b[0m\u001b[1;32m    127\u001b[0m         \u001b[0;32mreturn\u001b[0m \u001b[0mres\u001b[0m\u001b[0;34m\u001b[0m\u001b[0;34m\u001b[0m\u001b[0m\n\u001b[1;32m    128\u001b[0m \u001b[0;34m\u001b[0m\u001b[0m\n",
      "\u001b[0;32m/opt/conda/lib/python3.8/functools.py\u001b[0m in \u001b[0;36mwrapper\u001b[0;34m(*args, **kw)\u001b[0m\n\u001b[1;32m    873\u001b[0m                             '1 positional argument')\n\u001b[1;32m    874\u001b[0m \u001b[0;34m\u001b[0m\u001b[0m\n\u001b[0;32m--> 875\u001b[0;31m         \u001b[0;32mreturn\u001b[0m \u001b[0mdispatch\u001b[0m\u001b[0;34m(\u001b[0m\u001b[0margs\u001b[0m\u001b[0;34m[\u001b[0m\u001b[0;36m0\u001b[0m\u001b[0;34m]\u001b[0m\u001b[0;34m.\u001b[0m\u001b[0m__class__\u001b[0m\u001b[0;34m)\u001b[0m\u001b[0;34m(\u001b[0m\u001b[0;34m*\u001b[0m\u001b[0margs\u001b[0m\u001b[0;34m,\u001b[0m \u001b[0;34m**\u001b[0m\u001b[0mkw\u001b[0m\u001b[0;34m)\u001b[0m\u001b[0;34m\u001b[0m\u001b[0;34m\u001b[0m\u001b[0m\n\u001b[0m\u001b[1;32m    876\u001b[0m \u001b[0;34m\u001b[0m\u001b[0m\n\u001b[1;32m    877\u001b[0m     \u001b[0mfuncname\u001b[0m \u001b[0;34m=\u001b[0m \u001b[0mgetattr\u001b[0m\u001b[0;34m(\u001b[0m\u001b[0mfunc\u001b[0m\u001b[0;34m,\u001b[0m \u001b[0;34m'__name__'\u001b[0m\u001b[0;34m,\u001b[0m \u001b[0;34m'singledispatch function'\u001b[0m\u001b[0;34m)\u001b[0m\u001b[0;34m\u001b[0m\u001b[0;34m\u001b[0m\u001b[0m\n",
      "\u001b[0;32m/opt/conda/lib/python3.8/site-packages/rpy2/robjects/__init__.py\u001b[0m in \u001b[0;36m_rpy2py_sexps4\u001b[0;34m(obj)\u001b[0m\n\u001b[1;32m    230\u001b[0m \u001b[0;32mdef\u001b[0m \u001b[0m_rpy2py_sexps4\u001b[0m\u001b[0;34m(\u001b[0m\u001b[0mobj\u001b[0m\u001b[0;34m)\u001b[0m\u001b[0;34m:\u001b[0m\u001b[0;34m\u001b[0m\u001b[0;34m\u001b[0m\u001b[0m\n\u001b[1;32m    231\u001b[0m     \u001b[0mclsmap\u001b[0m \u001b[0;34m=\u001b[0m \u001b[0mconversion\u001b[0m\u001b[0;34m.\u001b[0m\u001b[0mconverter\u001b[0m\u001b[0;34m.\u001b[0m\u001b[0mrpy2py_nc_name\u001b[0m\u001b[0;34m[\u001b[0m\u001b[0mSexpS4\u001b[0m\u001b[0;34m]\u001b[0m\u001b[0;34m\u001b[0m\u001b[0;34m\u001b[0m\u001b[0m\n\u001b[0;32m--> 232\u001b[0;31m     \u001b[0mcls\u001b[0m \u001b[0;34m=\u001b[0m \u001b[0mclsmap\u001b[0m\u001b[0;34m.\u001b[0m\u001b[0mfind\u001b[0m\u001b[0;34m(\u001b[0m\u001b[0mmethods_env\u001b[0m\u001b[0;34m[\u001b[0m\u001b[0;34m'extends'\u001b[0m\u001b[0;34m]\u001b[0m\u001b[0;34m(\u001b[0m\u001b[0mobj\u001b[0m\u001b[0;34m.\u001b[0m\u001b[0mrclass\u001b[0m\u001b[0;34m)\u001b[0m\u001b[0;34m)\u001b[0m\u001b[0;34m\u001b[0m\u001b[0;34m\u001b[0m\u001b[0m\n\u001b[0m\u001b[1;32m    233\u001b[0m     \u001b[0;32mreturn\u001b[0m \u001b[0mcls\u001b[0m\u001b[0;34m(\u001b[0m\u001b[0mobj\u001b[0m\u001b[0;34m)\u001b[0m\u001b[0;34m\u001b[0m\u001b[0;34m\u001b[0m\u001b[0m\n\u001b[1;32m    234\u001b[0m \u001b[0;34m\u001b[0m\u001b[0m\n",
      "\u001b[0;32m/opt/conda/lib/python3.8/site-packages/rpy2/rinterface_lib/conversion.py\u001b[0m in \u001b[0;36m_\u001b[0;34m(*args, **kwargs)\u001b[0m\n\u001b[1;32m     42\u001b[0m \u001b[0;32mdef\u001b[0m \u001b[0m_cdata_res_to_rinterface\u001b[0m\u001b[0;34m(\u001b[0m\u001b[0mfunction\u001b[0m\u001b[0;34m)\u001b[0m\u001b[0;34m:\u001b[0m\u001b[0;34m\u001b[0m\u001b[0;34m\u001b[0m\u001b[0m\n\u001b[1;32m     43\u001b[0m     \u001b[0;32mdef\u001b[0m \u001b[0m_\u001b[0m\u001b[0;34m(\u001b[0m\u001b[0;34m*\u001b[0m\u001b[0margs\u001b[0m\u001b[0;34m,\u001b[0m \u001b[0;34m**\u001b[0m\u001b[0mkwargs\u001b[0m\u001b[0;34m)\u001b[0m\u001b[0;34m:\u001b[0m\u001b[0;34m\u001b[0m\u001b[0;34m\u001b[0m\u001b[0m\n\u001b[0;32m---> 44\u001b[0;31m         \u001b[0mcdata\u001b[0m \u001b[0;34m=\u001b[0m \u001b[0mfunction\u001b[0m\u001b[0;34m(\u001b[0m\u001b[0;34m*\u001b[0m\u001b[0margs\u001b[0m\u001b[0;34m,\u001b[0m \u001b[0;34m**\u001b[0m\u001b[0mkwargs\u001b[0m\u001b[0;34m)\u001b[0m\u001b[0;34m\u001b[0m\u001b[0;34m\u001b[0m\u001b[0m\n\u001b[0m\u001b[1;32m     45\u001b[0m         \u001b[0;31m# TODO: test cdata is of the expected CType\u001b[0m\u001b[0;34m\u001b[0m\u001b[0;34m\u001b[0m\u001b[0;34m\u001b[0m\u001b[0m\n\u001b[1;32m     46\u001b[0m         \u001b[0;32mreturn\u001b[0m \u001b[0m_cdata_to_rinterface\u001b[0m\u001b[0;34m(\u001b[0m\u001b[0mcdata\u001b[0m\u001b[0;34m)\u001b[0m\u001b[0;34m\u001b[0m\u001b[0;34m\u001b[0m\u001b[0m\n",
      "\u001b[0;32m/opt/conda/lib/python3.8/site-packages/rpy2/rinterface.py\u001b[0m in \u001b[0;36m__call__\u001b[0;34m(self, *args, **kwargs)\u001b[0m\n\u001b[1;32m    622\u001b[0m                     error_occured))\n\u001b[1;32m    623\u001b[0m             \u001b[0;32mif\u001b[0m \u001b[0merror_occured\u001b[0m\u001b[0;34m[\u001b[0m\u001b[0;36m0\u001b[0m\u001b[0;34m]\u001b[0m\u001b[0;34m:\u001b[0m\u001b[0;34m\u001b[0m\u001b[0;34m\u001b[0m\u001b[0m\n\u001b[0;32m--> 624\u001b[0;31m                 \u001b[0;32mraise\u001b[0m \u001b[0membedded\u001b[0m\u001b[0;34m.\u001b[0m\u001b[0mRRuntimeError\u001b[0m\u001b[0;34m(\u001b[0m\u001b[0m_rinterface\u001b[0m\u001b[0;34m.\u001b[0m\u001b[0m_geterrmessage\u001b[0m\u001b[0;34m(\u001b[0m\u001b[0;34m)\u001b[0m\u001b[0;34m)\u001b[0m\u001b[0;34m\u001b[0m\u001b[0;34m\u001b[0m\u001b[0m\n\u001b[0m\u001b[1;32m    625\u001b[0m         \u001b[0;32mreturn\u001b[0m \u001b[0mres\u001b[0m\u001b[0;34m\u001b[0m\u001b[0;34m\u001b[0m\u001b[0m\n\u001b[1;32m    626\u001b[0m \u001b[0;34m\u001b[0m\u001b[0m\n",
      "\u001b[0;31mRRuntimeError\u001b[0m: Error in .requirePackage(package) : \n  unable to find required package ‘Seurat’\n"
     ]
    }
   ],
   "source": [
    "r = ro.r\n",
    "\n",
    "model_rds_path = f'{path}/pbmc_10k_v3.rds'\n",
    "model = r.readRDS(model_rds_path)\n",
    "\n",
    "with ro.conversion.localconverter(ro.default_converter + ro.pandas2ri.converter):\n",
    "    pd_from_r_df = ro.conversion.rpy2py(model)"
   ]
  },
  {
   "cell_type": "markdown",
   "metadata": {},
   "source": [
    "##### feather\n",
    "\n",
    "SSL is required."
   ]
  },
  {
   "cell_type": "code",
   "execution_count": 10,
   "metadata": {
    "collapsed": true,
    "jupyter": {
     "outputs_hidden": true
    }
   },
   "outputs": [
    {
     "name": "stdout",
     "output_type": "stream",
     "text": [
      "Collecting feather\n",
      "  Downloading feather-0.9.1dev.tar.gz (9.8 kB)\n",
      "\u001b[31m    ERROR: Command errored out with exit status 1:\n",
      "     command: /opt/conda/bin/python3.8 -c 'import sys, setuptools, tokenize; sys.argv[0] = '\"'\"'/tmp/pip-install-l9b8_0zj/feather_529f10d460f44c9888005e95b3042343/setup.py'\"'\"'; __file__='\"'\"'/tmp/pip-install-l9b8_0zj/feather_529f10d460f44c9888005e95b3042343/setup.py'\"'\"';f=getattr(tokenize, '\"'\"'open'\"'\"', open)(__file__);code=f.read().replace('\"'\"'\\r\\n'\"'\"', '\"'\"'\\n'\"'\"');f.close();exec(compile(code, __file__, '\"'\"'exec'\"'\"'))' egg_info --egg-base /tmp/pip-pip-egg-info-6m18tqqc\n",
      "         cwd: /tmp/pip-install-l9b8_0zj/feather_529f10d460f44c9888005e95b3042343/\n",
      "    Complete output (31 lines):\n",
      "    Downloading http://pypi.python.org/packages/source/d/distribute/distribute-0.6.14.tar.gz\n",
      "    Traceback (most recent call last):\n",
      "      File \"/tmp/pip-install-l9b8_0zj/feather_529f10d460f44c9888005e95b3042343/distribute_setup.py\", line 143, in use_setuptools\n",
      "        raise ImportError\n",
      "    ImportError\n",
      "    \n",
      "    During handling of the above exception, another exception occurred:\n",
      "    \n",
      "    Traceback (most recent call last):\n",
      "      File \"<string>\", line 1, in <module>\n",
      "      File \"/tmp/pip-install-l9b8_0zj/feather_529f10d460f44c9888005e95b3042343/setup.py\", line 3, in <module>\n",
      "        distribute_setup.use_setuptools()\n",
      "      File \"/tmp/pip-install-l9b8_0zj/feather_529f10d460f44c9888005e95b3042343/distribute_setup.py\", line 145, in use_setuptools\n",
      "        return _do_download(version, download_base, to_dir, download_delay)\n",
      "      File \"/tmp/pip-install-l9b8_0zj/feather_529f10d460f44c9888005e95b3042343/distribute_setup.py\", line 123, in _do_download\n",
      "        tarball = download_setuptools(version, download_base,\n",
      "      File \"/tmp/pip-install-l9b8_0zj/feather_529f10d460f44c9888005e95b3042343/distribute_setup.py\", line 193, in download_setuptools\n",
      "        src = urlopen(url)\n",
      "      File \"/opt/conda/lib/python3.8/urllib/request.py\", line 222, in urlopen\n",
      "        return opener.open(url, data, timeout)\n",
      "      File \"/opt/conda/lib/python3.8/urllib/request.py\", line 531, in open\n",
      "        response = meth(req, response)\n",
      "      File \"/opt/conda/lib/python3.8/urllib/request.py\", line 640, in http_response\n",
      "        response = self.parent.error(\n",
      "      File \"/opt/conda/lib/python3.8/urllib/request.py\", line 569, in error\n",
      "        return self._call_chain(*args)\n",
      "      File \"/opt/conda/lib/python3.8/urllib/request.py\", line 502, in _call_chain\n",
      "        result = func(*args)\n",
      "      File \"/opt/conda/lib/python3.8/urllib/request.py\", line 649, in http_error_default\n",
      "        raise HTTPError(req.full_url, code, msg, hdrs, fp)\n",
      "    urllib.error.HTTPError: HTTP Error 403: SSL is required\n",
      "    ----------------------------------------\u001b[0m\n",
      "\u001b[31mERROR: Command errored out with exit status 1: python setup.py egg_info Check the logs for full command output.\u001b[0m\n"
     ]
    }
   ],
   "source": [
    "!pip install feather"
   ]
  },
  {
   "cell_type": "code",
   "execution_count": null,
   "metadata": {},
   "outputs": [],
   "source": []
  },
  {
   "cell_type": "code",
   "execution_count": null,
   "metadata": {},
   "outputs": [],
   "source": []
  },
  {
   "cell_type": "code",
   "execution_count": null,
   "metadata": {},
   "outputs": [],
   "source": []
  },
  {
   "cell_type": "code",
   "execution_count": null,
   "metadata": {},
   "outputs": [],
   "source": []
  },
  {
   "cell_type": "code",
   "execution_count": null,
   "metadata": {},
   "outputs": [],
   "source": []
  },
  {
   "cell_type": "code",
   "execution_count": null,
   "metadata": {},
   "outputs": [],
   "source": []
  },
  {
   "cell_type": "code",
   "execution_count": null,
   "metadata": {},
   "outputs": [],
   "source": []
  },
  {
   "cell_type": "code",
   "execution_count": null,
   "metadata": {},
   "outputs": [],
   "source": []
  },
  {
   "cell_type": "code",
   "execution_count": null,
   "metadata": {},
   "outputs": [],
   "source": []
  },
  {
   "cell_type": "code",
   "execution_count": null,
   "metadata": {},
   "outputs": [],
   "source": []
  },
  {
   "cell_type": "code",
   "execution_count": null,
   "metadata": {},
   "outputs": [],
   "source": []
  },
  {
   "cell_type": "code",
   "execution_count": null,
   "metadata": {},
   "outputs": [],
   "source": []
  },
  {
   "cell_type": "code",
   "execution_count": null,
   "metadata": {},
   "outputs": [],
   "source": []
  },
  {
   "cell_type": "code",
   "execution_count": null,
   "metadata": {},
   "outputs": [],
   "source": []
  },
  {
   "cell_type": "code",
   "execution_count": 12,
   "metadata": {},
   "outputs": [],
   "source": [
    "import gzip\n",
    "\n",
    "def less(file, bin=True):\n",
    "    if bin is True:\n",
    "        with gzip.open(f'{path}/{file}', 'rb') as f:\n",
    "            for lineno, i in enumerate(f):\n",
    "                if lineno < 100:\n",
    "                    print(i)\n",
    "                else:\n",
    "                    break\n",
    "    else:\n",
    "        with open(f'{path}/{file}', 'r') as f:\n",
    "            for lineno, i in enumerate(f):\n",
    "                if lineno < 100:\n",
    "                    print(i)\n",
    "                else:\n",
    "                    break"
   ]
  },
  {
   "cell_type": "code",
   "execution_count": 9,
   "metadata": {
    "collapsed": true,
    "jupyter": {
     "outputs_hidden": true
    }
   },
   "outputs": [
    {
     "name": "stdout",
     "output_type": "stream",
     "text": [
      "b'TBI\\x01\\x18\\x00\\x00\\x00\\x00\\x00\\x00\\x00\\x01\\x00\\x00\\x00\\x02\\x00\\x00\\x00\\x03\\x00\\x00\\x00#\\x00\\x00\\x00\\x00\\x00\\x00\\x00\\x85\\x00\\x00\\x00chr1\\x00chr2\\x00chr3\\x00chr4\\x00chr5\\x00chr6\\x00chr7\\x00chr8\\x00chr9\\x00chr10\\x00chr11\\x00chr12\\x00chr13\\x00chr14\\x00chr15\\x00chr16\\x00chr17\\x00chr18\\x00chr19\\x00chr20\\x00chr21\\x00chr22\\x00chrX\\x00chrY\\x00\\x89\\x06\\x00\\x00\\x00\\x00\\x00\\x00\\x02\\x00\\x00\\x00\\xa0\\x93\\x9e\\x90\\xef\\x03\\x00\\x00\\xdc\\x95\\x9e\\x90\\xef\\x03\\x00\\x00\\x15\\xd8\\t\\xe8\\x81\\x08\\x00\\x00\\x1d\\xdd\\t\\xe8\\x81\\x08\\x00\\x00\\x01\\x00\\x00\\x00\\x06\\x00\\x00\\x001\\xd3yE\\x8c\\x00\\x00\\x00\\xcd\\xd6yE\\x8c\\x00\\x00\\x00{_\\xed\\x84\\r\\x01\\x00\\x00\\xb7a\\xed\\x84\\r\\x01\\x00\\x00_\\xbb\\xde\\xc8\\x8f\\x01\\x00\\x00\\x93\\xbc\\xde\\xc8\\x8f\\x01\\x00\\x00\\xe2\\x0f\\xbdRI\\x02\\x00\\x00~\\x1e\\xbdRI\\x02\\x00\\x00\\xc4\\x84\\x93V\\xca\\x02\\x00\\x00\\xd4\\x86\\x93V\\xca\\x02\\x00\\x009K\\xda\\xf0B\\x03\\x00\\x00uM\\xda\\xf0B\\x03\\x00\\x00\\x02\\x00\\x00\\x00\\x06\\x00\\x00\\x00\\xbdx\\x83\\x87)\\x04\\x00\\x00Iz\\x83\\x87)\\x04\\x00\\x00\\x1d\\xe9\\x9b\\xc0\\\\\\x04\\x00\\x00I\\xe9\\x9b\\xc0\\\\\\x04\\x00\\x00ZTv\\xa0\\xb5\\x04\\x00\\x00FWv\\xa0\\xb5\\x04\\x00\\x00\\xf2\\x99F\\xfa\\xff\\x04\\x00\\x00|\\x9aF\\xfa\\xff\\x04\\x00\\x00\\x075\\xd0\\x9b5\\x05\\x00\\x00W9\\xd0\\x9b5\\x05\\x00\\x00j\\xcd=*\\xbd\\x05\\x00\\x00\\x98\\xcd=*\\xbd\\x05\\x00\\x00\\x03\\x00\\x00\\x00\\x07\\x00\\x00\\x00\\x0e\\x11\\x0c\\xa2\\xe5\\x05\\x00\\x00P\\x12\\x0c\\xa2\\xe5\\x05\\x00\\x00\\xb5\\x1d!\\x9b5\\x06\\x00\\x00\\x9b\\x1e!\\x9b5\\x06\\x00\\x00.u\\xb9\\x0b\\xe2\\x06\\x00\\x00\\xe6u\\xb9\\x0b\\xe2\\x06\\x00\\x00\\x07\\xacXnS\\x07\\x00\\x00\\xd3\\xadXnS\\x07\\x00\\x00\\xd2\\xa3\\xa4l\\xab\\x07\\x00\\x006\\xa9\\xa4l\\xab\\x07\\x00\\x00X*?\\x03\\x05\\x08\\x00\\x00$,?\\x03\\x05\\x08\\x00\\x00n\\x8bg7=\\x08\\x00\\x00\\xe6\\x91g7=\\x08\\x00\\x00\\x04\\x00\\x00\\x00\\x05\\x00\\x00\\x00B\\xa2MJ\\x02\\t\\x00\\x00(\\xa3MJ\\x02\\t\\x00\\x00\\x8bA\\xe7JQ\\t\\x00\\x00\\x15B\\xe7JQ\\t\\x00\\x00\\xa44\\x19}\\xac\\t\\x00\\x00\\x847\\x19}\\xac\\t\\x00\\x00K\\xa4fI\\x1b\\n'\n",
      "b'\\x00\\x00\\xa7\\xa4fI\\x1b\\n'\n",
      "b'\\x00\\x00=\\xe6\\xe0kd\\n'\n",
      "b'\\x00\\x00\\xad\\xe7\\xe0kd\\n'\n",
      "b'\\x00\\x00\\t\\x00\\x00\\x00\\x06\\x00\\x00\\x00I\\x1b\\x96\\xba\\t\\x00\\x00\\x00c\\x1f\\x96\\xba\\t\\x00\\x00\\x00eg\\xe1W+\\x00\\x00\\x00\\x83j\\xe1W+\\x00\\x00\\x00\\x96FdJH\\x00\\x00\\x00\\xdeIdJH\\x00\\x00\\x00\\x1ajN7W\\x00\\x00\\x00\\x90lN7W\\x00\\x00\\x00F%V\\xb2j\\x00\\x00\\x00B&V\\xb2j\\x00\\x00\\x00\\xeb\\x16\\xefj~\\x00\\x00\\x00\\x8f\\x18\\xefj~\\x00\\x00\\x00\\n'\n",
      "b'\\x00\\x00\\x00\\x06\\x00\\x00\\x00\\xfcM\\x06\\r\\x9d\\x00\\x00\\x00\\x98Q\\x06\\r\\x9d\\x00\\x00\\x00\\xa8#\\xe1 \\xb3\\x00\\x00\\x00\\xb0$\\xe1 \\xb3\\x00\\x00\\x00\\x90\\xf4\\x9c\\x94\\xc2\\x00\\x00\\x00\\xf8\\xf6\\x9c\\x94\\xc2\\x00\\x00\\x00\\x99\\x8fP\\x94\\xdb\\x00\\x00\\x00\\xd5\\x91P\\x94\\xdb\\x00\\x00\\x00\\x83 r\\x98\\xe8\\x00\\x00\\x00\\x0f\"r\\x98\\xe8\\x00\\x00\\x00\\xb0\\xaac\\xdb\\xf1\\x00\\x00\\x00\\xf4\\xadc\\xdb\\xf1\\x00\\x00\\x00\\x0b\\x00\\x00\\x00\\x07\\x00\\x00\\x00\\x8a0\\x00\\xe3!\\x01\\x00\\x00B2\\x00\\xe3!\\x01\\x00\\x00g\\xb0\\xe0\\x0f+\\x01\\x00\\x00K\\xb2\\xe0\\x0f+\\x01\\x00\\x00;\\xc6\\xa3z=\\x01\\x00\\x00\\x8b\\xf1\\xa3z=\\x01\\x00\\x00=1\\xd1\\x99K\\x01\\x00\\x00\\xf52\\xd1\\x99K\\x01\\x00\\x00\\xae\\xa4 \\xc8\\\\\\x01\\x00\\x00n\\xa7 \\xc8\\\\\\x01\\x00\\x00\\xda:\\xc8\\xcek\\x01\\x00\\x00.@\\xc8\\xcek\\x01\\x00\\x00<\\xc0\\xd5*~\\x01\\x00\\x00\\x84\\xd4\\xd5*~\\x01\\x00\\x00\\x0c\\x00\\x00\\x00\\x07\\x00\\x00\\x000Z+\\x1f\\xab\\x01\\x00\\x00l\\\\+\\x1f\\xab\\x01\\x00\\x00A\\n'\n",
      "b'\\xcf\\x0b\\xcc\\x01\\x00\\x00\\xa9\\x0c\\xcf\\x0b\\xcc\\x01\\x00\\x00\\xb6\\xd59\\x0f\\xec\\x01\\x00\\x00\\xf2\\xd79\\x0f\\xec\\x01\\x00\\x00g&u\\xa7\\x03\\x02\\x00\\x00\\xcf(u\\xa7\\x03\\x02\\x00\\x00\\xc9t\\xd9\\xda\\x0c\\x02\\x00\\x00Uv\\xd9\\xda\\x0c\\x02\\x00\\x00\\x18Q\\x9c\\xd6\\x1b\\x02\\x00\\x00\\x80S\\x9c\\xd6\\x1b\\x02\\x00\\x00\\x1a\\xe2\\x19[/\\x02\\x00\\x00\\x82\\xe4\\x19[/\\x02\\x00\\x00\\r\\x00\\x00\\x00\\x07\\x00\\x00\\x00[UR~U\\x02\\x00\\x00\\xe7VR~U\\x02\\x00\\x00\\x03\\x81\\x03d_\\x02\\x00\\x00\\xdf\\x8c\\x03d_\\x02\\x00\\x00\\x02\\xc08~t\\x02\\x00\\x00\\xf6\\xc38~t\\x02\\x00\\x00& \\xe4c\\x83\\x02\\x00\\x00\\xe6\"\\xe4c\\x83\\x02\\x00\\x00g\\x13oC\\x96\\x02\\x00\\x00S\\x16oC\\x96\\x02\\x00\\x00\\xe9\\x89|\\xc7\\xa2\\x02\\x00\\x00\\xa9\\x8c|\\xc7\\xa2\\x02\\x00\\x00\\xca\\xfa\\\\\\xf4\\xb8\\x02\\x00\\x00f\\xfe\\\\\\xf4\\xb8\\x02\\x00\\x00\\x0e\\x00\\x00\\x00\\x07\\x00\\x00\\x00\\xeb\\xe9\\xba\\xe2\\xd9\\x02\\x00\\x00\\x7f\\xec\\xba\\xe2\\xd9\\x02\\x00\\x00\\'\\xa7\\x12\\xa4\\xed\\x02\\x00\\x00[\\xa8\\x12\\xa4\\xed\\x02\\x00\\x00\\xe0Z\\xfeY\\xfd\\x02\\x00\\x00\\x08`\\xfeY\\xfd\\x02\\x00\\x00\\x0b\\x93H\\xab\\x18\\x03\\x00\\x00G\\x95H\\xab\\x18\\x03\\x00\\x00\\xc9\\xe4i\\xf7*\\x03\\x00\\x00\\x15\\xe9i\\xf7*\\x03\\x00\\x00\\xd9M\\xcfQ5\\x03\\x00\\x00\\x91O\\xcfQ5\\x03\\x00\\x002B\\x04\\x9c=\\x03\\x00\\x00\\x16D\\x04\\x9c=\\x03\\x00\\x00\\x0f\\x00\\x00\\x00\\x07\\x00\\x00\\x00L\\xd2\\xddCI\\x03\\x00\\x00(\\xd3\\xddCI\\x03\\x00\\x00\\xaaS\\xe4\\x81W\\x03\\x00\\x00\\xc2V\\xe4\\x81W\\x03\\x00\\x00\\xac\\xc7\\xc0\\x02g\\x03\\x00\\x00P\\xcc\\xc0\\x02g\\x03\\x00\\x00Sd\\xcf\\x7fw\\x03\\x00\\x00\\x87e\\xcf\\x7fw\\x03\\x00\\x00\\xd8h\\xe1a\\x86\\x03\\x00\\x00@k\\xe1a\\x86\\x03\\x00\\x00\\xb3\\x80\\'D\\x8e\\x03\\x00\\x00\\xcb\\x83\\'D\\x8e\\x03\\x00\\x00\\xec\\x8a5x\\x95\\x03\\x00\\x00\\xd0\\x8c5x\\x95\\x03\\x00\\x00\\x10\\x00\\x00\\x00\\x07\\x00\\x00\\x00{\\xfd\\xa2\\xb7\\xac\\x03\\x00\\x00;\\x01\\x9d\\xf2\\xac\\x03\\x00\\x00V\\xa9\\xc2g\\xb4\\x03\\x00\\x00B\\xac\\xc2g\\xb4\\x03\\x00\\x00\\xa00\\x8a\\xcd\\xbc\\x03\\x00\\x00(7\\x8a\\xcd\\xbc\\x03\\x00\\x00\\xc5\\x91\\x1c\\xca\\xc6\\x03\\x00\\x00\\xd5\\x93\\x1c\\xca\\xc6\\x03\\x00\\x00\\xed(z\\xfd\\xce\\x03\\x00\\x00\\xa5*z\\xfd\\xce\\x03\\x00\\x00F\\xd1\\xbdV\\xd7\\x03\\x00\\x00r\\xd1\\xbdV\\xd7\\x03\\x00\\x00\\x8c\\xdb\\x98\\xa2\\xe5\\x03\\x00\\x00\\x9c\\xdd\\x98\\xa2\\xe5\\x03\\x00\\x00\\x11\\x00\\x00\\x00\\x07\\x00\\x00\\x00\\xd8\\x9f<\\x80\\xfd\\x03\\x00\\x00\\xc4\\xa2<\\x80\\xfd\\x03\\x00\\x00\\xf8\\xad\\xd7\\x88\\x04\\x04\\x00\\x00|\\xae\\xd7\\x88\\x04\\x04\\x00\\x00Qu\\x1e\\xe2\\t\\x04\\x00\\x00}u\\x1e\\xe2\\t\\x04\\x00\\x00\\xbd\\xa7\\xcc\\xbd\\x12\\x04\\x00\\x00\\xf1\\xa8\\xcc\\xbd\\x12\\x04\\x00\\x00\\x05\\xfc\"\\x0c\\x19\\x04\\x00\\x00e\\xfd\"\\x0c\\x19\\x04\\x00\\x00%\\x01e|\\x1e\\x04\\x00\\x00\\xb1\\x02e|\\x1e\\x04\\x00\\x00\\xadW\\x985#\\x04\\x00\\x00eY\\x985#\\x04\\x00\\x00\\x12\\x00\\x00\\x00\\x07\\x00\\x00\\x00|\\xb3\\xa7\\xbe0\\x04\\x00\\x00\\x8c\\xb5\\xa7\\xbe0\\x04\\x00\\x00/Cv\\x7f7\\x04\\x00\\x00\\x87Cv\\x7f7\\x04\\x00\\x00h\\xbd\\xb2}C\\x04\\x00\\x00(\\xc0\\xb2}C\\x04\\x00\\x00=\\x06\\x12kI\\x04\\x00\\x00\\xed\\x06\\x12kI\\x04\\x00\\x00\\x8e\\xb9j\"N\\x04\\x00\\x00r\\xbbj\"N\\x04\\x00\\x00>i\\x88\\x1fS\\x04\\x00\\x00\\xc2i\\x88\\x1fS\\x04\\x00\\x00\\x9c\\x15V\\x83X\\x04\\x00\\x00\\xf8\\x1bV\\x83X\\x04\\x00\\x00\\x13\\x00\\x00\\x00\\x07\\x00\\x00\\x00`\"!Re\\x04\\x00\\x00\\x8c\"!Re\\x04\\x00\\x00\\x88\\xde\\x10Ou\\x04\\x00\\x00\\xc8\\xe6\\x10Ou\\x04\\x00\\x00\\xf7\\xc8y\\x12}\\x04\\x00\\x00\\xdb\\xcay\\x12}\\x04\\x00\\x00\\x8b\\xfd\\x10\\xbb\\x88\\x04\\x00\\x00\\x17\\x00#\\xf7\\x88\\x04\\x00\\x001\\xabM\\t\\x8f\\x04\\x00\\x00Q\\xafM\\t\\x8f\\x04\\x00\\x00A\\x9b`A\\xa0\\x04\\x00\\x00}\\x9d`A\\xa0\\x04\\x00\\x00\\xd7\\xa2\\xc9\\\\\\xaa\\x04\\x00\\x00\\xe7\\xa4\\xc9\\\\\\xaa\\x04\\x00\\x00\\x14\\x00\\x00\\x00\\x07\\x00\\x00\\x00\\x8cJ\\n'\n",
      "b')\\xc1\\x04\\x00\\x00LM\\n'\n",
      "b')\\xc1\\x04\\x00\\x00\\xc7\\xfc\\x92\\x16\\xd0\\x04\\x00\\x00\\xcf\\xfd\\x92\\x16\\xd0\\x04\\x00\\x00\\xd7\\x8a\\'\\x11\\xdb\\x04\\x00\\x007\\x8c\\'\\x11\\xdb\\x04\\x00\\x00\\xb81\\x07\\xba\\xe2\\x04\\x00\\x00T5\\x07\\xba\\xe2\\x04\\x00\\x00-^\\xcdJ\\xe9\\x04\\x00\\x00\\xb1^\\xcdJ\\xe9\\x04\\x00\\x00\\xe8n\\xc8~\\xf0\\x04\\x00\\x00\\x1cp\\xc8~\\xf0\\x04\\x00\\x00{\\xe6\\xaf\\xa2\\xf6\\x04\\x00\\x00\\xb7\\xe8\\xaf\\xa2\\xf6\\x04\\x00\\x00\\x15\\x00\\x00\\x00\\x06\\x00\\x00\\x00U\\xdaJ~\\x0e\\x05\\x00\\x00\\x85\\xe1J~\\x0e\\x05\\x00\\x00%\\x9c\\x04\\xfb\\x15\\x05\\x00\\x00\\x1f\\x9e\\x04\\xfb\\x15\\x05\\x00\\x00\\xcf\\xee\\xee=\\x1e\\x05\\x00\\x00\\xe3\\xef\\xee=\\x1e\\x05\\x00\\x00@\\xc3\\r\\xa1\"\\x05\\x00\\x00\\x0c\\xc5\\r\\xa1\"\\x05\\x00\\x00\\xc8\\xf0\\xf05\\'\\x05\\x00\\x00\\n'\n",
      "b\"\\xf2\\xf05'\\x05\\x00\\x00\\xbd\\x01vN-\\x05\\x00\\x00\\xe5\\x03vN-\\x05\\x00\\x00\\x16\\x00\\x00\\x00\\x07\\x00\\x00\\x00M\\x85\\x91%N\\x05\\x00\\x00\\x97\\x8b\\x91%N\\x05\\x00\\x00\\x01m@\\xc3b\\x05\\x00\\x00\\xa3|@\\xc3b\\x05\\x00\\x00\\xdf\\x17\\xabAw\\x05\\x00\\x00c\\x1a\\xabAw\\x05\\x00\\x00%\\x10\\xdbz\\x84\\x05\\x00\\x00\\x89\\x15\\xdbz\\x84\\x05\\x00\\x00\\xff(3)\\x90\\x05\\x00\\x00-)3)\\x90\\x05\\x00\\x00\\xa8\\x89\\xcf\\xdb\\xa3\\x05\\x00\\x00n\\x8d\\xcf\\xdb\\xa3\\x05\\x00\\x00bN\\xac\\xd4\\xac\\x05\\x00\\x00\\x9eQ\\xac\\xd4\\xac\\x05\\x00\\x00\\x17\\x00\\x00\\x00\\x02\\x00\\x00\\x00\\x08\\x86c]\\xd1\\x05\\x00\\x00J\\x87c]\\xd1\\x05\\x00\\x00\\x0b\\x05\\xb8\\x0b\\xdb\\x05\\x00\\x00\\x95\\x05\\xb8\\x0b\\xdb\\x05\\x00\\x00\\x1a\\x00\\x00\\x00\\x05\\x00\\x00\\x00\\x18,T\\xa4\\xe9\\x05\\x00\\x00\\xfe,T\\xa4\\xe9\\x05\\x00\\x00\\xfd\\xe8\\xc9\\xed\\xfe\\x05\\x00\\x00+\\xe9\\xc9\\xed\\xfe\\x05\\x00\\x00F\\xee\\x944\\x03\\x06\\x00\\x00\\xb6\\xef\\x944\\x03\\x06\\x00\\x00,\\xf9vR\\r\\x06\\x00\\x00\\x88\\xf9vR\\r\\x06\\x00\\x00\\x04\\xf9<\\xe4\\x17\\x06\\x00\\x002\\xf9<\\xe4\\x17\\x06\\x00\\x00\\x1b\\x00\\x00\\x00\\x07\\x00\\x00\\x00\\x83\\x15=\\x9cR\\x06\\x00\\x00}\\x17=\\x9cR\\x06\\x00\\x00\\xb2\\xfb\\x92\\x8cY\\x06\\x00\\x00\\xc0\\xfe\\x92\\x8cY\\x06\\x00\\x00\\x82p\\xc9oq\\x06\\x00\\x00\\x84w\\xc9oq\\x06\\x00\\x00\\xe3\\n\"\n",
      "b'\\xb5\\x10\\x95\\x06\\x00\\x00\\x8d\\x1f\\xb5\\x10\\x95\\x06\\x00\\x00\\x9e\\x11\\xb3\\x9c\\xb3\\x06\\x00\\x00P\\x14\\xb3\\x9c\\xb3\\x06\\x00\\x00\\x93j\\x0ct\\xd0\\x06\\x00\\x00Kk\\x0ct\\xd0\\x06\\x00\\x00\\x91N!\\x99\\xd9\\x06\\x00\\x00wO!\\x99\\xd9\\x06\\x00\\x00\\x1c\\x00\\x00\\x00\\x08\\x00\\x00\\x00\\x0f\\x95=\\x1c\\xf5\\x06\\x00\\x00\\xad\\x96=\\x1c\\xf5\\x06\\x00\\x00\\x8b\\x82\\xd1c\\x13\\x07\\x00\\x00=\\x85\\xd1c\\x13\\x07\\x00\\x00&\\x9c\\xd9\\x9e\\x1f\\x07\\x00\\x00T\\x9c\\xd9\\x9e\\x1f\\x07\\x00\\x00\\x92\\xaa\\xa3\\xe1\\'\\x07\\x00\\x00x\\xab\\xa3\\xe1\\'\\x07\\x00\\x00\\xa8\\xfe\\xa0u-\\x07\\x00\\x00\\xd6\\xfe\\xa0u-\\x07\\x00\\x00\\x04\\x00)\\xae-\\x07\\x00\\x00\\xea\\x00)\\xae-\\x07\\x00\\x00D\\x97Yu7\\x07\\x00\\x00R\\x9aYu7\\x07\\x00\\x00p\\xce>\\x8a?\\x07\\x00\\x00\\x0e\\xd0>\\x8a?\\x07\\x00\\x00\\x1d\\x00\\x00\\x00\\x07\\x00\\x00\\x00s\\x83o\\x9e_\\x07\\x00\\x00+\\x84o\\x9e_\\x07\\x00\\x00b\\xd0z\\xabl\\x07\\x00\\x00\\x8a\\xd2z\\xabl\\x07\\x00\\x00\\x1b\\xd0!ms\\x07\\x00\\x00]\\xd1!ms\\x07\\x00\\x00|\\xa0\\xc0\\xde~\\x07\\x00\\x00\\xaa\\xa0\\xc0\\xde~\\x07\\x00\\x00\\xb6ga\\'\\x8b\\x07\\x00\\x00\\xf8ha\\'\\x8b\\x07\\x00\\x00 \\x8f%\\x02\\x98\\x07\\x00\\x00\\x06\\x90%\\x02\\x98\\x07\\x00\\x00]w{M\\xa3\\x07\\x00\\x00\\xad{{M\\xa3\\x07\\x00\\x00\\x1e\\x00\\x00\\x00\\x07\\x00\\x00\\x00\\xac\\xa1\\x99\\xb9\\xb2\\x07\\x00\\x00D\\xa5\\x99\\xb9\\xb2\\x07\\x00\\x00\\x01q\\xfcm\\xb9\\x07\\x00\\x00Cr\\xfcm\\xb9\\x07\\x00\\x00;6\\x9d5\\xc5\\x07\\x00\\x00w9\\x9d5\\xc5\\x07\\x00\\x00\\xa2\\x9a\\xbf~\\xd2\\x07\\x00\\x00\\x0c\\x9e\\xbf~\\xd2\\x07\\x00\\x00z\\xe7n\\xfe\\xe1\\x07\\x00\\x00\\x8e\\xe8n\\xfe\\xe1\\x07\\x00\\x00;d\\xae\\xb7\\xec\\x07\\x00\\x00\\x1bg\\xae\\xb7\\xec\\x07\\x00\\x00\\x99\\xf3^\\xaa\\xf9\\x07\\x00\\x00\\x93\\xf5^\\xaa\\xf9\\x07\\x00\\x00\\x1f\\x00\\x00\\x00\\x07\\x00\\x00\\x00\\x81\\x89\\x0c\\x0e\\x15\\x08\\x00\\x009\\x8a\\x0c\\x0e\\x15\\x08\\x00\\x00@\\xb3\\xc6\\xfe\\x1c\\x08\\x00\\x00\\xf8\\xb3\\xc6\\xfe\\x1c\\x08\\x00\\x00\\xe3\\xdc\\x93\\xf6\"\\x08\\x00\\x00\\x9b\\xdd\\x93\\xf6\"\\x08\\x00\\x00&\\xcf=S\\'\\x08\\x00\\x00h\\xd0=S\\'\\x08\\x00\\x00\":\\xbe}+\\x08\\x00\\x00\\x08;\\xbe}+\\x08\\x00\\x00o\\xfbo\\xa1/\\x08\\x00\\x00\\r\\xfdo\\xa1/\\x08\\x00\\x00\\x9c\\xcc\\xc7?4\\x08\\x00\\x00:\\xce\\xc7?4\\x08\\x00\\x00 \\x00\\x00\\x00\\x06\\x00\\x00\\x00:\\xe0c\\xe8K\\x08\\x00\\x00\\xbe\\xe2c\\xe8K\\x08\\x00\\x00\\xc6\\xe8\\xa3SP\\x08\\x00\\x00P\\xe9\\xa3SP\\x08\\x00\\x00}\\x9c\\xff\\x9bU\\x08\\x00\\x00\\xb9\\x9f\\xff\\x9bU\\x08\\x00\\x00z\\x9f\\xb1\\x1c`\\x08\\x00\\x00\\xbc\\xa0\\xb1\\x1c`\\x08\\x00\\x00\\xae\\xb3\\x89(l\\x08\\x00\\x00\\xf0\\xb4\\x89(l\\x08\\x00\\x00\\xb6`#Cs\\x08\\x00\\x00\\x96c#Cs\\x08\\x00\\x00!\\x00\\x00\\x00\\x07\\x00\\x00\\x006\\xa1\\xd9G\\x92\\x08\\x00\\x00x\\xa2\\xd9G\\x92\\x08\\x00\\x00(\\xa1\\xd9\\xa7\\xa8\\x08\\x00\\x00\\x0e\\xa2\\xd9\\xa7\\xa8\\x08\\x00\\x002\\xe0\\x9c\\xb2\\xba\\x08\\x00\\x00f\\xf5\\x9c\\xb2\\xba\\x08\\x00\\x00Rz\\x14\\xb6\\xcb\\x08\\x00\\x00\\x80z\\x14\\xb6\\xcb\\x08\\x00\\x00F\\x14\\xf3|\\xd6\\x08\\x00\\x00t\\x14\\xf3|\\xd6\\x08\\x00\\x00\\x03\\xf4\\x80\\x87\\xee\\x08\\x00\\x00%\\xf8\\x80\\x87\\xee\\x08\\x00\\x00S\\x98\\x04\\xa0\\xfb\\x08\\x00\\x00\\xa9\\x9a\\x04\\xa0\\xfb\\x08\\x00\\x00\"\\x00\\x00\\x00\\x07\\x00\\x00\\x00\\xeb\\xf6\\x9b_\\x0e\\t\\x00\\x00u\\xf7\\x9b_\\x0e\\t\\x00\\x00\\xfd\\xbb\\xd9\\xf9\\x19\\t\\x00\\x00\\x0b\\xbf\\xd9\\xf9\\x19\\t\\x00\\x00\\xd0a`\\x99-\\t\\x00\\x00\\xf8c`\\x99-\\t\\x00\\x00\\x84\\xb7\\xc4\\xad7\\t\\x00\\x00\\x92\\xba\\xc4\\xad7\\t\\x00\\x00\\xc71\\x8fn@\\t\\x00\\x00\\xef3\\x8fn@\\t\\x00\\x00\\x9e&\\x81\\x0eF\\t\\x00\\x00\\xcc&\\x81\\x0eF\\t\\x00\\x00\\x91a\\x8e8K\\t\\x00\\x00]c\\x8e8K\\t\\x00\\x00#\\x00\\x00\\x00\\x06\\x00\\x00\\x00\\x8f\\x17\\x84\\xdbW\\t\\x00\\x00[\\x19\\x84\\xdbW\\t\\x00\\x00\\xb7\\xad\\xbaw^\\t\\x00\\x00U\\xaf\\xbaw^\\t\\x00\\x00\\x0e\\xa2\\xceOi\\t\\x00\\x00d\\xa4\\xceOi\\t\\x00\\x00\\x82\\\\\\xf1ft\\t\\x00\\x00v`\\xf1ft\\t\\x00\\x00\\xd3\\x91\\xbb;\\x80\\t\\x00\\x00\\x01\\x92\\xbb;\\x80\\t\\x00\\x00\\xee\\x1b\\x96S\\x8d\\t\\x00\\x00\\x86\\x1f\\x96S\\x8d\\t\\x00\\x00$\\x00\\x00\\x00\\x07\\x00\\x00\\x00o\\xec\\xc4Q\\xbd\\t\\x00\\x00!\\xef\\xc4Q\\xbd\\t\\x00\\x00\\xd2\\xcf\\x80\\xf8\\xd1\\t\\x00\\x00\\xe0\\xd2\\x80\\xf8\\xd1\\t\\x00\\x00\\x08\\x13\\x8d_\\xe1\\t\\x00\\x00\\x02\\x15\\x8d_\\xe1\\t\\x00\\x00\\x90D\\xc6B\\xed\\t\\x00\\x00\\x00F\\xc6B\\xed\\t\\x00\\x00\\xac\\x99l\\x1c\\xfb\\t\\x00\\x006\\x9al\\x1c\\xfb\\t\\x00\\x00\\xcaq\\xb4\\xa5\\x04\\n'\n",
      "b'\\x00\\x00\\xaat\\xb4\\xa5\\x04\\n'\n",
      "b'\\x00\\x00\\xf4\\xb7\\x90r\\r\\n'\n",
      "b'\\x00\\x00\\xac\\xb8\\x90r\\r\\n'\n",
      "b'\\x00\\x00%\\x00\\x00\\x00\\x07\\x00\\x00\\x00s\\xd8\\xcc\\x06.\\n'\n",
      "b'\\x00\\x00+\\xd9\\xcc\\x06.\\n'\n",
      "b'\\x00\\x00\\xb4Y|\\x0f>\\n'\n",
      "b'\\x00\\x00\\xdc[|\\x0f>\\n'\n",
      "b'\\x00\\x00\\xc2(M&D\\n'\n",
      "b'\\x00\\x00`*M&D\\n'\n",
      "b'\\x00\\x00\\xba\\xd4\\x8fYI\\n'\n",
      "b'\\x00\\x00\\xc8\\xd7\\x8fYI\\n'\n",
      "b'\\x00\\x00\\x14}\\xee\\xeaO\\n'\n",
      "b'\\x00\\x00\\x98\\x7f\\xee\\xeaO\\n'\n",
      "b'\\x00\\x00\\xfa\\xa5\\xce\\xfcU\\n'\n",
      "b'\\x00\\x00<\\xa7\\xce\\xfcU\\n'\n",
      "b'\\x00\\x00\\x18\\xb2(r_\\n'\n",
      "b'\\x00\\x00&\\xb5(r_\\n'\n",
      "b'\\x00\\x00&\\x00\\x00\\x00\\x04\\x00\\x00\\x00\\xd3\\xf1\\xeeKq\\n'\n",
      "b'\\x00\\x00C\\xf3\\xeeKq\\n'\n",
      "b'\\x00\\x00hM>\\x90\\x83\\n'\n",
      "b'\\x00\\x00bO>\\x90\\x83\\n'\n",
      "b'\\x00\\x00,\\x9a\\xed%\\x98\\n'\n",
      "b'\\x00\\x00N\\x9e\\xed%\\x98\\n'\n",
      "b'\\x00\\x00\\x94S\\xadv\\xa1\\n'\n",
      "b'\\x00\\x00\\x8eU\\xadv\\xa1\\n'\n",
      "b'\\x00\\x00I\\x00\\x00\\x00\\x03\\x00\\x00\\x00 B\\x00\\x00\\x00\\x00\\x00\\x00\\x7f\\xd0\\x00\\x00\\x00\\x00\\x00\\x00\\xa8IQ\\x83\\x01\\x00\\x00\\x00\\xd0IQ\\x83\\x01\\x00\\x00\\x00i\\x93\\xa6K\\x04\\x00\\x00\\x00\\xe9\\x9a\\xa6K\\x04\\x00\\x00\\x00J\\x00\\x00\\x00\\x08\\x00\\x00\\x00]\\xd6\\xf2\\xb7\\x0e\\x00\\x00\\x00\\xa1\\xda\\xf2\\xb7\\x0e\\x00\\x00\\x00$\\xd4\\x10\\xfc\\x13\\x00\\x00\\x00\\xd8\\xfb\\x10\\xfc\\x13\\x00\\x00\\x00t\\x00\\xf59\\x14\\x00\\x00\\x00\\x13I\\x0bu\\x14\\x00\\x00\\x00\\x03\\xda\\xf2B\\x18\\x00\\x00\\x00\\xa3\\xdc\\xf2B\\x18\\x00\\x00\\x00\\n'\n",
      "b'N\\xa6\\xb9\\x1d\\x00\\x00\\x00JS\\xa6\\xb9\\x1d\\x00\\x00\\x00w\\xb9M\\x99 \\x00\\x00\\x00\\x0f\\xbeM\\x99 \\x00\\x00\\x00D\\xe6*|$\\x00\\x00\\x00\\xd8\\xeb*|$\\x00\\x00\\x00@\\xf5_\\x8e\\'\\x00\\x00\\x00\\xba\\xf6_\\x8e\\'\\x00\\x00\\x00K\\x00\\x00\\x00\\x06\\x00\\x00\\x00t\"\\r\\x885\\x00\\x00\\x00r-\\r\\x885\\x00\\x00\\x00\\xcfs\\x8a\\xba:\\x00\\x00\\x00\\x1bv\\x8a\\xba:\\x00\\x00\\x003\\xb7\\x872@\\x00\\x00\\x00\\xa7\\xc4\\x872@\\x00\\x00\\x00{\\xb9S\\xbfC\\x00\\x00\\x00\\xf1\\xb2Y~D\\x00\\x00\\x00\\x00?7\\xedE\\x00\\x00\\x00vA7\\xedE\\x00\\x00\\x00\\rb\\xd6\\x1dG\\x00\\x00\\x00\\x83d\\xd6\\x1dG\\x00\\x00\\x00L\\x00\\x00\\x00\\x06\\x00\\x00\\x00\\xdb[FvI\\x00\\x00\\x00Y\\\\FvI\\x00\\x00\\x00\\x05+Q\\xe3J\\x00\\x00\\x00)LQ\\xe3J\\x00\\x00\\x00\\xe9-\\x9c\\x0eM\\x00\\x00\\x00\\xd91\\x9c\\x0eM\\x00\\x00\\x00W\\xde)\\xf2O\\x00\\x00\\x00\\xa3\\xe0)\\xf2O\\x00\\x00\\x00^\\x0b \\x04S\\x00\\x00\\x00|\\x0e \\x04S\\x00\\x00\\x00\\xa0\\xd1f\\x90U\\x00\\x00\\x00\\x94kN7W\\x00\\x00\\x00M\\x00\\x00\\x00\\x02\\x00\\x00\\x00\\x90lN7W\\x00\\x00\\x00\\x92\\xb3K\\xbeZ\\x00\\x00\\x00 \\x19\\xa9\\xed[\\x00\\x00\\x00\\x90]cH^\\x00\\x00\\x00N\\x00\\x00\\x00\\x03\\x00\\x00\\x00\\x90]cH^\\x00\\x00\\x00\\xd9\\xe4\\xed\\x1ea\\x00\\x00\\x00N&\\x8fMb\\x00\\x00\\x00\\x13\\xefq0d\\x00\\x00\\x00\\xd0\\xbb{Eh\\x00\\x00\\x004\\xcd{Eh\\x00\\x00\\x00O\\x00\\x00\\x00\\x05\\x00\\x00\\x00\\xc5U\\xb0Um\\x00\\x00\\x00aY\\xb0Um\\x00\\x00\\x00#\\xb8thq\\x00\\x00\\x00\\x9f\\xc3thq\\x00\\x00\\x00\\xb3\\x8f#av\\x00\\x00\\x00i\\x97#av\\x00\\x00\\x00\\x9d\\xe9\\xe1\\x88x\\x00\\x00\\x00k\\xeb\\xe1\\x88x\\x00\\x00\\x002\\x13\\xe7\\x95{\\x00\\x00\\x00\\xbd\\x17\\xefj~\\x00\\x00\\x00P\\x00\\x00\\x00\\x04\\x00\\x00\\x00\\x8f\\x18\\xefj~\\x00\\x00\\x00\\xb3\\x80\\xa0J\\x80\\x00\\x00\\x00A\\xa3 y\\x81\\x00\\x00\\x00\\x03\\xa8 y\\x81\\x00\\x00\\x00\\xc59\\xa6\\xcb\\x84\\x00\\x00\\x00\\xaa\\x9d\\r\\xc6\\x85\\x00\\x00\\x00\\xa6:\\n'\n",
      "b'W\\x89\\x00\\x00\\x00\\xf2<\\n'\n",
      "b'W\\x89\\x00\\x00\\x00Q\\x00\\x00\\x00\\x07\\x00\\x00\\x00]X\\xbf\\xb9\\x8e\\x00\\x00\\x00\\xadY\\xbf\\xb9\\x8e\\x00\\x00\\x00\\xef\\xc1Q3\\x90\\x00\\x00\\x00\\x11\\xc4Q3\\x90\\x00\\x00\\x003\\xdf~\\xaf\\x91\\x00\\x00\\x00\\xa9\\xe1~\\xaf\\x91\\x00\\x00\\x00\\t\\x93\\x1f_\\x93\\x00\\x00\\x00\\xa5\\x96\\x1f_\\x93\\x00\\x00\\x00G\\xf1\\x9a\\x82\\x96\\x00\\x00\\x003\\xf6\\x9a\\x82\\x96\\x00\\x00\\x00$>\\xfd9\\x98\\x00\\x00\\x00\\xf2?\\xfd9\\x98\\x00\\x00\\x00\\xb8\\xc8$\\x18\\x9b\\x00\\x00\\x00\\x00\\xcc$\\x18\\x9b\\x00\\x00\\x00R\\x00\\x00\\x00\\x08\\x00\\x00\\x00\\xee\\xed$\\xf6\\x9e\\x00\\x00\\x00\\x10\\xf0$\\xf6\\x9e\\x00\\x00\\x00<\\xfc\\xf6\\x04\\xa3\\x00\\x00\\x00f\\xfc\\xf6\\x04\\xa3\\x00\\x00\\x00(\\x02\\xeeC\\xa3\\x00\\x00\\x00\\xc4\\x05\\xeeC\\xa3\\x00\\x00\\x00\\x97\\xc2\\xc4*\\xa7\\x00\\x00\\x00\\xc1\\xc2\\xc4*\\xa7\\x00\\x00\\x00\\x08\\xb7\\xd3\\x9c\\xa9\\x00\\x00\\x00\\xce\\xba\\xd3\\x9c\\xa9\\x00\\x00\\x00\\xe5\\xb9\\xef\\xda\\xac\\x00\\x00\\x00\\xe9\\xe0\\xef\\xda\\xac\\x00\\x00\\x00\\xeb<\\xb2\\xfb\\xad\\x00\\x00\\x00\\xa5\\x15h\\xef\\xae\\x00\\x00\\x00>$G\\xd0\\xb0\\x00\\x00\\x00\\x1a%G\\xd0\\xb0\\x00\\x00\\x00S\\x00\\x00\\x00\\x07\\x00\\x00\\x00\\x0f\\xca\\xae\\x1d\\xb6\\x00\\x00\\x00\\xd7\\xcd\\xae\\x1d\\xb6\\x00\\x00\\x00?\\xfd\\x0fJ\\xb7\\x00\\x00\\x00\\x17\\x04.\\x87\\xb7\\x00\\x00\\x00Gg\\xa0]\\xb9\\x00\\x00\\x00\\x8bj\\xa0]\\xb9\\x00\\x00\\x00\\xb3\\xc6)\\xc2\\xba\\x00\\x00\\x00k\\xc8)\\xc2\\xba\\x00\\x00\\x00\\xb5\\x97\\xd2\\xc0\\xbd\\x00\\x00\\x00\\x99\\x99\\xd2\\xc0\\xbd\\x00\\x00\\x00\\x02Y)#\\xbf\\x00\\x00\\x00j[)#\\xbf\\x00\\x00\\x00\\x10\\x891\\xa8\\xc1\\x00\\x00\\x00\\xcc\\xf6\\x9c\\x94\\xc2\\x00\\x00\\x00T\\x00\\x00\\x00\\x06\\x00\\x00\\x00iu\\xef\\xf2\\xc3\\x00\\x00\\x00\\xd9x\\xef\\xf2\\xc3\\x00\\x00\\x00b\\n'\n",
      "b'\\xc5\\xdd\\xc7\\x00\\x00\\x00\\x08\\xd9\\xc5\\xdd\\xc7\\x00\\x00\\x00\\xea\\x84yY\\xcb\\x00\\x00\\x00\\xce\\x86yY\\xcb\\x00\\x00\\x00\\x0b\\xadh\\x1c\\xd0\\x00\\x00\\x00\\xf7\\xafh\\x1c\\xd0\\x00\\x00\\x00\\xf2 \\x7f\\xad\\xd2\\x00\\x00\\x00~\"\\x7f\\xad\\xd2\\x00\\x00\\x00q2\\xfb\\xf0\\xd8\\x00\\x00\\x00\\xed\\xb8,\\xe7\\xd9\\x00\\x00\\x00U\\x00\\x00\\x00\\x01\\x00\\x00\\x00\\xf2+g%\\xde\\x00\\x00\\x00\\x1eWN\\x91\\xdf\\x00\\x00\\x00V\\x00\\x00\\x00\\x02\\x00\\x00\\x00\\xe2_N\\x91\\xdf\\x00\\x00\\x00A\\xcf\\x84p\\xe1\\x00\\x00\\x00B\\xf1?)\\xe5\\x00\\x00\\x00\\x8b!r\\x98\\xe8\\x00\\x00\\x00W\\x00\\x00\\x00\\x04\\x00\\x00\\x00\\x0f\"r\\x98\\xe8\\x00\\x00\\x00\\xc4\\xd5\\x15\\x04\\xec\\x00\\x00\\x00|\\xa1\\x8e+\\xed\\x00\\x00\\x00\\xb8\\xa3\\x8e+\\xed\\x00\\x00\\x00i\\x1f\\x9b\\x8d\\xee\\x00\\x00\\x009$\\x9b\\x8d\\xee\\x00\\x00\\x00W\\x92A7\\xf0\\x00\\x00\\x00\\x07\\x93A7\\xf0\\x00\\x00\\x00X\\x00\\x00\\x00\\x07\\x00\\x00\\x00\"\\x87\\xfds\\xf8\\x00\\x00\\x00z\\x87\\xfds\\xf8\\x00\\x00\\x00\\x03\\x81\\xd5\\xfe\\xfa\\x00\\x00\\x00\\xb3\\x81\\xd5\\xfe\\xfa\\x00\\x00\\x00\\xdd\\xadV\\xe8\\xfc\\x00\\x00\\x00\\xc1\\xafV\\xe8\\xfc\\x00\\x00\\x00MS4A\\x01\\x01\\x00\\x00yS4A\\x01\\x01\\x00\\x00\\x95\\x98s\\x11\\x04\\x01\\x00\\x00\\xfd\\x9as\\x11\\x04\\x01\\x00\\x00\\x04\\xc6\\x02.\\x06\\x01\\x00\\x00\\xc0\\xe3\\x02.\\x06\\x01\\x00\\x00\\xcdkh\\x9d\\t\\x01\\x00\\x00\\xa9lh\\x9d\\t\\x01\\x00\\x00Y\\x00\\x00\\x00\\x06\\x00\\x00\\x00}A\\x9f\\xd8\\x0f\\x01\\x00\\x00\\xa9A\\x9f\\xd8\\x0f\\x01\\x00\\x00a\\xf5\\xa0\\xf9\\x13\\x01\\x00\\x00\\x81\\x9b\\x02\\xac\\x14\\x01\\x00\\x00\\xf3\\x17[\\xed\\x19\\x01\\x00\\x00\\x7f\\x19[\\xed\\x19\\x01\\x00\\x00r\\xdb0|\\x1c\\x01\\x00\\x00\\xe2\\xde0|\\x1c\\x01\\x00\\x00\\xfd\\xf4\\x05%\\x1e\\x01\\x00\\x00\"\\x0b\\xf8_\\x1e\\x01\\x00\\x007l\\xa1\\x8e\\x1f\\x01\\x00\\x00#o\\xa1\\x8e\\x1f\\x01\\x00\\x00Z\\x00\\x00\\x00\\x05\\x00\\x00\\x004|FK#\\x01\\x00\\x00\\x1d\\xf7FK#\\x01\\x00\\x002\\x00\\xa3\\x86#\\x01\\x00\\x00\\xeeI\\xa3\\x86#\\x01\\x00\\x00\\n'\n",
      "b\"Um(%\\x01\\x00\\x00r\\xb2\\xdb\\x12&\\x01\\x00\\x00?\\r\\x884'\\x01\\x00\\x00\\\\\\x9dT\\x1c(\\x01\\x00\\x00\\xa6\\x86\\xd9@)\\x01\\x00\\x00\\xc7\\xb1\\xe0\\x0f+\\x01\\x00\\x00[\\x00\\x00\\x00\\x06\\x00\\x00\\x00Gv\\xd06,\\x01\\x00\\x00\\xc8\\xf7\\x83 -\\x01\\x00\\x00\\xf2\\x164\\x980\\x01\\x00\\x00\\xda\\x1e4\\x980\\x01\\x00\\x00\\xcc\\xef\\xce\\x953\\x01\\x00\\x00\\xc0\\xf3\\xce\\x953\\x01\\x00\\x00\\xde\\x8d%\\x055\\x01\\x00\\x00F\\x9b%\\x055\\x01\\x00\\x002\\x81\\xc6~8\\x01\\x00\\x00Z\\x86\\xc6~8\\x01\\x00\\x00\\xf4\\x87\\\\\\xae:\\x01\\x00\\x00X\\x8f\\\\\\xae:\\x01\\x00\\x00\\\\\\x00\\x00\\x00\\x06\\x00\\x00\\x00CR\\x96+A\\x01\\x00\\x00\\xdfU\\x96+A\\x01\\x00\\x00\\x96\\xb5KTB\\x01\\x00\\x00\\x1a\\xb6KTB\\x01\\x00\\x00]\\x8e\\x80\\xecC\\x01\\x00\\x00/\\xb7t\\xdcD\\x01\\x00\\x00V\\xd4\\x94\\x80F\\x01\\x00\\x00n\\xd7\\x94\\x80F\\x01\\x00\\x00-\\r{\\xe2G\\x01\\x00\\x00\\xc1\\x0f{\\xe2G\\x01\\x00\\x00_\\xf3\\xaa\\x82I\\x01\\x00\\x00\\x1f\\xf6\\xaa\\x82I\\x01\\x00\\x00]\\x00\\x00\\x00\\x05\\x00\\x00\\x00B\\x98\\xc7bN\\x01\\x00\\x00\\x1e\\x99\\xc7bN\\x01\\x00\\x00\\x05\\ta\\xf5O\\x01\\x00\\x00:\\x9b\\xe8YR\\x01\\x00\\x00\\xb9\\xaf\\x13\\x84V\\x01\\x00\\x00\\x91\\xb5\\x13\\x84V\\x01\\x00\\x00\\xb7\\xf6\\xf4\\x89Y\\x01\\x00\\x00g\\xf7\\xf4\\x89Y\\x01\\x00\\x00\\x11X\\x1a*[\\x01\\x00\\x00\\x89\\\\\\x1a*[\\x01\\x00\\x00^\\x00\\x00\\x00\\x07\\x00\\x00\\x00\\x1c\\x88\\xfe\\x1b_\\x01\\x00\\x00\\x84\\x8a\\xfe\\x1b_\\x01\\x00\\x00zz\\x06\\xba`\\x01\\x00\\x00^|\\x06\\xba`\\x01\\x00\\x00\\xc3\\x1f-\\x1be\\x01\\x00\\x00\\x93$-\\x1be\\x01\\x00\\x00+\\x8f\\x15\\x8af\\x01\\x00\\x00\\x9b\\x92\\x15\\x8af\\x01\\x00\\x00T\\x8aU\\xabg\\x01\\x00\\x00\\\\\\x8bU\\xabg\\x01\\x00\\x00-\\xd5gBi\\x01\\x00\\x00=\\xd7gBi\\x01\\x00\\x00\\xe7tTjj\\x01\\x00\\x00OwTjj\\x01\\x00\\x00_\\x00\\x00\\x00\\x07\\x00\\x00\\x00\\xda\\xa9\\xf0\\xf8l\\x01\\x00\\x00\\x16\\xac\\xf0\\xf8l\\x01\\x00\\x00^2\\xc2 n\\x01\\x00\\x00\\x9a4\\xc2 n\\x01\\x00\\x00h\\x01\\xf3\\x03p\\x01\\x00\\x00\\xf4\\x02\\xf3\\x03p\\x01\\x00\\x00\\xda\\xd0=\\xa9q\\x01\\x00\\x00J\\xd4=\\xa9q\\x01\\x00\\x00\\xbe\\xde\\xf5\\xd7t\\x01\\x00\\x00\\x02\\xe2\\xf5\\xd7t\\x01\\x00\\x00\\xec\\x00\\x91jw\\x01\\x00\\x00.\\xa3\\x91jw\\x01\\x00\\x00\\x85k\\xad\\x9a{\\x01\\x00\\x00\\tl\\xad\\x9a{\\x01\\x00\\x00`\\x00\\x00\\x00\\x07\\x00\\x00\\x00|\\xa6q!\\x82\\x01\\x00\\x00\\x00\\xa7q!\\x82\\x01\\x00\\x00\\xc1{\\xda^\\x82\\x01\\x00\\x00\\xd1}\\xda^\\x82\\x01\\x00\\x00\\x88\\xc7~\\x85\\x83\\x01\\x00\\x00P\\xcb~\\x85\\x83\\x01\\x00\\x00\\xe2\\x1f\\xce&\\x85\\x01\\x00\\x00\\x9a!\\xce&\\x85\\x01\\x00\\x00V\\x03\\x18\\xec\\x87\\x01\\x00\\x00\\x92\\x05\\x18\\xec\\x87\\x01\\x00\\x00\\x96#\\xe5\\xb8\\x8a\\x01\\x00\\x00\\x1a$\\xe5\\xb8\\x8a\\x01\\x00\\x00M\\xce$=\\x8d\\x01\\x00\\x00\\xad\\xcf$=\\x8d\\x01\\x00\\x00a\\x00\\x00\\x00\\x08\\x00\\x00\\x00\\xcc\\xae\\xf4\\x88\\x95\\x01\\x00\\x008\\xb7\\xf4\\x88\\x95\\x01\\x00\\x00\\x01\\xfa\\x1e\\xf1\\x99\\x01\\x00\\x00-\\xfa\\x1e\\xf1\\x99\\x01\\x00\\x00\\xe9\\x02\\x03.\\x9a\\x01\\x00\\x009\\r\\x03.\\x9a\\x01\\x00\\x002\\x1b\\xa7\\x9b\\x9b\\x01\\x00\\x00\\xbc\\xfd\\xa7\\x9b\\x9b\\x01\\x00\\x00E\\x05c\\xd5\\x9b\\x01\\x00\\x00$\\xf6c\\xd5\\x9b\\x01\\x00\\x00\\x93\\x8e\\n\"\n",
      "b'H\\xa2\\x01\\x00\\x00\\x87\\x92\\n'\n",
      "b'H\\xa2\\x01\\x00\\x00\\x86\\x91\\x8a\\xc5\\xa5\\x01\\x00\\x00\\xa6\\x95\\x8a\\xc5\\xa5\\x01\\x00\\x00\\xa6\\xc9\\xe0l\\xa7\\x01\\x00\\x00\\xd6\\xcf\\xe0l\\xa7\\x01\\x00\\x00b\\x00\\x00\\x00\\x07\\x00\\x00\\x00\\xf7\\\\\\xc1\\x91\\xae\\x01\\x00\\x00\\xd7c\\xc1\\x91\\xae\\x01\\x00\\x00bk\\xf6\\x8d\\xb1\\x01\\x00\\x00rm\\xf6\\x8d\\xb1\\x01\\x00\\x00m\\xa2\\xd5v\\xb5\\x01\\x00\\x00\\xf1\\xad\\xd5v\\xb5\\x01\\x00\\x00\\xd1y\\xf8P\\xba\\x01\\x00\\x00\\x91|\\xf8P\\xba\\x01\\x00\\x004N{ \\xbf\\x01\\x00\\x00H\\x98{ \\xbf\\x01\\x00\\x00\\xb02\\xc0!\\xc2\\x01\\x00\\x00`3\\xc0!\\xc2\\x01\\x00\\x00\\xda\\x86\\x02\\xfc\\xc6\\x01\\x00\\x00.\\x8c\\x02\\xfc\\xc6\\x01\\x00\\x00c\\x00\\x00\\x00\\x05\\x00\\x00\\x00L<\\xc1c\\xce\\x01\\x00\\x00@@\\xc1c\\xce\\x01\\x00\\x00\\xdb\\xc6c\\xee\\xd1\\x01\\x00\\x00\\xd7\\xd6c\\xee\\xd1\\x01\\x00\\x00;\\x17{\\xd1\\xd9\\x01\\x00\\x00\\xfb\\x19{\\xd1\\xd9\\x01\\x00\\x00\\xceQtP\\xdd\\x01\\x00\\x00rVtP\\xdd\\x01\\x00\\x00[\\xeb>\\xdf\\xe2\\x01\\x00\\x00#\\xef>\\xdf\\xe2\\x01\\x00\\x00d\\x00\\x00\\x00\\x08\\x00\\x00\\x00\\x01eBc\\xee\\x01\\x00\\x005fBc\\xee\\x01\\x00\\x00\\x0c\\xe4+6\\xf1\\x01\\x00\\x00\\xd4\\xfd+6\\xf1\\x01\\x00\\x00`\\x00?t\\xf1\\x01\\x00\\x00\\xc6\\\\&\\xac\\xf1\\x01\\x00\\x00\\xad\\xd2\\x82\\x96\\xf5\\x01\\x00\\x00\\x15\\xd5\\x82\\x96\\xf5\\x01\\x00\\x00\\xd1n\\xa07\\xf7\\x01\\x00\\x00Q\\x7f\\xa07\\xf7\\x01\\x00\\x00_\\xd6:t\\xfa\\x01\\x00\\x00C\\xd8:t\\xfa\\x01\\x00\\x00/p\\xde\\x02\\xff\\x01\\x00\\x00\\x07v\\xde\\x02\\xff\\x01\\x00\\x00 \\xd2\\x9a\\x89\\x01\\x02\\x00\\x00\\xf0\\xd6\\x9a\\x89\\x01\\x02\\x00\\x00e\\x00\\x00\\x00\\x04\\x00\\x00\\x00\\xc4\\xf8p\\xdb\\x04\\x02\\x00\\x00P\\xfap\\xdb\\x04\\x02\\x00\\x00\\xa7\\xf4&\\xd9\\x07\\x02\\x00\\x00+\\xf5&\\xd9\\x07\\x02\\x00\\x00\\x07\\xaa\\x00\\xfa\\x08\\x02\\x00\\x00\\x8bny\\xca\\n'\n",
      "b'\\x02\\x00\\x00H\\x1f\\n'\n",
      "b'\\xf0\\x0b\\x02\\x00\\x00!u\\xd9\\xda\\x0c\\x02\\x00\\x00f\\x00\\x00\\x00\\x05\\x00\\x00\\x00Uv\\xd9\\xda\\x0c\\x02\\x00\\x00\\n'\n",
      "b'\\xe3X\\xc3\\r\\x02\\x00\\x00\\x9c\\xf6\\xe8\\xe7\\x0e\\x02\\x00\\x00\\xd0\\xf7\\xe8\\xe7\\x0e\\x02\\x00\\x00\\xa4^\\'\\x0c\\x10\\x02\\x00\\x00&\\xa4\\xfa\\xcb\\x12\\x02\\x00\\x00p\\xa8\\xbb\\x03\\x15\\x02\\x00\\x00\\x90\\xac\\xbb\\x03\\x15\\x02\\x00\\x00\\xa7[V(\\x1a\\x02\\x00\\x00\\xeb^V(\\x1a\\x02\\x00\\x00g\\x00\\x00\\x00\\x07\\x00\\x00\\x00\\xc3\\xad\\xb5\\xb6\\x1d\\x02\\x00\\x00#\\xaf\\xb5\\xb6\\x1d\\x02\\x00\\x00D\\xd3\\xcc\\x1d\\x1f\\x02\\x00\\x00\\x0c\\xd7\\xcc\\x1d\\x1f\\x02\\x00\\x00m\\xf6\\t\\xf2 \\x02\\x00\\x00Y\\xf9\\t\\xf2 \\x02\\x00\\x00\\xce>\\xa1\\x9b\"\\x02\\x00\\x00\\x12B\\xa1\\x9b\"\\x02\\x00\\x00\\xf0\\xc3\"c%\\x02\\x00\\x008\\xcd\"c%\\x02\\x00\\x00\\x9e\\xec\\xb9\\xb8\\'\\x02\\x00\\x00\\xd2\\xed\\xb9\\xb8\\'\\x02\\x00\\x00W\\x92\\x06\\x84*\\x02\\x00\\x00\\x0f\\x94\\x06\\x84*\\x02\\x00\\x00h\\x00\\x00\\x00\\x07\\x00\\x00\\x00\\xdf\\x07Y`2\\x02\\x00\\x00\\x9f\\n'\n",
      "b'Y`2\\x02\\x00\\x00\\x8e\\x9d\\x07\\xe67\\x02\\x00\\x00\\xe2\\xa2\\x07\\xe67\\x02\\x00\\x00E\\xe1\\xeb\\x7f<\\x02\\x00\\x00\\xd9\\xe3\\xeb\\x7f<\\x02\\x00\\x00[|\\xd9\\xac=\\x02\\x00\\x00c}\\xd9\\xac=\\x02\\x00\\x00.\\xb9\\xb7/@\\x02\\x00\\x00:\\xc0\\xb7/@\\x02\\x00\\x00u\\xfb\\xc3\\xf9B\\x02\\x00\\x00\\x85\\xfd\\xc3\\xf9B\\x02\\x00\\x00\\xb5\\xf3N\\xe5D\\x02\\x00\\x00]\\xfeN\\xe5D\\x02\\x00\\x00i\\x00\\x00\\x00\\x04\\x00\\x00\\x00\\xd4\\x0b&\\x12L\\x02\\x00\\x00`\\r&\\x12L\\x02\\x00\\x00\\xc4\\xd1\\x8ekN\\x02\\x00\\x00\\x84\\xf5\\x8ekN\\x02\\x00\\x00\\xa6\\xf1+\\xbcP\\x02\\x00\\x00\\xab\\xdc\\x14\\x8fR\\x02\\x00\\x00\\xb7\\xfc{wS\\x02\\x00\\x00\\x0bVR~U\\x02\\x00\\x00j\\x00\\x00\\x00\\x04\\x00\\x00\\x00\\xe7VR~U\\x02\\x00\\x00?\\xf4E\\xe5X\\x02\\x00\\x00\\x8b\\xcd`\\x05Z\\x02\\x00\\x00\\xa3\\xd0`\\x05Z\\x02\\x00\\x00\\xf4\\x06!T\\\\\\x02\\x00\\x000\\t!T\\\\\\x02\\x00\\x00z\\x02\\x1c\\xf5]\\x02\\x00\\x00\\xa6\\x02\\x1c\\xf5]\\x02\\x00\\x00k\\x00\\x00\\x00\\x06\\x00\\x00\\x00\\xd9\\x1a((b\\x02\\x00\\x00\\tq\\xc7\\x1dc\\x02\\x00\\x00\\x8c\\x9em\\xefe\\x02\\x00\\x00\\xa4\\xa1m\\xefe\\x02\\x00\\x00\\xfa\\xc2\\xc6\\x8eg\\x02\\x00\\x00F\\xc7\\xc6\\x8eg\\x02\\x00\\x00\\xbf\\xbf\\xc9Tj\\x02\\x00\\x00\\x0b\\xc4\\xc9Tj\\x02\\x00\\x00\\x17[\\xec\\x1cm\\x02\\x00\\x00\\xc7[\\xec\\x1cm\\x02\\x00\\x00]\\x98\\x87\\xc4n\\x02\\x00\\x00\\xf9\\x9b\\x87\\xc4n\\x02\\x00\\x00l\\x00\\x00\\x00\\x06\\x00\\x00\\x0095bTw\\x02\\x00\\x00}CbTw\\x02\\x00\\x00G\\x83_\\x0e}\\x02\\x00\\x00s\\x83_\\x0e}\\x02\\x00\\x00\\x8b[B4~\\x02\\x00\\x00\\xc7]B4~\\x02\\x00\\x007\\x15OW\\x7f\\x02\\x00\\x00c\\x15OW\\x7f\\x02\\x00\\x00\\x14\\x17\\rv\\x80\\x02\\x00\\x00y\\x84b]\\x81\\x02\\x00\\x00\\x9ec\\xc6|\\x82\\x02\\x00\\x00\\x86!\\xe4c\\x83\\x02\\x00\\x00m\\x00\\x00\\x00\\x07\\x00\\x00\\x00\\xe6\"\\xe4c\\x83\\x02\\x00\\x00f\\xc5\\xa2K\\x84\\x02\\x00\\x00\\xd4((\\xb0\\x88\\x02\\x00\\x00H2(\\xb0\\x88\\x02\\x00\\x00\\xaf\\xac?\\x03\\x8b\\x02\\x00\\x00/\\xb2?\\x03\\x8b\\x02\\x00\\x00\\x1a\\x00}\\x88\\x8d\\x02\\x00\\x00\\xba\\t}\\x88\\x8d\\x02\\x00\\x00;\\x809\\xbe\\x90\\x02\\x00\\x00o\\x819\\xbe\\x90\\x02\\x00\\x00Ii,9\\x94\\x02\\x00\\x00\\tl,9\\x94\\x02\\x00\\x00\\xf6\\x01U\\\\\\x95\\x02\\x00\\x00\\xeb\\x13oC\\x96\\x02\\x00\\x00n\\x00\\x00\\x00\\x05\\x00\\x00\\x00S\\x16oC\\x96\\x02\\x00\\x00t\\xae\\xd1\\xf1\\x96\\x02\\x00\\x00\\x8b\\xf1\\xc5O\\x98\\x02\\x00\\x00\\x0bl\\xc5^\\x9a\\x02\\x00\\x00\\xe01\\x8c\\xe1\\x9c\\x02\\x00\\x00\\x1c4\\x8c\\xe1\\x9c\\x02\\x00\\x00/K\\xbb\\xb3\\x9f\\x02\\x00\\x00OO\\xbb\\xb3\\x9f\\x02\\x00\\x00\\x16\\x95K\\x95\\xa1\\x02\\x00\\x00&\\x97K\\x95\\xa1\\x02\\x00\\x00o\\x00\\x00\\x00\\x05\\x00\\x00\\x00g\\r\\xf7\\xb0\\xa7\\x02\\x00\\x00\\x1f\\x0f\\xf7\\xb0\\xa7\\x02\\x00\\x00\\xea\\xc5\\\\\\x9a\\xac\\x02\\x00\\x00\\xa2\\xc7\\\\\\x9a\\xac\\x02\\x00\\x00\\xd0\\x8b\\x8d\\xf7\\xae\\x02\\x00\\x00P\\x91\\x8d\\xf7\\xae\\x02\\x00\\x00\\xa1`#\\x1e\\xb3\\x02\\x00\\x00Yb#\\x1e\\xb3\\x02\\x00\\x00\\xc7\\x0f?9\\xb5\\x02\\x00\\x00\\'\\x11?9\\xb5\\x02\\x00\\x00p\\x00\\x00\\x00\\x06\\x00\\x00\\x00o\\xe6\\x9b\\r\\xbb\\x02\\x00\\x00\\xfb\\xe7\\x9b\\r\\xbb\\x02\\x00\\x00\\xcel:\\xeb\\xbc\\x02\\x00\\x00>\\x86:\\xeb\\xbc\\x02\\x00\\x00\\xa4\\xc2\\t\\x9b\\xc0\\x02\\x00\\x00\\x98\\xc6\\t\\x9b\\xc0\\x02\\x00\\x00pd\\xc1\\xea\\xc2\\x02\\x00\\x00\\x80q\\xc1\\xea\\xc2\\x02\\x00\\x00\\xd6\\x8948\\xc5\\x02\\x00\\x00j\\xa7\\xc7\\xeb\\xc5\\x02\\x00\\x00\\x93;Z\\x8f\\xc7\\x02\\x00\\x00\\x7f>Z\\x8f\\xc7\\x02\\x00\\x00q\\x00\\x00\\x00\\x07\\x00\\x00\\x00\\x07J?\\xbd\\xcb\\x02\\x00\\x00\\x93K?\\xbd\\xcb\\x02\\x00\\x00\\xab\\x97%\\x8e\\xce\\x02\\x00\\x00\\xa7\\xf9%\\x8e\\xce\\x02\\x00\\x00}\\x05\\x05\\xca\\xce\\x02\\x00\\x00\\x7f\\xb5\\x05\\xca\\xce\\x02\\x00\\x00\\xe1\\xc2\\x08&\\xd1\\x02\\x00\\x00m\\xc4\\x08&\\xd1\\x02\\x00\\x00\\xff\\xe0\\xb1\\x03\\xd3\\x02\\x00\\x00;\\xe3\\xb1\\x03\\xd3\\x02\\x00\\x0009X\\xd7\\xd4\\x02\\x00\\x00i\\xa6q\\xc9\\xd5\\x02\\x00\\x00\\xf02<\\xa3\\xd7\\x02\\x00\\x00\\xa84<\\xa3\\xd7\\x02\\x00\\x00r\\x00\\x00\\x00\\x07\\x00\\x00\\x00\\x7f\\xec\\xba\\xe2\\xd9\\x02\\x00\\x00@\\x9a\\xed\\xce\\xda\\x02\\x00\\x00\\xf4\\xc4\\xb7\\xf4\\xde\\x02\\x00\\x00\\xb4\\xc7\\xb7\\xf4\\xde\\x02\\x00\\x00\\xa3\\xc6]A\\xe1\\x02\\x00\\x00\\xc3\\xca]A\\xe1\\x02\\x00\\x00;\\xa3\\xbe\\xd7\\xe5\\x02\\x00\\x00w\\xa5\\xbe\\xd7\\xe5\\x02\\x00\\x00\\xcc~4r\\xe7\\x02\\x00\\x00,\\x804r\\xe7\\x02\\x00\\x00\\xccc\\xa8\\x9a\\xe8\\x02\\x00\\x00\\x8cf\\xa8\\x9a\\xe8\\x02\\x00\\x00\\x84I;\\x04\\xec\\x02\\x00\\x000O;\\x04\\xec\\x02\\x00\\x00s\\x00\\x00\\x00\\x07\\x00\\x00\\x00\\x7fl\\xba\\xe9\\xef\\x02\\x00\\x00\\xcb{\\xba\\xe9\\xef\\x02\\x00\\x00\\xae\\n'\n",
      "b'\\x9d\\xc8\\xf1\\x02\\x00\\x00\\xda \\x9d\\xc8\\xf1\\x02\\x00\\x00[\\xaf\\xa0\\xdc\\xf3\\x02\\x00\\x00\\x8b\\xb5\\xa0\\xdc\\xf3\\x02\\x00\\x00\\x92Te\\xc3\\xf7\\x02\\x00\\x00BUe\\xc3\\xf7\\x02\\x00\\x00o\\x011&\\xf9\\x02\\x00\\x00\\xbb\\x051&\\xf9\\x02\\x00\\x00\\x92\\x8d\\x18\\xc3\\xfa\\x02\\x00\\x00~\\x90\\x18\\xc3\\xfa\\x02\\x00\\x00cO\\xcf/\\xfc\\x02\\x00\\x00sQ\\xcf/\\xfc\\x02\\x00\\x00t\\x00\\x00\\x00\\x06\\x00\\x00\\x00\\n'\n",
      "b'\\xe1\\xd4\\x98\\x02\\x03\\x00\\x00>\\xe2\\xd4\\x98\\x02\\x03\\x00\\x00\\xbf\\xf0\\xb4,\\n'\n",
      "b'\\x03\\x00\\x00\\xc7\\xf1\\xb4,\\n'\n",
      "b'\\x03\\x00\\x00\\x9e\\xfd\\xf8<\\x0c\\x03\\x00\\x00\\xdf\\xd1C*\\r\\x03\\x00\\x00\\x99\\x03\\xd2R\\x0e\\x03\\x00\\x00\\xcd\\x04\\xd2R\\x0e\\x03\\x00\\x00+Z\\xf3\\x85\\x11\\x03\\x00\\x00\\x17h\\xf3\\x85\\x11\\x03\\x00\\x00\\xdf\\xe9\\xec\\xb9\\x14\\x03\\x00\\x00\\xd3\\xed\\xec\\xb9\\x14\\x03\\x00\\x00u\\x00\\x00\\x00\\x06\\x00\\x00\\x00i-\\x03\\x17\\x1c\\x03\\x00\\x00\\x95C\\x03\\x17\\x1c\\x03\\x00\\x00\\xb5FZ@\\x1d\\x03\\x00\\x00\\xee\\xc9\\x140\\x1e\\x03\\x00\\x00\\x1b<\\x89I \\x03\\x00\\x00\\x07?\\x89I \\x03\\x00\\x00\\xd1\\xc4\\xd0C#\\x03\\x00\\x00\\r\\xc7\\xd0C#\\x03\\x00\\x00vII\\x16&\\x03\\x00\\x006LI\\x16&\\x03\\x00\\x00\\x94\\xf4\\xcc\\xb9\\'\\x03\\x00\\x000\\xf8\\xcc\\xb9\\'\\x03\\x00\\x00v\\x00\\x00\\x00\\x04\\x00\\x00\\x00m\\xe9i\\xf7*\\x03\\x00\\x00\\xc1|\\x1fB-\\x03\\x00\\x00M\\x8a\\xeaq.\\x03\\x00\\x00]\\x8c\\xeaq.\\x03\\x00\\x00\\x91\\x16\\xbe\\xf60\\x03\\x00\\x00\\xc5\\x17\\xbe\\xf60\\x03\\x00\\x00&\\x02\\x17D3\\x03\\x00\\x00(\\x8e\\xed,4\\x03\\x00\\x00w\\x00\\x00\\x00\\x04\\x00\\x00\\x00\\x91O\\xcfQ5\\x03\\x00\\x00\\xad\\xdf\\xf8;6\\x03\\x00\\x00\\x19>K_7\\x03\\x00\\x00)\\xd4n\\x108\\x03\\x00\\x00\\x8e\\x9a[?9\\x03\\x00\\x00\\xceD7\\xf29\\x03\\x00\\x00V\\x06*\\x8c;\\x03\\x00\\x00\\xea\\x0b\\xd9t<\\x03\\x00\\x00x\\x00\\x00\\x00\\x01\\x00\\x00\\x00\\x16D\\x04\\x9c=\\x03\\x00\\x00\\xf1L\\xda\\xf0B\\x03\\x00\\x00y\\x00\\x00\\x00\\x02\\x00\\x00\\x00uM\\xda\\xf0B\\x03\\x00\\x00r\\xfb\\xb1\\x06E\\x03\\x00\\x00\\x93P\\xd8+F\\x03\\x00\\x00\\xd0\\xd2\\xddCI\\x03\\x00\\x00z\\x00\\x00\\x00\\x05\\x00\\x00\\x00T\\x0c\\x82xL\\x03\\x00\\x00\\x18\\x02\\x93hM\\x03\\x00\\x00\\xecT\\x15\\x87O\\x03\\x00\\x00\\xc8\\x84c}P\\x03\\x00\\x008\\x0f\\xa0dR\\x03\\x00\\x00d;\\xa0dR\\x03\\x00\\x00\\x92)q\\x0cT\\x03\\x00\\x00\\xce+q\\x0cT\\x03\\x00\\x00e\\xa8\\x8aqU\\x03\\x00\\x00\\x91\\xa8\\x8aqU\\x03\\x00\\x00{\\x00\\x00\\x00\\x05\\x00\\x00\\x00l\\x03\\xda\\x07Z\\x03\\x00\\x00\\xcc\\x04\\xda\\x07Z\\x03\\x00\\x00\\x899k4[\\x03\\x00\\x00\\xa3\\xe6M\\xe8[\\x03\\x00\\x00\\xbf\\xd8\\xfd\\x17_\\x03\\x00\\x00\\'\\xdb\\xfd\\x17_\\x03\\x00\\x00:\\xd0m5a\\x03\\x00\\x00J\\xd2m5a\\x03\\x00\\x00\\xeaM\\xd7\\xe7d\\x03\\x00\\x00\\xafY^\\xd9e\\x03\\x00\\x00|\\x00\\x00\\x00\\x06\\x00\\x00\\x00R\\x8e\\x80gh\\x03\\x00\\x00\\xb2\\x8f\\x80gh\\x03\\x00\\x00q+\\x12`k\\x03\\x00\\x00\\x05.\\x12`k\\x03\\x00\\x00Y\\xc3\\xc0\\xb0m\\x03\\x00\\x00\\x8d\\xc4\\xc0\\xb0m\\x03\\x00\\x00\\xf8A\\xfd\\x13o\\x03\\x00\\x00\\xb8D\\xfd\\x13o\\x03\\x00\\x00\\t\\x17\\x10tp\\x03\\x00\\x00\\x81\\xce\\xdfaq\\x03\\x00\\x00\\xf7\\xef\\x8eus\\x03\\x00\\x00\\xeb\\xf3\\x8eus\\x03\\x00\\x00}\\x00\\x00\\x00\\x07\\x00\\x00\\x00\\xcb\\xb0B\\xabx\\x03\\x00\\x00\\xb7\\xb3B\\xabx\\x03\\x00\\x00%b@\\x02{\\x03\\x00\\x00\\xc9f@\\x02{\\x03\\x00\\x00\\x9a\\xa2\\xb9\\x1c}\\x03\\x00\\x00Z\\xa5\\xb9\\x1c}\\x03\\x00\\x00\\x1271\\xad\\x7f\\x03\\x00\\x00\\xfe91\\xad\\x7f\\x03\\x00\\x00\\xa6$\\xac\\xd3\\x80\\x03\\x00\\x00\\x07\\x89\\xac\\xd3\\x80\\x03\\x00\\x00(\\xf1\\xedU\\x83\\x03\\x00\\x00\\x1c\\xf5\\xedU\\x83\\x03\\x00\\x00\\x84\\xb1\\xdf\\xf7\\x84\\x03\\x00\\x00x\\xb5\\xdf\\xf7\\x84\\x03\\x00\\x00~\\x00\\x00\\x00\\x02\\x00\\x00\\x00\\xa5\"\\x96\\x82\\x88\\x03\\x00\\x00\\x05$\\x96\\x82\\x88\\x03\\x00\\x00\\xa4_b\\xae\\x89\\x03\\x00\\x00\\xc3\\x82\\'D\\x8e\\x03\\x00\\x00\\x7f\\x00\\x00\\x00\\x02\\x00\\x00\\x00\\xcb\\x83\\'D\\x8e\\x03\\x00\\x00A\\xa0\\xf3\\xe4\\x8f\\x03\\x00\\x00\\xcf\\x8f}Q\\x91\\x03\\x00\\x00p\\x8b5x\\x95\\x03\\x00\\x00\\x80\\x00\\x00\\x00\\x01\\x00\\x00\\x00\\x87W\\x8a\\x9a\\x96\\x03\\x00\\x00\\x9a\\xa2\\xe9\\x1a\\x9c\\x03\\x00\\x00\\x81\\x00\\x00\\x00\\x06\\x00\\x00\\x00\\x9a\\xa2\\xe9\\x1a\\x9c\\x03\\x00\\x00\\xa6x\\xf4\\xf2\\x9d\\x03\\x00\\x00\\xef/\\xff\\x08\\xa0\\x03\\x00\\x00\\xbf4\\xff\\x08\\xa0\\x03\\x00\\x00eM\\x81\\xeb\\xa1\\x03\\x00\\x009\\xb0\\x81\\xeb\\xa1\\x03\\x00\\x00@\\xe1\\xf5\\n'\n",
      "b'\\xa8\\x03\\x00\\x00|\\xe3\\xf5\\n'\n",
      "b'\\xa8\\x03\\x00\\x00\\xb0Ga\\xb4\\xa9\\x03\\x00\\x00pJa\\xb4\\xa9\\x03\\x00\\x00\\xd2\\x83\\x11\\xe2\\xaa\\x03\\x00\\x00\\xea1}\\xcf\\xab\\x03\\x00\\x00\\x82\\x00\\x00\\x00\\x03\\x00\\x00\\x00;\\x01\\x9d\\xf2\\xac\\x03\\x00\\x00\\xe0\\xf4\\xa1\\x97\\xae\\x03\\x00\\x00\\x1f\\xc1k\\xc7\\xaf\\x03\\x00\\x007\\xc4k\\xc7\\xaf\\x03\\x00\\x00s6\\x91\\x9d\\xb1\\x03\\x00\\x00\\xb6\\xaa\\xc2g\\xb4\\x03\\x00\\x00\\x83\\x00\\x00\\x00\\x03\\x00\\x00\\x00B\\xac\\xc2g\\xb4\\x03\\x00\\x00\\xa7\\xe8\\x83/\\xb7\\x03\\x00\\x00\\xf5H<[\\xb8\\x03\\x00\\x00UJ<[\\xb8\\x03\\x00\\x00C\\xc9\\xf1\\xea\\xba\\x03\\x00\\x00\\x185\\x8a\\xcd\\xbc\\x03\\x00\\x00\\x84\\x00\\x00\\x00\\x03\\x00\\x00\\x00(7\\x8a\\xcd\\xbc\\x03\\x00\\x00\\xcd\\xd5\\xb2\\xb1\\xbe\\x03\\x00\\x00)\\xecGU\\xc0\\x03\\x00\\x00\\x94\\xa11\\xe7\\xc2\\x03\\x00\\x00\\x86^\\xb2\\x13\\xc4\\x03\\x00\\x00\\x13\\xd1\\xfe\\x01\\xc5\\x03\\x00\\x00\\x85\\x00\\x00\\x00\\x02\\x00\\x00\\x00\\xd5\\x93\\x1c\\xca\\xc6\\x03\\x00\\x00~d\\xfav\\xc8\\x03\\x00\\x00\\x95\\xa2\\xc1\\x17\\xca\\x03\\x00\\x00<\\xec\\x0c\\x96\\xcd\\x03\\x00\\x00\\x86\\x00\\x00\\x00\\x01\\x00\\x00\\x00\\xde\\x93\\x9d\\xd7\\xd0\\x03\\x00\\x00\\xd4\\x8a\\xfb*\\xd6\\x03\\x00\\x00\\x87\\x00\\x00\\x00\\x07\\x00\\x00\\x00\\xf6\\xd1\\xbdV\\xd7\\x03\\x00\\x00\\x03n-G\\xd8\\x03\\x00\\x00\\xc9$4u\\xd9\\x03\\x00\\x00y%4u\\xd9\\x03\\x00\\x00]\\x90\\x92\\xde\\xdb\\x03\\x00\\x00\\x01\\x95\\x92\\xde\\xdb\\x03\\x00\\x00nB\\x02\\x12\\xe0\\x03\\x00\\x00.E\\x02\\x12\\xe0\\x03\\x00\\x00\\x86\\xe0\\xc4D\\xe1\\x03\\x00\\x00\\x12\\xe2\\xc4D\\xe1\\x03\\x00\\x00\\xc9:&\\xe8\\xe2\\x03\\x00\\x00\\xe9>&\\xe8\\xe2\\x03\\x00\\x00\\xf8\\xf4\\xf9\\xee\\xe4\\x03\\x00\\x00\\xec\\xdc\\x98\\xa2\\xe5\\x03\\x00\\x00\\x88\\x00\\x00\\x00\\x03\\x00\\x00\\x00\\x9c\\xdd\\x98\\xa2\\xe5\\x03\\x00\\x00\\xd8\\xbcd\\xa7\\xe9\\x03\\x00\\x00WLl4\\xed\\x03\\x00\\x00\\x9bel4\\xed\\x03\\x00\\x00@\\xdc\\x13\\xa2\\xee\\x03\\x00\\x00\\xa8\\x94\\x9e\\x90\\xef\\x03\\x00\\x00\\x89\\x00\\x00\\x00\\x06\\x00\\x00\\x00\\xad\"\\xd4\\xc1\\xf0\\x03\\x00\\x00v\\xf3\\xf3;\\xf1\\x03\\x00\\x00[*\\xf5\\xad\\xf4\\x03\\x00\\x00\\xdf*\\xf5\\xad\\xf4\\x03\\x00\\x00,\\x86r\\x17\\xf6\\x03\\x00\\x000\\x8cr\\x17\\xf6\\x03\\x00\\x00,|pG\\xf7\\x03\\x00\\x00\\xb0|pG\\xf7\\x03\\x00\\x00\\x8c\\x92Q\\xb6\\xf8\\x03\\x00\\x00\\xe4\\xf5Q\\xb6\\xf8\\x03\\x00\\x00\\xd6\\xaaB\\x0e\\xfa\\x03\\x00\\x00q\\xc1\\xa3\\x00\\xfb\\x03\\x00\\x00\\x8a\\x00\\x00\\x00\\x02\\x00\\x00\\x00\\x94$\\x9e\\xad\\xfe\\x03\\x00\\x00\\x1c\\xa6\\xd6\\x00\\x01\\x04\\x00\\x00\\x91\\x0b[0\\x02\\x04\\x00\\x00\\xf8\\xad\\xd7\\x88\\x04\\x04\\x00\\x00\\x8b\\x00\\x00\\x00\\x01\\x00\\x00\\x00|\\xae\\xd7\\x88\\x04\\x04\\x00\\x00Qu\\x1e\\xe2\\t\\x04\\x00\\x00\\x8c\\x00\\x00\\x00\\x03\\x00\\x00\\x00}u\\x1e\\xe2\\t\\x04\\x00\\x00z_\\xd5\\xc7\\x0b\\x04\\x00\\x00\\x03\\xe3\\xb4\\xdc\\r\\x04\\x00\\x00\\xdf\\xe3\\xb4\\xdc\\r\\x04\\x00\\x00\\x94g\\xa0\\xa1\\x10\\x04\\x00\\x00A\\xa8\\xcc\\xbd\\x12\\x04\\x00\\x00\\x8d\\x00\\x00\\x00\\x02\\x00\\x00\\x00\\xf1\\xa8\\xcc\\xbd\\x12\\x04\\x00\\x00\\xf5\\xd4\\xd6r\\x13\\x04\\x00\\x00\\n'\n",
      "b'\\x85l\\x13\\x15\\x04\\x00\\x00\\x05\\xfc\"\\x0c\\x19\\x04\\x00\\x00\\x8e\\x00\\x00\\x00\\x01\\x00\\x00\\x00e\\xfd\"\\x0c\\x19\\x04\\x00\\x00\\xd5\\x01e|\\x1e\\x04\\x00\\x00\\x8f\\x00\\x00\\x00\\x01\\x00\\x00\\x00\\xb1\\x02e|\\x1e\\x04\\x00\\x00\\xe1X\\x985#\\x04\\x00\\x00\\x90\\x00\\x00\\x00\\x03\\x00\\x00\\x00eY\\x985#\\x04\\x00\\x00i\\x17\\xa4\\xea#\\x04\\x00\\x00\\xdeVy\\x13%\\x04\\x00\\x00\\xe5\\xe6\\x0b\\xf3&\\x04\\x00\\x00\\xf51\\x13Z(\\x04\\x00\\x00\\xbdx\\x83\\x87)\\x04\\x00\\x00\\x91\\x00\\x00\\x00\\x02\\x00\\x00\\x00Iz\\x83\\x87)\\x04\\x00\\x00Z\\xfa\\x0f\\xcc,\\x04\\x00\\x00\\x19\\xa1\\xff\\xe0.\\x04\\x00\\x00\\xd1Z\\xf7\\x95/\\x04\\x00\\x00\\x92\\x00\\x00\\x00\\x01\\x00\\x00\\x00\\xc1j\\xf3\\xe81\\x04\\x00\\x00/Cv\\x7f7\\x04\\x00\\x00\\x93\\x00\\x00\\x00\\x05\\x00\\x00\\x00\\x87Cv\\x7f7\\x04\\x00\\x00g\\xd9sh9\\x04\\x00\\x00\\x7f\\xe8%\\x9c:\\x04\\x00\\x00\\xbb\\xea%\\x9c:\\x04\\x00\\x00c\\x0f\\x96\\xcf;\\x04\\x00\\x00\\xdb\\x13\\x96\\xcf;\\x04\\x00\\x00\\xc4\\x08\\x88\\xcb>\\x04\\x00\\x004\\xab\\xff\\x84?\\x04\\x00\\x00\\x8b@\\x88\\x8bB\\x04\\x00\\x00L\\xbf\\xb2}C\\x04\\x00\\x00\\x94\\x00\\x00\\x00\\x02\\x00\\x00\\x00(\\xc0\\xb2}C\\x04\\x00\\x00\\xf4\\x90f\\x98E\\x04\\x00\\x00\\x8f72\\xcfF\\x04\\x00\\x00\\x19\\x07\\x12kI\\x04\\x00\\x00\\x95\\x00\\x00\\x00\\x01\\x00\\x00\\x00\\x19\\x07\\x12kI\\x04\\x00\\x00\\xee\\xbaj\"N\\x04\\x00\\x00\\x96\\x00\\x00\\x00\\x01\\x00\\x00\\x00r\\xbbj\"N\\x04\\x00\\x00\\x96i\\x88\\x1fS\\x04\\x00\\x00\\x97\\x00\\x00\\x00\\x01\\x00\\x00\\x00\\xc2i\\x88\\x1fS\\x04\\x00\\x00\\x14\\x1aV\\x83X\\x04\\x00\\x00\\x98\\x00\\x00\\x00\\x01\\x00\\x00\\x00\\xf8\\x1bV\\x83X\\x04\\x00\\x00u\\xe9\\x9b\\xc0\\\\\\x04\\x00\\x00\\x99\\x00\\x00\\x00\\x03\\x00\\x00\\x00u\\xe9\\x9b\\xc0\\\\\\x04\\x00\\x00\\xe1\\xabN\\x1d_\\x04\\x00\\x00\\xe2N}N`\\x04\\x00\\x00|\\xf6\\xd7\\x04a\\x04\\x00\\x00>/\\xfc\\xafb\\x04\\x00\\x00\\xfa\\xd3B\\xa8c\\x04\\x00\\x00\\x9a\\x00\\x00\\x00\\x07\\x00\\x00\\x00\\x93B\\x16Oh\\x04\\x00\\x00/F\\x16Oh\\x04\\x00\\x00\\x82^\\xcc\\xd3j\\x04\\x00\\x00^_\\xcc\\xd3j\\x04\\x00\\x00Y\\x94\\xcf;l\\x04\\x00\\x00\\x9d\\x97\\xcf;l\\x04\\x00\\x00\\x06\\xbd\\xc9\\x1cn\\x04\\x00\\x00\\xd6\\xc1\\xc9\\x1cn\\x04\\x00\\x00\\x82\\x83&\\x03p\\x04\\x00\\x00\\xfa\\x87&\\x03p\\x04\\x00\\x00\\xbf\\x032\\xa6q\\x04\\x00\\x00[\\x072\\xa6q\\x04\\x00\\x00_fd\\x9dt\\x04\\x00\\x00h\\xe5\\x10Ou\\x04\\x00\\x00\\x9b\\x00\\x00\\x00\\x02\\x00\\x00\\x00@]\\xf0uv\\x04\\x00\\x00\\xb4\\xdf\\xb7=z\\x04\\x00\\x00r\\x15c\\x1d|\\x04\\x00\\x00\\xa7\\xc9y\\x12}\\x04\\x00\\x00\\x9c\\x00\\x00\\x00\\x05\\x00\\x00\\x00\\xdb\\xcay\\x12}\\x04\\x00\\x00\\xf0\\xc1\\x93\\xc8}\\x04\\x00\\x00\\xb2\\n'\n",
      "b'\\xd0Y\\x80\\x04\\x00\\x00\\x12\\x0c\\xd0Y\\x80\\x04\\x00\\x00\\xd0\\x82\\xabg\\x82\\x04\\x00\\x00dg\\xd7Z\\x83\\x04\\x00\\x00\\xb2w\\xb8\\x8a\\x84\\x04\\x00\\x00Fz\\xb8\\x8a\\x84\\x04\\x00\\x00\\x9ec\\x9e\\x17\\x87\\x04\\x00\\x00\\x93\\xfe\\x10\\xbb\\x88\\x04\\x00\\x00\\x9d\\x00\\x00\\x00\\x01\\x00\\x00\\x00\\x17\\x00#\\xf7\\x88\\x04\\x00\\x00\\xcd\\xaeM\\t\\x8f\\x04\\x00\\x00\\x9e\\x00\\x00\\x00\\x07\\x00\\x00\\x00(\\x1d@[\\x91\\x04\\x00\\x008\\x1f@[\\x91\\x04\\x00\\x00\\\\jY\\x83\\x93\\x04\\x00\\x00\\x98lY\\x83\\x93\\x04\\x00\\x00\\xe3\\xe2;\\x0f\\x96\\x04\\x00\\x00o\\xe4;\\x0f\\x96\\x04\\x00\\x00k\\xb4\\x16\\xbd\\x97\\x04\\x00\\x00\\x0f\\xb9\\x16\\xbd\\x97\\x04\\x00\\x00Qr\\xfc\\xe0\\x99\\x04\\x00\\x00\\xb1s\\xfc\\xe0\\x99\\x04\\x00\\x00\\xd7<\\xbb\\x11\\x9b\\x04\\x00\\x00\\xbb>\\xbb\\x11\\x9b\\x04\\x00\\x00x\\xe3\\x9e\\xf2\\x9c\\x04\\x00\\x008\\xe6\\x9e\\xf2\\x9c\\x04\\x00\\x00\\x9f\\x00\\x00\\x00\\x03\\x00\\x00\\x00 > \\x1a\\xa3\\x04\\x00\\x00pt \\x1a\\xa3\\x04\\x00\\x00\\xcd\\xea6\\xc5\\xa4\\x04\\x00\\x00\\x85\\xec6\\xc5\\xa4\\x04\\x00\\x00\\x08V\\xa8\\x9e\\xa6\\x04\\x00\\x00\\x0b\\xa4\\xc9\\\\\\xaa\\x04\\x00\\x00\\xa0\\x00\\x00\\x00\\x06\\x00\\x00\\x00\\x8f\\x89G\\x8a\\xab\\x04\\x00\\x00\\x84N!\\x82\\xac\\x04\\x00\\x00\\xcb\\x9e\\'p\\xad\\x04\\x00\\x00x\\xe6\\'p\\xad\\x04\\x00\\x00m\\x0c\\x84\\xa7\\xad\\x04\\x00\\x00\\xe5\\xf4\\x84\\xa7\\xad\\x04\\x00\\x00M2\\\\\\xd1\\xae\\x04\\x00\\x00J\\xba{9\\xb0\\x04\\x00\\x00\\x1b\\xa6^\\x9f\\xb1\\x04\\x00\\x00\\xa7\\xa7^\\x9f\\xb1\\x04\\x00\\x00\\xec\\x9c\\xffG\\xb3\\x04\\x00\\x00\\xc8\\x9d\\xffG\\xb3\\x04\\x00\\x00\\xa1\\x00\\x00\\x00\\x04\\x00\\x00\\x00\\x9fupH\\xb7\\x04\\x00\\x00#\\xdcS;\\xb8\\x04\\x00\\x00\\x93(\\x98\\xa2\\xb9\\x04\\x00\\x00\\xd76\\x98\\xa2\\xb9\\x04\\x00\\x00\\xd5\\xb6u\\x06\\xbb\\x04\\x00\\x00\\x9d\\x86\\x1e\\xfa\\xbb\\x04\\x00\\x00fF\\xfc\\x19\\xbe\\x04\\x00\\x00~-@\\xd3\\xbe\\x04\\x00\\x00\\xa2\\x00\\x00\\x00\\x06\\x00\\x00\\x00N_\\x99\\xf4\\xc3\\x04\\x00\\x00z_\\x99\\xf4\\xc3\\x04\\x00\\x00&\\x1c\\x1e\\x12\\xc6\\x04\\x00\\x00\\xd6\\x1c\\x1e\\x12\\xc6\\x04\\x00\\x00\\x92\\x9a\\xcca\\xc8\\x04\\x00\\x00\\xf2\\x9b\\xcca\\xc8\\x04\\x00\\x00-\\x1b\\xa8\\x08\\xca\\x04\\x00\\x00^\\xe1\\xc6\\xc0\\xca\\x04\\x00\\x00\\x8c23\\xee\\xcb\\x04\\x00\\x00\\xf443\\xee\\xcb\\x04\\x00\\x00H\\xeb\\x85\\x1d\\xcd\\x04\\x00\\x00,\\xed\\x85\\x1d\\xcd\\x04\\x00\\x00\\xa3\\x00\\x00\\x00\\x05\\x00\\x00\\x00D\\xf8\\xc9\\xf1\\xd1\\x04\\x00\\x00\\xb4\\xfb\\xc9\\xf1\\xd1\\x04\\x00\\x00\\xfd\\xad\\x83\\x1b\\xd3\\x04\\x00\\x00\\xa5\\x9a\\x87\\x0b\\xd4\\x04\\x00\\x00\\xdf\\xf0\\xb5\\xe3\\xd5\\x04\\x00\\x00\\xc3\\xd4\\xe6\\xd8\\xd6\\x04\\x00\\x004\\x81#\\x06\\xd8\\x04\\x00\\x00`\\x81#\\x06\\xd8\\x04\\x00\\x00\\x855i\\xab\\xd9\\x04\\x00\\x00\\xb96i\\xab\\xd9\\x04\\x00\\x00\\xa4\\x00\\x00\\x00\\x02\\x00\\x00\\x00\\xfe\\xd6\\xc7\\xad\\xdc\\x04\\x00\\x00\\x8e\\xf7\\x06\\xa1\\xdd\\x04\\x00\\x00\\x86\\xe5\\x86\\x05\\xdf\\x04\\x00\\x00(5\\x07\\xba\\xe2\\x04\\x00\\x00\\xa5\\x00\\x00\\x00\\x02\\x00\\x00\\x00T5\\x07\\xba\\xe2\\x04\\x00\\x00Jh <\\xe6\\x04\\x00\\x009\\xf7\\xbd\\xa2\\xe7\\x04\\x00\\x00\\xdd^\\xcdJ\\xe9\\x04\\x00\\x00\\xa6\\x00\\x00\\x00\\x02\\x00\\x00\\x00\\xdd^\\xcdJ\\xe9\\x04\\x00\\x00\\x84\\xe4\\r\\xa4\\xed\\x04\\x00\\x00PHs\\x8a\\xef\\x04\\x00\\x00\\xe8n\\xc8~\\xf0\\x04\\x00\\x00\\xa7\\x00\\x00\\x00\\x02\\x00\\x00\\x00\\x1cp\\xc8~\\xf0\\x04\\x00\\x0029E\\x0f\\xf4\\x04\\x00\\x00G+\\r;\\xf5\\x04\\x00\\x00\\xdb\\xe7\\xaf\\xa2\\xf6\\x04\\x00\\x00\\xa8\\x00\\x00\\x00\\x04\\x00\\x00\\x00\\xb7\\xe8\\xaf\\xa2\\xf6\\x04\\x00\\x00&k\\x98\\xa8\\xf9\\x04\\x00\\x00\\xb3Qp\\xcf\\xfa\\x04\\x00\\x00\\x1dUp\\xcf\\xfa\\x04\\x00\\x00\\x81bG*\\xfc\\x04\\x00\\x00{dG*\\xfc\\x04\\x00\\x00:{qh\\xfe\\x04\\x00\\x00\\xd2~qh\\xfe\\x04\\x00\\x00\\xa9\\x00\\x00\\x00\\x05\\x00\\x00\\x00\\xf3\\xfe\\xe6\\xc1\\x01\\x05\\x00\\x00\\xd3\\x02\\x1b\\xfd\\x01\\x05\\x00\\x00\\x19\\xbdr)\\x05\\x05\\x00\\x00t\\xfbr)\\x05\\x05\\x00\\x00\\x83\\x94&\\xc9\\x06\\x05\\x00\\x00\\xb1!\\xe0\\x99\\x08\\x05\\x00\\x00\\x06\\xce\"\\xd8\\n'\n",
      "b'\\x05\\x00\\x00\\xd2\\xcf\"\\xd8\\n'\n",
      "b'\\x05\\x00\\x009\\xf2\\xc1t\\x0c\\x05\\x00\\x00\\xcd\\xf6)a\\r\\x05\\x00\\x00\\xaa\\x00\\x00\\x00\\x01\\x00\\x00\\x00\\t\\x94\\x85\\x02\\x11\\x05\\x00\\x00\\xdd\\x9c\\x04\\xfb\\x15\\x05\\x00\\x00\\xab\\x00\\x00\\x00\\x01\\x00\\x00\\x00\\x1f\\x9e\\x04\\xfb\\x15\\x05\\x00\\x00\\xe6-X\\x92\\x1a\\x05\\x00\\x00\\xac\\x00\\x00\\x00\\x01\\x00\\x00\\x00\\xa4ZX\\x92\\x1a\\x05\\x00\\x00\\xcf\\xee\\xee=\\x1e\\x05\\x00\\x00\\xad\\x00\\x00\\x00\\x01\\x00\\x00\\x00\\xe3\\xef\\xee=\\x1e\\x05\\x00\\x00\\xca\\xc3\\r\\xa1\"\\x05\\x00\\x00\\xae\\x00\\x00\\x00\\x01\\x00\\x00\\x00\\x0c\\xc5\\r\\xa1\"\\x05\\x00\\x00\\x80\\xf1\\xf05\\'\\x05\\x00\\x00\\xaf\\x00\\x00\\x00\\x01\\x00\\x00\\x00\\n'\n",
      "b\"\\xf2\\xf05'\\x05\\x00\\x00u\\x02vN-\\x05\\x00\\x00\\xb0\\x00\\x00\\x00\\x05\\x00\\x00\\x00\\xe5\\x03vN-\\x05\\x00\\x00:\\x92d\\xe5.\\x05\\x00\\x00\\x13mPL0\\x05\\x00\\x00\\xc5oPL0\\x05\\x00\\x008}\\xca^2\\x05\\x00\\x00\\x88\\x81\\xca^2\\x05\\x00\\x00\\x9e}\\x88\\xc33\\x05\\x00\\x00\\xb2~\\x88\\xc33\\x05\\x00\\x00\\xe5\\xd7\\xbe\\xe84\\x05\\x00\\x00\\xe77\\xd0\\x9b5\\x05\\x00\\x00\\xb1\\x00\\x00\\x00\\x07\\x00\\x00\\x00\\xac:\\xbe\\xdd7\\x05\\x00\\x00\\x90K\\xbe\\xdd7\\x05\\x00\\x00@\\xfbg\\xdd=\\x05\\x00\\x00\\x0c\\xfdg\\xdd=\\x05\\x00\\x00\\xa7'\\xc0\\x1e@\\x05\\x00\\x00S,\\xc0\\x1e@\\x05\\x00\\x00\\xf2k#\\x8fD\\x05\\x00\\x00\\x1an#\\x8fD\\x05\\x00\\x00\\x97\\xe8qBG\\x05\\x00\\x00\\xe5\\xfcqBG\\x05\\x00\\x00\\xef91QI\\x05\\x00\\x00\\xbf\\xf21QI\\x05\\x00\\x00(\\x00<\\x87I\\x05\\x00\\x00=\\xd8B\\xbdI\\x05\\x00\\x00\\xb2\\x00\\x00\\x00\\x07\\x00\\x00\\x00g\\xe8\\xcf\\xc6Q\\x05\\x00\\x00-\\xec\\xcf\\xc6Q\\x05\\x00\\x00({k\\tT\\x05\\x00\\x00n\\x8ak\\tT\\x05\\x00\\x00#\\xb4\\xa9\\x14V\\x05\\x00\\x00\\xef\\xb5\\xa9\\x14V\\x05\\x00\\x00\\xf7\\xa0U4Y\\x05\\x00\\x00G\\xa5U4Y\\x05\\x00\\x00s\\xa6\\xe7\\xdd[\\x05\\x00\\x00o\\xaf\\xe7\\xdd[\\x05\\x00\\x00f\\xc4\\xd9\\x97_\\x05\\x00\\x00\\x0c\\xcb\\xd9\\x97_\\x05\\x00\\x00\\xd9\\xbb\\x9bja\\x05\\x00\\x00w\\xbd\\x9bja\\x05\\x00\\x00\\xb3\\x00\\x00\\x00\\x06\\x00\\x00\\x00\\x04\\xfd\\x83'f\\x05\\x00\\x00\\x12\\x01\\xdbaf\\x05\\x00\\x00Xb<\\x85g\\x05\\x00\\x00Lf<\\x85g\\x05\\x00\\x00\\x9e\\x99\\xbe\\xe4j\\x05\\x00\\x00\\x9aU\\x87\\xcdk\\x05\\x00\\x00\\xeb\\x08}\\x0fp\\x05\\x00\\x00[\\n\"\n",
      "b'}\\x0fp\\x05\\x00\\x00w\\xb6\\xcf/q\\x05\\x00\\x00\\x0f\\xba\\xcf/q\\x05\\x00\\x00+\\x81s\\xc4t\\x05\\x00\\x00\\xe3\\x81s\\xc4t\\x05\\x00\\x00\\xb4\\x00\\x00\\x00\\x05\\x00\\x00\\x00\\xed\\xc2[ez\\x05\\x00\\x00C\\xc5[ez\\x05\\x00\\x00\\xcb\\x9d\\xcb\\x80{\\x05\\x00\\x00i\\x9f\\xcb\\x80{\\x05\\x00\\x008\\x9e%\\x99|\\x05\\x00\\x00(\\xb4S$~\\x05\\x00\\x00\\xfd\\xd0\\x04\\xb7\\x7f\\x05\\x00\\x00?\\xd2\\x04\\xb7\\x7f\\x05\\x00\\x00\\x8b{\\xb2M\\x81\\x05\\x00\\x00\\xb9{\\xb2M\\x81\\x05\\x00\\x00\\xb5\\x00\\x00\\x00\\x05\\x00\\x00\\x00\\x94E\\xf4$\\x87\\x05\\x00\\x00,\\xdb\\xe6\\x11\\x88\\x05\\x00\\x00\\xae\\xa2(.\\x89\\x05\\x00\\x00\\x94\\xa3(.\\x89\\x05\\x00\\x00\\x8f\\xe1\\xa0.\\x8b\\x05\\x00\\x00A\\xe4\\xa0.\\x8b\\x05\\x00\\x00A~\\xfbR\\x8c\\x05\\x00\\x00c\\x1e\\xd64\\x8d\\x05\\x00\\x00\\xf6/u\\xc6\\x8e\\x05\\x00\\x00\\x13*3)\\x90\\x05\\x00\\x00\\xb6\\x00\\x00\\x00\\x07\\x00\\x00\\x004R\"\\xc3\\x93\\x05\\x00\\x00.T\"\\xc3\\x93\\x05\\x00\\x00\\x13\\x92\\xf76\\x98\\x05\\x00\\x00\\xc5\\x94\\xf76\\x98\\x05\\x00\\x00\\x8deD\\x93\\x99\\x05\\x00\\x00\\x07\\xf5Hz\\x9a\\x05\\x00\\x00.\\xfe\\xce\\r\\x9c\\x05\\x00\\x00\\\\\\xfe\\xce\\r\\x9c\\x05\\x00\\x00\\x14\\x00kI\\x9c\\x05\\x00\\x00(\\x01kI\\x9c\\x05\\x00\\x00\\xa3\\xf3\\xf5J\\x9e\\x05\\x00\\x00\\xab\\xf8\\xf5J\\x9e\\x05\\x00\\x00eL5\\x19\\xa0\\x05\\x00\\x00\\xa9\\x825\\x19\\xa0\\x05\\x00\\x00\\xb7\\x00\\x00\\x00\\x04\\x00\\x00\\x00n\\x8d\\xcf\\xdb\\xa3\\x05\\x00\\x00L\\x83\\xeb\\x89\\xa4\\x05\\x00\\x00\\xaa=\\x9es\\xa5\\x05\\x00\\x00UB\\xfd\\xab\\xa5\\x05\\x00\\x00\\x8b\\xb3{\\xaf\\xa7\\x05\\x00\\x00k\\xb6{\\xaf\\xa7\\x05\\x00\\x00\\x8d\\x0f2\\xc8\\xa8\\x05\\x00\\x00\\x13\\xfe&v\\xab\\x05\\x00\\x00\\xb8\\x00\\x00\\x00\\t\\x00\\x00\\x00\\xe3\\x8d\\x99\\xf4\\xad\\x05\\x00\\x00\\x01\\x93\\x8a\\xe1\\xae\\x05\\x00\\x00\\x9f\\xd8\\x14\\xab\\xb0\\x05\\x00\\x00\\xdb\\xdb\\x14\\xab\\xb0\\x05\\x00\\x00\\xf0x\\x9b@\\xb2\\x05\\x00\\x00\\xac\\xf7\\x9b@\\xb2\\x05\\x00\\x00\\x90\\tXw\\xb2\\x05\\x00\\x00\\xd4\\x91u\\xad\\xb2\\x05\\x00\\x00\\xf4\\x8d\\xfb\\xe2\\xb5\\x05\\x00\\x00\\xa5\\xfc\\xfb\\xe2\\xb5\\x05\\x00\\x00\\x93\\x03<\\x1d\\xb6\\x05\\x00\\x00\\x0f\\xfd<\\x1d\\xb6\\x05\\x00\\x00\\x93\\x00^S\\xb6\\x05\\x00\\x00\\xea\\xac^S\\xb6\\x05\\x00\\x00\\x0b\\xef\\xd5E\\xb9\\x05\\x00\\x00\\x05\\xf1\\xd5E\\xb9\\x05\\x00\\x00\\x9cQ\\xcfT\\xbb\\x05\\x00\\x00\\x94c\\xcfT\\xbb\\x05\\x00\\x00\\xb9\\x00\\x00\\x00\\x05\\x00\\x00\\x00\\xbbYH\\xc7\\xbe\\x05\\x00\\x00?\\\\H\\xc7\\xbe\\x05\\x00\\x00\\x94J\\xd6\\xa6\\xc1\\x05\\x00\\x00\\x9a\\x12b\\x8b\\xc2\\x05\\x00\\x00mT\\xf2\\x1e\\xc4\\x05\\x00\\x00\\xad\\xbbm\\xd2\\xc4\\x05\\x00\\x00\\xe9|%\\xdd\\xc8\\x05\\x00\\x00\\xe3~%\\xdd\\xc8\\x05\\x00\\x00\\xb4(?\\xff\\xc9\\x05\\x00\\x00\\xae*?\\xff\\xc9\\x05\\x00\\x00\\xba\\x00\\x00\\x00\\x01\\x00\\x00\\x00\\x19\\x18\\xdf\\xc4\\xcb\\x05\\x00\\x00\\x08\\x86c]\\xd1\\x05\\x00\\x00\\xbb\\x00\\x00\\x00\\x04\\x00\\x00\\x00J\\x87c]\\xd1\\x05\\x00\\x00L:\\xa6D\\xd2\\x05\\x00\\x00\\xf1\\x15\\xb0\\x8f\\xd3\\x05\\x00\\x00\\x02\\x94\\xde\\x01\\xd6\\x05\\x00\\x00m/\\x94\\x9b\\xd7\\x05\\x00\\x0091\\x94\\x9b\\xd7\\x05\\x00\\x00\\xfb,\\xa6\\xb9\\xd8\\x05\\x00\\x00\\x9e\\xec\\xaf\\xa1\\xd9\\x05\\x00\\x00\\xbc\\x00\\x00\\x00\\x02\\x00\\x00\\x00\\x95\\x05\\xb8\\x0b\\xdb\\x05\\x00\\x00\\x01\\x84O\\x9a\\xdd\\x05\\x00\\x00XDSh\\xdf\\x05\\x00\\x00\\x86DSh\\xdf\\x05\\x00\\x00\\xd1\\x00\\x00\\x00\\x02\\x00\\x00\\x00P\\x12\\x0c\\xa2\\xe5\\x05\\x00\\x00Z\\xb9\\x93X\\xe6\\x05\\x00\\x00\\xf2\\x02\\x99\\x98\\xe6\\x05\\x00\\x00s\\x94\\xac\\x18\\xe7\\x05\\x00\\x00\\xd2\\x00\\x00\\x00\\x03\\x00\\x00\\x00s\\x94\\xac\\x18\\xe7\\x05\\x00\\x00\\x04\\xef4X\\xe7\\x05\\x00\\x00)\\x85x\\x00\\xe8\\x05\\x00\\x00\\xf5\\xde\\xcax\\xe8\\x05\\x00\\x00\"Lc\\xb5\\xe8\\x05\\x00\\x00\\xd0,T\\xa4\\xe9\\x05\\x00\\x00\\xd3\\x00\\x00\\x00\\x07\\x00\\x00\\x00\\xfe,T\\xa4\\xe9\\x05\\x00\\x00^RT\\xa4\\xe9\\x05\\x00\\x00\\x08,\\xff}\\xef\\x05\\x00\\x00t\\xe7\\xff}\\xef\\x05\\x00\\x00Z\\x10\\x0c\\xb7\\xef\\x05\\x00\\x00\\xe1\\xfe\\x0c\\xb7\\xef\\x05\\x00\\x00=\\x00\\xa1\\xed\\xef\\x05\\x00\\x00\\x1e1\\xa1\\xed\\xef\\x05\\x00\\x00\\xbblv\\xfb\\xf1\\x05\\x00\\x00#\\')\\xb2\\xf2\\x05\\x00\\x00X\\xa7<$\\xf9\\x05\\x00\\x00\\x10\\xa8<$\\xf9\\x05\\x00\\x00g\\xe6>\\xcc\\xfd\\x05\\x00\\x00\\xf1\\xe6>\\xcc\\xfd\\x05\\x00\\x00\\xd4\\x00\\x00\\x00\\x03\\x00\\x00\\x00+\\xe9\\xc9\\xed\\xfe\\x05\\x00\\x00\\x91\\xc6\\xf5e\\xff\\x05\\x00\\x00\\xf5\\x11\\n'\n",
      "b'\\x9f\\xff\\x05\\x00\\x00\\x9d\\x905\\xdd\\xff\\x05\\x00\\x00J\\x99\\xa2\\xa2\\x01\\x06\\x00\\x00\\x16\\x9b\\xa2\\xa2\\x01\\x06\\x00\\x00\\xd5\\x00\\x00\\x00\\x03\\x00\\x00\\x00\\xb6\\xef\\x944\\x03\\x06\\x00\\x00h\\xd5@\\xe0\\x03\\x06\\x00\\x00%\\x0ek\\xa7\\x05\\x06\\x00\\x00\\x95\\x0fk\\xa7\\x05\\x06\\x00\\x00j\\xf6gO\\x08\\x06\\x00\\x00c\\x94\\x97\\x18\\n'\n",
      "b'\\x06\\x00\\x00\\xd6\\x00\\x00\\x00\\x03\\x00\\x00\\x00TsW\\xf1\\x0b\\x06\\x00\\x00\\x92\\xf9\\xb0h\\x0c\\x06\\x00\\x00i\\xa9f\\x9f\\x0c\\x06\\x00\\x00\\xff\\xea5\\x16\\r\\x06\\x00\\x00\\xa9\\x00vR\\r\\x06\\x00\\x00,\\xf9vR\\r\\x06\\x00\\x00\\xd7\\x00\\x00\\x00\\x03\\x00\\x00\\x00\\x88\\xf9vR\\r\\x06\\x00\\x00\\xea\\x1c\\xeb\\xb8\\x0e\\x06\\x00\\x00\\x18\\xa5*Z\\x11\\x06\\x00\\x00w\\xfb\\xe4O\\x12\\x06\\x00\\x00&\\x7fdw\\x13\\x06\\x00\\x00\\x18\\xaadw\\x13\\x06\\x00\\x00\\xd8\\x00\\x00\\x00\\n'\n",
      "b'\\x00\\x00\\x00T\\xe1y~\\x19\\x06\\x00\\x00\\x06\\xe4y~\\x19\\x06\\x00\\x00\\xf6\\xd7\\x12T\\x1d\\x06\\x00\\x00\\xf4\\xfe\\x12T\\x1d\\x06\\x00\\x00d\\x01\\x0f\\x8c\\x1d\\x06\\x00\\x00\\xa4\\xfe\\x0f\\x8c\\x1d\\x06\\x00\\x00\\xcc\\x01s\\xc2\\x1d\\x06\\x00\\x00f\\xe7s\\xc2\\x1d\\x06\\x00\\x00\\xf0\\xae\\xe9d\"\\x06\\x00\\x00\\x9e\\xba\\xe9d\"\\x06\\x00\\x00\\n'\n",
      "b'\\xb2\\xf2\\xfe#\\x06\\x00\\x00\\xea\\xb4\\xf2\\xfe#\\x06\\x00\\x00\\x9d\\x82E\\xaf,\\x06\\x00\\x00W\\xfdE\\xaf,\\x06\\x00\\x00e\\x01\\xe5\\xea,\\x06\\x00\\x00\\x82\\xa0\\xb2 -\\x06\\x00\\x00\\xde \\xe1Q/\\x06\\x00\\x00\\xc8/\\xe1Q/\\x06\\x00\\x00+\\x04\\xfa\\xcd1\\x06\\x00\\x00g\\x07\\xfa\\xcd1\\x06\\x00\\x00\\xd9\\x00\\x00\\x00\\x07\\x00\\x00\\x00\\xa1\\xae\\x94\\x9b9\\x06\\x00\\x00%\\xb1\\x94\\x9b9\\x06\\x00\\x00 \\xd1rR?\\x06\\x00\\x00r\\xdcrR?\\x06\\x00\\x00\\xf6\\xde\\x8e\\x1bC\\x06\\x00\\x00\\xf0\\xe0\\x8e\\x1bC\\x06\\x00\\x00\\x9fqs<F\\x06\\x00\\x00yvs<F\\x06\\x00\\x00?Z\\x0eHH\\x06\\x00\\x00\\xaf[\\x0eHH\\x06\\x00\\x00\\x96[d\\xbdJ\\x06\\x00\\x00\\xbe]d\\xbdJ\\x06\\x00\\x00\\xe9\\x9f\\x0e\\xaeM\\x06\\x00\\x00\\xf5\\xb2\\x0e\\xaeM\\x06\\x00\\x00\\xda\\x00\\x00\\x00\\x02\\x00\\x00\\x00\\xeb\\xa8\\x9d\\xc3S\\x06\\x00\\x00|s|qT\\x06\\x00\\x00\\xb1\\xac\\xf5\\x8dU\\x06\\x00\\x006\\xfe\\x92\\x8cY\\x06\\x00\\x00\\xdb\\x00\\x00\\x00\\x07\\x00\\x00\\x00\\xc0\\xfe\\x92\\x8cY\\x06\\x00\\x00=\\xddWnZ\\x06\\x00\\x00\\xb6\\xfe\\xee\\xca[\\x06\\x00\\x00\\xe4\\xfe\\xee\\xca[\\x06\\x00\\x00\\x1e\\xd8\\xdb+]\\x06\\x00\\x00\\xea\\xd9\\xdb+]\\x06\\x00\\x00b\\xde\\xedma\\x06\\x00\\x00j\\xe3\\xedma\\x06\\x00\\x00\\x88L\\xd6\\xa8e\\x06\\x00\\x002a\\xd6\\xa8e\\x06\\x00\\x00\\xac\\xda\\x94\\x98h\\x06\\x00\\x00l\\xe0\\x94\\x98h\\x06\\x00\\x00\\xb8\\x13\\x0bMp\\x06\\x00\\x00\\x98\\x16\\x0bMp\\x06\\x00\\x00\\xdc\\x00\\x00\\x00\\t\\x00\\x00\\x00XI\\x08\\xe1u\\x06\\x00\\x00RK\\x08\\xe1u\\x06\\x00\\x00\\xd1T\\x9d\\xeey\\x06\\x00\\x00AV\\x9d\\xeey\\x06\\x00\\x00\\xde|\\x1b\\xdd|\\x06\\x00\\x00\\x90\\x7f\\x1b\\xdd|\\x06\\x00\\x00\\x1b\\xc8\\xcd \\x7f\\x06\\x00\\x00\\xd3\\xc8\\xcd \\x7f\\x06\\x00\\x00e\\xb0q\\xf6\\x80\\x06\\x00\\x00\\x17\\xb3q\\xf6\\x80\\x06\\x00\\x00k\\x17VL\\x84\\x06\\x00\\x00\\x97\\'VL\\x84\\x06\\x00\\x00FS\\xc3\\x00\\x8e\\x06\\x00\\x00\\xaf\\xaf\\xc3\\x00\\x8e\\x06\\x00\\x00]\\xd6\\xe26\\x8e\\x06\\x00\\x00\\xa0\\xee\\xe26\\x8e\\x06\\x00\\x00\\xac$\\x12n\\x8e\\x06\\x00\\x00\\xc8q\\xa6\\xa4\\x8e\\x06\\x00\\x00\\xdd\\x00\\x00\\x00\\x07\\x00\\x00\\x00\\xc4\\xf0\\xac~\\x9c\\x06\\x00\\x00N\\xf1\\xac~\\x9c\\x06\\x00\\x00V\\x06O\\xab\\x9d\\x06\\x00\\x00d\\tO\\xab\\x9d\\x06\\x00\\x00g\\x80\\xd2%\\xa0\\x06\\x00\\x00\\x9d\\x85\\xd2%\\xa0\\x06\\x00\\x00\\xd1\\xdca,\\xa2\\x06\\x00\\x00o\\xdea,\\xa2\\x06\\x00\\x00\\xa8\\x1c\\x19\\x11\\xa5\\x06\\x00\\x00\\x8e\\x1d\\x19\\x11\\xa5\\x06\\x00\\x00:xoZ\\xa9\\x06\\x00\\x00bzoZ\\xa9\\x06\\x00\\x00VC\\xd3\\x92\\xaf\\x06\\x00\\x00\\x82S\\xd3\\x92\\xaf\\x06\\x00\\x00\\xde\\x00\\x00\\x00\\x07\\x00\\x00\\x00\\x8dmz\\xf1\\xb6\\x06\\x00\\x00\\xb5oz\\xf1\\xb6\\x06\\x00\\x00F\\xebS\\xdd\\xbd\\x06\\x00\\x00&\\xeeS\\xdd\\xbd\\x06\\x00\\x00\\xe9\\xbaQ\\x0b\\xc1\\x06\\x00\\x00=\\xfbQ\\x0b\\xc1\\x06\\x00\\x00\\xfb0\\x84q\\xc7\\x06\\x00\\x00s7\\x84q\\xc7\\x06\\x00\\x00\\xa05\\xf7\\x06\\xcb\\x06\\x00\\x00t<\\xf7\\x06\\xcb\\x06\\x00\\x00\\xf8\\x1bYe\\xcc\\x06\\x00\\x00\\x0c\\x1dYe\\xcc\\x06\\x00\\x002{\\xcb\\x8d\\xcf\\x06\\x00\\x00\\xefj\\x0ct\\xd0\\x06\\x00\\x00\\xdf\\x00\\x00\\x00\\x05\\x00\\x00\\x00Kk\\x0ct\\xd0\\x06\\x00\\x00u\\xf6;\\\\\\xd1\\x06\\x00\\x00\\x0f\\x9bk\\x7f\\xd2\\x06\\x00\\x00\\x92\\xea\\x07k\\xd3\\x06\\x00\\x00c\\x94m\\x90\\xd4\\x06\\x00\\x00i\\xf6\\xf1{\\xd5\\x06\\x00\\x00\\xf32\\xc7\\xd3\\xd6\\x06\\x00\\x00w5\\xc7\\xd3\\xd6\\x06\\x00\\x00|0\\x00q\\xd8\\x06\\x00\\x0041\\x00q\\xd8\\x06\\x00\\x00\\xe0\\x00\\x00\\x00\\x03\\x00\\x00\\x00wO!\\x99\\xd9\\x06\\x00\\x00{\\xfb\\x8c\\xcc\\xdc\\x06\\x00\\x00*5\\x15\\xa2\\xde\\x06\\x00\\x00\\xf66\\x15\\xa2\\xde\\x06\\x00\\x00\\xef\\x8f\\xaas\\xe0\\x06\\x00\\x00\\x8au\\xb9\\x0b\\xe2\\x06\\x00\\x00\\xe1\\x00\\x00\\x00\\x06\\x00\\x00\\x00\\xe6u\\xb9\\x0b\\xe2\\x06\\x00\\x00q<\\xa4g\\xe3\\x06\\x00\\x00\\x15\\xe0\\xf6)\\xe5\\x06\\x00\\x00\\xad\\xe3\\xf6)\\xe5\\x06\\x00\\x00B\\xa8{U\\xea\\x06\\x00\\x00\\x9e\\xbf{U\\xea\\x06\\x00\\x00\\x15np]\\xec\\x06\\x00\\x00\\xe3vp]\\xec\\x06\\x00\\x00\\xbfk0\\xb5\\xef\\x06\\x00\\x00]m0\\xb5\\xef\\x06\\x00\\x00\\xb7,\\x18\\xa0\\xf2\\x06\\x00\\x00\\'.\\x18\\xa0\\xf2\\x06\\x00\\x00\\xe2\\x00\\x00\\x00\\x07\\x00\\x00\\x00\\xf0\\xdc\\xfa\\xf8\\xf6\\x06\\x00\\x00t\\xdf\\xfa\\xf8\\xf6\\x06\\x00\\x00\\xd8c\\x01\\xdc\\xfa\\x06\\x00\\x00pg\\x01\\xdc\\xfa\\x06\\x00\\x00v\\xd2\\xac\\t\\xfe\\x06\\x00\\x00:\\xe6\\xac\\t\\xfe\\x06\\x00\\x00\\xcf\\x15\\xbf\\xa6\\xff\\x06\\x00\\x00\\x0b\\x19\\xbf\\xa6\\xff\\x06\\x00\\x00\\xc4\\x1cvo\\x05\\x07\\x00\\x00\\xf4\\x96vo\\x05\\x07\\x00\\x00=\\x8a\\x9e\\xcc\\r\\x07\\x00\\x00y\\x8d\\x9e\\xcc\\r\\x07\\x00\\x00\\xbd\\x9dO\\x0e\\x10\\x07\\x00\\x00\\x19\\x9eO\\x0e\\x10\\x07\\x00\\x00\\xe3\\x00\\x00\\x00\\x04\\x00\\x00\\x00\\xc2\\xb7<\\x90\\x18\\x07\\x00\\x00\\x168o\\x7f\\x19\\x07\\x00\\x00UF\\xae\\xdf\\x1a\\x07\\x00\\x00\\xdfF\\xae\\xdf\\x1a\\x07\\x00\\x00\\xbf\\xc2|\\x00\\x1c\\x07\\x00\\x00\\xae\\xeea\\xe6\\x1c\\x07\\x00\\x00\\xbeT\\xa3D\\x1e\\x07\\x00\\x00\\xa4U\\xa3D\\x1e\\x07\\x00\\x00\\xe4\\x00\\x00\\x00\\x03\\x00\\x00\\x00\\xf11\\xa3\\x12\"\\x07\\x00\\x00\\xc6\\xf5n\\xbf\"\\x07\\x00\\x00\\xd6&\\xf7\\xe3#\\x07\\x00\\x00\\x11\\xa1_8%\\x07\\x00\\x00\\x1a&\\x81\\x8b&\\x07\\x00\\x00\\xee\\xaa\\xa3\\xe1\\'\\x07\\x00\\x00\\xe5\\x00\\x00\\x00\\x01\\x00\\x00\\x00x\\xab\\xa3\\xe1\\'\\x07\\x00\\x00\\xd2\\xf8\\xf4Y,\\x07\\x00\\x00\\xe6\\x00\\x00\\x00\\x03\\x00\\x00\\x00%!\\x85\\xcd.\\x07\\x00\\x00\\x00FT\\x182\\x07\\x00\\x00\\xa4\\xa9\\x7fq3\\x07\\x00\\x00(\\xac\\x7fq3\\x07\\x00\\x004+\\xe1\\x8f4\\x07\\x00\\x00p.\\xe1\\x8f4\\x07\\x00\\x00\\xe7\\x00\\x00\\x00\\x03\\x00\\x00\\x00\\xdf\\xf5~@9\\x07\\x00\\x00\\x8b\\xfa~@9\\x07\\x00\\x00u\\x917\\xdb:\\x07\\x00\\x00\\xb5\\xea\\x0c\\x0f=\\x07\\x00\\x00\\x88\\xe9\\xc6.>\\x07\\x00\\x00\\xfa\\xce>\\x8a?\\x07\\x00\\x00\\xe8\\x00\\x00\\x00\\x06\\x00\\x00\\x005\\xb7\\xc4\\xf6A\\x07\\x00\\x001\\xc0\\xc4\\xf6A\\x07\\x00\\x00\\toiWC\\x07\\x00\\x00?tiWC\\x07\\x00\\x00zTd\\xf4D\\x07\\x00\\x00tVd\\xf4D\\x07\\x00\\x00\\xdf\\x07\\x1f\\x9dG\\x07\\x00\\x00Q\\x1f\\r\\x89H\\x07\\x00\\x00\\xb8\\'p\\xddL\\x07\\x00\\x00fJp\\xddL\\x07\\x00\\x006\\xc0\\xd0\\x7fP\\x07\\x00\\x00l\\xc5\\xd0\\x7fP\\x07\\x00\\x00\\xe9\\x00\\x00\\x00\\x06\\x00\\x00\\x00B\\xd5\\xb0\\x8fT\\x07\\x00\\x006\\xd9\\xb0\\x8fT\\x07\\x00\\x00\\xc0C\\x85LV\\x07\\x00\\x00\\xb2\\xf4\\xd9\\xc2V\\x07\\x00\\x00Oe_\\x03Y\\x07\\x00\\x00\\x8bh_\\x03Y\\x07\\x00\\x00\\xc1\\x15\\x85\\x97Z\\x07\\x00\\x00\\x03\\x17\\x85\\x97Z\\x07\\x00\\x003n\\xc20\\\\\\x07\\x00\\x00\\xb7p\\xc20\\\\\\x07\\x00\\x00\\x1e\\x98\\xd4\\xd0]\\x07\\x00\\x00s\\x83o\\x9e_\\x07\\x00\\x00\\xea\\x00\\x00\\x00\\x06\\x00\\x00\\x00+\\x84o\\x9e_\\x07\\x00\\x00}\\xfc\\xbcI`\\x07\\x00\\x00D3\\xdaOb\\x07\\x00\\x00_A\\x93;c\\x07\\x00\\x00h\\xd7+\\xcbd\\x07\\x00\\x00\\x96\\xd7+\\xcbd\\x07\\x00\\x00\\x18\\xef\\x97\\x95f\\x07\\x00\\x00n\\xf1\\x97\\x95f\\x07\\x00\\x00\\'c{/h\\x07\\x00\\x00\\xb1c{/h\\x07\\x00\\x00\\x1fg\\xb3\\x07j\\x07\\x00\\x00\\x89j\\xb3\\x07j\\x07\\x00\\x00\\xeb\\x00\\x00\\x00\\x03\\x00\\x00\\x00\\x8a\\xd2z\\xabl\\x07\\x00\\x00b\\xf8{\\\\m\\x07\\x00\\x00\\xb4\\xdb\\xd1\\xb4n\\x07\\x00\\x00\\x94\\xe90\\rp\\x07\\x00\\x00Rd\\xbafq\\x07\\x00\\x00\\x1b\\xd0!ms\\x07\\x00\\x00\\xec\\x00\\x00\\x00\\x04\\x00\\x00\\x00]\\xd1!ms\\x07\\x00\\x00\\x91 \\xb3\\xfet\\x07\\x00\\x00\\x86=6Yv\\x07\\x00\\x00\\x12=\\xc3Aw\\x07\\x00\\x00\\xe5\\x06\\xda\\xc7x\\x07\\x00\\x00_w\\xcc\\xa8z\\x07\\x00\\x00=)b1~\\x07\\x00\\x00|\\xa0\\xc0\\xde~\\x07\\x00\\x00\\xed\\x00\\x00\\x00\\x06\\x00\\x00\\x00\\xaa\\xa0\\xc0\\xde~\\x07\\x00\\x00:\\xf5\\xbc\\x8d\\x7f\\x07\\x00\\x00b\\x00t\\xb3\\x80\\x07\\x00\\x00tG\\x84\\x9e\\x81\\x07\\x00\\x00OOpp\\x83\\x07\\x00\\x00\\xa5Qpp\\x83\\x07\\x00\\x00\"D5\\xc7\\x86\\x07\\x00\\x00xF5\\xc7\\x86\\x07\\x00\\x00\\x0e.\\x8c\\x11\\x89\\x07\\x00\\x00\\xf4.\\x8c\\x11\\x89\\x07\\x00\\x00yUO9\\x8a\\x07\\x00\\x00\\xb6ga\\'\\x8b\\x07\\x00\\x00\\xee\\x00\\x00\\x00\\x05\\x00\\x00\\x00\\x06T;L\\x8c\\x07\\x00\\x00/\\xd8\\xff8\\x8d\\x07\\x00\\x00F\\xef~\\x9a\\x8e\\x07\\x00\\x00\\xf8\\xf1~\\x9a\\x8e\\x07\\x00\\x00\\xd0v/\\x9d\\x90\\x07\\x00\\x00\\xb7\\xb6\\xe1L\\x91\\x07\\x00\\x00\\xec\\x81D\\x83\\x93\\x07\\x00\\x00v\\x82D\\x83\\x93\\x07\\x00\\x00\\xfa/\\xa44\\x96\\x07\\x00\\x00\\xa64\\xa44\\x96\\x07\\x00\\x00\\xef\\x00\\x00\\x00\\x03\\x00\\x00\\x00/*\\xc1<\\x9a\\x07\\x00\\x00zF\\xb8\\x04\\x9d\\x07\\x00\\x00<\\x8e\\x86*\\x9e\\x07\\x00\\x00\\x8c\\x92\\x86*\\x9e\\x07\\x00\\x00\\x19j\\xfb\\x82\\xa1\\x07\\x00\\x00\\xcbl\\xfb\\x82\\xa1\\x07\\x00\\x00\\xf0\\x00\\x00\\x00\\x02\\x00\\x00\\x00rA\\xd2V\\xa5\\x07\\x00\\x00\\n'\n",
      "b'\\xe5\\xa7\\x04\\xa8\\x07\\x00\\x00\\x82\\x12Q\\x1f\\xa9\\x07\\x00\\x00\\xf4\\xa7\\xa4l\\xab\\x07\\x00\\x00\\xf1\\x00\\x00\\x00\\x02\\x00\\x00\\x00\\x01\\x19\\xb1\\x87\\xac\\x07\\x00\\x00z\\xf0\\xb1\\x87\\xac\\x07\\x00\\x00\\xfd\\x03\\x87\\xbd\\xac\\x07\\x00\\x00\\xba\\xa4\\x99\\xb9\\xb2\\x07\\x00\\x00\\xf2\\x00\\x00\\x00\\x03\\x00\\x00\\x00D\\xa5\\x99\\xb9\\xb2\\x07\\x00\\x00\\xc2\\xf2\\xb2`\\xb7\\x07\\x00\\x00A\\xfd\\xef\\x83\\xb8\\x07\\x00\\x00\\x83\\xfe\\xef\\x83\\xb8\\x07\\x00\\x00\\r\\x00\\xd6\\xbe\\xb8\\x07\\x00\\x00]q\\xfcm\\xb9\\x07\\x00\\x00\\xf3\\x00\\x00\\x00\\x06\\x00\\x00\\x00Cr\\xfcm\\xb9\\x07\\x00\\x00k\\xb3\\x06\\x1f\\xba\\x07\\x00\\x00\\xa3\\xfahu\\xbb\\x07\\x00\\x00\\x13\\xfchu\\xbb\\x07\\x00\\x00\\x05\\xa3\\x0e\\x97\\xbc\\x07\\x00\\x00U\\xa7\\x0e\\x97\\xbc\\x07\\x00\\x00\\x92\\xeed\\xb8\\xbd\\x07\\x00\\x00\\xc0\\\\8\\xa3\\xbe\\x07\\x00\\x00\\xd6UB\\xaa\\xc0\\x07\\x00\\x00\\xb6XB\\xaa\\xc0\\x07\\x00\\x00\\xdb\\xc6j\\xee\\xc2\\x07\\x00\\x001\\xc9j\\xee\\xc2\\x07\\x00\\x00\\xf4\\x00\\x00\\x00\\x04\\x00\\x00\\x00\\xba\\x07\\xd6\\xc6\\xc6\\x07\\x00\\x00\\x83y\\xfb\\x1f\\xc8\\x07\\x00\\x00\\xf9 Z\\xb1\\xc9\\x07\\x00\\x00i\"Z\\xb1\\xc9\\x07\\x00\\x00\\xab\\xa1\\x14\\xaa\\xcd\\x07\\x00\\x001n]\\x9a\\xce\\x07\\x00\\x00\\xafI{\\x93\\xd1\\x07\\x00\\x00\\xf8\\x9c\\xbf~\\xd2\\x07\\x00\\x00\\xf5\\x00\\x00\\x00\\x05\\x00\\x00\\x00g\\x7f\\xd9\\x15\\xd4\\x07\\x00\\x005\\xdcY\\xfc\\xd4\\x07\\x00\\x00\\x10D\\x0b\\x15\\xd6\\x07\\x00\\x00\\x1f\\xae\\x11}\\xd7\\x07\\x00\\x00W\\xd6\\xcad\\xda\\x07\\x00\\x00Q\\xd8\\xcad\\xda\\x07\\x00\\x00\\x15\\xcf\\x80\\xc6\\xdf\\x07\\x00\\x00\\x0f\\xd1\\x80\\xc6\\xdf\\x07\\x00\\x00gV\\n'\n",
      "b'\\xe3\\xe0\\x07\\x00\\x00MW\\n'\n",
      "b'\\xe3\\xe0\\x07\\x00\\x00\\xf6\\x00\\x00\\x00\\x03\\x00\\x00\\x00\\x08y\\x19\\x1d\\xe3\\x07\\x00\\x00\\xa9$\\xee\\xc2\\xe5\\x07\\x00\\x00\\x93\\xbc\\x10\\xbd\\xe7\\x07\\x00\\x00\\xd5\\xbd\\x10\\xbd\\xe7\\x07\\x00\\x00\\x10\\xc7(\\xb0\\xea\\x07\\x00\\x00$\\xc8(\\xb0\\xea\\x07\\x00\\x00\\xf7\\x00\\x00\\x00\\x05\\x00\\x00\\x00\\xaa#\\xe6\\xba\\xee\\x07\\x00\\x00\\xa6,\\xe6\\xba\\xee\\x07\\x00\\x00\\xb1\\x7f\\x06I\\xf0\\x07\\x00\\x00\\xf3\\x80\\x06I\\xf0\\x07\\x00\\x00\\x92k@\\xf4\\xf2\\x07\\x00\\x00\\xaa\\xe7Y\\xa6\\xf3\\x07\\x00\\x00\\xbf\\x82\\xf5\\xc7\\xf4\\x07\\x00\\x00A\\xd2!\\xac\\xf5\\x07\\x00\\x00\\x98n\\xda\\x04\\xf7\\x07\\x00\\x00\\xc6n\\xda\\x04\\xf7\\x07\\x00\\x00\\xf8\\x00\\x00\\x00\\x03\\x00\\x00\\x00\\x85\\xb39\\x0c\\xfd\\x07\\x00\\x00\\xfbel\\xf4\\xfd\\x07\\x00\\x005\\xa6\\xe7\\x1d\\xff\\x07\\x00\\x00\\xa5\\xa7\\xe7\\x1d\\xff\\x07\\x00\\x00*\\x12\\x82\\xb3\\x00\\x08\\x00\\x00 R\\xd3\\x82\\x02\\x08\\x00\\x00\\xf9\\x00\\x00\\x00\\x07\\x00\\x00\\x00$,?\\x03\\x05\\x08\\x00\\x00 \\xb7\\xd1\\xeb\\x05\\x08\\x00\\x00\\rgd\\xd4\\x08\\x08\\x00\\x00\\xd9hd\\xd4\\x08\\x08\\x00\\x00\\xd0\\xda\\xa46\\n'\n",
      "b'\\x08\\x00\\x00\\xc8\\xec\\xa46\\n'\n",
      "b'\\x08\\x00\\x00=\\x08\\xc7y\\x0c\\x08\\x00\\x00\\xa1\\r\\xc7y\\x0c\\x08\\x00\\x00@\\x07H\\xaf\\x0e\\x08\\x00\\x00\\x82\\x08H\\xaf\\x0e\\x08\\x00\\x00\\x05\\x13\\xd6\\x11\\x12\\x08\\x00\\x00\\xe5\\x15\\xd6\\x11\\x12\\x08\\x00\\x00\\xbfa8\\xab\\x13\\x08\\x00\\x00\\xd3b8\\xab\\x13\\x08\\x00\\x00\\xfa\\x00\\x00\\x00\\x02\\x00\\x00\\x009\\x8a\\x0c\\x0e\\x15\\x08\\x00\\x00k\\xb6\\x13\\xb5\\x18\\x08\\x00\\x00$\\x98\\xee\\xed\\x1a\\x08\\x00\\x00\\x93E\\xe6\\xd8\\x1b\\x08\\x00\\x00\\xfb\\x00\\x00\\x00\\x02\\x00\\x00\\x00\\xf8\\xb3\\xc6\\xfe\\x1c\\x08\\x00\\x00\\xd7\\xfc\\xb1\\xe8\\x1d\\x08\\x00\\x00\\xd9o\\xbf\\x11\\x1f\\x08\\x00\\x00?\\xdd\\x93\\xf6\"\\x08\\x00\\x00\\xfc\\x00\\x00\\x00\\x01\\x00\\x00\\x00\\x9b\\xdd\\x93\\xf6\"\\x08\\x00\\x00&\\xcf=S\\'\\x08\\x00\\x00\\xfd\\x00\\x00\\x00\\x01\\x00\\x00\\x00h\\xd0=S\\'\\x08\\x00\\x00\\xda:\\xbe}+\\x08\\x00\\x00\\xfe\\x00\\x00\\x00\\x01\\x00\\x00\\x00\\x08;\\xbe}+\\x08\\x00\\x00\\'\\xfco\\xa1/\\x08\\x00\\x00\\xff\\x00\\x00\\x00\\x01\\x00\\x00\\x00\\r\\xfdo\\xa1/\\x08\\x00\\x00h\\xce\\xc7?4\\x08\\x00\\x00\\x00\\x01\\x00\\x00\\x05\\x00\\x00\\x00h\\xce\\xc7?4\\x08\\x00\\x00\\x95z\\xfc\\t7\\x08\\x00\\x00!\\xcd\\xf4m8\\x08\\x00\\x000\\xfe\\xf4m8\\x08\\x00\\x00r\\x00\\xd8\\xa98\\x08\\x00\\x00\\xcbN\\xd8\\xa98\\x08\\x00\\x00\\xe2l\\xa4\\xcf9\\x08\\x00\\x00\\x94o\\xa4\\xcf9\\x08\\x00\\x000\\x08?\\x0f<\\x08\\x00\\x00l\\x0b?\\x0f<\\x08\\x00\\x00\\x01\\x01\\x00\\x00\\x04\\x00\\x00\\x00\\t8\\x10??\\x08\\x00\\x00_:\\x10??\\x08\\x00\\x00-\\x18]\\xb7A\\x08\\x00\\x00\\xcf\\xd9\\xeejB\\x08\\x00\\x00\\xc3\\x19\\xe6\\xceC\\x08\\x00\\x00\\xd7\\x1a\\xe6\\xceC\\x08\\x00\\x00M>\\xf6\\xfaD\\x08\\x00\\x00\\xd4\\x1ef\\x0cG\\x08\\x00\\x00\\x02\\x01\\x00\\x00\\x01\\x00\\x00\\x00\\xd4\\x1ef\\x0cG\\x08\\x00\\x00N\\xe1c\\xe8K\\x08\\x00\\x00\\x03\\x01\\x00\\x00\\x01\\x00\\x00\\x00\\xbe\\xe2c\\xe8K\\x08\\x00\\x00\\xc6\\xe8\\xa3SP\\x08\\x00\\x00\\x04\\x01\\x00\\x00\\x01\\x00\\x00\\x00P\\xe9\\xa3SP\\x08\\x00\\x00G/\\x1f|T\\x08\\x00\\x00\\x05\\x01\\x00\\x00\\x03\\x00\\x00\\x00X3\\xca,W\\x08\\x00\\x00\\x95g\\xa8{Y\\x08\\x00\\x00\\xfd\\xdc\\x9b\\xdcZ\\x08\\x00\\x00?\\xde\\x9b\\xdcZ\\x08\\x00\\x00Oi\\x9e\\xb5\\\\\\x08\\x00\\x00\\x9dG\\xc0\\xa0]\\x08\\x00\\x00\\x06\\x01\\x00\\x00\\x05\\x00\\x00\\x00\\xbc\\xa0\\xb1\\x1c`\\x08\\x00\\x00<\\xcc\\xb3\\xc0a\\x08\\x00\\x00s\\x04\\x95ac\\x08\\x00\\x00\\xcf\\x04\\x95ac\\x08\\x00\\x00#}\\rHg\\x08\\x00\\x00E\\x81\\rHg\\x08\\x00\\x00\\xe5\\xd4\\xadth\\x08\\x00\\x00\\x83\\xd6\\xadth\\x08\\x00\\x00n\\x01\\xe3Mj\\x08\\x00\\x00\\x94\\xb4\\x89(l\\x08\\x00\\x00\\x07\\x01\\x00\\x00\\x02\\x00\\x00\\x00\\xf0\\xb4\\x89(l\\x08\\x00\\x00M\\xf9\\xe0\\xf4p\\x08\\x00\\x00\\xc46.\\x1dr\\x08\\x00\\x0048.\\x1dr\\x08\\x00\\x00\\x08\\x01\\x00\\x00\\x05\\x00\\x00\\x00N\\r\\xc3Nu\\x08\\x00\\x00\\x8b\\xd7L7v\\x08\\x00\\x00X\"\\xaa\\x1fy\\x08\\x00\\x00\\xf2\\xb7\\xad\\n'\n",
      "b'z\\x08\\x00\\x00\\xfe\\x87\\xaf\\xa6{\\x08\\x00\\x00\\xb6\\x88\\xaf\\xa6{\\x08\\x00\\x00\\xf9Q\\xf7\\x95~\\x08\\x00\\x00UR\\xf7\\x95~\\x08\\x00\\x00D/\\x16\\x08\\x81\\x08\\x00\\x00e\\xdc\\t\\xe8\\x81\\x08\\x00\\x00\\t\\x01\\x00\\x00\\x07\\x00\\x00\\x00\\xf2\\xde`~\\x83\\x08\\x00\\x00\\xec\\xe0`~\\x83\\x08\\x00\\x00\\x18\\xce\\xa4Q\\x85\\x08\\x00\\x00\\xca\\xd0\\xa4Q\\x85\\x08\\x00\\x00Z\\x10\\xab\\x1c\\x87\\x08\\x00\\x00h\\x13\\xab\\x1c\\x87\\x08\\x00\\x00\\x16\\xd1\\x10s\\x88\\x08\\x00\\x00$\\xd4\\x10s\\x88\\x08\\x00\\x00\\x03\\xa3\\xd9Y\\x8b\\x08\\x00\\x00%\\xa7\\xd9Y\\x8b\\x08\\x00\\x00\\x9f\\\\\\x97\\xb3\\x8c\\x08\\x00\\x00\\x8d\\xec\\x97\\xb3\\x8c\\x08\\x00\\x00\\x93\\x9bE\\xdb\\x8f\\x08\\x00\\x00\\xff\\xa5E\\xdb\\x8f\\x08\\x00\\x00\\n'\n",
      "b\"\\x01\\x00\\x00\\x07\\x00\\x00\\x00x\\xa2\\xd9G\\x92\\x08\\x00\\x00\\xb0\\xa8\\x0f\\xfb\\x92\\x08\\x00\\x00\\xdd~z_\\x94\\x08\\x00\\x00{\\x80z_\\x94\\x08\\x00\\x00\\x10'\\xaf\\x85\\x95\\x08\\x00\\x00\\x1e*\\xaf\\x85\\x95\\x08\\x00\\x00g\\xc5\\r\\xe0\\x98\\x08\\x00\\x00\\xf1\\xc5\\r\\xe0\\x98\\x08\\x00\\x00a\\xdb\\xb8\\xde\\x9c\\x08\\x00\\x00\\x83\\xdf\\xb8\\xde\\x9c\\x08\\x00\\x00\\xcd\\x11\\x80z\\x9e\\x08\\x00\\x00\\xc7\\x13\\x80z\\x9e\\x08\\x00\\x00,\\x08@\\xf9\\xa5\\x08\\x00\\x00\\xc0\\x14@\\xf9\\xa5\\x08\\x00\\x00\\x0b\\x01\\x00\\x00\\x08\\x00\\x00\\x00Y\\xaa\\x0f?\\xaa\\x08\\x00\\x003\\xaf\\x0f?\\xaa\\x08\\x00\\x00\\xb0\\xde*\\x9e\\xad\\x08\\x00\\x00:\\xdf*\\x9e\\xad\\x08\\x00\\x00\\xeb[\\xef\\x1c\\xb0\\x08\\x00\\x00\\x9d^\\xef\\x1c\\xb0\\x08\\x00\\x005F\\xcbt\\xb1\\x08\\x00\\x00\\x01H\\xcbt\\xb1\\x08\\x00\\x00\\xffd\\xaa\\x95\\xb2\\x08\\x00\\x00\\xe5e\\xaa\\x95\\xb2\\x08\\x00\\x00\\xb9\\x8c\\x03e\\xb4\\x08\\x00\\x00C\\x8d\\x03e\\xb4\\x08\\x00\\x00;\\xfd\\xc5\\xf7\\xb5\\x08\\x00\\x00\\xab\\xfe\\xc5\\xf7\\xb5\\x08\\x00\\x00\\x07\\x00)0\\xb6\\x08\\x00\\x00\\x1b\\x01)0\\xb6\\x08\\x00\\x00\\x0c\\x01\\x00\\x00\\x06\\x00\\x00\\x00\\xae\\x1dN\\x10\\xbe\\x08\\x00\\x00\\xc4\\xecR\\xf1\\xbe\\x08\\x00\\x00\\x12}eG\\xc0\\x08\\x00\\x00\\xca}eG\\xc0\\x08\\x00\\x00\\xffo\\xda\\x9d\\xc1\\x08\\x00\\x00\\xf3s\\xda\\x9d\\xc1\\x08\\x00\\x00\\x01\\x87'e\\xc3\\x08\\x00\\x00\\x0f\\x8a'e\\xc3\\x08\\x00\\x00\\xd4B\\x12*\\xc7\\x08\\x00\\x00\\x10F\\x12*\\xc7\\x08\\x00\\x00\\xb6\\x83\\x90q\\xc9\\x08\\x00\\x00\\x0c\\x86\\x90q\\xc9\\x08\\x00\\x00\\r\\x01\\x00\\x00\\x04\\x00\\x00\\x009@1\\xa2\\xce\\x08\\x00\\x00\\xa3C1\\xa2\\xce\\x08\\x00\\x00'\\x01\\x1d\\x9f\\xd2\\x08\\x00\\x00Q\\xe9\\x1d\\x9f\\xd2\\x08\\x00\\x00\\xdbU\\xdb\\xbe\\xd3\\x08\\x00\\x00K`\\xf1i\\xd4\\x08\\x00\\x00<xC\\xca\\xd5\\x08\\x00\\x00\\xa2\\x14\\xf3|\\xd6\\x08\\x00\\x00\\x0e\\x01\\x00\\x00\\x06\\x00\\x00\\x00\\x02]\\x02r\\xd9\\x08\\x00\\x00\\xd6c\\x02r\\xd9\\x08\\x00\\x009\\xf3\\xdb\\xc9\\xde\\x08\\x00\\x00\\x99\\x02\\xc2\\x06\\xdf\\x08\\x00\\x00\\xbe\\xb02+\\xe3\\x08\\x00\\x00\\xe6\\xb22+\\xe3\\x08\\x00\\x00\\xd3'\\xff\\xb1\\xe5\\x08\\x00\\x00\\x9b2\\xff\\xb1\\xe5\\x08\\x00\\x00\\xf1R.\\xfa\\xe7\\x08\\x00\\x00\\xdd\\x7f.\\xfa\\xe7\\x08\\x00\\x00& \\x0e\\xc9\\xe9\\x08\\x00\\x00\\xd4\\xe4\\xbe\\xb5\\xea\\x08\\x00\\x00\\x0f\\x01\\x00\\x00\\x07\\x00\\x00\\x00%\\xf8\\x80\\x87\\xee\\x08\\x00\\x00n\\xc1\\xf8t\\xef\\x08\\x00\\x00\\x12T\\xe6\\x9a\\xf0\\x08\\x00\\x00TU\\xe6\\x9a\\xf0\\x08\\x00\\x00\\x18\\x9d\\xbc0\\xf4\\x08\\x00\\x00&\\xa0\\xbc0\\xf4\\x08\\x00\\x00\\x85\\xdc\\x07\\xef\\xf6\\x08\\x00\\x00#\\xde\\x07\\xef\\xf6\\x08\\x00\\x003\\x80\\xcbG\\xf8\\x08\\x00\\x00\\xd1\\x81\\xcbG\\xf8\\x08\\x00\\x00\\x9e\\x90\\xb5f\\xf9\\x08\\x00\\x00\\x1c\\x95\\xb5f\\xf9\\x08\\x00\\x00\\x01\\xda\\xff\\xbe\\xfa\\x08\\x00\\x00\\xc3\\x99\\x04\\xa0\\xfb\\x08\\x00\\x00\\x10\\x01\\x00\\x00\\x01\\x00\\x00\\x00\\xa9\\x9a\\x04\\xa0\\xfb\\x08\\x00\\x00\\xfe\\xeft-\\x01\\t\\x00\\x00\\x11\\x01\\x00\\x00\\x04\\x00\\x00\\x00vr\\x02\\x86\\x04\\t\\x00\\x00\\x9a}\\x02\\x86\\x04\\t\\x00\\x00\\xc5\\xe4\\xe7\\x17\\x08\\t\\x00\\x00\\xd3\\xe7\\xe7\\x17\\x08\\t\\x00\\x00\\xdbc\\x1d\\xe1\\t\\t\\x00\\x00J\\xa6\\x9f!\\x0c\\t\\x00\\x00E\\xca\\xa3}\\r\\t\\x00\\x00\\xeb\\xf6\\x9b_\\x0e\\t\\x00\\x00\\x12\\x01\\x00\\x00\\x04\\x00\\x00\\x00ySKz\\x0f\\t\\x00\\x00\\xe2\\xc50\\xae\\x11\\t\\x00\\x00\\xc6\\x97\\x1d\\xcd\\x12\\t\\x00\\x00\\xda\\x98\\x1d\\xcd\\x12\\t\\x00\\x00\\x1e\\x0e\\xd4\\xb8\\x15\\t\\x00\\x00\\x18\\x10\\xd4\\xb8\\x15\\t\\x00\\x00\\xfd\\xd0y\\xdb\\x16\\t\\x00\\x00\\xaf\\xd3y\\xdb\\x16\\t\\x00\\x00\\x13\\x01\\x00\\x00\\x07\\x00\\x00\\x0004u\\x03\\x1c\\t\\x00\\x00\\xa05u\\x03\\x1c\\t\\x00\\x00q\\xa7da\\x1d\\t\\x00\\x00\\xe1\\xa8da\\x1d\\t\\x00\\x00kj\\x8e\\x8a\\x1e\\t\\x00\\x00\\tl\\x8e\\x8a\\x1e\\t\\x00\\x00\\x83e\\x92\\xa0\\x1f\\t\\x00\\x00\\xdbf8\\x8a \\t\\x00\\x00\\xfe\\xf6\\xe9\\xa2#\\t\\x00\\x00Z\\xf7\\xe9\\xa2#\\t\\x00\\x00\\xf3\\x84rw%\\t\\x00\\x00]\\x88rw%\\t\\x00\\x00\\x94D\\xde0(\\t\\x00\\x002F\\xde0(\\t\\x00\\x00\\x14\\x01\\x00\\x00\\x03\\x00\\x00\\x00^8@\\xe0/\\t\\x00\\x00\\x86:@\\xe0/\\t\\x00\\x00\\x17\\xbf\\x0eq1\\t\\x00\\x00\\x1f\\xc4\\x0eq1\\t\\x00\\x00\\x03\\x82\\x8a\\xaa3\\t\\x00\\x00\\x98\\xb8\\xc4\\xad7\\t\\x00\\x00\\x15\\x01\\x00\\x00\\x03\\x00\\x00\\x00\\x92\\xba\\xc4\\xad7\\t\\x00\\x00\\xff\\x9d\\xc6<;\\t\\x00\\x009/\\xf2,>\\t\\x00\\x00g/\\xf2,>\\t\\x00\\x00'/Z\\xbf?\\t\\x00\\x00\\xad2\\x8fn@\\t\\x00\\x00\\x16\\x01\\x00\\x00\\x01\\x00\\x00\\x00\\xef3\\x8fn@\\t\\x00\\x00\\x9e&\\x81\\x0eF\\t\\x00\\x00\\x17\\x01\\x00\\x00\\x01\\x00\\x00\\x00\\xcc&\\x81\\x0eF\\t\\x00\\x00\\x8bc\\x8e8K\\t\\x00\\x00\\x18\\x01\\x00\\x00\\x02\\x00\\x00\\x00\\x8bc\\x8e8K\\t\\x00\\x00G\\xa7\\xf9\\xcaN\\t\\x00\\x00\\xa3\\x8a\\xd5\\xecO\\t\\x00\\x00\\x85C\\xe7JQ\\t\\x00\\x00\\x19\\x01\\x00\\x00\\x03\\x00\\x00\\x00\\x85C\\xe7JQ\\t\\x00\\x00\\x03\\xf6@lR\\t\\x00\\x00A\\xef\\x8e\\x8dS\\t\\x00\\x00)\\xf7\\x8e\\x8dS\\t\\x00\\x00\\x8b\\x03\\xc5\\xebT\\t\\x00\\x00\\x8f\\x17\\x84\\xdbW\\t\\x00\\x00\\x1a\\x01\\x00\\x00\\x02\\x00\\x00\\x00[\\x19\\x84\\xdbW\\t\\x00\\x00:\\r\\xe3\\xc4X\\t\\x00\\x00\\xcb\\xb6\\x8b\\xe8Y\\t\\x00\\x00\\xb7\\xad\\xbaw^\\t\\x00\\x00\\x1b\\x01\\x00\\x00\\x04\\x00\\x00\\x00'\\xe7!\\xeb`\\t\\x00\\x00\\xc5\\xe8!\\xeb`\\t\\x00\\x00\\xa55\\xf8\\x81b\\t\\x00\\x00k\\xc6\\x8f\\xbfd\\t\\x00\\x00\\xb6[\\x99\\x93f\\t\\x00\\x00\\xde]\\x99\\x93f\\t\\x00\\x00\\x9e\\t\\x8e)h\\t\\x00\\x00\\xb2\\n\"\n",
      "b'\\x8e)h\\t\\x00\\x00\\x1c\\x01\\x00\\x00\\x03\\x00\\x00\\x00\\xc5\\xd6\\xafwj\\t\\x00\\x00\\xd5n\\xed\\xf4l\\t\\x00\\x00\\xa7\\xd5s\\xcbn\\t\\x00\\x00\\x87\\xd8s\\xcbn\\t\\x00\\x00\\x16K\"\\x98r\\t\\x00\\x00b_\\xf1ft\\t\\x00\\x00\\x1d\\x01\\x00\\x00\\x03\\x00\\x00\\x00v`\\xf1ft\\t\\x00\\x00\\x0cO\\x93\\xfbu\\t\\x00\\x00X\\xb8\\xa6\\xf9y\\t\\x00\\x00R\\xba\\xa6\\xf9y\\t\\x00\\x00V\\x077\\x8d}\\t\\x00\\x00r\\x91\\x968~\\t\\x00\\x00\\x1e\\x01\\x00\\x00\\x06\\x00\\x00\\x00t\\xd3\\xad\\x9b\\x81\\t\\x00\\x00\\xb0\\xd6\\xad\\x9b\\x81\\t\\x00\\x00\\x82\\xccB\\xba\\x82\\t\\x00\\x00H\\xd0B\\xba\\x82\\t\\x00\\x00z3\\x9f\\xd4\\x83\\t\\x00\\x002\\xd1 H\\x84\\t\\x00\\x00\\xc0\\x985\\x04\\x87\\t\\x00\\x00\\xb4\\x9c5\\x04\\x87\\t\\x00\\x00b\\xe4\\x96C\\x89\\t\\x00\\x00v\\xe5\\x96C\\x89\\t\\x00\\x00\\xbc\\x8b\\ri\\x8a\\t\\x00\\x00@\\x8e\\ri\\x8a\\t\\x00\\x00\\x1f\\x01\\x00\\x00\\x04\\x00\\x00\\x00\\xf84\\xc3\\xaf\\x8e\\t\\x00\\x00\\xb8:\\xc3\\xaf\\x8e\\t\\x00\\x00P\\xb9\\xf0k\\x91\\t\\x00\\x00J\\xbb\\xf0k\\x91\\t\\x00\\x00\\xe0_\\xf7\\xc9\\x92\\t\\x00\\x00\\x08b\\xf7\\xc9\\x92\\t\\x00\\x00Fw\\xd3 \\x94\\t\\x00\\x00\\xd4\\xd7\\xf9\\x07\\x97\\t\\x00\\x00 \\x01\\x00\\x00\\x07\\x00\\x00\\x00\\xd4\\xd7\\xf9\\x07\\x97\\t\\x00\\x00\\xc2\\xa9W\\xb8\\x97\\t\\x00\\x00\\xdc\\xd2n\\x85\\x9b\\t\\x00\\x00\\xf21-m\\x9c\\t\\x00\\x00x\\xcc\\x99\\xa4\\x9e\\t\\x00\\x00\\xf0\\xd2\\x99\\xa4\\x9e\\t\\x00\\x00\\xb0\\xf8\\x00]\\xa1\\t\\x00\\x00\\x9e\\xfe\\x00]\\xa1\\t\\x00\\x00\\x84\\x00\\xf6\\x97\\xa1\\t\\x00\\x00\\xc9M\\xf6\\x97\\xa1\\t\\x00\\x00t#\\r\\x06\\xa6\\t\\x00\\x00\\x0e.\\r\\x06\\xa6\\t\\x00\\x00\\x828\\x81\\xe8\\xaa\\t\\x00\\x00\\x0c9\\x81\\xe8\\xaa\\t\\x00\\x00!\\x01\\x00\\x00\\x05\\x00\\x00\\x00\\xe2\\x97N\\xf3\\xae\\t\\x00\\x00\\xdc\\x99N\\xf3\\xae\\t\\x00\\x00\\x96\\x0b\\xbfP\\xb0\\t\\x00\\x00\\x8a\\x0f\\xbfP\\xb0\\t\\x00\\x00\\x7f5S\\xcb\\xb4\\t\\x00\\x00EPS\\xcb\\xb4\\t\\x00\\x00\\xa7\\x9c\\xa71\\xb8\\t\\x00\\x00A\\xbe\\xa71\\xb8\\t\\x00\\x00\\xc6\\xbb\\x0b\\r\\xbb\\t\\x00\\x00\\xb1\\xed\\xc4Q\\xbd\\t\\x00\\x00\"\\x01\\x00\\x00\\x07\\x00\\x00\\x00!\\xef\\xc4Q\\xbd\\t\\x00\\x00%\\xb0f5\\xbe\\t\\x00\\x00\\xbfY\\x9a\\xc7\\xbf\\t\\x00\\x00\\xd3Z\\x9a\\xc7\\xbf\\t\\x00\\x00\\x12\\xc1\\x88W\\xc1\\t\\x00\\x00\\xd2\\xc6\\x88W\\xc1\\t\\x00\\x00d\\xe7\\x17\\xc9\\xc3\\t\\x00\\x00\\x1c\\xe8\\x17\\xc9\\xc3\\t\\x00\\x00\\x94\\x86\\x96\\\\\\xc5\\t\\x00\\x00\\x88\\x8a\\x96\\\\\\xc5\\t\\x00\\x00\\x9f\\xb1\\x9bD\\xca\\t\\x00\\x00\\xca\\x17\\xd9\\x7f\\xca\\t\\x00\\x00\\xa15\\xd11\\xd0\\t\\x00\\x00\\x876\\xd11\\xd0\\t\\x00\\x00#\\x01\\x00\\x00\\x05\\x00\\x00\\x00\\x10\\xc8\\xf2h\\xd6\\t\\x00\\x00\\xfb\\xa0JT\\xd7\\t\\x00\\x00\\xc5\\x83\\xfaN\\xda\\t\\x00\\x00\\xd9\\x84\\xfaN\\xda\\t\\x00\\x00\\xe4\\x1fY\\xeb\\xdb\\t\\x00\\x00\\xbe$Y\\xeb\\xdb\\t\\x00\\x00\\xa6E\\x88\\x88\\xdd\\t\\x00\\x00>I\\x88\\x88\\xdd\\t\\x00\\x00G\\\\i;\\xe0\\t\\x00\\x00\\xcb^i;\\xe0\\t\\x00\\x00$\\x01\\x00\\x00\\x04\\x00\\x00\\x00w\\xb8&D\\xe4\\t\\x00\\x00a\\xe6\\xe3+\\xe5\\t\\x00\\x00\\'\\x9b\\xf3E\\xe6\\t\\x00\\x004\\xa6\\x07*\\xe7\\t\\x00\\x00g\\x19\\x88\\xdb\\xe9\\t\\x00\\x00\\x8f\\x1b\\x88\\xdb\\xe9\\t\\x00\\x00Q\\xfd\\xab\\x01\\xeb\\t\\x00\\x00\\x19\\xf0;!\\xec\\t\\x00\\x00%\\x01\\x00\\x00\\x06\\x00\\x00\\x00\\x9f\\xca\\xef\\x98\\xee\\t\\x00\\x00W\\xcb\\xef\\x98\\xee\\t\\x00\\x00%\\xb3\\x8f\\xb5\\xef\\t\\x00\\x00\\xdd\\xb3\\x8f\\xb5\\xef\\t\\x00\\x00\\xeb\\x19hF\\xf1\\t\\x00\\x00\\xd1\\x1ahF\\xf1\\t\\x00\\x00\\xda\\xb1H\\xf2\\xf3\\t\\x00\\x00\\x8f\\xf8)\\xd6\\xf4\\t\\x00\\x00\\xbfxH\\x9f\\xf6\\t\\x00\\x00\\xef\\xc4H\\x9f\\xf6\\t\\x00\\x00\\xe9\\xb2\\x0bQ\\xf9\\t\\x00\\x00S\\xb6\\x0bQ\\xf9\\t\\x00\\x00&\\x01\\x00\\x00\\x03\\x00\\x00\\x00Of\\xf2\\xf1\\xfc\\t\\x00\\x00cg\\xf2\\xf1\\xfc\\t\\x00\\x00\\xbc8tS\\xfe\\t\\x00\\x00N>tS\\xfe\\t\\x00\\x00\\xf8\\x03\\x8cx\\xff\\t\\x00\\x00\\xc5qt\\xd3\\x02\\n'\n",
      "b\"\\x00\\x00'\\x01\\x00\\x00\\x07\\x00\\x00\\x00\\xaat\\xb4\\xa5\\x04\\n\"\n",
      "b'\\x00\\x00\\x95\\xa9c\\x8f\\x05\\n'\n",
      "b'\\x00\\x00\\xaa\\xfe\\x89w\\x06\\n'\n",
      "b'\\x00\\x00\\xd8\\xfe\\x89w\\x06\\n'\n",
      "b'\\x00\\x00\\x06\\x00\\x0f\\xb1\\x06\\n'\n",
      "b'\\x00\\x00\\x8a\\x02\\x0f\\xb1\\x06\\n'\n",
      "b'\\x00\\x00D\\xcc\\x04\\x0b\\x08\\n'\n",
      "b'\\x00\\x00l\\xce\\x04\\x0b\\x08\\n'\n",
      "b'\\x00\\x00\\x94\\xc1R,\\t\\n'\n",
      "b'\\x00\\x00\\xf8\\xc6R,\\t\\n'\n",
      "b'\\x00\\x00vLz\\x89\\n'\n",
      "b'\\n'\n",
      "b'\\x00\\x00.Mz\\x89\\n'\n",
      "b'\\n'\n",
      "b'\\x00\\x00\\xb0\\xdbW\\xe2\\x0b\\n'\n",
      "b'\\x00\\x00\\xf4\\xb7\\x90r\\r\\n'\n",
      "b'\\x00\\x00(\\x01\\x00\\x00\\x05\\x00\\x00\\x00\\xac\\xb8\\x90r\\r\\n'\n",
      "b'\\x00\\x00\\x00\\xce\\xd5\\xa8\\x0f\\n'\n",
      "b'\\x00\\x00\\x9e\\x1d\\x80\\xc6\\x10\\n'\n",
      "b'\\x00\\x00\\xe0\\x1e\\x80\\xc6\\x10\\n'\n",
      "b'\\x00\\x00gE\\x1a\\xe9\\x11\\n'\n",
      "b'\\x00\\x00\\x1fF\\x1a\\xe9\\x11\\n'\n",
      "b'\\x00\\x00\\t\\xc9O%\\x14\\n'\n",
      "b'\\x00\\x00\\xe9\\xcbO%\\x14\\n'\n",
      "b'\\x00\\x00F\\x963\\x05\\x19\\n'\n",
      "b'\\x00\\x00\\xaa\\x9b3\\x05\\x19\\n'\n",
      "b'\\x00\\x00)\\x01\\x00\\x00\\x07\\x00\\x00\\x00\\xa2x\\x14\\xca\\x1d\\n'\n",
      "b'\\x00\\x00J\\x86\\x14\\xca\\x1d\\n'\n"
     ]
    }
   ],
   "source": [
    "less('atac_v1_pbmc_10k_fragments.tsv.gz.tbi')"
   ]
  },
  {
   "cell_type": "code",
   "execution_count": 10,
   "metadata": {
    "collapsed": true,
    "jupyter": {
     "outputs_hidden": true
    }
   },
   "outputs": [
    {
     "name": "stdout",
     "output_type": "stream",
     "text": [
      "b'chr1\\t10066\\t10279\\tTTAGCTTAGGAGAACA-1\\t2\\n'\n",
      "b'chr1\\t10072\\t10279\\tTTAGCTTAGGAGAACA-1\\t2\\n'\n",
      "b'chr1\\t10079\\t10316\\tATATTCCTCTTGTACT-1\\t2\\n'\n",
      "b'chr1\\t10084\\t10340\\tCGTACAAGTTACCCAA-1\\t1\\n'\n",
      "b'chr1\\t10085\\t10271\\tTGTGACAGTACAACGG-1\\t1\\n'\n",
      "b'chr1\\t10085\\t10339\\tCATGCCTTCTCTGACC-1\\t1\\n'\n",
      "b'chr1\\t10089\\t10502\\tATCGAGTAGGTTCGAG-1\\t1\\n'\n",
      "b'chr1\\t10091\\t10334\\tGCGGTGTCACACTAGT-1\\t1\\n'\n",
      "b'chr1\\t10091\\t10681\\tCTCTCAGGTCCCTTTG-1\\t1\\n'\n",
      "b'chr1\\t10096\\t10278\\tTTCGGTCTCACGTGTA-1\\t1\\n'\n",
      "b'chr1\\t10096\\t10339\\tCTTTGCGAGGTACACG-1\\t1\\n'\n",
      "b'chr1\\t10097\\t10321\\tTTGCGGGCAAGCGGTA-1\\t1\\n'\n",
      "b'chr1\\t10097\\t10334\\tAACCAACGTGTCTACA-1\\t2\\n'\n",
      "b'chr1\\t10101\\t10483\\tCTGTTCGGTGCGTTTA-1\\t2\\n'\n",
      "b'chr1\\t10132\\t10279\\tTGGCCTTAGAGCACTG-1\\t2\\n'\n",
      "b'chr1\\t10136\\t10483\\tCTGTTCGGTGCGTTTA-1\\t1\\n'\n",
      "b'chr1\\t10143\\t10327\\tTGTACAGGTGGCATAG-1\\t1\\n'\n",
      "b'chr1\\t10145\\t10473\\tGGGTTATGTCTCTGGG-1\\t1\\n'\n",
      "b'chr1\\t10151\\t10209\\tCGCGCAACAAGATTAG-1\\t2\\n'\n",
      "b'chr1\\t10151\\t10565\\tGTAATCGAGTTGTCCA-1\\t1\\n'\n",
      "b'chr1\\t10157\\t10210\\tTTAGCTTAGTGATTAG-1\\t2\\n'\n",
      "b'chr1\\t10157\\t10345\\tTATCTGTGTAAACGTA-1\\t1\\n'\n",
      "b'chr1\\t10157\\t10536\\tCCCTCTCCACGCGTTG-1\\t1\\n'\n",
      "b'chr1\\t10157\\t10553\\tTTAACGGAGGTTGACG-1\\t1\\n'\n",
      "b'chr1\\t10163\\t10209\\tGAGGTCCCAATGTAAG-1\\t1\\n'\n",
      "b'chr1\\t10168\\t10210\\tACCCAAATCGCAAACT-1\\t1\\n'\n",
      "b'chr1\\t10169\\t10210\\tGTGATCAAGGCAGTGT-1\\t2\\n'\n",
      "b'chr1\\t10169\\t10436\\tGTTGGTACATATACGC-1\\t1\\n'\n",
      "b'chr1\\t10191\\t10497\\tTAACAGCGTCACATTG-1\\t1\\n'\n",
      "b'chr1\\t10216\\t10308\\tCTCGCTACATGGTAAA-1\\t1\\n'\n",
      "b'chr1\\t10226\\t10519\\tCCTCCCTAGAGACTCG-1\\t1\\n'\n",
      "b'chr1\\t10228\\t10512\\tTTTGGTTGTACAACGG-1\\t1\\n'\n",
      "b'chr1\\t10228\\t10522\\tCAATCCCAGTGTCCCG-1\\t1\\n'\n",
      "b'chr1\\t10228\\t10543\\tTCACCTGAGAGGCCTA-1\\t1\\n'\n",
      "b'chr1\\t10231\\t10368\\tCGTAAACGTGCACCCA-1\\t1\\n'\n",
      "b'chr1\\t10234\\t10507\\tAGGCCCACAGTAAGCG-1\\t1\\n'\n",
      "b'chr1\\t10235\\t10587\\tGAAATGATCTCCTTAA-1\\t1\\n'\n",
      "b'chr1\\t10235\\t10599\\tCTTCCAGGTAGGGTCA-1\\t3\\n'\n",
      "b'chr1\\t10245\\t10302\\tAAAGATGAGGCTAAAT-1\\t1\\n'\n",
      "b'chr1\\t10247\\t10319\\tTGTACAGCAACTACTG-1\\t1\\n'\n",
      "b'chr1\\t10254\\t10297\\tTTGCGAAAGTGATTAG-1\\t1\\n'\n",
      "b'chr1\\t10279\\t10401\\tTTAGCTTCAACTCCCT-1\\t1\\n'\n",
      "b'chr1\\t10285\\t10407\\tCGTAAACGTGCACCCA-1\\t1\\n'\n",
      "b'chr1\\t10291\\t10507\\tAGCCAGCCAAGGACCA-1\\t1\\n'\n",
      "b'chr1\\t10309\\t10433\\tGCGAGTCAGAATGCTA-1\\t1\\n'\n",
      "b'chr1\\t10333\\t10543\\tAATACGCTCCTCTCTT-1\\t1\\n'\n",
      "b'chr1\\t10351\\t10565\\tGTGCTGGGTATACGCT-1\\t1\\n'\n",
      "b'chr1\\t10363\\t10548\\tGTTGGGCGTCAACTAC-1\\t1\\n'\n",
      "b'chr1\\t10367\\t10553\\tTGCTCACAGTCGAAAT-1\\t3\\n'\n",
      "b'chr1\\t10379\\t10616\\tTCAGGTATCTCTGCAC-1\\t1\\n'\n",
      "b'chr1\\t10381\\t10450\\tTAACGGTAGTTTACGC-1\\t1\\n'\n",
      "b'chr1\\t10381\\t10565\\tGCAAAGGGTGAGCTAG-1\\t1\\n'\n",
      "b'chr1\\t10386\\t10462\\tTGCGTAAGTTCTGATG-1\\t1\\n'\n",
      "b'chr1\\t10431\\t10589\\tTAGCATGAGAACGACC-1\\t1\\n'\n",
      "b'chr1\\t10437\\t10584\\tTACAGCAAGTTACCAC-1\\t1\\n'\n",
      "b'chr1\\t10450\\t10473\\tTGGTCAAGTAGAGAGA-1\\t1\\n'\n",
      "b'chr1\\t10450\\t10615\\tGCTCGAGGTACGAGAC-1\\t1\\n'\n",
      "b'chr1\\t10455\\t10517\\tTGTTAGGGTCTGTCCT-1\\t2\\n'\n",
      "b'chr1\\t10456\\t10492\\tAAGGAGCCATCGACCG-1\\t2\\n'\n",
      "b'chr1\\t10456\\t10599\\tTCAAGCAAGGTAGGAA-1\\t1\\n'\n",
      "b'chr1\\t10469\\t10497\\tATTGTCTCAAGCGAAC-1\\t1\\n'\n",
      "b'chr1\\t10487\\t10553\\tGAACCGCAGAAGGGCG-1\\t2\\n'\n",
      "b'chr1\\t10488\\t10529\\tACGGATTAGCGTATCT-1\\t2\\n'\n",
      "b'chr1\\t10502\\t10558\\tAGTCAACGTGAATGGC-1\\t1\\n'\n",
      "b'chr1\\t10502\\t10587\\tATTACTCGTGAATCAA-1\\t1\\n'\n",
      "b'chr1\\t10507\\t10538\\tTGAGTCAAGATGTTCC-1\\t1\\n'\n",
      "b'chr1\\t10509\\t10555\\tGATCGTAAGTACCACT-1\\t4\\n'\n",
      "b'chr1\\t10512\\t10596\\tGTTACTTGTTTGTAGC-1\\t1\\n'\n",
      "b'chr1\\t10519\\t10620\\tCACTAAGTCTGGCCAG-1\\t1\\n'\n",
      "b'chr1\\t10524\\t10570\\tCGCAATATCCTGGAAT-1\\t1\\n'\n",
      "b'chr1\\t10531\\t10594\\tACCGAATGTAATGCAA-1\\t1\\n'\n",
      "b'chr1\\t13043\\t13103\\tTTACCCGTCAGGAATA-1\\t1\\n'\n",
      "b'chr1\\t13048\\t13108\\tGCAACCGAGCAATAAC-1\\t1\\n'\n",
      "b'chr1\\t13326\\t13510\\tAGGCCTGAGGCTCCTG-1\\t1\\n'\n",
      "b'chr1\\t14895\\t14941\\tTTAGGTGCACCACCAG-1\\t2\\n'\n",
      "b'chr1\\t15507\\t15663\\tAACTGTGTCTCTATCA-1\\t2\\n'\n",
      "b'chr1\\t15512\\t15656\\tTGCTTCGTCGGTCTAA-1\\t3\\n'\n",
      "b'chr1\\t15530\\t15661\\tCGGACTGTCGCACAAT-1\\t1\\n'\n",
      "b'chr1\\t16210\\t16248\\tACCGCAGCATGCGCTG-1\\t1\\n'\n",
      "b'chr1\\t16216\\t16253\\tTCAAGACTCGCGCTGA-1\\t1\\n'\n",
      "b'chr1\\t16230\\t16274\\tCGAGTTAAGGAGTACC-1\\t2\\n'\n",
      "b'chr1\\t16234\\t16267\\tCTAGGGCTCGCAAACT-1\\t1\\n'\n",
      "b'chr1\\t16419\\t16461\\tAATGGCTGTTCCATCC-1\\t1\\n'\n",
      "b'chr1\\t16792\\t16822\\tGCCTACTGTTTGTCTT-1\\t2\\n'\n",
      "b'chr1\\t16983\\t17506\\tGTCACTCCAACCTCTC-1\\t1\\n'\n",
      "b'chr1\\t17161\\t17525\\tCCTTAATAGTACTCTG-1\\t2\\n'\n",
      "b'chr1\\t17171\\t17525\\tAGCGATTTCTCTGCGT-1\\t1\\n'\n",
      "b'chr1\\t17190\\t17496\\tCTGGGACAGTATGGGC-1\\t1\\n'\n",
      "b'chr1\\t17195\\t17515\\tTACGGATGTCCAACCG-1\\t1\\n'\n",
      "b'chr1\\t17305\\t17496\\tGATTAGCTCATTCTTG-1\\t1\\n'\n",
      "b'chr1\\t17313\\t17508\\tTTACCCGAGGGAGTTC-1\\t2\\n'\n",
      "b'chr1\\t17320\\t17517\\tCCAGATACAGCAAACG-1\\t1\\n'\n",
      "b'chr1\\t17327\\t17496\\tGTCACAACAATGGTCT-1\\t1\\n'\n",
      "b'chr1\\t17333\\t17515\\tCAACGTATCGAGAAGC-1\\t1\\n'\n",
      "b'chr1\\t17333\\t17528\\tATTGTGGGTAGTCTGT-1\\t1\\n'\n",
      "b'chr1\\t17338\\t17515\\tCCACGTTCAGCGTAGA-1\\t2\\n'\n",
      "b'chr1\\t17356\\t17515\\tCTAGGATAGTCGAAAT-1\\t4\\n'\n",
      "b'chr1\\t17370\\t17503\\tTGAGCCGAGATGTTGA-1\\t2\\n'\n",
      "b'chr1\\t17370\\t17515\\tGCAAAGGGTGAGCTAG-1\\t1\\n'\n",
      "b'chr1\\t17383\\t17525\\tCAAGGCCGTTCCAGTA-1\\t1\\n'\n"
     ]
    }
   ],
   "source": [
    "less('atac_v1_pbmc_10k_fragments.tsv.gz')"
   ]
  },
  {
   "cell_type": "code",
   "execution_count": 13,
   "metadata": {
    "collapsed": true,
    "jupyter": {
     "outputs_hidden": true
    }
   },
   "outputs": [
    {
     "name": "stdout",
     "output_type": "stream",
     "text": [
      "barcode,total,duplicate,chimeric,unmapped,lowmapq,mitochondrial,passed_filters,cell_id,is__cell_barcode,TSS_fragments,DNase_sensitive_region_fragments,enhancer_region_fragments,promoter_region_fragments,on_target_fragments,blacklist_region_fragments,peak_region_fragments\n",
      "\n",
      "NO_BARCODE,8335327,3922818,71559,746476,634014,22972,2937488,None,0,0,0,0,0,0,0,0\n",
      "\n",
      "AAACGAAAGAAACGCC-1,3,1,0,1,0,0,1,None,0,1,1,1,0,1,0,1\n",
      "\n",
      "AAACGAAAGAAAGCAG-1,14,1,0,4,2,0,7,None,0,0,2,0,0,2,0,0\n",
      "\n",
      "AAACGAAAGAAAGGGT-1,7,1,0,1,0,0,5,None,0,2,2,0,1,2,0,1\n",
      "\n",
      "AAACGAAAGAAATACC-1,9880,5380,79,106,1120,6,3189,None,0,386,1623,297,107,1758,16,262\n",
      "\n",
      "AAACGAAAGAAATCTG-1,2,0,0,0,0,0,2,None,0,1,2,1,1,2,0,2\n",
      "\n",
      "AAACGAAAGAAATGGG-1,4,2,0,1,0,0,1,None,0,0,1,1,0,1,0,1\n",
      "\n",
      "AAACGAAAGAAATTCG-1,2,0,0,0,1,0,1,None,0,0,0,0,0,0,0,0\n",
      "\n",
      "AAACGAAAGAACCATA-1,12,3,0,8,0,0,1,None,0,0,1,0,0,1,0,0\n",
      "\n",
      "AAACGAAAGAACCCGA-1,3,1,0,2,0,0,0,None,0,0,0,0,0,0,0,0\n",
      "\n",
      "AAACGAAAGAACGACC-1,2,0,0,0,0,0,2,None,0,2,2,1,1,2,0,1\n",
      "\n",
      "AAACGAAAGAACGCCA-1,7,0,0,1,0,0,6,None,0,0,4,0,0,4,0,0\n",
      "\n",
      "AAACGAAAGAACGTCG-1,3,0,0,1,0,0,2,None,0,0,1,1,0,1,0,1\n",
      "\n",
      "AAACGAAAGAACGTTA-1,11,1,0,2,2,0,6,None,0,2,6,1,2,6,0,4\n",
      "\n",
      "AAACGAAAGAACTAAC-1,7,0,0,5,1,0,1,None,0,1,1,0,1,1,0,1\n",
      "\n",
      "AAACGAAAGAACTCCT-1,2,2,0,0,0,0,0,None,0,0,0,0,0,0,0,0\n",
      "\n",
      "AAACGAAAGAAGACTT-1,3,2,0,0,0,0,1,None,0,0,1,1,0,1,0,1\n",
      "\n",
      "AAACGAAAGAAGAGTG-1,4,1,0,0,0,0,3,None,0,0,1,1,0,2,0,0\n",
      "\n",
      "AAACGAAAGAAGCCGT-1,2,0,0,0,1,0,1,None,0,0,0,0,0,0,0,0\n",
      "\n",
      "AAACGAAAGAAGCCTG-1,7,0,0,0,1,0,6,None,0,0,4,0,0,4,0,0\n",
      "\n",
      "AAACGAAAGAAGGGCG-1,10,0,2,1,1,0,6,None,0,0,3,1,0,3,0,2\n",
      "\n",
      "AAACGAAAGAATACTG-1,10,1,0,2,2,0,5,None,0,0,4,0,0,4,0,0\n",
      "\n",
      "AAACGAAAGAATAGTC-1,464,79,0,10,40,0,335,None,0,43,176,31,4,194,2,19\n",
      "\n",
      "AAACGAAAGAATCAAC-1,11,2,0,4,1,0,4,None,0,0,0,1,0,1,0,1\n",
      "\n",
      "AAACGAAAGAATCAGT-1,4,1,0,1,0,0,2,None,0,0,1,1,0,1,0,1\n",
      "\n",
      "AAACGAAAGAATGCTA-1,5,2,0,0,2,0,1,None,0,0,0,0,0,0,0,0\n",
      "\n",
      "AAACGAAAGACAACGC-1,30,6,0,6,0,0,18,None,0,8,15,2,7,16,0,11\n",
      "\n",
      "AAACGAAAGACACAAT-1,5,0,0,2,0,0,3,None,0,1,1,0,1,1,0,1\n",
      "\n",
      "AAACGAAAGACACGGT-1,1643,417,11,12,214,8,981,None,0,97,502,100,17,540,5,82\n",
      "\n",
      "AAACGAAAGACACTTC-1,11,3,0,2,0,0,6,None,0,1,4,2,0,4,0,1\n",
      "\n",
      "AAACGAAAGACAGCTG-1,1,1,0,0,0,0,0,None,0,0,0,0,0,0,0,0\n",
      "\n",
      "AAACGAAAGACCAATA-1,3,1,0,1,0,0,1,None,0,0,1,0,0,1,0,0\n",
      "\n",
      "AAACGAAAGACCATAA-1,13,2,0,5,0,1,5,None,0,2,1,0,1,2,0,2\n",
      "\n",
      "AAACGAAAGACCCATT-1,1,0,0,0,0,0,1,None,0,0,1,1,0,1,0,1\n",
      "\n",
      "AAACGAAAGACCCTAT-1,2,0,0,0,0,0,2,None,0,1,2,1,1,2,0,2\n",
      "\n",
      "AAACGAAAGACCGCAA-1,2,0,0,1,0,0,1,None,0,1,1,0,1,1,0,1\n",
      "\n",
      "AAACGAAAGACCTATC-1,7,3,0,0,1,0,3,None,0,0,1,1,0,1,1,1\n",
      "\n",
      "AAACGAAAGACGAAAG-1,62,6,0,3,9,1,43,None,0,16,34,8,7,36,0,18\n",
      "\n",
      "AAACGAAAGACGACTG-1,3,1,0,0,0,0,2,None,0,1,1,0,1,1,0,1\n",
      "\n",
      "AAACGAAAGACGCCAA-1,3394,1127,26,41,325,1,1874,None,0,238,832,147,46,934,16,141\n",
      "\n",
      "AAACGAAAGACGCCCT-1,1,0,0,0,0,0,1,None,0,0,0,0,0,0,0,0\n",
      "\n",
      "AAACGAAAGACGTCAG-1,2,0,0,1,1,0,0,None,0,0,0,0,0,0,0,0\n",
      "\n",
      "AAACGAAAGACTAATG-1,4,1,0,2,0,0,1,None,0,0,0,0,0,0,0,0\n",
      "\n",
      "AAACGAAAGACTAGCG-1,1,0,0,0,0,0,1,None,0,0,0,0,0,0,0,0\n",
      "\n",
      "AAACGAAAGACTAGGC-1,164,50,0,0,18,0,96,None,0,18,50,9,4,57,0,10\n",
      "\n",
      "AAACGAAAGACTCGGA-1,1,0,0,0,1,0,0,None,0,0,0,0,0,0,0,0\n",
      "\n",
      "AAACGAAAGACTCTTG-1,7,0,0,0,0,0,7,None,0,3,5,2,1,6,0,2\n",
      "\n",
      "AAACGAAAGACTTCCA-1,8,1,1,0,1,0,5,None,0,2,3,0,1,3,0,2\n",
      "\n",
      "AAACGAAAGACTTGAA-1,10,2,0,3,2,0,3,None,0,1,2,0,0,3,0,1\n",
      "\n",
      "AAACGAAAGAGAACCC-1,3,1,0,0,0,0,2,None,0,0,1,0,0,1,0,0\n",
      "\n",
      "AAACGAAAGAGAAGCA-1,4,1,0,3,0,0,0,None,0,0,0,0,0,0,0,0\n",
      "\n",
      "AAACGAAAGAGAATTC-1,7,1,0,2,1,0,3,None,0,0,2,0,0,2,0,0\n",
      "\n",
      "AAACGAAAGAGACTCG-1,1,1,0,0,0,0,0,None,0,0,0,0,0,0,0,0\n",
      "\n",
      "AAACGAAAGAGAGGTA-1,2257,614,11,30,274,74,1254,None,0,104,630,110,27,674,3,90\n",
      "\n",
      "AAACGAAAGAGAGTAG-1,1,1,0,0,0,0,0,None,0,0,0,0,0,0,0,0\n",
      "\n",
      "AAACGAAAGAGATTAC-1,15,5,0,1,3,0,6,None,0,0,1,1,0,2,0,0\n",
      "\n",
      "AAACGAAAGAGCACTG-1,1,0,0,0,0,0,1,None,0,0,1,1,0,1,0,1\n",
      "\n",
      "AAACGAAAGAGCAGCT-1,16,4,0,3,4,0,5,None,0,3,3,0,3,3,0,3\n",
      "\n",
      "AAACGAAAGAGCCACA-1,6,1,0,1,1,0,3,None,0,0,0,0,0,0,0,0\n",
      "\n",
      "AAACGAAAGAGCCTGA-1,1,1,0,0,0,0,0,None,0,0,0,0,0,0,0,0\n",
      "\n",
      "AAACGAAAGAGCGAAA-1,22965,10872,183,198,1198,51,10463,_cell_0,1,4157,8537,3079,3249,8894,6,6796\n",
      "\n",
      "AAACGAAAGAGCGGTT-1,121,29,1,4,7,0,80,None,0,23,61,19,14,64,0,31\n",
      "\n",
      "AAACGAAAGAGCTACG-1,3,1,0,0,2,0,0,None,0,0,0,0,0,0,0,0\n",
      "\n",
      "AAACGAAAGAGCTCCC-1,21,4,0,0,2,0,15,None,0,7,8,0,4,8,0,7\n",
      "\n",
      "AAACGAAAGAGCTGTG-1,7,2,0,1,1,0,3,None,0,0,1,1,0,1,0,1\n",
      "\n",
      "AAACGAAAGAGGAACA-1,1,0,0,1,0,0,0,None,0,0,0,0,0,0,0,0\n",
      "\n",
      "AAACGAAAGAGGAAGT-1,5,2,0,0,0,0,3,None,0,1,2,1,0,2,0,1\n",
      "\n",
      "AAACGAAAGAGGAATG-1,4,3,0,1,0,0,0,None,0,0,0,0,0,0,0,0\n",
      "\n",
      "AAACGAAAGAGGCAGG-1,1,1,0,0,0,0,0,None,0,0,0,0,0,0,0,0\n",
      "\n",
      "AAACGAAAGAGGTCCA-1,2,0,0,1,0,0,1,None,0,0,0,0,0,0,0,0\n",
      "\n",
      "AAACGAAAGAGGTGGG-1,2,0,0,0,0,0,2,None,0,0,2,0,0,2,0,0\n",
      "\n",
      "AAACGAAAGAGTAAGG-1,1,0,0,1,0,0,0,None,0,0,0,0,0,0,0,0\n",
      "\n",
      "AAACGAAAGAGTCCGA-1,1,1,0,0,0,0,0,None,0,0,0,0,0,0,0,0\n",
      "\n",
      "AAACGAAAGAGTGGAA-1,2,0,0,0,0,0,2,None,0,1,2,0,1,2,0,0\n",
      "\n",
      "AAACGAAAGAGTTCGG-1,4,0,0,0,1,0,3,None,0,1,3,0,1,3,0,2\n",
      "\n",
      "AAACGAAAGAGTTTGA-1,21806,9336,122,175,1050,1,11122,_cell_1,1,4858,9548,3954,3600,10034,10,8319\n",
      "\n",
      "AAACGAAAGATACCAA-1,10,0,0,5,1,0,4,None,0,0,2,1,0,2,0,1\n",
      "\n",
      "AAACGAAAGATAGGTT-1,5,3,0,0,0,0,2,None,0,0,1,0,0,1,0,0\n",
      "\n",
      "AAACGAAAGATATGAC-1,10,5,0,2,0,0,3,None,0,2,2,0,2,2,0,2\n",
      "\n",
      "AAACGAAAGATCACCT-1,55,6,1,0,7,12,29,None,0,9,24,9,5,26,0,13\n",
      "\n",
      "AAACGAAAGATCCGAG-1,4,0,0,1,0,0,3,None,0,1,3,2,1,3,0,2\n",
      "\n",
      "AAACGAAAGATCGAGC-1,1,0,0,0,0,0,1,None,0,0,0,0,0,0,0,0\n",
      "\n",
      "AAACGAAAGATCGATA-1,1802,508,18,17,203,4,1052,None,0,118,488,90,32,542,3,87\n",
      "\n",
      "AAACGAAAGATCGCCC-1,48,5,0,0,1,0,42,None,0,7,33,11,4,34,0,14\n",
      "\n",
      "AAACGAAAGATCTAAG-1,1619,463,9,24,167,7,949,None,0,96,472,80,29,507,9,63\n",
      "\n",
      "AAACGAAAGATCTCAC-1,4,2,0,0,0,0,2,None,0,0,0,0,0,0,0,0\n",
      "\n",
      "AAACGAAAGATGCGAC-1,21,3,1,0,1,0,16,None,0,3,13,10,2,13,0,11\n",
      "\n",
      "AAACGAAAGATGCGCA-1,9,2,0,0,1,0,6,None,0,1,2,0,0,3,0,0\n",
      "\n",
      "AAACGAAAGATGGCAC-1,19,1,2,0,1,0,15,None,0,10,13,2,6,13,0,8\n",
      "\n",
      "AAACGAAAGATGGGAA-1,5,3,0,1,0,0,1,None,0,0,0,0,0,0,0,0\n",
      "\n",
      "AAACGAAAGATGTTCC-1,1415,377,13,10,162,1,852,None,0,96,406,72,25,438,3,70\n",
      "\n",
      "AAACGAAAGATGTTGA-1,1713,445,6,13,188,0,1061,None,0,105,503,84,28,556,2,87\n",
      "\n",
      "AAACGAAAGATTACGA-1,23,6,1,2,1,0,13,None,0,4,6,3,2,8,0,5\n",
      "\n",
      "AAACGAAAGATTAGAC-1,5,1,0,3,1,0,0,None,0,0,0,0,0,0,0,0\n",
      "\n",
      "AAACGAAAGATTCCGT-1,21,2,0,1,1,0,17,None,0,5,9,3,1,10,0,4\n",
      "\n",
      "AAACGAAAGATTGACA-1,2,1,0,1,0,0,0,None,0,0,0,0,0,0,0,0\n",
      "\n",
      "AAACGAAAGCAACGGT-1,6,1,0,1,0,0,4,None,0,1,1,0,0,1,0,0\n",
      "\n",
      "AAACGAAAGCAACTGG-1,7,1,0,3,0,0,3,None,0,1,1,0,1,1,0,1\n",
      "\n",
      "AAACGAAAGCAAGGTC-1,7,0,0,1,0,1,5,None,0,2,1,0,1,2,0,1\n",
      "\n"
     ]
    }
   ],
   "source": [
    "less('atac_v1_pbmc_10k_singlecell.csv', bin=False)"
   ]
  },
  {
   "cell_type": "code",
   "execution_count": 25,
   "metadata": {
    "collapsed": true,
    "jupyter": {
     "outputs_hidden": true
    }
   },
   "outputs": [
    {
     "name": "stdout",
     "output_type": "stream",
     "text": [
      "Collecting package metadata (current_repodata.json): done\n",
      "Solving environment: done\n",
      "\n",
      "## Package Plan ##\n",
      "\n",
      "  environment location: /opt/conda\n",
      "\n",
      "  added / updated specs:\n",
      "    - r-seurat\n",
      "\n",
      "\n",
      "The following packages will be downloaded:\n",
      "\n",
      "    package                    |            build\n",
      "    ---------------------------|-----------------\n",
      "    ca-certificates-2020.12.5  |       ha878542_0         137 KB  conda-forge\n",
      "    certifi-2020.12.5          |   py38h578d9bd_0         143 KB  conda-forge\n",
      "    colormath-3.0.0            |             py_2          34 KB  conda-forge\n",
      "    r-abind-1.4_5              | r40h6115d3f_1003          76 KB  conda-forge\n",
      "    r-bh-1.72.0_3              |    r40h6115d3f_1        10.4 MB  conda-forge\n",
      "    r-catools-1.18.0           |    r40h0357c0b_1         222 KB  conda-forge\n",
      "    r-cluster-2.1.0            |    r40h31ca83e_4         553 KB  conda-forge\n",
      "    r-cowplot-1.1.0            |    r40h6115d3f_0         1.3 MB  conda-forge\n",
      "    r-deldir-0.2_3             |    r40h13aaf81_0         261 KB  conda-forge\n",
      "    r-dqrng-0.2.1              |    r40h0357c0b_2         165 KB  conda-forge\n",
      "    r-fitdistrplus-1.1_3       |    r40hc72bb7e_0         2.7 MB  conda-forge\n",
      "    r-fnn-1.1.3                |    r40h0357c0b_2         149 KB  conda-forge\n",
      "    r-future-1.20.1            |    r40hc72bb7e_0         575 KB  conda-forge\n",
      "    r-future.apply-1.6.0       |    r40h6115d3f_0         143 KB  conda-forge\n",
      "    r-ggrepel-0.8.2            |    r40h0357c0b_1         653 KB  conda-forge\n",
      "    r-ggridges-0.5.2           |    r40h6115d3f_2         2.2 MB  conda-forge\n",
      "    r-globals-0.14.0           |    r40hc72bb7e_0         108 KB  conda-forge\n",
      "    r-goftest-1.2_2            |    r40hcdcec82_1          70 KB  conda-forge\n",
      "    r-gplots-3.1.1             |    r40hc72bb7e_0         602 KB  conda-forge\n",
      "    r-gridextra-2.3            | r40h6115d3f_1003         1.1 MB  conda-forge\n",
      "    r-gtools-3.8.2             |    r40hcdcec82_1         332 KB  conda-forge\n",
      "    r-ica-1.0_2                |    r40h6115d3f_2          86 KB  conda-forge\n",
      "    r-igraph-1.2.6             |    r40h084b37e_1         3.8 MB  conda-forge\n",
      "    r-irlba-2.3.3              |    r40h7fa42b6_3         308 KB  conda-forge\n",
      "    r-leiden-0.3.6             |    r40hc72bb7e_0         2.7 MB  conda-forge\n",
      "    r-listenv-0.8.0            |    r40h6115d3f_1         118 KB  conda-forge\n",
      "    r-lsei-1.3_0               |    r40h6e990d7_1          84 KB  conda-forge\n",
      "    r-matrixstats-0.57.0       |    r40hcdcec82_0         918 KB  conda-forge\n",
      "    r-miniui-0.1.1.1           | r40h6115d3f_1002          51 KB  conda-forge\n",
      "    r-npsurv-0.5_0             |    r40h6115d3f_0         192 KB  conda-forge\n",
      "    r-parallelly-1.21.0        |    r40hc72bb7e_0         210 KB  conda-forge\n",
      "    r-patchwork-1.1.0          |    r40hc72bb7e_0         3.1 MB  conda-forge\n",
      "    r-pbapply-1.4_3            |    r40h6115d3f_0          87 KB  conda-forge\n",
      "    r-plotly-4.9.2.1           |    r40h6115d3f_1         2.7 MB  conda-forge\n",
      "    r-png-0.1_7                | r40hcdcec82_1004          58 KB  conda-forge\n",
      "    r-polyclip-1.10_0          |    r40h0357c0b_2         128 KB  conda-forge\n",
      "    r-rann-2.6.1               |    r40h0357c0b_2          61 KB  conda-forge\n",
      "    r-rappdirs-0.3.1           | r40hcdcec82_1004         150 KB  conda-forge\n",
      "    r-rcppannoy-0.0.17         |    r40he524a50_0         428 KB  conda-forge\n",
      "    r-rcppeigen-0.3.3.7.0      |    r40h51c796c_2         1.5 MB  conda-forge\n",
      "    r-rcppparallel-5.0.2       |    r40h0357c0b_0         1.6 MB  conda-forge\n",
      "    r-rcppprogress-0.4.2       |    r40h6115d3f_1          37 KB  conda-forge\n",
      "    r-reticulate-1.18          |    r40h1b71b39_0         1.1 MB  conda-forge\n",
      "    r-rocr-1.0_11              |    r40h6115d3f_1         490 KB  conda-forge\n",
      "    r-rspectra-0.16_0          |    r40h51c796c_3         506 KB  conda-forge\n",
      "    r-rsvd-1.0.3               |    r40h6115d3f_1         5.9 MB  conda-forge\n",
      "    r-rtsne-0.15               |    r40hc8faad4_3         125 KB  conda-forge\n",
      "    r-sctransform-0.3.1        |    r40hdb2a40c_1         415 KB  conda-forge\n",
      "    r-seurat-3.2.2             |    r40h0357c0b_0         2.0 MB  conda-forge\n",
      "    r-sitmo-2.0.1              |    r40h0357c0b_2         155 KB  conda-forge\n",
      "    r-spatstat-1.64_1          |    r40h0357c0b_0        16.2 MB  conda-forge\n",
      "    r-spatstat.data-1.5_2      |    r40hc72bb7e_0         3.9 MB  conda-forge\n",
      "    r-spatstat.utils-1.17_0    |    r40h516909a_1         335 KB  conda-forge\n",
      "    r-tensor-1.5               | r40h6115d3f_1003          30 KB  conda-forge\n",
      "    r-uwot-0.1.9               |    r40he524a50_0         410 KB  conda-forge\n",
      "    spectra-0.0.11             |             py_1          19 KB  conda-forge\n",
      "    ------------------------------------------------------------\n",
      "                                           Total:        71.6 MB\n",
      "\n",
      "The following NEW packages will be INSTALLED:\n",
      "\n",
      "  colormath          conda-forge/noarch::colormath-3.0.0-py_2\n",
      "  r-abind            conda-forge/noarch::r-abind-1.4_5-r40h6115d3f_1003\n",
      "  r-bh               conda-forge/noarch::r-bh-1.72.0_3-r40h6115d3f_1\n",
      "  r-catools          conda-forge/linux-64::r-catools-1.18.0-r40h0357c0b_1\n",
      "  r-cluster          conda-forge/linux-64::r-cluster-2.1.0-r40h31ca83e_4\n",
      "  r-cowplot          conda-forge/noarch::r-cowplot-1.1.0-r40h6115d3f_0\n",
      "  r-deldir           conda-forge/linux-64::r-deldir-0.2_3-r40h13aaf81_0\n",
      "  r-dqrng            conda-forge/linux-64::r-dqrng-0.2.1-r40h0357c0b_2\n",
      "  r-fitdistrplus     conda-forge/noarch::r-fitdistrplus-1.1_3-r40hc72bb7e_0\n",
      "  r-fnn              conda-forge/linux-64::r-fnn-1.1.3-r40h0357c0b_2\n",
      "  r-future           conda-forge/noarch::r-future-1.20.1-r40hc72bb7e_0\n",
      "  r-future.apply     conda-forge/noarch::r-future.apply-1.6.0-r40h6115d3f_0\n",
      "  r-ggrepel          conda-forge/linux-64::r-ggrepel-0.8.2-r40h0357c0b_1\n",
      "  r-ggridges         conda-forge/noarch::r-ggridges-0.5.2-r40h6115d3f_2\n",
      "  r-globals          conda-forge/noarch::r-globals-0.14.0-r40hc72bb7e_0\n",
      "  r-goftest          conda-forge/linux-64::r-goftest-1.2_2-r40hcdcec82_1\n",
      "  r-gplots           conda-forge/noarch::r-gplots-3.1.1-r40hc72bb7e_0\n",
      "  r-gridextra        conda-forge/noarch::r-gridextra-2.3-r40h6115d3f_1003\n",
      "  r-gtools           conda-forge/linux-64::r-gtools-3.8.2-r40hcdcec82_1\n",
      "  r-ica              conda-forge/noarch::r-ica-1.0_2-r40h6115d3f_2\n",
      "  r-igraph           conda-forge/linux-64::r-igraph-1.2.6-r40h084b37e_1\n",
      "  r-irlba            conda-forge/linux-64::r-irlba-2.3.3-r40h7fa42b6_3\n",
      "  r-leiden           conda-forge/noarch::r-leiden-0.3.6-r40hc72bb7e_0\n",
      "  r-listenv          conda-forge/noarch::r-listenv-0.8.0-r40h6115d3f_1\n",
      "  r-lsei             conda-forge/linux-64::r-lsei-1.3_0-r40h6e990d7_1\n",
      "  r-matrixstats      conda-forge/linux-64::r-matrixstats-0.57.0-r40hcdcec82_0\n",
      "  r-miniui           conda-forge/noarch::r-miniui-0.1.1.1-r40h6115d3f_1002\n",
      "  r-npsurv           conda-forge/noarch::r-npsurv-0.5_0-r40h6115d3f_0\n",
      "  r-parallelly       conda-forge/noarch::r-parallelly-1.21.0-r40hc72bb7e_0\n",
      "  r-patchwork        conda-forge/noarch::r-patchwork-1.1.0-r40hc72bb7e_0\n",
      "  r-pbapply          conda-forge/noarch::r-pbapply-1.4_3-r40h6115d3f_0\n",
      "  r-plotly           conda-forge/noarch::r-plotly-4.9.2.1-r40h6115d3f_1\n",
      "  r-png              conda-forge/linux-64::r-png-0.1_7-r40hcdcec82_1004\n",
      "  r-polyclip         conda-forge/linux-64::r-polyclip-1.10_0-r40h0357c0b_2\n",
      "  r-rann             conda-forge/linux-64::r-rann-2.6.1-r40h0357c0b_2\n",
      "  r-rappdirs         conda-forge/linux-64::r-rappdirs-0.3.1-r40hcdcec82_1004\n",
      "  r-rcppannoy        conda-forge/linux-64::r-rcppannoy-0.0.17-r40he524a50_0\n",
      "  r-rcppeigen        conda-forge/linux-64::r-rcppeigen-0.3.3.7.0-r40h51c796c_2\n",
      "  r-rcppparallel     conda-forge/linux-64::r-rcppparallel-5.0.2-r40h0357c0b_0\n",
      "  r-rcppprogress     conda-forge/noarch::r-rcppprogress-0.4.2-r40h6115d3f_1\n",
      "  r-reticulate       conda-forge/linux-64::r-reticulate-1.18-r40h1b71b39_0\n",
      "  r-rocr             conda-forge/linux-64::r-rocr-1.0_11-r40h6115d3f_1\n",
      "  r-rspectra         conda-forge/linux-64::r-rspectra-0.16_0-r40h51c796c_3\n",
      "  r-rsvd             conda-forge/noarch::r-rsvd-1.0.3-r40h6115d3f_1\n",
      "  r-rtsne            conda-forge/linux-64::r-rtsne-0.15-r40hc8faad4_3\n",
      "  r-sctransform      conda-forge/linux-64::r-sctransform-0.3.1-r40hdb2a40c_1\n",
      "  r-seurat           conda-forge/linux-64::r-seurat-3.2.2-r40h0357c0b_0\n",
      "  r-sitmo            conda-forge/linux-64::r-sitmo-2.0.1-r40h0357c0b_2\n",
      "  r-spatstat         conda-forge/linux-64::r-spatstat-1.64_1-r40h0357c0b_0\n",
      "  r-spatstat.data    conda-forge/noarch::r-spatstat.data-1.5_2-r40hc72bb7e_0\n",
      "  r-spatstat.utils   conda-forge/linux-64::r-spatstat.utils-1.17_0-r40h516909a_1\n",
      "  r-tensor           conda-forge/noarch::r-tensor-1.5-r40h6115d3f_1003\n",
      "  r-uwot             conda-forge/linux-64::r-uwot-0.1.9-r40he524a50_0\n",
      "  spectra            conda-forge/noarch::spectra-0.0.11-py_1\n",
      "\n",
      "The following packages will be UPDATED:\n",
      "\n",
      "  ca-certificates                      2020.11.8-ha878542_0 --> 2020.12.5-ha878542_0\n",
      "  certifi                          2020.11.8-py38h578d9bd_0 --> 2020.12.5-py38h578d9bd_0\n",
      "\n",
      "\n",
      "Proceed ([y]/n)? ^C\n",
      "\n",
      "CondaSystemExit: \n",
      "Operation aborted.  Exiting.\n",
      "\n"
     ]
    }
   ],
   "source": [
    "!conda install -c bioconda r-seurat"
   ]
  },
  {
   "cell_type": "code",
   "execution_count": null,
   "metadata": {},
   "outputs": [],
   "source": [
    "!pip install rpy2"
   ]
  },
  {
   "cell_type": "code",
   "execution_count": 31,
   "metadata": {},
   "outputs": [
    {
     "name": "stdout",
     "output_type": "stream",
     "text": [
      "Requirement already satisfied: rpy2 in /opt/conda/lib/python3.8/site-packages (3.3.6)\n",
      "Requirement already satisfied: pytest in /opt/conda/lib/python3.8/site-packages (from rpy2) (6.1.2)\n",
      "Requirement already satisfied: tzlocal in /opt/conda/lib/python3.8/site-packages (from rpy2) (2.1)\n",
      "Requirement already satisfied: pytz in /opt/conda/lib/python3.8/site-packages (from rpy2) (2020.4)\n",
      "Requirement already satisfied: cffi>=1.10.0 in /opt/conda/lib/python3.8/site-packages (from rpy2) (1.14.4)\n",
      "Requirement already satisfied: jinja2 in /opt/conda/lib/python3.8/site-packages (from rpy2) (2.11.2)\n",
      "Requirement already satisfied: pycparser in /opt/conda/lib/python3.8/site-packages (from cffi>=1.10.0->rpy2) (2.20)\n",
      "Requirement already satisfied: MarkupSafe>=0.23 in /opt/conda/lib/python3.8/site-packages (from jinja2->rpy2) (1.1.1)\n",
      "Requirement already satisfied: packaging in /opt/conda/lib/python3.8/site-packages (from pytest->rpy2) (20.7)\n",
      "Requirement already satisfied: py>=1.8.2 in /opt/conda/lib/python3.8/site-packages (from pytest->rpy2) (1.9.0)\n",
      "Requirement already satisfied: iniconfig in /opt/conda/lib/python3.8/site-packages (from pytest->rpy2) (1.1.1)\n",
      "Requirement already satisfied: toml in /opt/conda/lib/python3.8/site-packages (from pytest->rpy2) (0.10.2)\n",
      "Requirement already satisfied: pluggy<1.0,>=0.12 in /opt/conda/lib/python3.8/site-packages (from pytest->rpy2) (0.13.1)\n",
      "Requirement already satisfied: attrs>=17.4.0 in /opt/conda/lib/python3.8/site-packages (from pytest->rpy2) (20.3.0)\n",
      "Requirement already satisfied: pyparsing>=2.0.2 in /opt/conda/lib/python3.8/site-packages (from packaging->pytest->rpy2) (2.4.7)\n",
      "Requirement already satisfied: pytz in /opt/conda/lib/python3.8/site-packages (from rpy2) (2020.4)\n"
     ]
    }
   ],
   "source": [
    "import rpy2.robjects as ro\n",
    "from rpy2.robjects import numpy2ri, pandas2ri\n",
    "from rpy2.robjects.packages import importr"
   ]
  },
  {
   "cell_type": "code",
   "execution_count": 28,
   "metadata": {},
   "outputs": [],
   "source": [
    "r = ro.r\n",
    "numpy2ri.activate()\n",
    "\n",
    "model_rds_path = f'{path}/pbmc_10k_v3.rds'\n",
    "model = r.readRDS(model_rds_path)"
   ]
  },
  {
   "cell_type": "code",
   "execution_count": 30,
   "metadata": {},
   "outputs": [],
   "source": [
    "from rpy2.robjects.conversion import localconverter"
   ]
  },
  {
   "cell_type": "code",
   "execution_count": 33,
   "metadata": {},
   "outputs": [],
   "source": [
    "with localconverter(ro.default_converter + pandas2ri.converter):\n",
    "    pd_from_r_df = ro.conversion.rpy2py(model)"
   ]
  },
  {
   "cell_type": "code",
   "execution_count": 34,
   "metadata": {},
   "outputs": [
    {
     "data": {
      "text/plain": [
       "R object with classes: ('Seurat',) mapped to:"
      ]
     },
     "execution_count": 34,
     "metadata": {},
     "output_type": "execute_result"
    }
   ],
   "source": [
    "pd_from_r_df"
   ]
  },
  {
   "cell_type": "code",
   "execution_count": 35,
   "metadata": {},
   "outputs": [
    {
     "data": {
      "text/html": [
       "\n",
       "        <span>R/rpy2 DataFrame (3 x 2)</span>\n",
       "        <table>\n",
       "          <thead>\n",
       "            <tr>\n",
       "              \n",
       "              <th>int_values</th>\n",
       "              \n",
       "              <th>str_values</th>\n",
       "              \n",
       "            </tr>\n",
       "          </thead>\n",
       "          <tbody>\n",
       "          \n",
       "          <tr>\n",
       "            \n",
       "            <td>\n",
       "              ...\n",
       "            </td>\n",
       "            \n",
       "            <td>\n",
       "              ...\n",
       "            </td>\n",
       "            \n",
       "          </tr>\n",
       "          \n",
       "          </tbody>\n",
       "        </table>\n",
       "    "
      ],
      "text/plain": [
       "R object with classes: ('data.frame',) mapped to:\n",
       "[IntSexpVector, StrSexpVector]\n",
       "  int_values: <class 'rpy2.rinterface.IntSexpVector'>\n",
       "  <rpy2.rinterface.IntSexpVector object at 0x7fa8d3d47fc0> [RTYPES.INTSXP]\n",
       "  str_values: <class 'rpy2.rinterface_lib.sexp.StrSexpVector'>\n",
       "  <rpy2.rinterface_lib.sexp.StrSexpVector object at 0x7fa901361d00> [RTYPES.STRSXP]"
      ]
     },
     "execution_count": 35,
     "metadata": {},
     "output_type": "execute_result"
    }
   ],
   "source": [
    "r_df = ro.DataFrame({'int_values': ro.IntVector([1,2,3]),\n",
    "                     'str_values': ro.StrVector(['abc', 'def', 'ghi'])})\n",
    "\n",
    "r_df"
   ]
  },
  {
   "cell_type": "code",
   "execution_count": 36,
   "metadata": {},
   "outputs": [
    {
     "data": {
      "text/html": [
       "<div>\n",
       "<style scoped>\n",
       "    .dataframe tbody tr th:only-of-type {\n",
       "        vertical-align: middle;\n",
       "    }\n",
       "\n",
       "    .dataframe tbody tr th {\n",
       "        vertical-align: top;\n",
       "    }\n",
       "\n",
       "    .dataframe thead th {\n",
       "        text-align: right;\n",
       "    }\n",
       "</style>\n",
       "<table border=\"1\" class=\"dataframe\">\n",
       "  <thead>\n",
       "    <tr style=\"text-align: right;\">\n",
       "      <th></th>\n",
       "      <th>int_values</th>\n",
       "      <th>str_values</th>\n",
       "    </tr>\n",
       "  </thead>\n",
       "  <tbody>\n",
       "    <tr>\n",
       "      <th>1</th>\n",
       "      <td>1</td>\n",
       "      <td>abc</td>\n",
       "    </tr>\n",
       "    <tr>\n",
       "      <th>2</th>\n",
       "      <td>2</td>\n",
       "      <td>def</td>\n",
       "    </tr>\n",
       "    <tr>\n",
       "      <th>3</th>\n",
       "      <td>3</td>\n",
       "      <td>ghi</td>\n",
       "    </tr>\n",
       "  </tbody>\n",
       "</table>\n",
       "</div>"
      ],
      "text/plain": [
       "   int_values str_values\n",
       "1           1        abc\n",
       "2           2        def\n",
       "3           3        ghi"
      ]
     },
     "execution_count": 36,
     "metadata": {},
     "output_type": "execute_result"
    }
   ],
   "source": [
    "with localconverter(ro.default_converter + pandas2ri.converter):\n",
    "    pd_from_r_df = ro.conversion.rpy2py(r_df)\n",
    "\n",
    "pd_from_r_df"
   ]
  },
  {
   "cell_type": "code",
   "execution_count": 37,
   "metadata": {},
   "outputs": [
    {
     "data": {
      "text/plain": [
       "R object with classes: ('Seurat',) mapped to:"
      ]
     },
     "execution_count": 37,
     "metadata": {},
     "output_type": "execute_result"
    }
   ],
   "source": [
    "model"
   ]
  },
  {
   "cell_type": "code",
   "execution_count": 1,
   "metadata": {},
   "outputs": [],
   "source": [
    "import h5py"
   ]
  },
  {
   "cell_type": "code",
   "execution_count": 44,
   "metadata": {},
   "outputs": [],
   "source": [
    "def check_h5(filename):\n",
    "    with h5py.File(f'{path}/{filename}') as f:\n",
    "        print(type(f))\n",
    "\n",
    "        for i in f.keys():\n",
    "            if isinstance(f[i], h5py.Dataset):\n",
    "                print('Dataset ---- ', end='')\n",
    "            else:\n",
    "                print('Group ---- ', end='')\n",
    "            print(i, f[i], f[i].name)"
   ]
  },
  {
   "cell_type": "code",
   "execution_count": 45,
   "metadata": {},
   "outputs": [
    {
     "name": "stdout",
     "output_type": "stream",
     "text": [
      "<class 'h5py._hl.files.File'>\n",
      "Group ---- matrix <HDF5 group \"/matrix\" (6 members)> /matrix\n"
     ]
    }
   ],
   "source": [
    "check_h5('atac_v1_pbmc_10k_filtered_peak_bc_matrix.h5')"
   ]
  },
  {
   "cell_type": "code",
   "execution_count": 46,
   "metadata": {},
   "outputs": [
    {
     "name": "stdout",
     "output_type": "stream",
     "text": [
      "<class 'h5py._hl.files.File'>\n",
      "Group ---- col_attrs <HDF5 group \"/col_attrs\" (14 members)> /col_attrs\n",
      "Group ---- col_graphs <HDF5 group \"/col_graphs\" (2 members)> /col_graphs\n",
      "Group ---- layers <HDF5 group \"/layers\" (2 members)> /layers\n",
      "Dataset ---- matrix <HDF5 dataset \"matrix\": shape (19089, 9432), type \"<f8\"> /matrix\n",
      "Group ---- row_attrs <HDF5 group \"/row_attrs\" (7 members)> /row_attrs\n",
      "Group ---- row_graphs <HDF5 group \"/row_graphs\" (0 members)> /row_graphs\n"
     ]
    }
   ],
   "source": [
    "check_h5('hahah.loom')"
   ]
  },
  {
   "cell_type": "code",
   "execution_count": 51,
   "metadata": {},
   "outputs": [
    {
     "name": "stdout",
     "output_type": "stream",
     "text": [
      "<class 'h5py._hl.files.File'>\n",
      "Group ---- col_attrs <HDF5 group \"/col_attrs\" (14 members)> /col_attrs\n",
      "Group ---- col_graphs <HDF5 group \"/col_graphs\" (2 members)> /col_graphs\n",
      "Group ---- layers <HDF5 group \"/layers\" (2 members)> /layers\n",
      "Dataset ---- matrix <HDF5 dataset \"matrix\": shape (19089, 9432), type \"<f8\"> /matrix\n",
      "Group ---- row_attrs <HDF5 group \"/row_attrs\" (7 members)> /row_attrs\n",
      "Group ---- row_graphs <HDF5 group \"/row_graphs\" (0 members)> /row_graphs\n",
      "\n",
      "Dataset ---- norm_data <HDF5 dataset \"norm_data\": shape (19089, 9432), type \"<f8\"> /layers/norm_data\n",
      "Dataset ---- scale_data <HDF5 dataset \"scale_data\": shape (19089, 9432), type \"<f8\"> /layers/scale_data\n",
      "\n",
      "Dataset ---- CellID <HDF5 dataset \"CellID\": shape (9432,), type \"|S22\"> /col_attrs/CellID\n",
      "Dataset ---- ClusterID <HDF5 dataset \"ClusterID\": shape (9432,), type \"<i4\"> /col_attrs/ClusterID\n",
      "Dataset ---- ClusterName <HDF5 dataset \"ClusterName\": shape (9432,), type \"|S22\"> /col_attrs/ClusterName\n",
      "Dataset ---- RNA_snn_res_0_4 <HDF5 dataset \"RNA_snn_res_0_4\": shape (9432,), type \"|S2\"> /col_attrs/RNA_snn_res_0_4\n",
      "Dataset ---- celltype <HDF5 dataset \"celltype\": shape (9432,), type \"|S22\"> /col_attrs/celltype\n",
      "Dataset ---- nCount_RNA <HDF5 dataset \"nCount_RNA\": shape (9432,), type \"<f4\"> /col_attrs/nCount_RNA\n",
      "Dataset ---- nFeature_RNA <HDF5 dataset \"nFeature_RNA\": shape (9432,), type \"<i4\"> /col_attrs/nFeature_RNA\n",
      "Dataset ---- observed <HDF5 dataset \"observed\": shape (9432,), type \"<f4\"> /col_attrs/observed\n",
      "Dataset ---- orig_ident <HDF5 dataset \"orig_ident\": shape (9432,), type \"|S7\"> /col_attrs/orig_ident\n",
      "Dataset ---- pca_cell_embeddings <HDF5 dataset \"pca_cell_embeddings\": shape (9432, 100), type \"<f8\"> /col_attrs/pca_cell_embeddings\n",
      "Dataset ---- percent_mito <HDF5 dataset \"percent_mito\": shape (9432,), type \"<f4\"> /col_attrs/percent_mito\n",
      "Dataset ---- simulated <HDF5 dataset \"simulated\": shape (9432,), type \"<f4\"> /col_attrs/simulated\n",
      "Dataset ---- tsne_cell_embeddings <HDF5 dataset \"tsne_cell_embeddings\": shape (9432, 2), type \"<f8\"> /col_attrs/tsne_cell_embeddings\n",
      "Dataset ---- umap_cell_embeddings <HDF5 dataset \"umap_cell_embeddings\": shape (9432, 2), type \"<f8\"> /col_attrs/umap_cell_embeddings\n"
     ]
    }
   ],
   "source": [
    "filename = 'hahah.loom'\n",
    "with h5py.File(f'{path}/{filename}') as f:\n",
    "        print(type(f))\n",
    "\n",
    "        for i in f.keys():\n",
    "            if isinstance(f[i], h5py.Dataset):\n",
    "                print('Dataset ---- ', end='')\n",
    "            else:\n",
    "                print('Group ---- ', end='')\n",
    "            print(i, f[i], f[i].name)\n",
    "        print()\n",
    "        group = f['layers']\n",
    "        for i in group.keys():\n",
    "            if isinstance(group[i], h5py.Dataset):\n",
    "                print('Dataset ---- ', end='')\n",
    "            else:\n",
    "                print('Group ---- ', end='')\n",
    "            print(i, group[i], group[i].name)\n",
    "        print()\n",
    "        group = f['col_attrs']\n",
    "        for i in group.keys():\n",
    "            if isinstance(group[i], h5py.Dataset):\n",
    "                print('Dataset ---- ', end='')\n",
    "            else:\n",
    "                print('Group ---- ', end='')\n",
    "            print(i, group[i], group[i].name)"
   ]
  },
  {
   "cell_type": "code",
   "execution_count": 35,
   "metadata": {},
   "outputs": [
    {
     "name": "stdout",
     "output_type": "stream",
     "text": [
      "[89796  8728]\n"
     ]
    }
   ],
   "source": [
    "with h5py.File(f'{path}/atac_v1_pbmc_10k_filtered_peak_bc_matrix.h5') as f:\n",
    "    shape = f['matrix'].get('shape')\n",
    "    print(shape[:])"
   ]
  },
  {
   "cell_type": "code",
   "execution_count": 24,
   "metadata": {},
   "outputs": [
    {
     "data": {
      "text/plain": [
       "<Closed HDF5 dataset>"
      ]
     },
     "execution_count": 24,
     "metadata": {},
     "output_type": "execute_result"
    }
   ],
   "source": []
  },
  {
   "cell_type": "code",
   "execution_count": 13,
   "metadata": {},
   "outputs": [
    {
     "name": "stdout",
     "output_type": "stream",
     "text": [
      "1\n"
     ]
    }
   ],
   "source": [
    "print(1)"
   ]
  },
  {
   "cell_type": "code",
   "execution_count": null,
   "metadata": {},
   "outputs": [],
   "source": []
  }
 ],
 "metadata": {
  "kernelspec": {
   "display_name": "Python 3",
   "language": "python",
   "name": "python3"
  },
  "language_info": {
   "codemirror_mode": {
    "name": "ipython",
    "version": 3
   },
   "file_extension": ".py",
   "mimetype": "text/x-python",
   "name": "python",
   "nbconvert_exporter": "python",
   "pygments_lexer": "ipython3",
   "version": "3.8.6"
  }
 },
 "nbformat": 4,
 "nbformat_minor": 4
}
