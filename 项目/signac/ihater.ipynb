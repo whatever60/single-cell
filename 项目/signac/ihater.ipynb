{
 "cells": [
  {
   "cell_type": "raw",
   "metadata": {},
   "source": [
    "Seurat object is like a HDF5 file so cannot be dump into csv, but into h5ad."
   ]
  },
  {
   "cell_type": "raw",
   "metadata": {},
   "source": [
    "Packages that claim to be able to convert to anndata:\n",
    "\n",
    "reticulate, sceasy, scater, and loomR.\n",
    "\n",
    "Only loomR worked for me and, it seems to need A LOT RAM and I have to do convertion on cluster.\n",
    "\n",
    "One more thing, loomR worked but it threw an warning as.loom is being moved to SeuratDisk."
   ]
  },
  {
   "cell_type": "code",
   "execution_count": 4,
   "metadata": {
    "collapsed": true,
    "jupyter": {
     "outputs_hidden": true
    }
   },
   "outputs": [
    {
     "name": "stderr",
     "output_type": "stream",
     "text": [
      "Registered S3 method overwritten by 'cli':\n",
      "  method     from    \n",
      "  print.boxx spatstat\n",
      "\n",
      "Downloading GitHub repo mojaveazure/loomR@develop\n",
      "\n"
     ]
    },
    {
     "name": "stdout",
     "output_type": "stream",
     "text": [
      "hdf5r (NA -> 1.3.3) [CRAN]\n"
     ]
    },
    {
     "name": "stderr",
     "output_type": "stream",
     "text": [
      "Installing 1 packages: hdf5r\n",
      "\n",
      "Updating HTML index of packages in '.Library'\n",
      "\n",
      "Making 'packages.html' ...\n",
      " done\n",
      "\n"
     ]
    },
    {
     "name": "stdout",
     "output_type": "stream",
     "text": [
      "\u001b[32m✔\u001b[39m  \u001b[38;5;247mchecking for file ‘/tmp/RtmpdPuyas/remotesb02c5f25d236/mojaveazure-loomR-1eca16a/DESCRIPTION’\u001b[39m\u001b[36m\u001b[39m\n",
      "\u001b[38;5;247m─\u001b[39m\u001b[38;5;247m  \u001b[39m\u001b[38;5;247mpreparing ‘loomR’:\u001b[39m\u001b[36m\u001b[39m\n",
      "\u001b[32m✔\u001b[39m  \u001b[38;5;247mchecking DESCRIPTION meta-information\u001b[39m\u001b[36m\u001b[39m\n",
      "\u001b[38;5;247m─\u001b[39m\u001b[38;5;247m  \u001b[39m\u001b[38;5;247mchecking for LF line-endings in source and make files and shell scripts\u001b[39m\u001b[36m\u001b[39m\n",
      "\u001b[38;5;247m─\u001b[39m\u001b[38;5;247m  \u001b[39m\u001b[38;5;247mchecking for empty or unneeded directories\u001b[39m\u001b[36m\u001b[39m\n",
      "\u001b[38;5;247m─\u001b[39m\u001b[38;5;247m  \u001b[39m\u001b[38;5;247mbuilding ‘loomR_0.2.1.9000.tar.gz’\u001b[39m\u001b[36m\u001b[39m\n",
      "   \n",
      "\r"
     ]
    }
   ],
   "source": [
    "devtools::install_github(repo = \"mojaveazure/loomR\", ref = \"develop\")"
   ]
  },
  {
   "cell_type": "code",
   "execution_count": 11,
   "metadata": {
    "collapsed": true,
    "jupyter": {
     "outputs_hidden": true
    }
   },
   "outputs": [
    {
     "name": "stderr",
     "output_type": "stream",
     "text": [
      "Downloading GitHub repo cellgeni/sceasy@HEAD\n",
      "\n"
     ]
    },
    {
     "name": "stdout",
     "output_type": "stream",
     "text": [
      "ps         (1.4.0  -> 1.5.0 ) [CRAN]\n",
      "data.table (1.13.2 -> 1.13.4) [CRAN]\n"
     ]
    },
    {
     "name": "stderr",
     "output_type": "stream",
     "text": [
      "Skipping 2 packages not available: LoomExperiment, SingleCellExperiment\n",
      "\n",
      "Installing 4 packages: ps, data.table, LoomExperiment, SingleCellExperiment\n",
      "\n"
     ]
    },
    {
     "ename": "ERROR",
     "evalue": "Error: Failed to install 'sceasy' from GitHub:\n  (converted from warning) packages ‘LoomExperiment’, ‘SingleCellExperiment’ are not available for this version of R\n\nVersions of these packages for your version of R might be available elsewhere,\nsee the ideas at\nhttps://cran.r-project.org/doc/manuals/r-patched/R-admin.html#Installing-packages\n",
     "output_type": "error",
     "traceback": [
      "Error: Failed to install 'sceasy' from GitHub:\n  (converted from warning) packages ‘LoomExperiment’, ‘SingleCellExperiment’ are not available for this version of R\n\nVersions of these packages for your version of R might be available elsewhere,\nsee the ideas at\nhttps://cran.r-project.org/doc/manuals/r-patched/R-admin.html#Installing-packages\nTraceback:\n",
      "1. devtools::install_github(\"cellgeni/sceasy\")",
      "2. pkgbuild::with_build_tools({\n .     ellipsis::check_dots_used(action = getOption(\"devtools.ellipsis_action\", \n .         rlang::warn))\n .     {\n .         remotes <- lapply(repo, github_remote, ref = ref, subdir = subdir, \n .             auth_token = auth_token, host = host)\n .         install_remotes(remotes, auth_token = auth_token, host = host, \n .             dependencies = dependencies, upgrade = upgrade, force = force, \n .             quiet = quiet, build = build, build_opts = build_opts, \n .             build_manual = build_manual, build_vignettes = build_vignettes, \n .             repos = repos, type = type, ...)\n .     }\n . }, required = FALSE)",
      "3. install_remotes(remotes, auth_token = auth_token, host = host, \n .     dependencies = dependencies, upgrade = upgrade, force = force, \n .     quiet = quiet, build = build, build_opts = build_opts, build_manual = build_manual, \n .     build_vignettes = build_vignettes, repos = repos, type = type, \n .     ...)",
      "4. tryCatch(res[[i]] <- install_remote(remotes[[i]], ...), error = function(e) {\n .     stop(remote_install_error(remotes[[i]], e))\n . })",
      "5. tryCatchList(expr, classes, parentenv, handlers)",
      "6. tryCatchOne(expr, names, parentenv, handlers[[1L]])",
      "7. value[[3L]](cond)"
     ]
    }
   ],
   "source": [
    "devtools::install_github('cellgeni/sceasy')"
   ]
  },
  {
   "cell_type": "code",
   "execution_count": 12,
   "metadata": {
    "collapsed": true,
    "jupyter": {
     "outputs_hidden": true
    }
   },
   "outputs": [
    {
     "name": "stderr",
     "output_type": "stream",
     "text": [
      "Downloading GitHub repo davismcc/scater@HEAD\n",
      "\n"
     ]
    },
    {
     "name": "stdout",
     "output_type": "stream",
     "text": [
      "ps           (1.4.0 -> 1.5.0 ) [CRAN]\n",
      "formatR      (NA    -> 1.7   ) [CRAN]\n",
      "rhdf5filters (NA    -> 1.2.0 ) [CRAN]\n",
      "futile.op... (NA    -> 1.0.1 ) [CRAN]\n",
      "lambda.r     (NA    -> 1.2.4 ) [CRAN]\n",
      "Rhdf5lib     (NA    -> 1.12.0) [CRAN]\n",
      "rhdf5        (NA    -> 2.34.0) [CRAN]\n",
      "BiocGenerics (NA    -> 0.36.0) [CRAN]\n",
      "snow         (NA    -> 0.4-3 ) [CRAN]\n",
      "futile.lo... (NA    -> 1.4.3 ) [CRAN]\n",
      "BiocParallel (NA    -> 1.24.1) [CRAN]\n",
      "HDF5Array    (NA    -> 1.18.0) [CRAN]\n",
      "IRanges      (NA    -> 2.24.0) [CRAN]\n",
      "S4Vectors    (NA    -> 0.28.0) [CRAN]\n",
      "sparseMat... (NA    -> 1.2.0 ) [CRAN]\n",
      "DelayedArray (NA    -> 0.16.0) [CRAN]\n",
      "MatrixGen... (NA    -> 1.2.0 ) [CRAN]\n",
      "zlibbioc     (NA    -> 1.36.0) [CRAN]\n",
      "XVector      (NA    -> 0.30.0) [CRAN]\n",
      "GenomeInf... (NA    -> 1.2.4 ) [CRAN]\n",
      "GenomeInfoDb (NA    -> 1.26.1) [CRAN]\n",
      "Biobase      (NA    -> 2.50.0) [CRAN]\n",
      "GenomicRa... (NA    -> 1.42.0) [CRAN]\n",
      "Summarize... (NA    -> 1.20.0) [CRAN]\n",
      "vipor        (NA    -> 0.4.5 ) [CRAN]\n",
      "beeswarm     (NA    -> 0.2.3 ) [CRAN]\n",
      "beachmat     (NA    -> 2.6.2 ) [CRAN]\n",
      "DelayedMa... (NA    -> 1.12.1) [CRAN]\n",
      "SingleCel... (NA    -> 1.12.0) [CRAN]\n",
      "RcppHNSW     (NA    -> 0.3.0 ) [CRAN]\n",
      "viridis      (NA    -> 0.5.1 ) [CRAN]\n",
      "ggbeeswarm   (NA    -> 0.6.0 ) [CRAN]\n",
      "scuttle      (NA    -> 1.0.3 ) [CRAN]\n",
      "BiocSingular (NA    -> 1.6.0 ) [CRAN]\n",
      "BiocNeigh... (NA    -> 1.8.1 ) [CRAN]\n"
     ]
    },
    {
     "name": "stderr",
     "output_type": "stream",
     "text": [
      "Installing 35 packages: ps, formatR, rhdf5filters, futile.options, lambda.r, Rhdf5lib, rhdf5, BiocGenerics, snow, futile.logger, BiocParallel, HDF5Array, IRanges, S4Vectors, sparseMatrixStats, DelayedArray, MatrixGenerics, zlibbioc, XVector, GenomeInfoDbData, GenomeInfoDb, Biobase, GenomicRanges, SummarizedExperiment, vipor, beeswarm, beachmat, DelayedMatrixStats, SingleCellExperiment, RcppHNSW, viridis, ggbeeswarm, scuttle, BiocSingular, BiocNeighbors\n",
      "\n",
      "Updating HTML index of packages in '.Library'\n",
      "\n",
      "Making 'packages.html' ...\n",
      " done\n",
      "\n"
     ]
    },
    {
     "name": "stdout",
     "output_type": "stream",
     "text": [
      "\u001b[32m✔\u001b[39m  \u001b[38;5;247mchecking for file ‘/tmp/RtmpQazoxm/remotes41ed178c4eed/Alanocallaghan-scater-d4b3c22/DESCRIPTION’\u001b[39m\u001b[36m\u001b[36m (410ms)\u001b[36m\u001b[39m\n",
      "\u001b[38;5;247m─\u001b[39m\u001b[38;5;247m  \u001b[39m\u001b[38;5;247mpreparing ‘scater’:\u001b[39m\u001b[36m\u001b[39m\n",
      "\u001b[32m✔\u001b[39m  \u001b[38;5;247mchecking DESCRIPTION meta-information\u001b[39m\u001b[36m\u001b[39m\n",
      "\u001b[38;5;247m─\u001b[39m\u001b[38;5;247m  \u001b[39m\u001b[38;5;247minstalling the package to build vignettes\u001b[39m\u001b[36m\u001b[39m\n",
      "\u001b[31mE  \u001b[39m\u001b[31mcreating vignettes\u001b[39m\u001b[36m\u001b[36m (23.4s)\u001b[36m\u001b[39m\n",
      "   --- re-building ‘overview.Rmd’ using rmarkdown\n",
      "   Warning in engine$weave(file, quiet = quiet, encoding = enc) :\n",
      "     Pandoc (>= 1.12.3) and/or pandoc-citeproc not available. Falling back to R Markdown v1.\n",
      "   Quitting from lines 21-24 (overview.Rmd) \n",
      "   Error: processing vignette 'overview.Rmd' failed with diagnostics:\n",
      "   there is no package called 'BiocStyle'\n",
      "   --- failed re-building ‘overview.Rmd’\n",
      "   \n",
      "   SUMMARY: processing the following file failed:\n",
      "     ‘overview.Rmd’\n",
      "   \n",
      "   Error: Vignette re-building failed.\n",
      "   Execution halted\n",
      "\r"
     ]
    },
    {
     "ename": "ERROR",
     "evalue": "Error: Failed to install 'scater' from GitHub:\n  System command 'R' failed, exit status: 1, stdout + stderr:\nE> * checking for file ‘/tmp/RtmpQazoxm/remotes41ed178c4eed/Alanocallaghan-scater-d4b3c22/DESCRIPTION’ ... OK\nE> * preparing ‘scater’:\nE> * checking DESCRIPTION meta-information ... OK\nE> * installing the package to build vignettes\nE> * creating vignettes ... ERROR\nE> --- re-building ‘overview.Rmd’ using rmarkdown\nE> Warning in engine$weave(file, quiet = quiet, encoding = enc) :\nE>   Pandoc (>= 1.12.3) and/or pandoc-citeproc not available. Falling back to R Markdown v1.\nE> Quitting from lines 21-24 (overview.Rmd) \nE> Error: processing vignette 'overview.Rmd' failed with diagnostics:\nE> there is no package called 'BiocStyle'\nE> --- failed re-building ‘overview.Rmd’\nE> \nE> SUMMARY: processing the following file failed:\nE>   ‘overview.Rmd’\nE> \nE> Error: Vignette re-building failed.\nE> Execution halted\n",
     "output_type": "error",
     "traceback": [
      "Error: Failed to install 'scater' from GitHub:\n  System command 'R' failed, exit status: 1, stdout + stderr:\nE> * checking for file ‘/tmp/RtmpQazoxm/remotes41ed178c4eed/Alanocallaghan-scater-d4b3c22/DESCRIPTION’ ... OK\nE> * preparing ‘scater’:\nE> * checking DESCRIPTION meta-information ... OK\nE> * installing the package to build vignettes\nE> * creating vignettes ... ERROR\nE> --- re-building ‘overview.Rmd’ using rmarkdown\nE> Warning in engine$weave(file, quiet = quiet, encoding = enc) :\nE>   Pandoc (>= 1.12.3) and/or pandoc-citeproc not available. Falling back to R Markdown v1.\nE> Quitting from lines 21-24 (overview.Rmd) \nE> Error: processing vignette 'overview.Rmd' failed with diagnostics:\nE> there is no package called 'BiocStyle'\nE> --- failed re-building ‘overview.Rmd’\nE> \nE> SUMMARY: processing the following file failed:\nE>   ‘overview.Rmd’\nE> \nE> Error: Vignette re-building failed.\nE> Execution halted\nTraceback:\n",
      "1. devtools::install_github(\"davismcc/scater\", build_vignettes = TRUE)",
      "2. pkgbuild::with_build_tools({\n .     ellipsis::check_dots_used(action = getOption(\"devtools.ellipsis_action\", \n .         rlang::warn))\n .     {\n .         remotes <- lapply(repo, github_remote, ref = ref, subdir = subdir, \n .             auth_token = auth_token, host = host)\n .         install_remotes(remotes, auth_token = auth_token, host = host, \n .             dependencies = dependencies, upgrade = upgrade, force = force, \n .             quiet = quiet, build = build, build_opts = build_opts, \n .             build_manual = build_manual, build_vignettes = build_vignettes, \n .             repos = repos, type = type, ...)\n .     }\n . }, required = FALSE)",
      "3. install_remotes(remotes, auth_token = auth_token, host = host, \n .     dependencies = dependencies, upgrade = upgrade, force = force, \n .     quiet = quiet, build = build, build_opts = build_opts, build_manual = build_manual, \n .     build_vignettes = build_vignettes, repos = repos, type = type, \n .     ...)",
      "4. tryCatch(res[[i]] <- install_remote(remotes[[i]], ...), error = function(e) {\n .     stop(remote_install_error(remotes[[i]], e))\n . })",
      "5. tryCatchList(expr, classes, parentenv, handlers)",
      "6. tryCatchOne(expr, names, parentenv, handlers[[1L]])",
      "7. value[[3L]](cond)"
     ]
    }
   ],
   "source": [
    "devtools::install_github(\"davismcc/scater\", build_vignettes = TRUE)"
   ]
  },
  {
   "cell_type": "code",
   "execution_count": 14,
   "metadata": {
    "collapsed": true,
    "jupyter": {
     "outputs_hidden": true
    }
   },
   "outputs": [
    {
     "name": "stderr",
     "output_type": "stream",
     "text": [
      "Updating HTML index of packages in '.Library'\n",
      "\n",
      "Making 'packages.html' ...\n",
      " done\n",
      "\n",
      "Bioconductor version 3.12 (BiocManager 1.30.10), R 4.0.3 (2020-10-10)\n",
      "\n",
      "Installing package(s) 'BiocVersion', 'scater'\n",
      "\n",
      "Updating HTML index of packages in '.Library'\n",
      "\n",
      "Making 'packages.html' ...\n",
      " done\n",
      "\n",
      "Old packages: 'data.table', 'tseries'\n",
      "\n"
     ]
    }
   ],
   "source": [
    "if (!requireNamespace(\"BiocManager\", quietly = TRUE))\n",
    "    install.packages(\"BiocManager\")\n",
    "\n",
    "BiocManager::install(\"scater\")"
   ]
  },
  {
   "cell_type": "code",
   "execution_count": 1,
   "metadata": {
    "collapsed": true,
    "jupyter": {
     "outputs_hidden": true
    }
   },
   "outputs": [
    {
     "name": "stderr",
     "output_type": "stream",
     "text": [
      "Loading required package: SingleCellExperiment\n",
      "\n",
      "Loading required package: SummarizedExperiment\n",
      "\n",
      "Loading required package: MatrixGenerics\n",
      "\n",
      "Loading required package: matrixStats\n",
      "\n",
      "\n",
      "Attaching package: ‘MatrixGenerics’\n",
      "\n",
      "\n",
      "The following objects are masked from ‘package:matrixStats’:\n",
      "\n",
      "    colAlls, colAnyNAs, colAnys, colAvgsPerRowSet, colCollapse,\n",
      "    colCounts, colCummaxs, colCummins, colCumprods, colCumsums,\n",
      "    colDiffs, colIQRDiffs, colIQRs, colLogSumExps, colMadDiffs,\n",
      "    colMads, colMaxs, colMeans2, colMedians, colMins, colOrderStats,\n",
      "    colProds, colQuantiles, colRanges, colRanks, colSdDiffs, colSds,\n",
      "    colSums2, colTabulates, colVarDiffs, colVars, colWeightedMads,\n",
      "    colWeightedMeans, colWeightedMedians, colWeightedSds,\n",
      "    colWeightedVars, rowAlls, rowAnyNAs, rowAnys, rowAvgsPerColSet,\n",
      "    rowCollapse, rowCounts, rowCummaxs, rowCummins, rowCumprods,\n",
      "    rowCumsums, rowDiffs, rowIQRDiffs, rowIQRs, rowLogSumExps,\n",
      "    rowMadDiffs, rowMads, rowMaxs, rowMeans2, rowMedians, rowMins,\n",
      "    rowOrderStats, rowProds, rowQuantiles, rowRanges, rowRanks,\n",
      "    rowSdDiffs, rowSds, rowSums2, rowTabulates, rowVarDiffs, rowVars,\n",
      "    rowWeightedMads, rowWeightedMeans, rowWeightedMedians,\n",
      "    rowWeightedSds, rowWeightedVars\n",
      "\n",
      "\n",
      "Loading required package: GenomicRanges\n",
      "\n",
      "Loading required package: stats4\n",
      "\n",
      "Loading required package: BiocGenerics\n",
      "\n",
      "Loading required package: parallel\n",
      "\n",
      "\n",
      "Attaching package: ‘BiocGenerics’\n",
      "\n",
      "\n",
      "The following objects are masked from ‘package:parallel’:\n",
      "\n",
      "    clusterApply, clusterApplyLB, clusterCall, clusterEvalQ,\n",
      "    clusterExport, clusterMap, parApply, parCapply, parLapply,\n",
      "    parLapplyLB, parRapply, parSapply, parSapplyLB\n",
      "\n",
      "\n",
      "The following objects are masked from ‘package:stats’:\n",
      "\n",
      "    IQR, mad, sd, var, xtabs\n",
      "\n",
      "\n",
      "The following objects are masked from ‘package:base’:\n",
      "\n",
      "    anyDuplicated, append, as.data.frame, basename, cbind, colnames,\n",
      "    dirname, do.call, duplicated, eval, evalq, Filter, Find, get, grep,\n",
      "    grepl, intersect, is.unsorted, lapply, Map, mapply, match, mget,\n",
      "    order, paste, pmax, pmax.int, pmin, pmin.int, Position, rank,\n",
      "    rbind, Reduce, rownames, sapply, setdiff, sort, table, tapply,\n",
      "    union, unique, unsplit, which.max, which.min\n",
      "\n",
      "\n",
      "Loading required package: S4Vectors\n",
      "\n",
      "\n",
      "Attaching package: ‘S4Vectors’\n",
      "\n",
      "\n",
      "The following object is masked from ‘package:base’:\n",
      "\n",
      "    expand.grid\n",
      "\n",
      "\n",
      "Loading required package: IRanges\n",
      "\n",
      "Loading required package: GenomeInfoDb\n",
      "\n",
      "Loading required package: Biobase\n",
      "\n",
      "Welcome to Bioconductor\n",
      "\n",
      "    Vignettes contain introductory material; view with\n",
      "    'browseVignettes()'. To cite Bioconductor, see\n",
      "    'citation(\"Biobase\")', and for packages 'citation(\"pkgname\")'.\n",
      "\n",
      "\n",
      "\n",
      "Attaching package: ‘Biobase’\n",
      "\n",
      "\n",
      "The following object is masked from ‘package:MatrixGenerics’:\n",
      "\n",
      "    rowMedians\n",
      "\n",
      "\n",
      "The following objects are masked from ‘package:matrixStats’:\n",
      "\n",
      "    anyMissing, rowMedians\n",
      "\n",
      "\n",
      "\n",
      "Attaching package: ‘SummarizedExperiment’\n",
      "\n",
      "\n",
      "The following object is masked from ‘package:Seurat’:\n",
      "\n",
      "    Assays\n",
      "\n",
      "\n",
      "Loading required package: ggplot2\n",
      "\n"
     ]
    }
   ],
   "source": [
    "library(Seurat)\n",
    "library(reticulate)\n",
    "library(scater)\n",
    "library(sceasy)\n",
    "library(loomR)"
   ]
  },
  {
   "cell_type": "code",
   "execution_count": 3,
   "metadata": {},
   "outputs": [],
   "source": [
    "# ad <- import(\"anndata\", convert = FALSE)\n",
    "data <- readRDS(file = \"./signac/pbmc_10k_v3.rds\")"
   ]
  },
  {
   "cell_type": "code",
   "execution_count": 4,
   "metadata": {},
   "outputs": [
    {
     "data": {
      "text/plain": [
       "An object of class Seurat \n",
       "19089 features across 9432 samples within 1 assay \n",
       "Active assay: RNA (19089 features, 3000 variable features)\n",
       " 3 dimensional reductions calculated: pca, tsne, umap"
      ]
     },
     "metadata": {},
     "output_type": "display_data"
    }
   ],
   "source": [
    "data"
   ]
  },
  {
   "cell_type": "code",
   "execution_count": null,
   "metadata": {},
   "outputs": [],
   "source": [
    "sceasy::convertFormat(data, from=\"seurat\", to=\"anndata\", outFile='filename.h5ad')"
   ]
  },
  {
   "cell_type": "code",
   "execution_count": 5,
   "metadata": {},
   "outputs": [
    {
     "ename": "ERROR",
     "evalue": "Error in Convert(from = data, to = \"anndata\", filename = \"pbmc_10k_v3.h5ad\"): could not find function \"Convert\"\n",
     "output_type": "error",
     "traceback": [
      "Error in Convert(from = data, to = \"anndata\", filename = \"pbmc_10k_v3.h5ad\"): could not find function \"Convert\"\nTraceback:\n"
     ]
    }
   ],
   "source": [
    "pbmc_ad <- Convert(from = data, to = \"anndata\", filename = \"pbmc_10k_v3.h5ad\")\n",
    "pbmc_ad"
   ]
  },
  {
   "cell_type": "code",
   "execution_count": null,
   "metadata": {},
   "outputs": [
    {
     "name": "stderr",
     "output_type": "stream",
     "text": [
      "Warning message:\n",
      "“as.loom is being moved to SeuratDisk\n",
      "For more details, please see https://github.com/mojaveazure/seurat-disk/tree/feat/loom”\n",
      "Transposing input data: loom file will show input columns (cells) as rows and input rows (features) as columns\n",
      "\n",
      "This is to maintain compatibility with other loom tools\n",
      "\n"
     ]
    },
    {
     "name": "stdout",
     "output_type": "stream",
     "text": [
      "  |                                                                      |   0%"
     ]
    }
   ],
   "source": [
    "loomdata <- as.loom(x=data, filename='hahaha.loom')"
   ]
  },
  {
   "cell_type": "code",
   "execution_count": null,
   "metadata": {},
   "outputs": [],
   "source": []
  }
 ],
 "metadata": {
  "kernelspec": {
   "display_name": "R",
   "language": "R",
   "name": "ir"
  },
  "language_info": {
   "codemirror_mode": "r",
   "file_extension": ".r",
   "mimetype": "text/x-r-source",
   "name": "R",
   "pygments_lexer": "r",
   "version": "4.0.3"
  }
 },
 "nbformat": 4,
 "nbformat_minor": 4
}
