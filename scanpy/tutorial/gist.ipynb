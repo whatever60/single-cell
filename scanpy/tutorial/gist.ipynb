{
 "cells": [
  {
   "cell_type": "code",
   "execution_count": 54,
   "metadata": {},
   "outputs": [],
   "source": [
    "import numpy as np\n",
    "import sklearn.utils as skutils\n",
    "from sklearn.utils.extmath import svd_flip\n",
    "from scipy.sparse import csc_matrix, csr_matrix\n",
    "from scipy.sparse.linalg import LinearOperator, svds\n"
   ]
  },
  {
   "cell_type": "code",
   "execution_count": null,
   "metadata": {},
   "outputs": [],
   "source": [
    "adata = sc.read_10x_mtx(\n",
    "    'data/hg19/',  # the directory with the `.mtx` file\n",
    "    var_names='gene_symbols',                # use gene symbols for the variable names (variables-axis index)\n",
    "    cache=True)"
   ]
  },
  {
   "cell_type": "markdown",
   "metadata": {},
   "source": [
    "### How to perform PCA on sparse matrix"
   ]
  },
  {
   "cell_type": "markdown",
   "metadata": {},
   "source": [
    "#### When zero_center is True"
   ]
  },
  {
   "cell_type": "raw",
   "metadata": {},
   "source": [
    "only 'lobpcg' and 'arpack' is allowed for svd_solver"
   ]
  },
  {
   "cell_type": "code",
   "execution_count": 3,
   "metadata": {},
   "outputs": [],
   "source": [
    "def _pca_with_sparse(X, comp_num, solver='arpark', mu=None, random_state=None):\n",
    "    random_state = skutils.check_random_state(random_state)"
   ]
  },
  {
   "cell_type": "code",
   "execution_count": 12,
   "metadata": {},
   "outputs": [
    {
     "name": "stdout",
     "output_type": "stream",
     "text": [
      "Help on function check_random_state in module sklearn.utils.validation:\n",
      "\n",
      "check_random_state(seed)\n",
      "    Turn seed into a np.random.RandomState instance\n",
      "    \n",
      "    Parameters\n",
      "    ----------\n",
      "    seed : None | int | instance of RandomState\n",
      "        If seed is None, return the RandomState singleton used by np.random.\n",
      "        If seed is an int, return a new RandomState instance seeded with seed.\n",
      "        If seed is already a RandomState instance, return it.\n",
      "        Otherwise raise ValueError.\n",
      "\n"
     ]
    }
   ],
   "source": [
    "help(skutils.check_random_state)"
   ]
  },
  {
   "cell_type": "code",
   "execution_count": 29,
   "metadata": {},
   "outputs": [],
   "source": [
    "row  = np.array([0, 3, 1, 0, 2])\n",
    "col  = np.array([0, 3, 1, 2, 5])\n",
    "data = np.array([4, 5, 7, 9, 2])\n",
    "X = csc_matrix((data, (row, col)), shape=(4, 6))"
   ]
  },
  {
   "cell_type": "code",
   "execution_count": 27,
   "metadata": {},
   "outputs": [],
   "source": [
    "random_state = 1\n",
    "random_state = skutils.check_random_state(random_state)\n",
    "np.random.set_state(random_state.get_state())\n",
    "random_init = np.random.rand(np.min(X.shape))\n",
    "X = check_array(X, accept_sparse=['csr', 'csc'])"
   ]
  },
  {
   "cell_type": "code",
   "execution_count": 42,
   "metadata": {},
   "outputs": [
    {
     "data": {
      "text/plain": [
       "matrix([[1.  , 1.75, 2.25, 1.25, 0.  , 0.5 ]])"
      ]
     },
     "execution_count": 42,
     "metadata": {},
     "output_type": "execute_result"
    }
   ],
   "source": [
    "X.mean(axis=0)"
   ]
  },
  {
   "cell_type": "code",
   "execution_count": 43,
   "metadata": {},
   "outputs": [
    {
     "data": {
      "text/plain": [
       "array([[1.  , 1.75, 2.25, 1.25, 0.  , 0.5 ]])"
      ]
     },
     "execution_count": 43,
     "metadata": {},
     "output_type": "execute_result"
    }
   ],
   "source": [
    "X.mean(axis=0).A"
   ]
  },
  {
   "cell_type": "code",
   "execution_count": 44,
   "metadata": {},
   "outputs": [
    {
     "data": {
      "text/plain": [
       "array([1.  , 1.75, 2.25, 1.25, 0.  , 0.5 ])"
      ]
     },
     "execution_count": 44,
     "metadata": {},
     "output_type": "execute_result"
    }
   ],
   "source": [
    "X.mean(axis=0).A.flatten()"
   ]
  },
  {
   "cell_type": "code",
   "execution_count": 45,
   "metadata": {},
   "outputs": [
    {
     "data": {
      "text/plain": [
       "array([[1.  , 1.75, 2.25, 1.25, 0.  , 0.5 ]])"
      ]
     },
     "execution_count": 45,
     "metadata": {},
     "output_type": "execute_result"
    }
   ],
   "source": [
    "X.mean(axis=0).A.flatten()[None, :]"
   ]
  },
  {
   "cell_type": "code",
   "execution_count": 46,
   "metadata": {},
   "outputs": [],
   "source": [
    "mu = X.mean(axis=0).A.flatten()[None, :]"
   ]
  },
  {
   "cell_type": "code",
   "execution_count": 47,
   "metadata": {},
   "outputs": [],
   "source": [
    "mdot = mmat = mu.dot\n",
    "mhdot = mhmat = mu.T.dot\n",
    "Xdot = Xmat = X.dot\n",
    "XHdot = XHdot = X.T.conj().dot\n",
    "ones = np.ones(X.shape[0])[None, :].dot"
   ]
  },
  {
   "cell_type": "code",
   "execution_count": 57,
   "metadata": {},
   "outputs": [],
   "source": [
    "matvec = lambda x: X @ x.T - mu @ X.T\n",
    "matmat = lambda x: X @ x.T - mu @ X.T\n",
    "rmatvec = lambda x: X.T.conj() @ x.T - mu.T @ (np.ones(X.shape[0])[None, :] @ x.T).T\n",
    "rmatmat = lambda x: X.T.conj() @ x.T - mu.T @ (np.ones(X.shape[0])[None, :] @ x.T).T"
   ]
  },
  {
   "cell_type": "code",
   "execution_count": 58,
   "metadata": {},
   "outputs": [],
   "source": [
    "XL = LinearOperator(\n",
    "        matvec=matvec,\n",
    "        dtype=X.dtype,\n",
    "        matmat=matmat,\n",
    "        shape=X.shape,\n",
    "        rmatvec=rmatvec,\n",
    "        rmatmat=rmatmat,\n",
    "    )"
   ]
  },
  {
   "cell_type": "code",
   "execution_count": 62,
   "metadata": {},
   "outputs": [
    {
     "name": "stdout",
     "output_type": "stream",
     "text": [
      "Help on class LinearOperator in module scipy.sparse.linalg.interface:\n",
      "\n",
      "class LinearOperator(builtins.object)\n",
      " |  LinearOperator(*args, **kwargs)\n",
      " |  \n",
      " |  Common interface for performing matrix vector products\n",
      " |  \n",
      " |  Many iterative methods (e.g. cg, gmres) do not need to know the\n",
      " |  individual entries of a matrix to solve a linear system A*x=b.\n",
      " |  Such solvers only require the computation of matrix vector\n",
      " |  products, A*v where v is a dense vector.  This class serves as\n",
      " |  an abstract interface between iterative solvers and matrix-like\n",
      " |  objects.\n",
      " |  \n",
      " |  To construct a concrete LinearOperator, either pass appropriate\n",
      " |  callables to the constructor of this class, or subclass it.\n",
      " |  \n",
      " |  A subclass must implement either one of the methods ``_matvec``\n",
      " |  and ``_matmat``, and the attributes/properties ``shape`` (pair of\n",
      " |  integers) and ``dtype`` (may be None). It may call the ``__init__``\n",
      " |  on this class to have these attributes validated. Implementing\n",
      " |  ``_matvec`` automatically implements ``_matmat`` (using a naive\n",
      " |  algorithm) and vice-versa.\n",
      " |  \n",
      " |  Optionally, a subclass may implement ``_rmatvec`` or ``_adjoint``\n",
      " |  to implement the Hermitian adjoint (conjugate transpose). As with\n",
      " |  ``_matvec`` and ``_matmat``, implementing either ``_rmatvec`` or\n",
      " |  ``_adjoint`` implements the other automatically. Implementing\n",
      " |  ``_adjoint`` is preferable; ``_rmatvec`` is mostly there for\n",
      " |  backwards compatibility.\n",
      " |  \n",
      " |  Parameters\n",
      " |  ----------\n",
      " |  shape : tuple\n",
      " |      Matrix dimensions (M, N).\n",
      " |  matvec : callable f(v)\n",
      " |      Returns returns A * v.\n",
      " |  rmatvec : callable f(v)\n",
      " |      Returns A^H * v, where A^H is the conjugate transpose of A.\n",
      " |  matmat : callable f(V)\n",
      " |      Returns A * V, where V is a dense matrix with dimensions (N, K).\n",
      " |  dtype : dtype\n",
      " |      Data type of the matrix.\n",
      " |  rmatmat : callable f(V)\n",
      " |      Returns A^H * V, where V is a dense matrix with dimensions (M, K).\n",
      " |  \n",
      " |  Attributes\n",
      " |  ----------\n",
      " |  args : tuple\n",
      " |      For linear operators describing products etc. of other linear\n",
      " |      operators, the operands of the binary operation.\n",
      " |  ndim : int\n",
      " |      Number of dimensions (this is always 2)\n",
      " |  \n",
      " |  See Also\n",
      " |  --------\n",
      " |  aslinearoperator : Construct LinearOperators\n",
      " |  \n",
      " |  Notes\n",
      " |  -----\n",
      " |  The user-defined matvec() function must properly handle the case\n",
      " |  where v has shape (N,) as well as the (N,1) case.  The shape of\n",
      " |  the return type is handled internally by LinearOperator.\n",
      " |  \n",
      " |  LinearOperator instances can also be multiplied, added with each\n",
      " |  other and exponentiated, all lazily: the result of these operations\n",
      " |  is always a new, composite LinearOperator, that defers linear\n",
      " |  operations to the original operators and combines the results.\n",
      " |  \n",
      " |  More details regarding how to subclass a LinearOperator and several\n",
      " |  examples of concrete LinearOperator instances can be found in the\n",
      " |  external project `PyLops <https://pylops.readthedocs.io>`_.\n",
      " |  \n",
      " |  \n",
      " |  Examples\n",
      " |  --------\n",
      " |  >>> import numpy as np\n",
      " |  >>> from scipy.sparse.linalg import LinearOperator\n",
      " |  >>> def mv(v):\n",
      " |  ...     return np.array([2*v[0], 3*v[1]])\n",
      " |  ...\n",
      " |  >>> A = LinearOperator((2,2), matvec=mv)\n",
      " |  >>> A\n",
      " |  <2x2 _CustomLinearOperator with dtype=float64>\n",
      " |  >>> A.matvec(np.ones(2))\n",
      " |  array([ 2.,  3.])\n",
      " |  >>> A * np.ones(2)\n",
      " |  array([ 2.,  3.])\n",
      " |  \n",
      " |  Methods defined here:\n",
      " |  \n",
      " |  __add__(self, x)\n",
      " |  \n",
      " |  __call__(self, x)\n",
      " |      Call self as a function.\n",
      " |  \n",
      " |  __init__(self, dtype, shape)\n",
      " |      Initialize this LinearOperator.\n",
      " |      \n",
      " |      To be called by subclasses. ``dtype`` may be None; ``shape`` should\n",
      " |      be convertible to a length-2 tuple.\n",
      " |  \n",
      " |  __matmul__(self, other)\n",
      " |  \n",
      " |  __mul__(self, x)\n",
      " |  \n",
      " |  __neg__(self)\n",
      " |  \n",
      " |  __pow__(self, p)\n",
      " |  \n",
      " |  __repr__(self)\n",
      " |      Return repr(self).\n",
      " |  \n",
      " |  __rmatmul__(self, other)\n",
      " |  \n",
      " |  __rmul__(self, x)\n",
      " |  \n",
      " |  __sub__(self, x)\n",
      " |  \n",
      " |  adjoint(self)\n",
      " |      Hermitian adjoint.\n",
      " |      \n",
      " |      Returns the Hermitian adjoint of self, aka the Hermitian\n",
      " |      conjugate or Hermitian transpose. For a complex matrix, the\n",
      " |      Hermitian adjoint is equal to the conjugate transpose.\n",
      " |      \n",
      " |      Can be abbreviated self.H instead of self.adjoint().\n",
      " |      \n",
      " |      Returns\n",
      " |      -------\n",
      " |      A_H : LinearOperator\n",
      " |          Hermitian adjoint of self.\n",
      " |  \n",
      " |  dot(self, x)\n",
      " |      Matrix-matrix or matrix-vector multiplication.\n",
      " |      \n",
      " |      Parameters\n",
      " |      ----------\n",
      " |      x : array_like\n",
      " |          1-d or 2-d array, representing a vector or matrix.\n",
      " |      \n",
      " |      Returns\n",
      " |      -------\n",
      " |      Ax : array\n",
      " |          1-d or 2-d array (depending on the shape of x) that represents\n",
      " |          the result of applying this linear operator on x.\n",
      " |  \n",
      " |  matmat(self, X)\n",
      " |      Matrix-matrix multiplication.\n",
      " |      \n",
      " |      Performs the operation y=A*X where A is an MxN linear\n",
      " |      operator and X dense N*K matrix or ndarray.\n",
      " |      \n",
      " |      Parameters\n",
      " |      ----------\n",
      " |      X : {matrix, ndarray}\n",
      " |          An array with shape (N,K).\n",
      " |      \n",
      " |      Returns\n",
      " |      -------\n",
      " |      Y : {matrix, ndarray}\n",
      " |          A matrix or ndarray with shape (M,K) depending on\n",
      " |          the type of the X argument.\n",
      " |      \n",
      " |      Notes\n",
      " |      -----\n",
      " |      This matmat wraps any user-specified matmat routine or overridden\n",
      " |      _matmat method to ensure that y has the correct type.\n",
      " |  \n",
      " |  matvec(self, x)\n",
      " |      Matrix-vector multiplication.\n",
      " |      \n",
      " |      Performs the operation y=A*x where A is an MxN linear\n",
      " |      operator and x is a column vector or 1-d array.\n",
      " |      \n",
      " |      Parameters\n",
      " |      ----------\n",
      " |      x : {matrix, ndarray}\n",
      " |          An array with shape (N,) or (N,1).\n",
      " |      \n",
      " |      Returns\n",
      " |      -------\n",
      " |      y : {matrix, ndarray}\n",
      " |          A matrix or ndarray with shape (M,) or (M,1) depending\n",
      " |          on the type and shape of the x argument.\n",
      " |      \n",
      " |      Notes\n",
      " |      -----\n",
      " |      This matvec wraps the user-specified matvec routine or overridden\n",
      " |      _matvec method to ensure that y has the correct shape and type.\n",
      " |  \n",
      " |  rmatmat(self, X)\n",
      " |      Adjoint matrix-matrix multiplication.\n",
      " |      \n",
      " |      Performs the operation y = A^H * x where A is an MxN linear\n",
      " |      operator and x is a column vector or 1-d array, or 2-d array.\n",
      " |      The default implementation defers to the adjoint.\n",
      " |      \n",
      " |      Parameters\n",
      " |      ----------\n",
      " |      X : {matrix, ndarray}\n",
      " |          A matrix or 2D array.\n",
      " |      \n",
      " |      Returns\n",
      " |      -------\n",
      " |      Y : {matrix, ndarray}\n",
      " |          A matrix or 2D array depending on the type of the input.\n",
      " |      \n",
      " |      Notes\n",
      " |      -----\n",
      " |      This rmatmat wraps the user-specified rmatmat routine.\n",
      " |  \n",
      " |  rmatvec(self, x)\n",
      " |      Adjoint matrix-vector multiplication.\n",
      " |      \n",
      " |      Performs the operation y = A^H * x where A is an MxN linear\n",
      " |      operator and x is a column vector or 1-d array.\n",
      " |      \n",
      " |      Parameters\n",
      " |      ----------\n",
      " |      x : {matrix, ndarray}\n",
      " |          An array with shape (M,) or (M,1).\n",
      " |      \n",
      " |      Returns\n",
      " |      -------\n",
      " |      y : {matrix, ndarray}\n",
      " |          A matrix or ndarray with shape (N,) or (N,1) depending\n",
      " |          on the type and shape of the x argument.\n",
      " |      \n",
      " |      Notes\n",
      " |      -----\n",
      " |      This rmatvec wraps the user-specified rmatvec routine or overridden\n",
      " |      _rmatvec method to ensure that y has the correct shape and type.\n",
      " |  \n",
      " |  transpose(self)\n",
      " |      Transpose this linear operator.\n",
      " |      \n",
      " |      Returns a LinearOperator that represents the transpose of this one.\n",
      " |      Can be abbreviated self.T instead of self.transpose().\n",
      " |  \n",
      " |  ----------------------------------------------------------------------\n",
      " |  Static methods defined here:\n",
      " |  \n",
      " |  __new__(cls, *args, **kwargs)\n",
      " |      Create and return a new object.  See help(type) for accurate signature.\n",
      " |  \n",
      " |  ----------------------------------------------------------------------\n",
      " |  Readonly properties defined here:\n",
      " |  \n",
      " |  H\n",
      " |      Hermitian adjoint.\n",
      " |      \n",
      " |      Returns the Hermitian adjoint of self, aka the Hermitian\n",
      " |      conjugate or Hermitian transpose. For a complex matrix, the\n",
      " |      Hermitian adjoint is equal to the conjugate transpose.\n",
      " |      \n",
      " |      Can be abbreviated self.H instead of self.adjoint().\n",
      " |      \n",
      " |      Returns\n",
      " |      -------\n",
      " |      A_H : LinearOperator\n",
      " |          Hermitian adjoint of self.\n",
      " |  \n",
      " |  T\n",
      " |      Transpose this linear operator.\n",
      " |      \n",
      " |      Returns a LinearOperator that represents the transpose of this one.\n",
      " |      Can be abbreviated self.T instead of self.transpose().\n",
      " |  \n",
      " |  ----------------------------------------------------------------------\n",
      " |  Data descriptors defined here:\n",
      " |  \n",
      " |  __dict__\n",
      " |      dictionary for instance variables (if defined)\n",
      " |  \n",
      " |  __weakref__\n",
      " |      list of weak references to the object (if defined)\n",
      " |  \n",
      " |  ----------------------------------------------------------------------\n",
      " |  Data and other attributes defined here:\n",
      " |  \n",
      " |  ndim = 2\n",
      "\n"
     ]
    }
   ],
   "source": [
    "help(LinearOperator)"
   ]
  },
  {
   "cell_type": "code",
   "execution_count": 61,
   "metadata": {},
   "outputs": [
    {
     "name": "stdout",
     "output_type": "stream",
     "text": [
      "Help on function svd_flip in module sklearn.utils.extmath:\n",
      "\n",
      "svd_flip(u, v, u_based_decision=True)\n",
      "    Sign correction to ensure deterministic output from SVD.\n",
      "    \n",
      "    Adjusts the columns of u and the rows of v such that the loadings in the\n",
      "    columns in u that are largest in absolute value are always positive.\n",
      "    \n",
      "    Parameters\n",
      "    ----------\n",
      "    u : ndarray\n",
      "        u and v are the output of `linalg.svd` or\n",
      "        :func:`~sklearn.utils.extmath.randomized_svd`, with matching inner\n",
      "        dimensions so one can compute `np.dot(u * s, v)`.\n",
      "    \n",
      "    v : ndarray\n",
      "        u and v are the output of `linalg.svd` or\n",
      "        :func:`~sklearn.utils.extmath.randomized_svd`, with matching inner\n",
      "        dimensions so one can compute `np.dot(u * s, v)`.\n",
      "    \n",
      "    u_based_decision : boolean, (default=True)\n",
      "        If True, use the columns of u as the basis for sign flipping.\n",
      "        Otherwise, use the rows of v. The choice of which variable to base the\n",
      "        decision on is generally algorithm dependent.\n",
      "    \n",
      "    \n",
      "    Returns\n",
      "    -------\n",
      "    u_adjusted, v_adjusted : arrays with the same dimensions as the input.\n",
      "\n"
     ]
    }
   ],
   "source": [
    "help(svd_flip)"
   ]
  },
  {
   "cell_type": "code",
   "execution_count": 52,
   "metadata": {},
   "outputs": [
    {
     "ename": "ValueError",
     "evalue": "shapes (2,5) and (2,) not aligned: 5 (dim 1) != 2 (dim 0)",
     "output_type": "error",
     "traceback": [
      "\u001b[0;31m---------------------------------------------------------------------------\u001b[0m",
      "\u001b[0;31mValueError\u001b[0m                                Traceback (most recent call last)",
      "\u001b[0;32m<ipython-input-52-4fafd30ea6ae>\u001b[0m in \u001b[0;36m<module>\u001b[0;34m\u001b[0m\n\u001b[0;32m----> 1\u001b[0;31m \u001b[0mnp\u001b[0m\u001b[0;34m.\u001b[0m\u001b[0marange\u001b[0m\u001b[0;34m(\u001b[0m\u001b[0;36m10\u001b[0m\u001b[0;34m)\u001b[0m\u001b[0;34m.\u001b[0m\u001b[0mreshape\u001b[0m\u001b[0;34m(\u001b[0m\u001b[0;36m2\u001b[0m\u001b[0;34m,\u001b[0m\u001b[0;36m5\u001b[0m\u001b[0;34m)\u001b[0m\u001b[0;34m.\u001b[0m\u001b[0mdot\u001b[0m\u001b[0;34m(\u001b[0m\u001b[0;34m(\u001b[0m\u001b[0mnp\u001b[0m\u001b[0;34m.\u001b[0m\u001b[0marange\u001b[0m\u001b[0;34m(\u001b[0m\u001b[0;36m2\u001b[0m\u001b[0;34m)\u001b[0m \u001b[0;34m-\u001b[0m \u001b[0;36m2\u001b[0m\u001b[0;34m)\u001b[0m\u001b[0;34m)\u001b[0m\u001b[0;34m\u001b[0m\u001b[0;34m\u001b[0m\u001b[0m\n\u001b[0m",
      "\u001b[0;31mValueError\u001b[0m: shapes (2,5) and (2,) not aligned: 5 (dim 1) != 2 (dim 0)"
     ]
    }
   ],
   "source": [
    "np.arange(10).reshape(2,5).dot((np.arange(2) - 2))"
   ]
  },
  {
   "cell_type": "code",
   "execution_count": 55,
   "metadata": {},
   "outputs": [
    {
     "data": {
      "text/plain": [
       "<4x6 sparse matrix of type '<class 'numpy.int64'>'\n",
       "\twith 5 stored elements in Compressed Sparse Column format>"
      ]
     },
     "execution_count": 55,
     "metadata": {},
     "output_type": "execute_result"
    }
   ],
   "source": [
    "X"
   ]
  },
  {
   "cell_type": "code",
   "execution_count": 56,
   "metadata": {},
   "outputs": [
    {
     "data": {
      "text/plain": [
       "<6x4 sparse matrix of type '<class 'numpy.int64'>'\n",
       "\twith 5 stored elements in Compressed Sparse Row format>"
      ]
     },
     "execution_count": 56,
     "metadata": {},
     "output_type": "execute_result"
    }
   ],
   "source": [
    "X.T"
   ]
  },
  {
   "cell_type": "code",
   "execution_count": null,
   "metadata": {},
   "outputs": [],
   "source": []
  }
 ],
 "metadata": {
  "kernelspec": {
   "display_name": "Python 3",
   "language": "python",
   "name": "python3"
  },
  "language_info": {
   "codemirror_mode": {
    "name": "ipython",
    "version": 3
   },
   "file_extension": ".py",
   "mimetype": "text/x-python",
   "name": "python",
   "nbconvert_exporter": "python",
   "pygments_lexer": "ipython3",
   "version": "3.8.6"
  }
 },
 "nbformat": 4,
 "nbformat_minor": 4
}
