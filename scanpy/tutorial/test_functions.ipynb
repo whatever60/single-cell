{
 "cells": [
  {
   "cell_type": "code",
   "execution_count": 96,
   "metadata": {},
   "outputs": [],
   "source": [
    "import numpy as np\n",
    "from scipy import sparse\n",
    "import numba\n",
    "import pandas as pd\n",
    "import scanpy as sc\n",
    "\n",
    "# install dask if available\n",
    "try:\n",
    "    import dask.array as da\n",
    "except ImportError:\n",
    "    da = None"
   ]
  },
  {
   "cell_type": "code",
   "execution_count": 98,
   "metadata": {},
   "outputs": [
    {
     "name": "stdout",
     "output_type": "stream",
     "text": [
      "Help on package scanpy.preprocessing in scanpy:\n",
      "\n",
      "NAME\n",
      "    scanpy.preprocessing\n",
      "\n",
      "PACKAGE CONTENTS\n",
      "    _combat\n",
      "    _deprecated (package)\n",
      "    _distributed\n",
      "    _docs\n",
      "    _highly_variable_genes\n",
      "    _normalization\n",
      "    _pca\n",
      "    _qc\n",
      "    _recipes\n",
      "    _simple\n",
      "    _utils\n",
      "\n",
      "FILE\n",
      "    /opt/conda/lib/python3.8/site-packages/scanpy/preprocessing/__init__.py\n",
      "\n",
      "\n"
     ]
    }
   ],
   "source": [
    "help(sc.pp)"
   ]
  },
  {
   "cell_type": "code",
   "execution_count": 4,
   "metadata": {},
   "outputs": [],
   "source": [
    "def toarray(matrix1d):\n",
    "    return np.array(matrix1d).flatten()\n",
    "\n",
    "setattr(np.matrix, 'toarray', toarray)"
   ]
  },
  {
   "cell_type": "code",
   "execution_count": 2,
   "metadata": {},
   "outputs": [],
   "source": [
    "indptr = np.array([0, 2, 3, 6])\n",
    "indices = np.array([0, 2, 2, 0, 1, 2])\n",
    "data = np.array([1, 2, 3, 4, 5, 6])\n",
    "b = sparse.csr_matrix((data, indices, indptr), shape=(3, 3))"
   ]
  },
  {
   "cell_type": "code",
   "execution_count": 8,
   "metadata": {},
   "outputs": [],
   "source": [
    "df = pd.DataFrame.sparse.from_spmatrix(b)"
   ]
  },
  {
   "cell_type": "code",
   "execution_count": 35,
   "metadata": {},
   "outputs": [],
   "source": [
    "a = [1,2,3]\n",
    "df[['haa', 'ad', 'ao']] = a,a,a\n",
    "df['haa', 'ad', 'ao'] = a,a,a"
   ]
  },
  {
   "cell_type": "code",
   "execution_count": 91,
   "metadata": {},
   "outputs": [],
   "source": [
    "def haha(df):\n",
    "    df['haha'] = ['haha'] * df.shape[0]\n",
    "    \n",
    "haha(df)"
   ]
  },
  {
   "cell_type": "code",
   "execution_count": 56,
   "metadata": {},
   "outputs": [
    {
     "data": {
      "text/html": [
       "<div>\n",
       "<style scoped>\n",
       "    .dataframe tbody tr th:only-of-type {\n",
       "        vertical-align: middle;\n",
       "    }\n",
       "\n",
       "    .dataframe tbody tr th {\n",
       "        vertical-align: top;\n",
       "    }\n",
       "\n",
       "    .dataframe thead th {\n",
       "        text-align: right;\n",
       "    }\n",
       "</style>\n",
       "<table border=\"1\" class=\"dataframe\">\n",
       "  <thead>\n",
       "    <tr style=\"text-align: right;\">\n",
       "      <th></th>\n",
       "      <th>0</th>\n",
       "      <th>1</th>\n",
       "      <th>2</th>\n",
       "      <th>haa</th>\n",
       "      <th>ad</th>\n",
       "      <th>ao</th>\n",
       "      <th>(haa, ad, ao)</th>\n",
       "    </tr>\n",
       "  </thead>\n",
       "  <tbody>\n",
       "    <tr>\n",
       "      <th>0</th>\n",
       "      <td>1</td>\n",
       "      <td>0</td>\n",
       "      <td>2</td>\n",
       "      <td>1</td>\n",
       "      <td>2</td>\n",
       "      <td>3</td>\n",
       "      <td>(1, 2, 3)</td>\n",
       "    </tr>\n",
       "    <tr>\n",
       "      <th>1</th>\n",
       "      <td>0</td>\n",
       "      <td>0</td>\n",
       "      <td>3</td>\n",
       "      <td>1</td>\n",
       "      <td>2</td>\n",
       "      <td>3</td>\n",
       "      <td>(1, 2, 3)</td>\n",
       "    </tr>\n",
       "  </tbody>\n",
       "</table>\n",
       "</div>"
      ],
      "text/plain": [
       "   0  1  2  haa  ad  ao (haa, ad, ao)\n",
       "0  1  0  2    1   2   3     (1, 2, 3)\n",
       "1  0  0  3    1   2   3     (1, 2, 3)"
      ]
     },
     "execution_count": 56,
     "metadata": {},
     "output_type": "execute_result"
    }
   ],
   "source": [
    "df[[True, True, False]]"
   ]
  },
  {
   "cell_type": "code",
   "execution_count": 54,
   "metadata": {},
   "outputs": [
    {
     "data": {
      "text/html": [
       "<div>\n",
       "<style scoped>\n",
       "    .dataframe tbody tr th:only-of-type {\n",
       "        vertical-align: middle;\n",
       "    }\n",
       "\n",
       "    .dataframe tbody tr th {\n",
       "        vertical-align: top;\n",
       "    }\n",
       "\n",
       "    .dataframe thead th {\n",
       "        text-align: right;\n",
       "    }\n",
       "</style>\n",
       "<table border=\"1\" class=\"dataframe\">\n",
       "  <thead>\n",
       "    <tr style=\"text-align: right;\">\n",
       "      <th></th>\n",
       "      <th>0</th>\n",
       "      <th>1</th>\n",
       "      <th>2</th>\n",
       "      <th>haa</th>\n",
       "      <th>ad</th>\n",
       "      <th>ao</th>\n",
       "      <th>(haa, ad, ao)</th>\n",
       "    </tr>\n",
       "  </thead>\n",
       "  <tbody>\n",
       "    <tr>\n",
       "      <th>0</th>\n",
       "      <td>1</td>\n",
       "      <td>0</td>\n",
       "      <td>2</td>\n",
       "      <td>1</td>\n",
       "      <td>2</td>\n",
       "      <td>3</td>\n",
       "      <td>(1, 2, 3)</td>\n",
       "    </tr>\n",
       "    <tr>\n",
       "      <th>1</th>\n",
       "      <td>0</td>\n",
       "      <td>0</td>\n",
       "      <td>3</td>\n",
       "      <td>1</td>\n",
       "      <td>2</td>\n",
       "      <td>3</td>\n",
       "      <td>(1, 2, 3)</td>\n",
       "    </tr>\n",
       "    <tr>\n",
       "      <th>2</th>\n",
       "      <td>4</td>\n",
       "      <td>5</td>\n",
       "      <td>6</td>\n",
       "      <td>1</td>\n",
       "      <td>2</td>\n",
       "      <td>3</td>\n",
       "      <td>(1, 2, 3)</td>\n",
       "    </tr>\n",
       "  </tbody>\n",
       "</table>\n",
       "</div>"
      ],
      "text/plain": [
       "   0  1  2  haa  ad  ao (haa, ad, ao)\n",
       "0  1  0  2    1   2   3     (1, 2, 3)\n",
       "1  0  0  3    1   2   3     (1, 2, 3)\n",
       "2  4  5  6    1   2   3     (1, 2, 3)"
      ]
     },
     "execution_count": 54,
     "metadata": {},
     "output_type": "execute_result"
    }
   ],
   "source": [
    "df"
   ]
  },
  {
   "cell_type": "code",
   "execution_count": 95,
   "metadata": {},
   "outputs": [
    {
     "ename": "AttributeError",
     "evalue": "'numpy.float64' object has no attribute 'isnull'",
     "output_type": "error",
     "traceback": [
      "\u001b[0;31m---------------------------------------------------------------------------\u001b[0m",
      "\u001b[0;31mAttributeError\u001b[0m                            Traceback (most recent call last)",
      "\u001b[0;32m<ipython-input-95-3682e15b6bba>\u001b[0m in \u001b[0;36m<module>\u001b[0;34m\u001b[0m\n\u001b[1;32m      1\u001b[0m \u001b[0ma\u001b[0m \u001b[0;34m=\u001b[0m \u001b[0mnp\u001b[0m\u001b[0;34m.\u001b[0m\u001b[0mzeros\u001b[0m\u001b[0;34m(\u001b[0m\u001b[0;36m2\u001b[0m\u001b[0;34m)\u001b[0m\u001b[0;34m\u001b[0m\u001b[0;34m\u001b[0m\u001b[0m\n\u001b[0;32m----> 2\u001b[0;31m \u001b[0ma\u001b[0m\u001b[0;34m.\u001b[0m\u001b[0mstd\u001b[0m\u001b[0;34m(\u001b[0m\u001b[0mddof\u001b[0m\u001b[0;34m=\u001b[0m\u001b[0;36m1\u001b[0m\u001b[0;34m)\u001b[0m\u001b[0;34m.\u001b[0m\u001b[0misnull\u001b[0m\u001b[0;34m(\u001b[0m\u001b[0;34m)\u001b[0m\u001b[0;34m\u001b[0m\u001b[0;34m\u001b[0m\u001b[0m\n\u001b[0m",
      "\u001b[0;31mAttributeError\u001b[0m: 'numpy.float64' object has no attribute 'isnull'"
     ]
    }
   ],
   "source": [
    "a = np.zeros(2)\n",
    "a.std(ddof=1).isnull()"
   ]
  },
  {
   "cell_type": "code",
   "execution_count": 47,
   "metadata": {},
   "outputs": [
    {
     "data": {
      "text/plain": [
       "array([ True,  True,  True,  True,  True,  True,  True,  True,  True,\n",
       "        True])"
      ]
     },
     "execution_count": 47,
     "metadata": {},
     "output_type": "execute_result"
    }
   ],
   "source": [
    "np.ones(10, dtype=bool)"
   ]
  },
  {
   "cell_type": "code",
   "execution_count": 21,
   "metadata": {},
   "outputs": [
    {
     "data": {
      "text/plain": [
       "matrix([[1, 0, 2],\n",
       "        [0, 0, 3],\n",
       "        [4, 5, 6]])"
      ]
     },
     "execution_count": 21,
     "metadata": {},
     "output_type": "execute_result"
    }
   ],
   "source": [
    "b.todense()"
   ]
  },
  {
   "cell_type": "code",
   "execution_count": 49,
   "metadata": {},
   "outputs": [
    {
     "data": {
      "text/plain": [
       "matrix([[0, 6]])"
      ]
     },
     "execution_count": 49,
     "metadata": {},
     "output_type": "execute_result"
    }
   ],
   "source": [
    "b[[0,2], [1,2]]"
   ]
  },
  {
   "cell_type": "code",
   "execution_count": 88,
   "metadata": {},
   "outputs": [
    {
     "data": {
      "text/html": [
       "<div>\n",
       "<style scoped>\n",
       "    .dataframe tbody tr th:only-of-type {\n",
       "        vertical-align: middle;\n",
       "    }\n",
       "\n",
       "    .dataframe tbody tr th {\n",
       "        vertical-align: top;\n",
       "    }\n",
       "\n",
       "    .dataframe thead th {\n",
       "        text-align: right;\n",
       "    }\n",
       "</style>\n",
       "<table border=\"1\" class=\"dataframe\">\n",
       "  <thead>\n",
       "    <tr style=\"text-align: right;\">\n",
       "      <th></th>\n",
       "    </tr>\n",
       "    <tr>\n",
       "      <th>1</th>\n",
       "    </tr>\n",
       "  </thead>\n",
       "  <tbody>\n",
       "    <tr>\n",
       "      <th>MIR1302-10</th>\n",
       "    </tr>\n",
       "    <tr>\n",
       "      <th>FAM138A</th>\n",
       "    </tr>\n",
       "    <tr>\n",
       "      <th>OR4F5</th>\n",
       "    </tr>\n",
       "    <tr>\n",
       "      <th>RP11-34P13.7</th>\n",
       "    </tr>\n",
       "    <tr>\n",
       "      <th>RP11-34P13.8</th>\n",
       "    </tr>\n",
       "    <tr>\n",
       "      <th>...</th>\n",
       "    </tr>\n",
       "    <tr>\n",
       "      <th>AC145205.1</th>\n",
       "    </tr>\n",
       "    <tr>\n",
       "      <th>BAGE5</th>\n",
       "    </tr>\n",
       "    <tr>\n",
       "      <th>CU459201.1</th>\n",
       "    </tr>\n",
       "    <tr>\n",
       "      <th>AC002321.2</th>\n",
       "    </tr>\n",
       "    <tr>\n",
       "      <th>AC002321.1</th>\n",
       "    </tr>\n",
       "  </tbody>\n",
       "</table>\n",
       "<p>32738 rows × 0 columns</p>\n",
       "</div>"
      ],
      "text/plain": [
       "Empty DataFrame\n",
       "Columns: []\n",
       "Index: [MIR1302-10, FAM138A, OR4F5, RP11-34P13.7, RP11-34P13.8, AL627309.1, RP11-34P13.14, RP11-34P13.9, AP006222.2, RP4-669L17.10, OR4F29, RP4-669L17.2, RP5-857K21.15, RP5-857K21.1, RP5-857K21.2, RP5-857K21.3, RP5-857K21.4, RP5-857K21.5, OR4F16, RP11-206L10.3, RP11-206L10.5, RP11-206L10.4, RP11-206L10.2, RP11-206L10.9, AL669831.1, FAM87B, LINC00115, FAM41C, AL645608.2, RP11-54O7.16, RP11-54O7.1, RP11-54O7.2, RP11-54O7.3, SAMD11, AL645608.1, NOC2L, KLHL17, PLEKHN1, C1orf170, RP11-54O7.17, HES4, RP11-54O7.11, ISG15, AGRN, RP11-54O7.18, RNF223, C1orf159, RP11-465B22.5, RP11-465B22.8, TTLL10-AS1, TTLL10, TNFRSF18, TNFRSF4, SDF4, B3GALT6, FAM132A, RP5-902P8.12, UBE2J2, RP5-902P8.10, SCNN1D, ACAP3, PUSL1, CPSF3L, GLTPD1, TAS1R3, DVL1, MXRA8, AURKAIP1, CCNL2, RP4-758J18.2, MRPL20, RP4-758J18.13, ANKRD65, RP4-758J18.7, TMEM88B, RP4-758J18.10, VWA1, ATAD3C, ATAD3B, ATAD3A, TMEM240, SSU72, AL645728.1, C1orf233, RP11-345P4.9, MIB2, MMP23B, CDK11B, RP11-345P4.10, SLC35E2B, RP11-345P4.7, CDK11A, SLC35E2, NADK, GNB1, RP1-140A9.1, CALML6, TMEM52, C1orf222, RP11-547D24.1, ...]\n",
       "\n",
       "[32738 rows x 0 columns]"
      ]
     },
     "execution_count": 88,
     "metadata": {},
     "output_type": "execute_result"
    }
   ],
   "source": [
    "path = './data/hg19'\n",
    "pd.read_csv(f'{path}/genes.tsv', sep='\\t', header=None, usecols=[1]).set_index(1)"
   ]
  },
  {
   "cell_type": "code",
   "execution_count": 75,
   "metadata": {},
   "outputs": [],
   "source": [
    "row_names = np.array(['a', 'b', 'c'])"
   ]
  },
  {
   "cell_type": "code",
   "execution_count": 19,
   "metadata": {},
   "outputs": [
    {
     "data": {
      "text/plain": [
       "(array([0]),)"
      ]
     },
     "execution_count": 19,
     "metadata": {},
     "output_type": "execute_result"
    }
   ],
   "source": [
    "np.where(row_names == 'a')"
   ]
  },
  {
   "cell_type": "code",
   "execution_count": 15,
   "metadata": {},
   "outputs": [
    {
     "data": {
      "text/html": [
       "<div>\n",
       "<style scoped>\n",
       "    .dataframe tbody tr th:only-of-type {\n",
       "        vertical-align: middle;\n",
       "    }\n",
       "\n",
       "    .dataframe tbody tr th {\n",
       "        vertical-align: top;\n",
       "    }\n",
       "\n",
       "    .dataframe thead th {\n",
       "        text-align: right;\n",
       "    }\n",
       "</style>\n",
       "<table border=\"1\" class=\"dataframe\">\n",
       "  <thead>\n",
       "    <tr style=\"text-align: right;\">\n",
       "      <th></th>\n",
       "      <th>1</th>\n",
       "      <th>2</th>\n",
       "    </tr>\n",
       "  </thead>\n",
       "  <tbody>\n",
       "    <tr>\n",
       "      <th>0</th>\n",
       "      <td>0</td>\n",
       "      <td>2</td>\n",
       "    </tr>\n",
       "    <tr>\n",
       "      <th>1</th>\n",
       "      <td>0</td>\n",
       "      <td>3</td>\n",
       "    </tr>\n",
       "  </tbody>\n",
       "</table>\n",
       "</div>"
      ],
      "text/plain": [
       "   1  2\n",
       "0  0  2\n",
       "1  0  3"
      ]
     },
     "execution_count": 15,
     "metadata": {},
     "output_type": "execute_result"
    }
   ],
   "source": [
    "df.loc[[True, True, False],[False, True, True]]"
   ]
  },
  {
   "cell_type": "code",
   "execution_count": 6,
   "metadata": {},
   "outputs": [],
   "source": [
    "b_copy = b.copy()\n",
    "b_copy.data **= 2"
   ]
  },
  {
   "cell_type": "code",
   "execution_count": 63,
   "metadata": {},
   "outputs": [
    {
     "data": {
      "text/plain": [
       "<3x2 sparse matrix of type '<class 'numpy.int64'>'\n",
       "\twith 3 stored elements in Compressed Sparse Row format>"
      ]
     },
     "execution_count": 63,
     "metadata": {},
     "output_type": "execute_result"
    }
   ],
   "source": [
    "b[:, [True, True, False]]"
   ]
  },
  {
   "cell_type": "code",
   "execution_count": 60,
   "metadata": {},
   "outputs": [
    {
     "data": {
      "text/plain": [
       "<3x3 sparse matrix of type '<class 'numpy.int64'>'\n",
       "\twith 6 stored elements in Compressed Sparse Row format>"
      ]
     },
     "execution_count": 60,
     "metadata": {},
     "output_type": "execute_result"
    }
   ],
   "source": [
    "b"
   ]
  },
  {
   "cell_type": "code",
   "execution_count": 7,
   "metadata": {},
   "outputs": [
    {
     "data": {
      "text/plain": [
       "matrix([[ 32.11111111,  69.44444444, 266.77777778]])"
      ]
     },
     "execution_count": 7,
     "metadata": {},
     "output_type": "execute_result"
    }
   ],
   "source": [
    "np.square(b_copy.mean(0))"
   ]
  },
  {
   "cell_type": "code",
   "execution_count": 8,
   "metadata": {},
   "outputs": [
    {
     "data": {
      "text/plain": [
       "array([ 2.77777778,  2.77777778, 13.44444444])"
      ]
     },
     "execution_count": 8,
     "metadata": {},
     "output_type": "execute_result"
    }
   ],
   "source": [
    "np.array(b.mean(axis=0)).flatten() ** 2"
   ]
  },
  {
   "cell_type": "code",
   "execution_count": 48,
   "metadata": {},
   "outputs": [
    {
     "data": {
      "text/plain": [
       "False"
      ]
     },
     "execution_count": 48,
     "metadata": {},
     "output_type": "execute_result"
    }
   ],
   "source": [
    "np.nan > 0.01"
   ]
  },
  {
   "cell_type": "code",
   "execution_count": 9,
   "metadata": {},
   "outputs": [],
   "source": [
    "variance = b_copy.mean(axis=0).toarray() - b.mean(axis=0).toarray() ** 2"
   ]
  },
  {
   "cell_type": "code",
   "execution_count": 10,
   "metadata": {},
   "outputs": [],
   "source": [
    "def my_get_mean_var(X, axis=0):\n",
    "    if isinstance(X, sparse.spmatrix):  # same as sparse.issparse()\n",
    "        mean, var = my_sparse_mean_variance_axis(X, axis=axis)\n",
    "        var *= X.shape[axis] / (X.shape[axis] - 1)\n",
    "    else:\n",
    "        mean = np.mean(X, axis=axis)\n",
    "        mean_sq = np.var(X, axis=axis, ddof=1)  # a little overhead (mean counted twice, but it's ok.)\n",
    "    return mean, var\n",
    "'''\n",
    "In standard statistical practice, ddof=1 provides an unbiased estimator of the variance\n",
    "of a hypothetical infinite population. ddof=0 provides a maximum likelihood estimate of\n",
    "the variance for normally distributed variables.\n",
    "'''\n",
    "\n",
    "\n",
    "def my_sparse_mean_variance_axis(mtx: sparse.spmatrix, axis: int):\n",
    "    if isinstance(mtx, sparse.csr_matrix):\n",
    "        ax_minor = 1\n",
    "        shape = mtx.shape\n",
    "    elif isinstance(mtx, sparse.csc_matrix):\n",
    "        ax_minor = 0\n",
    "        shape = mtx.shape[::-1]\n",
    "    else:\n",
    "        raise ValueError('This function only works on sparse csr and csc matrices')\n",
    "    if axis == ax_minor:\n",
    "        print(1)\n",
    "        return my_sparse_mean_var_major_axis(\n",
    "            mtx.data, mtx.indices, mtx.indptr, *shape, np.float64\n",
    "        )\n",
    "    else:\n",
    "        print(0)\n",
    "        return my_sparse_mean_var_minor_axis(\n",
    "            mtx.data, mtx.indices, *shape, np.float64\n",
    "        )\n",
    "    \n",
    "\n",
    "def my_sparse_mean_var_major_axis(\n",
    "    data,\n",
    "    indices,\n",
    "    indptr,\n",
    "    major_len,\n",
    "    minor_len,\n",
    "    dtype\n",
    "):\n",
    "    means = np.zeros(major_len, dtype=dtype)\n",
    "    variances = np.zeros_like(means, dtype=dtype)  # why use zeros_like?\n",
    "    for ind, (startptr, endptr) in enumerate(zip(indptr[:-1], indptr[1:])):\n",
    "        counts = endptr - startptr\n",
    "        \n",
    "        mean = sum(data[startptr:endptr])\n",
    "        variance = sum((i-means[i]) ** 2 for i in data[startptr:endptr]) + mean ** 2 * (minor_len - counts)\n",
    "        means[ind] = mean / minor_len\n",
    "        variances[ind] = variance / minor_len\n",
    "        \n",
    "    return means, variances\n",
    "\n",
    "\n",
    "def my_sparse_mean_var_minor_axis(\n",
    "    data,\n",
    "    indices,\n",
    "    major_len,\n",
    "    minor_len,\n",
    "    dtype\n",
    "):\n",
    "    non_zero = indices.shape[0] # same as len(indices)?\n",
    "\n",
    "    means = np.zeros(minor_len, dtype=dtype)\n",
    "    variances = np.zeros_like(means, dtype=dtype)\n",
    "\n",
    "    counts = np.zeros(minor_len, dtype=np.int64)\n",
    "    \n",
    "    for ind, num in zip(indices, data):\n",
    "        means[ind] += num\n",
    "    \n",
    "    means /= major_len\n",
    "    \n",
    "    for ind, num in zip(indices, data):\n",
    "        variance[ind] += (num - means[ind]) ** 2\n",
    "        count[ind] += 1\n",
    "    print(variances)\n",
    "        \n",
    "    variances += [mean ** 2 * (major_len - count) for mean, count in zip(means, counts)]\n",
    "    variances /= major_len\n",
    "    \n",
    "    return means, variances"
   ]
  },
  {
   "cell_type": "code",
   "execution_count": 11,
   "metadata": {},
   "outputs": [],
   "source": [
    "def get_mean_var(X, *, axis=0):\n",
    "    if sparse.issparse(X):\n",
    "        mean, var = sparse_mean_variance_axis(X, axis=axis)\n",
    "    else:\n",
    "        mean = np.mean(X, axis=axis, dtype=np.float64)\n",
    "        mean_sq = np.multiply(X, X).mean(axis=axis, dtype=np.float64)\n",
    "        var = mean_sq - mean ** 2\n",
    "    # enforce R convention (unbiased estimator) for variance\n",
    "    var *= X.shape[axis] / (X.shape[axis] - 1)\n",
    "    return mean, var\n",
    "\n",
    "\n",
    "def sparse_mean_variance_axis(mtx: sparse.spmatrix, axis: int) -> np.ndarray:\n",
    "    \"\"\"\n",
    "    This code and internal functions are based on sklearns\n",
    "    `sparsefuncs.mean_variance_axis`.\n",
    "    Modifications:\n",
    "    * allow deciding on the output type, which can increase accuracy when calculating the mean and variance of 32bit floats.\n",
    "    * This doesn't currently implement support for null values, but could.\n",
    "    * Uses numba not cython\n",
    "    \"\"\"\n",
    "    assert axis in (0, 1)\n",
    "    if isinstance(mtx, sparse.csr_matrix):\n",
    "        ax_minor = 1\n",
    "        shape = mtx.shape\n",
    "    elif isinstance(mtx, sparse.csc_matrix):\n",
    "        ax_minor = 0\n",
    "        shape = mtx.shape[::-1]\n",
    "    else:\n",
    "        raise ValueError(\"This function only works on sparse csr and csc matrices\")\n",
    "    if axis == ax_minor:\n",
    "        return sparse_mean_var_major_axis(\n",
    "            mtx.data, mtx.indices, mtx.indptr, *shape, np.float64\n",
    "        )\n",
    "    else:\n",
    "        return sparse_mean_var_minor_axis(mtx.data, mtx.indices, *shape, np.float64)\n",
    "\n",
    "\n",
    "@numba.njit(cache=True)\n",
    "def sparse_mean_var_minor_axis(\n",
    "    data,\n",
    "    indices,\n",
    "    major_len,\n",
    "    minor_len,\n",
    "    dtype\n",
    ") -> np.ndarray:\n",
    "    \"\"\"\n",
    "    Computes mean and variance for a sparse matrix for the minor axis.\n",
    "    Given arrays for a csr matrix, returns the means and variances for each\n",
    "    column back.\n",
    "    \"\"\"\n",
    "    non_zero = indices.shape[0]\n",
    "\n",
    "    means = np.zeros(minor_len, dtype=dtype)\n",
    "    variances = np.zeros_like(means, dtype=dtype)\n",
    "\n",
    "    counts = np.zeros(minor_len, dtype=np.int64)\n",
    "\n",
    "    for i in range(non_zero):\n",
    "        col_ind = indices[i]\n",
    "        means[col_ind] += data[i]\n",
    "\n",
    "    for i in range(minor_len):\n",
    "        means[i] /= major_len\n",
    "\n",
    "    for i in range(non_zero):\n",
    "        col_ind = indices[i]\n",
    "        diff = data[i] - means[col_ind]\n",
    "        variances[col_ind] += diff * diff\n",
    "        counts[col_ind] += 1\n",
    "    print(variances)\n",
    "    for i in range(minor_len):\n",
    "        variances[i] += (major_len - counts[i]) * means[i] ** 2\n",
    "        variances[i] /= major_len\n",
    "\n",
    "    return means, variances\n",
    "\n",
    "\n",
    "@numba.njit(cache=True)\n",
    "def sparse_mean_var_major_axis(\n",
    "    data,\n",
    "    indices,\n",
    "    indptr,\n",
    "    major_len,\n",
    "    minor_len,\n",
    "    dtype\n",
    ") -> np.ndarray:\n",
    "    \"\"\"\n",
    "    Computes mean and variance for a sparse array for the major axis.\n",
    "    Given arrays for a csr matrix, returns the means and variances for each\n",
    "    row back.\n",
    "    \"\"\"\n",
    "    means = np.zeros(major_len, dtype=dtype)\n",
    "    variances = np.zeros_like(means, dtype=dtype)\n",
    "\n",
    "    for i in range(major_len):\n",
    "        startptr = indptr[i]\n",
    "        endptr = indptr[i + 1]\n",
    "        counts = endptr - startptr\n",
    "\n",
    "        for j in range(startptr, endptr):\n",
    "            means[i] += data[j]\n",
    "        means[i] /= minor_len\n",
    "\n",
    "        for j in range(startptr, endptr):\n",
    "            diff = data[j] - means[i]\n",
    "            variances[i] += diff * diff\n",
    "\n",
    "        variances[i] += (minor_len - counts) * means[i] ** 2\n",
    "        variances[i] /= minor_len\n",
    "\n",
    "    return means, variances"
   ]
  },
  {
   "cell_type": "code",
   "execution_count": 12,
   "metadata": {},
   "outputs": [],
   "source": [
    "def materialize_as_ndarray(a):\n",
    "    \"\"\"Convert distributed arrays to ndarrays.\"\"\"\n",
    "    if type(a) in (list, tuple):\n",
    "        if da is not None and any(isinstance(arr, da.Array) for arr in a):\n",
    "            return da.compute(*a, sync=True)\n",
    "        return tuple(np.asarray(arr) for arr in a)\n",
    "    return np.asarray(a)"
   ]
  },
  {
   "cell_type": "code",
   "execution_count": 34,
   "metadata": {},
   "outputs": [
    {
     "name": "stdout",
     "output_type": "stream",
     "text": [
      "0\n",
      "[ 5.88888889 11.11111111  8.66666667]\n"
     ]
    },
    {
     "data": {
      "text/plain": [
       "(array([1.66666667, 1.66666667, 3.66666667]),\n",
       " array([4.33333333, 8.33333333, 4.33333333]))"
      ]
     },
     "execution_count": 34,
     "metadata": {},
     "output_type": "execute_result"
    }
   ],
   "source": [
    "my_get_mean_var(b)"
   ]
  },
  {
   "cell_type": "code",
   "execution_count": 35,
   "metadata": {},
   "outputs": [
    {
     "name": "stdout",
     "output_type": "stream",
     "text": [
      "[ 5.88888889 11.11111111  8.66666667]\n"
     ]
    },
    {
     "data": {
      "text/plain": [
       "(array([1.66666667, 1.66666667, 3.66666667]),\n",
       " array([4.33333333, 8.33333333, 4.33333333]))"
      ]
     },
     "execution_count": 35,
     "metadata": {},
     "output_type": "execute_result"
    }
   ],
   "source": [
    "get_mean_var(b)"
   ]
  },
  {
   "cell_type": "code",
   "execution_count": 17,
   "metadata": {},
   "outputs": [
    {
     "data": {
      "text/plain": [
       "array([4.33333333, 8.33333333, 4.33333333])"
      ]
     },
     "execution_count": 17,
     "metadata": {},
     "output_type": "execute_result"
    }
   ],
   "source": [
    "axis = 0\n",
    "    (b_copy.mean(axis=0).toarray() - b.mean(axis=0).toarray() ** 2) * b.shape[axis] / (b.shape[axis] - 1)"
   ]
  },
  {
   "cell_type": "code",
   "execution_count": 36,
   "metadata": {},
   "outputs": [
    {
     "name": "stdout",
     "output_type": "stream",
     "text": [
      "0\n",
      "[ 5.88888889 11.11111111  8.66666667]\n"
     ]
    },
    {
     "data": {
      "text/plain": [
       "(array([1.66666667, 1.66666667, 3.66666667]),\n",
       " array([2.88888889, 5.55555556, 2.88888889]))"
      ]
     },
     "execution_count": 36,
     "metadata": {},
     "output_type": "execute_result"
    }
   ],
   "source": [
    "my_sparse_mean_variance_axis(b, axis=0)"
   ]
  },
  {
   "cell_type": "code",
   "execution_count": 37,
   "metadata": {},
   "outputs": [
    {
     "name": "stdout",
     "output_type": "stream",
     "text": [
      "[ 5.88888889 11.11111111  8.66666667]\n"
     ]
    },
    {
     "data": {
      "text/plain": [
       "(array([1.66666667, 1.66666667, 3.66666667]),\n",
       " array([2.88888889, 5.55555556, 2.88888889]))"
      ]
     },
     "execution_count": 37,
     "metadata": {},
     "output_type": "execute_result"
    }
   ],
   "source": [
    "sparse_mean_variance_axis(b, axis=0)"
   ]
  },
  {
   "cell_type": "code",
   "execution_count": 29,
   "metadata": {},
   "outputs": [
    {
     "data": {
      "text/plain": [
       "matrix([[4.33333333, 8.33333333, 4.33333333]])"
      ]
     },
     "execution_count": 29,
     "metadata": {},
     "output_type": "execute_result"
    }
   ],
   "source": [
    "np.var(b.todense(), axis=0, ddof=1)"
   ]
  },
  {
   "cell_type": "code",
   "execution_count": null,
   "metadata": {},
   "outputs": [],
   "source": []
  },
  {
   "cell_type": "code",
   "execution_count": null,
   "metadata": {},
   "outputs": [],
   "source": []
  }
 ],
 "metadata": {
  "kernelspec": {
   "display_name": "Python 3",
   "language": "python",
   "name": "python3"
  },
  "language_info": {
   "codemirror_mode": {
    "name": "ipython",
    "version": 3
   },
   "file_extension": ".py",
   "mimetype": "text/x-python",
   "name": "python",
   "nbconvert_exporter": "python",
   "pygments_lexer": "ipython3",
   "version": "3.8.6"
  }
 },
 "nbformat": 4,
 "nbformat_minor": 4
}
